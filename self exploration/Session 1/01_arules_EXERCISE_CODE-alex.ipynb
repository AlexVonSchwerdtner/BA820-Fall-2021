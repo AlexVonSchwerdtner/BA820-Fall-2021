{
  "cells": [
    {
      "cell_type": "code",
      "execution_count": 1,
      "metadata": {
        "id": "b4Wo4sFbKVQM"
      },
      "outputs": [],
      "source": [
        "# imports\n",
        "import pandas as pd\n",
        "from mlxtend.frequent_patterns import apriori, association_rules\n",
        "import numpy as np\n",
        "import seaborn as sns\n",
        "import matplotlib.pyplot as plt\n",
        "import plotly.express as px\n",
        "\n",
        "# my project in Google Cloud used\n",
        "PROJECT = \"ba820-avs\"\n",
        "\n",
        "# some settings for pandas\n",
        "pd.options.display.max_rows=125\n",
        "pd.options.display.max_columns=100\n"
      ]
    },
    {
      "cell_type": "code",
      "execution_count": null,
      "metadata": {
        "id": "UKWvf_q-U9oP"
      },
      "outputs": [],
      "source": [
        "# auth against your BU GCP account \n",
        "#from google.colab import auth\n",
        "#auth.authenticate_user()\n",
        "#print('Authenticated')"
      ]
    },
    {
      "cell_type": "code",
      "execution_count": 2,
      "metadata": {
        "id": "HzhNYZVLVVdv"
      },
      "outputs": [],
      "source": [
        "# get the data from Big Query\n",
        "# select all the records  \n",
        "SQL = \"\"\"\n",
        "SELECT *\n",
        "FROM `questrom.datasets.crm_campaign`\n",
        "\"\"\"\n",
        "\n",
        "crm = pd.io.gbq.read_gbq(SQL, PROJECT)"
      ]
    },
    {
      "cell_type": "code",
      "execution_count": 3,
      "metadata": {
        "id": "27dkHPMSVVjj"
      },
      "outputs": [
        {
          "data": {
            "text/plain": [
              "(71580, 3)"
            ]
          },
          "execution_count": 3,
          "metadata": {},
          "output_type": "execute_result"
        }
      ],
      "source": [
        "# what do we have\n",
        "crm.shape"
      ]
    },
    {
      "cell_type": "code",
      "execution_count": 4,
      "metadata": {
        "id": "9czBqSD-VVnS"
      },
      "outputs": [
        {
          "data": {
            "text/html": [
              "<div>\n",
              "<style scoped>\n",
              "    .dataframe tbody tr th:only-of-type {\n",
              "        vertical-align: middle;\n",
              "    }\n",
              "\n",
              "    .dataframe tbody tr th {\n",
              "        vertical-align: top;\n",
              "    }\n",
              "\n",
              "    .dataframe thead th {\n",
              "        text-align: right;\n",
              "    }\n",
              "</style>\n",
              "<table border=\"1\" class=\"dataframe\">\n",
              "  <thead>\n",
              "    <tr style=\"text-align: right;\">\n",
              "      <th></th>\n",
              "      <th>crm_id</th>\n",
              "      <th>contcode</th>\n",
              "      <th>contcat</th>\n",
              "    </tr>\n",
              "  </thead>\n",
              "  <tbody>\n",
              "    <tr>\n",
              "      <th>0</th>\n",
              "      <td>1559056674</td>\n",
              "      <td>None</td>\n",
              "      <td>None</td>\n",
              "    </tr>\n",
              "    <tr>\n",
              "      <th>1</th>\n",
              "      <td>2827154834</td>\n",
              "      <td>None</td>\n",
              "      <td>None</td>\n",
              "    </tr>\n",
              "    <tr>\n",
              "      <th>2</th>\n",
              "      <td>551329474</td>\n",
              "      <td>None</td>\n",
              "      <td>None</td>\n",
              "    </tr>\n",
              "    <tr>\n",
              "      <th>3</th>\n",
              "      <td>891404074</td>\n",
              "      <td>None</td>\n",
              "      <td>None</td>\n",
              "    </tr>\n",
              "    <tr>\n",
              "      <th>4</th>\n",
              "      <td>3078814423</td>\n",
              "      <td>None</td>\n",
              "      <td>None</td>\n",
              "    </tr>\n",
              "  </tbody>\n",
              "</table>\n",
              "</div>"
            ],
            "text/plain": [
              "       crm_id contcode contcat\n",
              "0  1559056674     None    None\n",
              "1  2827154834     None    None\n",
              "2   551329474     None    None\n",
              "3   891404074     None    None\n",
              "4  3078814423     None    None"
            ]
          },
          "execution_count": 4,
          "metadata": {},
          "output_type": "execute_result"
        }
      ],
      "source": [
        "crm.head()"
      ]
    },
    {
      "cell_type": "code",
      "execution_count": null,
      "metadata": {
        "id": "8ZKok8uZXpLB"
      },
      "outputs": [],
      "source": [
        "#### Exercise 1"
      ]
    },
    {
      "cell_type": "code",
      "execution_count": 5,
      "metadata": {
        "id": "iv_ZbX7DVVp3"
      },
      "outputs": [],
      "source": [
        "# first, I am going to use granular codes, not the category\n",
        "# so drop contcat\n",
        "crm.drop(columns=\"contcat\", inplace=True)\n"
      ]
    },
    {
      "cell_type": "code",
      "execution_count": 6,
      "metadata": {
        "id": "sedX5LDsXiIn"
      },
      "outputs": [],
      "source": [
        "# second, drop dupes if any\n",
        "crm.drop_duplicates(inplace=True)"
      ]
    },
    {
      "cell_type": "code",
      "execution_count": 7,
      "metadata": {
        "id": "KLs8WlAxXmra"
      },
      "outputs": [
        {
          "data": {
            "text/plain": [
              "crm_id       0\n",
              "contcode    19\n",
              "dtype: int64"
            ]
          },
          "execution_count": 7,
          "metadata": {},
          "output_type": "execute_result"
        }
      ],
      "source": [
        "# last confirm we have missing data\n",
        "crm.isna().sum()"
      ]
    },
    {
      "cell_type": "code",
      "execution_count": 8,
      "metadata": {
        "id": "yMfPmGxgXxIk"
      },
      "outputs": [
        {
          "data": {
            "text/plain": [
              "crm_id      0\n",
              "contcode    0\n",
              "dtype: int64"
            ]
          },
          "execution_count": 8,
          "metadata": {},
          "output_type": "execute_result"
        }
      ],
      "source": [
        "# we will remove these records\n",
        "# even robust client data warehouses will have dirty data!\n",
        "crm.dropna(inplace=True)\n",
        "\n",
        "crm.isna().sum()"
      ]
    },
    {
      "cell_type": "code",
      "execution_count": 9,
      "metadata": {
        "id": "J0J1NfGcYV9v"
      },
      "outputs": [
        {
          "data": {
            "text/plain": [
              "(51157, 108)"
            ]
          },
          "execution_count": 9,
          "metadata": {},
          "output_type": "execute_result"
        }
      ],
      "source": [
        "# ok, reshape\n",
        "crm['flag'] = True\n",
        "\n",
        "db = crm.pivot(index=\"crm_id\", columns=\"contcode\", values=\"flag\")\n",
        "db.fillna(False, inplace=True)\n",
        "\n",
        "db.shape"
      ]
    },
    {
      "cell_type": "code",
      "execution_count": null,
      "metadata": {
        "id": "JBS7lXZdaJIe"
      },
      "outputs": [],
      "source": [
        "#### Exercise 2"
      ]
    },
    {
      "cell_type": "code",
      "execution_count": 10,
      "metadata": {
        "id": "s8VgwC3mYq4A"
      },
      "outputs": [
        {
          "data": {
            "text/html": [
              "<div>\n",
              "<style scoped>\n",
              "    .dataframe tbody tr th:only-of-type {\n",
              "        vertical-align: middle;\n",
              "    }\n",
              "\n",
              "    .dataframe tbody tr th {\n",
              "        vertical-align: top;\n",
              "    }\n",
              "\n",
              "    .dataframe thead th {\n",
              "        text-align: right;\n",
              "    }\n",
              "</style>\n",
              "<table border=\"1\" class=\"dataframe\">\n",
              "  <thead>\n",
              "    <tr style=\"text-align: right;\">\n",
              "      <th>contcode</th>\n",
              "      <th>ABR</th>\n",
              "      <th>ACT</th>\n",
              "      <th>APN</th>\n",
              "      <th>ATH</th>\n",
              "      <th>BAE</th>\n",
              "      <th>BBA</th>\n",
              "      <th>BCL</th>\n",
              "      <th>BOT</th>\n",
              "      <th>BSE</th>\n",
              "      <th>BXE</th>\n",
              "      <th>CAI</th>\n",
              "      <th>CBC</th>\n",
              "      <th>CHS</th>\n",
              "      <th>CMO</th>\n",
              "      <th>CSP</th>\n",
              "      <th>CWL</th>\n",
              "      <th>CWP</th>\n",
              "      <th>DEC</th>\n",
              "      <th>FER</th>\n",
              "      <th>FNA</th>\n",
              "      <th>FNE</th>\n",
              "      <th>HOB</th>\n",
              "      <th>IAR</th>\n",
              "      <th>IAS</th>\n",
              "      <th>ICR</th>\n",
              "      <th>IID</th>\n",
              "      <th>ILT</th>\n",
              "      <th>IME</th>\n",
              "      <th>IPF</th>\n",
              "      <th>ISA</th>\n",
              "      <th>ITI</th>\n",
              "      <th>IUR</th>\n",
              "      <th>LET</th>\n",
              "      <th>LLA</th>\n",
              "      <th>LLC</th>\n",
              "      <th>LLN</th>\n",
              "      <th>LNE</th>\n",
              "      <th>LOA</th>\n",
              "      <th>LOC</th>\n",
              "      <th>LON</th>\n",
              "      <th>LOS</th>\n",
              "      <th>LOT</th>\n",
              "      <th>LTC</th>\n",
              "      <th>MLB</th>\n",
              "      <th>NRC</th>\n",
              "      <th>OFR</th>\n",
              "      <th>OHA</th>\n",
              "      <th>OPP</th>\n",
              "      <th>OPR</th>\n",
              "      <th>PCC</th>\n",
              "      <th>...</th>\n",
              "      <th>ROA</th>\n",
              "      <th>ROC</th>\n",
              "      <th>RON</th>\n",
              "      <th>S5B</th>\n",
              "      <th>SAE</th>\n",
              "      <th>SLC</th>\n",
              "      <th>SLN</th>\n",
              "      <th>SLS</th>\n",
              "      <th>SOA</th>\n",
              "      <th>SOC</th>\n",
              "      <th>SON</th>\n",
              "      <th>SPE</th>\n",
              "      <th>SPN</th>\n",
              "      <th>SSE</th>\n",
              "      <th>TIS</th>\n",
              "      <th>TOE</th>\n",
              "      <th>TSA</th>\n",
              "      <th>VCA</th>\n",
              "      <th>VET</th>\n",
              "      <th>VEU</th>\n",
              "      <th>VGR</th>\n",
              "      <th>VHS</th>\n",
              "      <th>VHV</th>\n",
              "      <th>VIS</th>\n",
              "      <th>VJU</th>\n",
              "      <th>VMA</th>\n",
              "      <th>VMC</th>\n",
              "      <th>VRT</th>\n",
              "      <th>VSA</th>\n",
              "      <th>VSI</th>\n",
              "      <th>VTR</th>\n",
              "      <th>W00</th>\n",
              "      <th>WCG</th>\n",
              "      <th>WCP</th>\n",
              "      <th>WI1</th>\n",
              "      <th>WIF</th>\n",
              "      <th>WIT</th>\n",
              "      <th>WNR</th>\n",
              "      <th>WSP</th>\n",
              "      <th>WSR</th>\n",
              "      <th>WTT</th>\n",
              "      <th>WWF</th>\n",
              "      <th>WWI</th>\n",
              "      <th>WWL</th>\n",
              "      <th>WWM</th>\n",
              "      <th>WWP</th>\n",
              "      <th>WWR</th>\n",
              "      <th>WWT</th>\n",
              "      <th>WZF</th>\n",
              "      <th>WZT</th>\n",
              "    </tr>\n",
              "    <tr>\n",
              "      <th>crm_id</th>\n",
              "      <th></th>\n",
              "      <th></th>\n",
              "      <th></th>\n",
              "      <th></th>\n",
              "      <th></th>\n",
              "      <th></th>\n",
              "      <th></th>\n",
              "      <th></th>\n",
              "      <th></th>\n",
              "      <th></th>\n",
              "      <th></th>\n",
              "      <th></th>\n",
              "      <th></th>\n",
              "      <th></th>\n",
              "      <th></th>\n",
              "      <th></th>\n",
              "      <th></th>\n",
              "      <th></th>\n",
              "      <th></th>\n",
              "      <th></th>\n",
              "      <th></th>\n",
              "      <th></th>\n",
              "      <th></th>\n",
              "      <th></th>\n",
              "      <th></th>\n",
              "      <th></th>\n",
              "      <th></th>\n",
              "      <th></th>\n",
              "      <th></th>\n",
              "      <th></th>\n",
              "      <th></th>\n",
              "      <th></th>\n",
              "      <th></th>\n",
              "      <th></th>\n",
              "      <th></th>\n",
              "      <th></th>\n",
              "      <th></th>\n",
              "      <th></th>\n",
              "      <th></th>\n",
              "      <th></th>\n",
              "      <th></th>\n",
              "      <th></th>\n",
              "      <th></th>\n",
              "      <th></th>\n",
              "      <th></th>\n",
              "      <th></th>\n",
              "      <th></th>\n",
              "      <th></th>\n",
              "      <th></th>\n",
              "      <th></th>\n",
              "      <th></th>\n",
              "      <th></th>\n",
              "      <th></th>\n",
              "      <th></th>\n",
              "      <th></th>\n",
              "      <th></th>\n",
              "      <th></th>\n",
              "      <th></th>\n",
              "      <th></th>\n",
              "      <th></th>\n",
              "      <th></th>\n",
              "      <th></th>\n",
              "      <th></th>\n",
              "      <th></th>\n",
              "      <th></th>\n",
              "      <th></th>\n",
              "      <th></th>\n",
              "      <th></th>\n",
              "      <th></th>\n",
              "      <th></th>\n",
              "      <th></th>\n",
              "      <th></th>\n",
              "      <th></th>\n",
              "      <th></th>\n",
              "      <th></th>\n",
              "      <th></th>\n",
              "      <th></th>\n",
              "      <th></th>\n",
              "      <th></th>\n",
              "      <th></th>\n",
              "      <th></th>\n",
              "      <th></th>\n",
              "      <th></th>\n",
              "      <th></th>\n",
              "      <th></th>\n",
              "      <th></th>\n",
              "      <th></th>\n",
              "      <th></th>\n",
              "      <th></th>\n",
              "      <th></th>\n",
              "      <th></th>\n",
              "      <th></th>\n",
              "      <th></th>\n",
              "      <th></th>\n",
              "      <th></th>\n",
              "      <th></th>\n",
              "      <th></th>\n",
              "      <th></th>\n",
              "      <th></th>\n",
              "      <th></th>\n",
              "      <th></th>\n",
              "    </tr>\n",
              "  </thead>\n",
              "  <tbody>\n",
              "    <tr>\n",
              "      <th>39399</th>\n",
              "      <td>False</td>\n",
              "      <td>False</td>\n",
              "      <td>False</td>\n",
              "      <td>False</td>\n",
              "      <td>False</td>\n",
              "      <td>False</td>\n",
              "      <td>False</td>\n",
              "      <td>False</td>\n",
              "      <td>False</td>\n",
              "      <td>False</td>\n",
              "      <td>False</td>\n",
              "      <td>False</td>\n",
              "      <td>False</td>\n",
              "      <td>False</td>\n",
              "      <td>False</td>\n",
              "      <td>False</td>\n",
              "      <td>False</td>\n",
              "      <td>False</td>\n",
              "      <td>False</td>\n",
              "      <td>False</td>\n",
              "      <td>False</td>\n",
              "      <td>False</td>\n",
              "      <td>False</td>\n",
              "      <td>False</td>\n",
              "      <td>False</td>\n",
              "      <td>False</td>\n",
              "      <td>False</td>\n",
              "      <td>False</td>\n",
              "      <td>False</td>\n",
              "      <td>False</td>\n",
              "      <td>False</td>\n",
              "      <td>False</td>\n",
              "      <td>False</td>\n",
              "      <td>False</td>\n",
              "      <td>False</td>\n",
              "      <td>False</td>\n",
              "      <td>False</td>\n",
              "      <td>False</td>\n",
              "      <td>False</td>\n",
              "      <td>False</td>\n",
              "      <td>False</td>\n",
              "      <td>False</td>\n",
              "      <td>False</td>\n",
              "      <td>False</td>\n",
              "      <td>False</td>\n",
              "      <td>False</td>\n",
              "      <td>False</td>\n",
              "      <td>False</td>\n",
              "      <td>False</td>\n",
              "      <td>False</td>\n",
              "      <td>...</td>\n",
              "      <td>False</td>\n",
              "      <td>False</td>\n",
              "      <td>False</td>\n",
              "      <td>False</td>\n",
              "      <td>False</td>\n",
              "      <td>False</td>\n",
              "      <td>False</td>\n",
              "      <td>False</td>\n",
              "      <td>False</td>\n",
              "      <td>False</td>\n",
              "      <td>False</td>\n",
              "      <td>False</td>\n",
              "      <td>True</td>\n",
              "      <td>False</td>\n",
              "      <td>False</td>\n",
              "      <td>False</td>\n",
              "      <td>False</td>\n",
              "      <td>False</td>\n",
              "      <td>False</td>\n",
              "      <td>False</td>\n",
              "      <td>False</td>\n",
              "      <td>False</td>\n",
              "      <td>False</td>\n",
              "      <td>False</td>\n",
              "      <td>False</td>\n",
              "      <td>False</td>\n",
              "      <td>False</td>\n",
              "      <td>False</td>\n",
              "      <td>False</td>\n",
              "      <td>False</td>\n",
              "      <td>False</td>\n",
              "      <td>False</td>\n",
              "      <td>False</td>\n",
              "      <td>False</td>\n",
              "      <td>False</td>\n",
              "      <td>False</td>\n",
              "      <td>False</td>\n",
              "      <td>False</td>\n",
              "      <td>False</td>\n",
              "      <td>False</td>\n",
              "      <td>False</td>\n",
              "      <td>False</td>\n",
              "      <td>False</td>\n",
              "      <td>False</td>\n",
              "      <td>False</td>\n",
              "      <td>False</td>\n",
              "      <td>False</td>\n",
              "      <td>False</td>\n",
              "      <td>False</td>\n",
              "      <td>False</td>\n",
              "    </tr>\n",
              "    <tr>\n",
              "      <th>65193</th>\n",
              "      <td>False</td>\n",
              "      <td>False</td>\n",
              "      <td>False</td>\n",
              "      <td>False</td>\n",
              "      <td>False</td>\n",
              "      <td>False</td>\n",
              "      <td>False</td>\n",
              "      <td>False</td>\n",
              "      <td>False</td>\n",
              "      <td>False</td>\n",
              "      <td>False</td>\n",
              "      <td>False</td>\n",
              "      <td>False</td>\n",
              "      <td>True</td>\n",
              "      <td>False</td>\n",
              "      <td>False</td>\n",
              "      <td>False</td>\n",
              "      <td>False</td>\n",
              "      <td>False</td>\n",
              "      <td>False</td>\n",
              "      <td>False</td>\n",
              "      <td>False</td>\n",
              "      <td>False</td>\n",
              "      <td>False</td>\n",
              "      <td>False</td>\n",
              "      <td>False</td>\n",
              "      <td>False</td>\n",
              "      <td>False</td>\n",
              "      <td>False</td>\n",
              "      <td>False</td>\n",
              "      <td>False</td>\n",
              "      <td>False</td>\n",
              "      <td>False</td>\n",
              "      <td>False</td>\n",
              "      <td>False</td>\n",
              "      <td>False</td>\n",
              "      <td>False</td>\n",
              "      <td>False</td>\n",
              "      <td>False</td>\n",
              "      <td>False</td>\n",
              "      <td>False</td>\n",
              "      <td>False</td>\n",
              "      <td>False</td>\n",
              "      <td>False</td>\n",
              "      <td>False</td>\n",
              "      <td>False</td>\n",
              "      <td>False</td>\n",
              "      <td>False</td>\n",
              "      <td>False</td>\n",
              "      <td>False</td>\n",
              "      <td>...</td>\n",
              "      <td>False</td>\n",
              "      <td>False</td>\n",
              "      <td>False</td>\n",
              "      <td>False</td>\n",
              "      <td>False</td>\n",
              "      <td>False</td>\n",
              "      <td>False</td>\n",
              "      <td>False</td>\n",
              "      <td>False</td>\n",
              "      <td>False</td>\n",
              "      <td>False</td>\n",
              "      <td>False</td>\n",
              "      <td>False</td>\n",
              "      <td>False</td>\n",
              "      <td>False</td>\n",
              "      <td>False</td>\n",
              "      <td>True</td>\n",
              "      <td>False</td>\n",
              "      <td>False</td>\n",
              "      <td>False</td>\n",
              "      <td>False</td>\n",
              "      <td>False</td>\n",
              "      <td>False</td>\n",
              "      <td>False</td>\n",
              "      <td>False</td>\n",
              "      <td>False</td>\n",
              "      <td>True</td>\n",
              "      <td>False</td>\n",
              "      <td>False</td>\n",
              "      <td>False</td>\n",
              "      <td>False</td>\n",
              "      <td>False</td>\n",
              "      <td>False</td>\n",
              "      <td>True</td>\n",
              "      <td>False</td>\n",
              "      <td>False</td>\n",
              "      <td>False</td>\n",
              "      <td>False</td>\n",
              "      <td>False</td>\n",
              "      <td>False</td>\n",
              "      <td>False</td>\n",
              "      <td>False</td>\n",
              "      <td>False</td>\n",
              "      <td>False</td>\n",
              "      <td>False</td>\n",
              "      <td>False</td>\n",
              "      <td>False</td>\n",
              "      <td>False</td>\n",
              "      <td>False</td>\n",
              "      <td>False</td>\n",
              "    </tr>\n",
              "    <tr>\n",
              "      <th>67182</th>\n",
              "      <td>False</td>\n",
              "      <td>False</td>\n",
              "      <td>False</td>\n",
              "      <td>False</td>\n",
              "      <td>False</td>\n",
              "      <td>False</td>\n",
              "      <td>False</td>\n",
              "      <td>False</td>\n",
              "      <td>False</td>\n",
              "      <td>False</td>\n",
              "      <td>False</td>\n",
              "      <td>False</td>\n",
              "      <td>False</td>\n",
              "      <td>False</td>\n",
              "      <td>False</td>\n",
              "      <td>False</td>\n",
              "      <td>False</td>\n",
              "      <td>False</td>\n",
              "      <td>False</td>\n",
              "      <td>False</td>\n",
              "      <td>False</td>\n",
              "      <td>False</td>\n",
              "      <td>False</td>\n",
              "      <td>False</td>\n",
              "      <td>False</td>\n",
              "      <td>False</td>\n",
              "      <td>False</td>\n",
              "      <td>False</td>\n",
              "      <td>False</td>\n",
              "      <td>False</td>\n",
              "      <td>False</td>\n",
              "      <td>False</td>\n",
              "      <td>False</td>\n",
              "      <td>False</td>\n",
              "      <td>False</td>\n",
              "      <td>False</td>\n",
              "      <td>False</td>\n",
              "      <td>False</td>\n",
              "      <td>False</td>\n",
              "      <td>False</td>\n",
              "      <td>False</td>\n",
              "      <td>False</td>\n",
              "      <td>False</td>\n",
              "      <td>False</td>\n",
              "      <td>False</td>\n",
              "      <td>False</td>\n",
              "      <td>False</td>\n",
              "      <td>False</td>\n",
              "      <td>False</td>\n",
              "      <td>False</td>\n",
              "      <td>...</td>\n",
              "      <td>False</td>\n",
              "      <td>False</td>\n",
              "      <td>False</td>\n",
              "      <td>False</td>\n",
              "      <td>False</td>\n",
              "      <td>False</td>\n",
              "      <td>False</td>\n",
              "      <td>False</td>\n",
              "      <td>False</td>\n",
              "      <td>False</td>\n",
              "      <td>False</td>\n",
              "      <td>False</td>\n",
              "      <td>True</td>\n",
              "      <td>False</td>\n",
              "      <td>False</td>\n",
              "      <td>False</td>\n",
              "      <td>False</td>\n",
              "      <td>False</td>\n",
              "      <td>False</td>\n",
              "      <td>False</td>\n",
              "      <td>False</td>\n",
              "      <td>False</td>\n",
              "      <td>False</td>\n",
              "      <td>False</td>\n",
              "      <td>False</td>\n",
              "      <td>False</td>\n",
              "      <td>False</td>\n",
              "      <td>False</td>\n",
              "      <td>False</td>\n",
              "      <td>False</td>\n",
              "      <td>False</td>\n",
              "      <td>False</td>\n",
              "      <td>False</td>\n",
              "      <td>False</td>\n",
              "      <td>False</td>\n",
              "      <td>False</td>\n",
              "      <td>False</td>\n",
              "      <td>False</td>\n",
              "      <td>False</td>\n",
              "      <td>False</td>\n",
              "      <td>False</td>\n",
              "      <td>False</td>\n",
              "      <td>False</td>\n",
              "      <td>False</td>\n",
              "      <td>False</td>\n",
              "      <td>False</td>\n",
              "      <td>False</td>\n",
              "      <td>False</td>\n",
              "      <td>False</td>\n",
              "      <td>False</td>\n",
              "    </tr>\n",
              "  </tbody>\n",
              "</table>\n",
              "<p>3 rows × 108 columns</p>\n",
              "</div>"
            ],
            "text/plain": [
              "contcode    ABR    ACT    APN    ATH    BAE    BBA    BCL    BOT    BSE  \\\n",
              "crm_id                                                                    \n",
              "39399     False  False  False  False  False  False  False  False  False   \n",
              "65193     False  False  False  False  False  False  False  False  False   \n",
              "67182     False  False  False  False  False  False  False  False  False   \n",
              "\n",
              "contcode    BXE    CAI    CBC    CHS    CMO    CSP    CWL    CWP    DEC  \\\n",
              "crm_id                                                                    \n",
              "39399     False  False  False  False  False  False  False  False  False   \n",
              "65193     False  False  False  False   True  False  False  False  False   \n",
              "67182     False  False  False  False  False  False  False  False  False   \n",
              "\n",
              "contcode    FER    FNA    FNE    HOB    IAR    IAS    ICR    IID    ILT  \\\n",
              "crm_id                                                                    \n",
              "39399     False  False  False  False  False  False  False  False  False   \n",
              "65193     False  False  False  False  False  False  False  False  False   \n",
              "67182     False  False  False  False  False  False  False  False  False   \n",
              "\n",
              "contcode    IME    IPF    ISA    ITI    IUR    LET    LLA    LLC    LLN  \\\n",
              "crm_id                                                                    \n",
              "39399     False  False  False  False  False  False  False  False  False   \n",
              "65193     False  False  False  False  False  False  False  False  False   \n",
              "67182     False  False  False  False  False  False  False  False  False   \n",
              "\n",
              "contcode    LNE    LOA    LOC    LON    LOS    LOT    LTC    MLB    NRC  \\\n",
              "crm_id                                                                    \n",
              "39399     False  False  False  False  False  False  False  False  False   \n",
              "65193     False  False  False  False  False  False  False  False  False   \n",
              "67182     False  False  False  False  False  False  False  False  False   \n",
              "\n",
              "contcode    OFR    OHA    OPP    OPR    PCC  ...    ROA    ROC    RON    S5B  \\\n",
              "crm_id                                       ...                               \n",
              "39399     False  False  False  False  False  ...  False  False  False  False   \n",
              "65193     False  False  False  False  False  ...  False  False  False  False   \n",
              "67182     False  False  False  False  False  ...  False  False  False  False   \n",
              "\n",
              "contcode    SAE    SLC    SLN    SLS    SOA    SOC    SON    SPE    SPN  \\\n",
              "crm_id                                                                    \n",
              "39399     False  False  False  False  False  False  False  False   True   \n",
              "65193     False  False  False  False  False  False  False  False  False   \n",
              "67182     False  False  False  False  False  False  False  False   True   \n",
              "\n",
              "contcode    SSE    TIS    TOE    TSA    VCA    VET    VEU    VGR    VHS  \\\n",
              "crm_id                                                                    \n",
              "39399     False  False  False  False  False  False  False  False  False   \n",
              "65193     False  False  False   True  False  False  False  False  False   \n",
              "67182     False  False  False  False  False  False  False  False  False   \n",
              "\n",
              "contcode    VHV    VIS    VJU    VMA    VMC    VRT    VSA    VSI    VTR  \\\n",
              "crm_id                                                                    \n",
              "39399     False  False  False  False  False  False  False  False  False   \n",
              "65193     False  False  False  False   True  False  False  False  False   \n",
              "67182     False  False  False  False  False  False  False  False  False   \n",
              "\n",
              "contcode    W00    WCG    WCP    WI1    WIF    WIT    WNR    WSP    WSR  \\\n",
              "crm_id                                                                    \n",
              "39399     False  False  False  False  False  False  False  False  False   \n",
              "65193     False  False   True  False  False  False  False  False  False   \n",
              "67182     False  False  False  False  False  False  False  False  False   \n",
              "\n",
              "contcode    WTT    WWF    WWI    WWL    WWM    WWP    WWR    WWT    WZF    WZT  \n",
              "crm_id                                                                          \n",
              "39399     False  False  False  False  False  False  False  False  False  False  \n",
              "65193     False  False  False  False  False  False  False  False  False  False  \n",
              "67182     False  False  False  False  False  False  False  False  False  False  \n",
              "\n",
              "[3 rows x 108 columns]"
            ]
          },
          "execution_count": 10,
          "metadata": {},
          "output_type": "execute_result"
        }
      ],
      "source": [
        "# a quick glimpse\n",
        "db.head(3)"
      ]
    },
    {
      "cell_type": "code",
      "execution_count": 11,
      "metadata": {
        "id": "FD5W6yECaERS"
      },
      "outputs": [
        {
          "name": "stdout",
          "output_type": "stream",
          "text": [
            "7351\n"
          ]
        },
        {
          "data": {
            "text/plain": [
              "0.14369490001368337"
            ]
          },
          "execution_count": 11,
          "metadata": {},
          "output_type": "execute_result"
        }
      ],
      "source": [
        "# lets review how many \"converted\" via the CMO marketing code\n",
        "converted = db.CMO.sum() \n",
        "print(converted)\n",
        "db.CMO.mean()"
      ]
    },
    {
      "cell_type": "code",
      "execution_count": 12,
      "metadata": {
        "id": "yz7LFUxZadoY"
      },
      "outputs": [
        {
          "data": {
            "text/plain": [
              "contcode\n",
              "CMO    7351\n",
              "SPN    5215\n",
              "SPE    5147\n",
              "IPF    3972\n",
              "LON    3451\n",
              "LOS    3362\n",
              "TSA    2792\n",
              "VSI    2274\n",
              "WTT    2256\n",
              "APN    2219\n",
              "dtype: int64"
            ]
          },
          "execution_count": 12,
          "metadata": {},
          "output_type": "execute_result"
        }
      ],
      "source": [
        "#2 ten most frequent interactions\n",
        "interactions = db.sum(axis=0)\n",
        "interactions.sort_values(ascending=False)[:10]"
      ]
    },
    {
      "cell_type": "code",
      "execution_count": 13,
      "metadata": {
        "id": "ZpKvVROYakFU"
      },
      "outputs": [
        {
          "data": {
            "text/plain": [
              "1.378677404851731"
            ]
          },
          "execution_count": 13,
          "metadata": {},
          "output_type": "execute_result"
        }
      ],
      "source": [
        "#3 avg number of transcations\n",
        "user_ints = db.sum(axis=1)\n",
        "user_ints.mean() "
      ]
    },
    {
      "cell_type": "code",
      "execution_count": 14,
      "metadata": {
        "id": "VngFMddXbTxs"
      },
      "outputs": [
        {
          "name": "stderr",
          "output_type": "stream",
          "text": [
            "/Users/alexandervonschwerdtner/opt/miniconda3/envs/ba820/lib/python3.8/site-packages/seaborn/_decorators.py:36: FutureWarning: Pass the following variables as keyword args: x, y. From version 0.12, the only valid positional argument will be `data`, and passing other arguments without an explicit keyword will result in an error or misinterpretation.\n",
            "  warnings.warn(\n"
          ]
        },
        {
          "data": {
            "text/plain": [
              "<AxesSubplot:>"
            ]
          },
          "execution_count": 14,
          "metadata": {},
          "output_type": "execute_result"
        },
        {
          "data": {
            "image/png": "[encoded data removed]",
            "text/plain": [
              "<Figure size 432x288 with 1 Axes>"
            ]
          },
          "metadata": {
            "needs_background": "light"
          },
          "output_type": "display_data"
        }
      ],
      "source": [
        "#4 item frequency\n",
        "interactions_f = interactions / len(db)\n",
        "\n",
        "interactions_f.sort_values(ascending=False, inplace=True)\n",
        "\n",
        "sns.lineplot(range(len(interactions_f)), interactions_f.values)"
      ]
    },
    {
      "cell_type": "code",
      "execution_count": null,
      "metadata": {
        "id": "anN8bMeLbfGH"
      },
      "outputs": [],
      "source": [
        "#### Exercise 3"
      ]
    },
    {
      "cell_type": "code",
      "execution_count": null,
      "metadata": {
        "id": "zfIFK0otcA5O"
      },
      "outputs": [],
      "source": [
        "itemsets = apriori(db, min_support=.0002, use_colnames=True)\n",
        "\n",
        "rules = association_rules(itemsets, metric=\"support\", min_threshold=.0002)"
      ]
    },
    {
      "cell_type": "code",
      "execution_count": null,
      "metadata": {
        "id": "lPLjAFeYcVar"
      },
      "outputs": [],
      "source": [
        "#### Exercise 4"
      ]
    },
    {
      "cell_type": "code",
      "execution_count": null,
      "metadata": {
        "id": "4eWqtx98cZCB"
      },
      "outputs": [],
      "source": [
        "# a quick review across the outputs\n",
        "rules.describe()"
      ]
    },
    {
      "cell_type": "code",
      "execution_count": null,
      "metadata": {
        "id": "iV0LhSh0dF5o"
      },
      "outputs": [],
      "source": [
        "# sample 10 rules\n",
        "rules.sample(10).head()"
      ]
    },
    {
      "cell_type": "code",
      "execution_count": null,
      "metadata": {
        "id": "mu1gWrQLdcaI"
      },
      "outputs": [],
      "source": [
        "# top 10 lift\n",
        "rules.sort_values(\"lift\", ascending=False).head(10)"
      ]
    },
    {
      "cell_type": "code",
      "execution_count": null,
      "metadata": {
        "id": "UALm3MJkewSZ"
      },
      "outputs": [],
      "source": [
        "# top 10 on count\n",
        "# we can work backwards\n",
        "rules['count'] = rules.support * len(db)\n",
        "\n",
        "rules.sort_values('count', ascending=False).head(10)"
      ]
    },
    {
      "cell_type": "code",
      "execution_count": null,
      "metadata": {
        "id": "3w9fzPIvfGU8"
      },
      "outputs": [],
      "source": [
        "# keep just those with 6 on the LHS\n",
        "# rules that always hold have infinite conviction \n",
        "# https://michael.hahsler.net/research/association_rules/measures.html#conviction\n",
        "rules['lhs_len'] = rules.antecedents.apply(lambda x: len(x))\n",
        "\n",
        "rules.loc[rules.lhs_len == 6, :].shape"
      ]
    },
    {
      "cell_type": "code",
      "execution_count": null,
      "metadata": {
        "id": "nV46Q73NfIAi"
      },
      "outputs": [],
      "source": [
        "rules.loc[rules.lhs_len == 6, :].sample(5)"
      ]
    },
    {
      "cell_type": "code",
      "execution_count": null,
      "metadata": {
        "id": "RoU4BmxignvD"
      },
      "outputs": [],
      "source": [
        "#### Exercise 5"
      ]
    },
    {
      "cell_type": "code",
      "execution_count": null,
      "metadata": {
        "id": "_NZde8TLhaLo"
      },
      "outputs": [],
      "source": [
        "# make a copy\n",
        "strategy = rules.copy()\n",
        "\n",
        "# calc rhs length\n",
        "strategy['rhs_len'] = strategy.consequents.apply(lambda x: len(x))"
      ]
    },
    {
      "cell_type": "code",
      "execution_count": null,
      "metadata": {
        "id": "IwxRt5OMhdPG"
      },
      "outputs": [],
      "source": [
        "# keep jus the rules with the sales conversion on the right\n",
        "ROWS = np.where((strategy.consequents=={'CMO'}) & (strategy.rhs_len == 1))\n",
        "\n",
        "strategy = strategy.iloc[ROWS[0], :]"
      ]
    },
    {
      "cell_type": "code",
      "execution_count": null,
      "metadata": {
        "id": "aHV2pXAPiAF7"
      },
      "outputs": [],
      "source": [
        "# confirm this is what we intended\n",
        "strategy.shape\n",
        "\n",
        "strategy.head()"
      ]
    },
    {
      "cell_type": "code",
      "execution_count": null,
      "metadata": {
        "id": "6QXNzeZQiNgt"
      },
      "outputs": [],
      "source": [
        "# explore -- long sales pipelines == many interactions on the LHS\n",
        "\n",
        "strategy.sort_values('lhs_len', ascending=False).head(10)"
      ]
    },
    {
      "cell_type": "code",
      "execution_count": null,
      "metadata": {
        "id": "MbCRm3fxiOwK"
      },
      "outputs": [],
      "source": [
        "# some plots\n",
        "\n",
        "sns.scatterplot(data=strategy, x=\"support\", y=\"confidence\", hue=\"lift\")"
      ]
    },
    {
      "cell_type": "code",
      "execution_count": null,
      "metadata": {
        "id": "yXTLP5eCjgFS"
      },
      "outputs": [],
      "source": [
        "# number of lhs items balanced against support\n",
        "sns.boxplot(data=strategy, x=\"lhs_len\", y=\"confidence\", color=\"grey\")\n",
        "\n",
        "## what does this suggest about a customers interactions WHEN, we know that they converted?"
      ]
    },
    {
      "cell_type": "code",
      "execution_count": null,
      "metadata": {
        "id": "FgZ86XK_jzc6"
      },
      "outputs": [],
      "source": [
        "# fastest path\n",
        "rule1 = strategy.loc[strategy.lhs_len == 1, :]\n",
        "rule1.sort_values(\"lift\", ascending=False, inplace=True)\n",
        "\n",
        "rule1.head(10)"
      ]
    },
    {
      "cell_type": "code",
      "execution_count": null,
      "metadata": {
        "id": "RHiGu612kdNx"
      },
      "outputs": [],
      "source": [
        "# above, you might recommend flagging those that only have TSA interaction\n",
        "# or to provide options, by say, filtering on sample size > 500?"
      ]
    }
  ],
  "metadata": {
    "colab": {
      "collapsed_sections": [],
      "name": "01-arules-EXERCISE-CODE",
      "private_outputs": true,
      "provenance": []
    },
    "interpreter": {
      "hash": "b607fbc70c49f38ec059bfda41350a49c3ef474f2f3742d6ae6bd4678865fbed"
    },
    "kernelspec": {
      "display_name": "Python 3.8.11 64-bit ('ba820': conda)",
      "name": "python3"
    },
    "language_info": {
      "codemirror_mode": {
        "name": "ipython",
        "version": 3
      },
      "file_extension": ".py",
      "mimetype": "text/x-python",
      "name": "python",
      "nbconvert_exporter": "python",
      "pygments_lexer": "ipython3",
      "version": "3.8.11"
    }
  },
  "nbformat": 4,
  "nbformat_minor": 0
}
