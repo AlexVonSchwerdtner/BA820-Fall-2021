{
  "cells": [
    {
      "cell_type": "code",
      "execution_count": null,
      "metadata": {
        "id": "ayhaQ8AcPFHx"
      },
      "outputs": [],
      "source": [
        "##############################################################################\n",
        "## Fundamentals for pratical Text Analytics - document/word embeddings\n",
        "##                                            more spacy, \n",
        "##                                            gensim to build our own ----> spacy\n",
        "##                                            why:  dense numeric representations to capture meaning\n",
        "##                                                  use downstream -> similarity, clustering, ML\n",
        "##\n",
        "##\n",
        "## Learning goals:\n",
        "##                 - continue spacy\n",
        "##                 - foundational understanding of word vectors via Word2Vec\n",
        "##                 - can roll our own vectors\n",
        "##                 - generalized, pre-trained word vectors for S|UML tasks (intent classification)\n",
        "##\n",
        "##\n",
        "## Great resources\n",
        "##                 - https://spacy.io/usage/spacy-101\n",
        "##                 - https://spacy.io/universe/category/courses\n",
        "##\n",
        "##\n",
        "##############################################################################"
      ]
    },
    {
      "cell_type": "code",
      "execution_count": null,
      "metadata": {
        "id": "j_R7-hTzQyzQ"
      },
      "outputs": [],
      "source": [
        "# installs\n",
        "! pip install -U spacy \n",
        "! pip install -U textacy\n",
        "! pip install newspaper3k\n",
        "! pip install afinn\n",
        "! pip install whatlies"
      ]
    },
    {
      "cell_type": "code",
      "execution_count": 2,
      "metadata": {
        "id": "0nCDfEpzQy3_"
      },
      "outputs": [],
      "source": [
        "# imports\n",
        "import spacy\n",
        "from spacy import cli\n",
        "from spacy import displacy\n",
        "\n",
        "import pandas as pd\n",
        "import numpy as np\n",
        "from scipy.spatial.distance import pdist, cdist, squareform\n",
        "import seaborn as sns\n",
        "\n",
        "\n",
        "# upcoming!\n",
        "from textacy.extract.keyterms import textrank\n",
        "import gensim\n",
        "\n",
        "import textacy\n",
        "\n",
        "from newspaper import Article\n",
        "import json\n",
        "\n",
        "from afinn import Afinn\n"
      ]
    },
    {
      "cell_type": "code",
      "execution_count": 3,
      "metadata": {
        "id": "xpCbWS6RE6TN"
      },
      "outputs": [
        {
          "name": "stdout",
          "output_type": "stream",
          "text": [
            "Collecting en-core-web-md==3.2.0\n",
            "  Downloading https://github.com/explosion/spacy-models/releases/download/en_core_web_md-3.2.0/en_core_web_md-3.2.0-py3-none-any.whl (45.7 MB)\n",
            "Requirement already satisfied: spacy<3.3.0,>=3.2.0 in /Users/alexandervonschwerdtner/opt/miniconda3/envs/ba820/lib/python3.8/site-packages (from en-core-web-md==3.2.0) (3.2.0)\n",
            "Requirement already satisfied: wasabi<1.1.0,>=0.8.1 in /Users/alexandervonschwerdtner/opt/miniconda3/envs/ba820/lib/python3.8/site-packages (from spacy<3.3.0,>=3.2.0->en-core-web-md==3.2.0) (0.8.2)\n",
            "Requirement already satisfied: setuptools in /Users/alexandervonschwerdtner/opt/miniconda3/envs/ba820/lib/python3.8/site-packages (from spacy<3.3.0,>=3.2.0->en-core-web-md==3.2.0) (58.0.4)\n",
            "Requirement already satisfied: blis<0.8.0,>=0.4.0 in /Users/alexandervonschwerdtner/opt/miniconda3/envs/ba820/lib/python3.8/site-packages (from spacy<3.3.0,>=3.2.0->en-core-web-md==3.2.0) (0.7.5)\n",
            "Requirement already satisfied: cymem<2.1.0,>=2.0.2 in /Users/alexandervonschwerdtner/opt/miniconda3/envs/ba820/lib/python3.8/site-packages (from spacy<3.3.0,>=3.2.0->en-core-web-md==3.2.0) (2.0.6)\n",
            "Requirement already satisfied: jinja2 in /Users/alexandervonschwerdtner/opt/miniconda3/envs/ba820/lib/python3.8/site-packages (from spacy<3.3.0,>=3.2.0->en-core-web-md==3.2.0) (3.0.2)\n",
            "Requirement already satisfied: spacy-loggers<2.0.0,>=1.0.0 in /Users/alexandervonschwerdtner/opt/miniconda3/envs/ba820/lib/python3.8/site-packages (from spacy<3.3.0,>=3.2.0->en-core-web-md==3.2.0) (1.0.1)\n",
            "Requirement already satisfied: spacy-legacy<3.1.0,>=3.0.8 in /Users/alexandervonschwerdtner/opt/miniconda3/envs/ba820/lib/python3.8/site-packages (from spacy<3.3.0,>=3.2.0->en-core-web-md==3.2.0) (3.0.8)\n",
            "Requirement already satisfied: typer<0.5.0,>=0.3.0 in /Users/alexandervonschwerdtner/opt/miniconda3/envs/ba820/lib/python3.8/site-packages (from spacy<3.3.0,>=3.2.0->en-core-web-md==3.2.0) (0.4.0)\n",
            "Requirement already satisfied: thinc<8.1.0,>=8.0.12 in /Users/alexandervonschwerdtner/opt/miniconda3/envs/ba820/lib/python3.8/site-packages (from spacy<3.3.0,>=3.2.0->en-core-web-md==3.2.0) (8.0.13)\n",
            "Requirement already satisfied: numpy>=1.15.0 in /Users/alexandervonschwerdtner/opt/miniconda3/envs/ba820/lib/python3.8/site-packages (from spacy<3.3.0,>=3.2.0->en-core-web-md==3.2.0) (1.20.3)\n",
            "Requirement already satisfied: langcodes<4.0.0,>=3.2.0 in /Users/alexandervonschwerdtner/opt/miniconda3/envs/ba820/lib/python3.8/site-packages (from spacy<3.3.0,>=3.2.0->en-core-web-md==3.2.0) (3.3.0)\n",
            "Requirement already satisfied: murmurhash<1.1.0,>=0.28.0 in /Users/alexandervonschwerdtner/opt/miniconda3/envs/ba820/lib/python3.8/site-packages (from spacy<3.3.0,>=3.2.0->en-core-web-md==3.2.0) (1.0.6)\n",
            "Requirement already satisfied: requests<3.0.0,>=2.13.0 in /Users/alexandervonschwerdtner/opt/miniconda3/envs/ba820/lib/python3.8/site-packages (from spacy<3.3.0,>=3.2.0->en-core-web-md==3.2.0) (2.26.0)\n",
            "Requirement already satisfied: packaging>=20.0 in /Users/alexandervonschwerdtner/opt/miniconda3/envs/ba820/lib/python3.8/site-packages (from spacy<3.3.0,>=3.2.0->en-core-web-md==3.2.0) (21.0)\n",
            "Requirement already satisfied: srsly<3.0.0,>=2.4.1 in /Users/alexandervonschwerdtner/opt/miniconda3/envs/ba820/lib/python3.8/site-packages (from spacy<3.3.0,>=3.2.0->en-core-web-md==3.2.0) (2.4.2)\n",
            "Requirement already satisfied: pathy>=0.3.5 in /Users/alexandervonschwerdtner/opt/miniconda3/envs/ba820/lib/python3.8/site-packages (from spacy<3.3.0,>=3.2.0->en-core-web-md==3.2.0) (0.6.1)\n",
            "Requirement already satisfied: preshed<3.1.0,>=3.0.2 in /Users/alexandervonschwerdtner/opt/miniconda3/envs/ba820/lib/python3.8/site-packages (from spacy<3.3.0,>=3.2.0->en-core-web-md==3.2.0) (3.0.6)\n",
            "Requirement already satisfied: tqdm<5.0.0,>=4.38.0 in /Users/alexandervonschwerdtner/opt/miniconda3/envs/ba820/lib/python3.8/site-packages (from spacy<3.3.0,>=3.2.0->en-core-web-md==3.2.0) (4.62.3)\n",
            "Requirement already satisfied: pydantic!=1.8,!=1.8.1,<1.9.0,>=1.7.4 in /Users/alexandervonschwerdtner/opt/miniconda3/envs/ba820/lib/python3.8/site-packages (from spacy<3.3.0,>=3.2.0->en-core-web-md==3.2.0) (1.8.2)\n",
            "Requirement already satisfied: catalogue<2.1.0,>=2.0.6 in /Users/alexandervonschwerdtner/opt/miniconda3/envs/ba820/lib/python3.8/site-packages (from spacy<3.3.0,>=3.2.0->en-core-web-md==3.2.0) (2.0.6)\n",
            "Requirement already satisfied: pyparsing>=2.0.2 in /Users/alexandervonschwerdtner/opt/miniconda3/envs/ba820/lib/python3.8/site-packages (from packaging>=20.0->spacy<3.3.0,>=3.2.0->en-core-web-md==3.2.0) (2.4.7)\n",
            "Requirement already satisfied: smart-open<6.0.0,>=5.0.0 in /Users/alexandervonschwerdtner/opt/miniconda3/envs/ba820/lib/python3.8/site-packages (from pathy>=0.3.5->spacy<3.3.0,>=3.2.0->en-core-web-md==3.2.0) (5.2.1)\n",
            "Requirement already satisfied: typing-extensions>=3.7.4.3 in /Users/alexandervonschwerdtner/opt/miniconda3/envs/ba820/lib/python3.8/site-packages (from pydantic!=1.8,!=1.8.1,<1.9.0,>=1.7.4->spacy<3.3.0,>=3.2.0->en-core-web-md==3.2.0) (3.10.0.2)\n",
            "Requirement already satisfied: certifi>=2017.4.17 in /Users/alexandervonschwerdtner/opt/miniconda3/envs/ba820/lib/python3.8/site-packages (from requests<3.0.0,>=2.13.0->spacy<3.3.0,>=3.2.0->en-core-web-md==3.2.0) (2021.5.30)\n",
            "Requirement already satisfied: urllib3<1.27,>=1.21.1 in /Users/alexandervonschwerdtner/opt/miniconda3/envs/ba820/lib/python3.8/site-packages (from requests<3.0.0,>=2.13.0->spacy<3.3.0,>=3.2.0->en-core-web-md==3.2.0) (1.26.7)\n",
            "Requirement already satisfied: idna<4,>=2.5 in /Users/alexandervonschwerdtner/opt/miniconda3/envs/ba820/lib/python3.8/site-packages (from requests<3.0.0,>=2.13.0->spacy<3.3.0,>=3.2.0->en-core-web-md==3.2.0) (3.2)\n",
            "Requirement already satisfied: charset-normalizer~=2.0.0 in /Users/alexandervonschwerdtner/opt/miniconda3/envs/ba820/lib/python3.8/site-packages (from requests<3.0.0,>=2.13.0->spacy<3.3.0,>=3.2.0->en-core-web-md==3.2.0) (2.0.6)\n",
            "Requirement already satisfied: click<9.0.0,>=7.1.1 in /Users/alexandervonschwerdtner/opt/miniconda3/envs/ba820/lib/python3.8/site-packages (from typer<0.5.0,>=0.3.0->spacy<3.3.0,>=3.2.0->en-core-web-md==3.2.0) (8.0.3)\n",
            "Requirement already satisfied: MarkupSafe>=2.0 in /Users/alexandervonschwerdtner/opt/miniconda3/envs/ba820/lib/python3.8/site-packages (from jinja2->spacy<3.3.0,>=3.2.0->en-core-web-md==3.2.0) (2.0.1)\n",
            "\u001b[38;5;2m✔ Download and installation successful\u001b[0m\n",
            "You can now load the package via spacy.load('en_core_web_md')\n"
          ]
        }
      ],
      "source": [
        "# use spacy cli\n",
        "MODEL = \"en_core_web_md\"\n",
        "\n",
        "# https://spacy.io/models/en\n",
        "cli.download(MODEL)\n",
        "\n",
        "# nlp = language model\n",
        "nlp = spacy.load(MODEL)"
      ]
    },
    {
      "cell_type": "code",
      "execution_count": null,
      "metadata": {
        "id": "N60MZcqlQr4c"
      },
      "outputs": [],
      "source": [
        "############################################ WARMUP\n",
        "##\n",
        "##\n",
        "## Scrape the Wikipedia Entry for the Netflix series Squid Game\n",
        "## https://en.wikipedia.org/wiki/Squid_Game\n",
        "##\n",
        "## use the pre-loaded spacy NER model to parse the entities\n",
        "## parse the entities into a dataframe\n",
        "## create a barplot summarizing count by entity type\n",
        "## TRICKY:  make it a horizontal barplot with the most frequent entity at the top of the chart\n",
        "## "
      ]
    },
    {
      "cell_type": "code",
      "execution_count": 9,
      "metadata": {
        "id": "LHuNJ545RmXm"
      },
      "outputs": [],
      "source": [
        "URL = \"https://en.wikipedia.org/wiki/Squid_Game\"\n",
        "\n",
        "# HINT:  we have seen how easy the newspaper3k package makes extracting data from the web!\n",
        "article = Article(URL)\n",
        "article.download()\n",
        "article.parse()"
      ]
    },
    {
      "cell_type": "code",
      "execution_count": 10,
      "metadata": {
        "id": "prsU8Wv1Rmb9"
      },
      "outputs": [],
      "source": [
        "article = article.text"
      ]
    },
    {
      "cell_type": "code",
      "execution_count": 11,
      "metadata": {},
      "outputs": [],
      "source": [
        "# clean/remove the newline characters\n",
        "# \\n\n",
        "article = article.replace(\"\\n\",\"\")"
      ]
    },
    {
      "cell_type": "code",
      "execution_count": 12,
      "metadata": {
        "id": "nvFe2T-5Rme_"
      },
      "outputs": [],
      "source": [
        "doc = nlp(article)"
      ]
    },
    {
      "cell_type": "code",
      "execution_count": 19,
      "metadata": {
        "id": "OaCQTKnZRmh2"
      },
      "outputs": [
        {
          "data": {
            "text/plain": [
              "[('2021', 0, 4, 'CARDINAL'),\n",
              " ('South Korean', 5, 17, 'NORP'),\n",
              " ('Netflix', 76, 83, 'ORG'),\n",
              " ('Korean', 111, 117, 'NORP'),\n",
              " ('Squids', 178, 184, 'NORP'),\n",
              " ('Game', 203, 207, 'PERSON'),\n",
              " ('Korean', 209, 215, 'NORP'),\n",
              " ('Geim', 238, 242, 'PERSON'),\n",
              " ('South Korean', 249, 261, 'NORP'),\n",
              " ('Hwang Dong-hyuk', 316, 331, 'PERSON'),\n",
              " ('Netflix', 336, 343, 'ORG'),\n",
              " ('Lee Jung-jae', 363, 375, 'PERSON'),\n",
              " ('Park Hae-soo', 377, 389, 'PERSON'),\n",
              " ('Wi Ha-joon', 391, 401, 'PERSON'),\n",
              " ('Jung Ho-yeon', 403, 415, 'PERSON'),\n",
              " ('O Yeong-su', 417, 427, 'PERSON'),\n",
              " ('Heo', 429, 432, 'NORP'),\n",
              " ('Anupam Tripathi', 443, 458, 'PERSON'),\n",
              " ('Kim Joo-ryoung', 464, 478, 'PERSON'),\n",
              " ('456', 522, 525, 'CARDINAL'),\n",
              " ('45.6', 661, 665, 'MONEY'),\n",
              " ('Korean', 737, 743, 'NORP'),\n",
              " ('Hwang', 761, 766, 'PERSON'),\n",
              " ('South Korea', 878, 889, 'GPE'),\n",
              " ('2009', 944, 948, 'DATE'),\n",
              " ('Netflix', 1016, 1023, 'ORG'),\n",
              " ('2019', 1048, 1052, 'DATE'),\n",
              " ('nine', 1127, 1131, 'CARDINAL'),\n",
              " ('Hwang', 1170, 1175, 'PERSON'),\n",
              " ('September 17, 2021', 1213, 1231, 'DATE'),\n",
              " ('November 2021', 1288, 1301, 'DATE'),\n",
              " ('Netflix', 1310, 1317, 'ORG'),\n",
              " ('94', 1376, 1378, 'CARDINAL'),\n",
              " ('more than 142 million', 1404, 1425, 'CARDINAL'),\n",
              " ('1.65 billion', 1457, 1469, 'CARDINAL'),\n",
              " ('its first four weeks', 1491, 1511, 'DATE'),\n",
              " ('Bridgerton', 1539, 1549, 'ORG'),\n",
              " ('PremiseSeong Gi-hun', 1550, 1569, 'PERSON'),\n",
              " ('456', 1814, 1817, 'CARDINAL'),\n",
              " ('₩100 million', 2150, 2162, 'MONEY'),\n",
              " ('₩45.6 billion', 2180, 2193, 'MONEY'),\n",
              " ('Cho Sang-woo', 2275, 2287, 'PERSON'),\n",
              " ('the Squid Game', 2457, 2471, 'ORG'),\n",
              " ('castYoo Sung-joo', 2482, 2498, 'PERSON'),\n",
              " ('111', 2513, 2516, 'CARDINAL'),\n",
              " ('11', 2520, 2522, 'CARDINAL'),\n",
              " ('Lee Yoo-mi', 2821, 2831, 'PERSON'),\n",
              " ('Ji-yeong', 2835, 2843, 'PERSON'),\n",
              " ('240', 2845, 2848, 'CARDINAL'),\n",
              " ('12', 2852, 2854, 'CARDINAL'),\n",
              " ('Kim Si-hyun', 3039, 3050, 'PERSON'),\n",
              " ('244', 3061, 3064, 'CARDINAL'),\n",
              " ('Lee Sang-hee', 3117, 3129, 'PERSON'),\n",
              " ('017', 3140, 3143, 'CARDINAL'),\n",
              " ('13', 3146, 3148, 'CARDINAL'),\n",
              " ('Kim Yun-tae', 3177, 3188, 'PERSON'),\n",
              " ('069', 3199, 3202, 'CARDINAL'),\n",
              " ('070.Lee Ji', 3254, 3264, 'PERSON'),\n",
              " ('070', 3278, 3281, 'CARDINAL'),\n",
              " ('14', 3284, 3286, 'CARDINAL'),\n",
              " ('069.a', 3341, 3346, 'CARDINAL'),\n",
              " ('069', 3398, 3401, 'CARDINAL'),\n",
              " ('Kwak Ja-hyoung', 3403, 3417, 'PERSON'),\n",
              " ('278', 3428, 3431, 'CARDINAL'),\n",
              " (\"Deok-su's\", 3452, 3461, 'ORG'),\n",
              " ('Christian Lagahit', 3493, 3510, 'PERSON'),\n",
              " ('15', 3527, 3529, 'CARDINAL'),\n",
              " ('16', 3532, 3534, 'CARDINAL'),\n",
              " (\"Seong Gi-hun's\", 3555, 3569, 'PERSON'),\n",
              " ('the Tug of War round.a', 3579, 3601, 'ORG'),\n",
              " (\"Seong Gi-hun's\", 3619, 3633, 'PERSON'),\n",
              " ('the Tug of War', 3643, 3657, 'ORG'),\n",
              " ('Kim Young-ok', 3665, 3677, 'PERSON'),\n",
              " ('17]Cho', 3698, 3704, 'CARDINAL'),\n",
              " ('Seong Ga-yeong', 3714, 3728, 'ORG'),\n",
              " ('Mal-geum', 3752, 3760, 'PERSON'),\n",
              " (\"Gi-hun's\", 3764, 3772, 'ORG'),\n",
              " (\"Ga-yeong's\", 3785, 3795, 'ORG'),\n",
              " ('17]Park', 3804, 3811, 'CARDINAL'),\n",
              " ('Hye-jin', 3812, 3819, 'ORG'),\n",
              " ('motherPark Si-wan', 3834, 3851, 'PERSON'),\n",
              " ('Kang Cheol', 3855, 3865, 'PERSON'),\n",
              " (\"Sae-byeok's\", 3867, 3878, 'ORG'),\n",
              " ('Yoo', 3909, 3912, 'PERSON'),\n",
              " ('Game', 3961, 3965, 'EVENT'),\n",
              " ('18]Lee', 3967, 3973, 'CARDINAL'),\n",
              " ('Byung-hun', 3974, 3983, 'ORG'),\n",
              " ('The Front Man', 3987, 4000, 'WORK_OF_ART'),\n",
              " ('the Squid Game', 4014, 4028, 'LAW'),\n",
              " ('Jung-jun', 4037, 4045, 'ORG'),\n",
              " ('Kennedy', 4098, 4105, 'PERSON'),\n",
              " ('21]David', 4117, 4125, 'CARDINAL'),\n",
              " ('Lee', 4126, 4129, 'PERSON'),\n",
              " ('Giuliano', 4153, 4161, 'PERSON'),\n",
              " ('22]Michael', 4200, 4210, 'CARDINAL'),\n",
              " ('Davis', 4211, 4216, 'ORG'),\n",
              " ('one season', 4261, 4271, 'DATE'),\n",
              " ('nine', 4275, 4279, 'CARDINAL'),\n",
              " ('between 32 and 63', 4306, 4323, 'DATE'),\n",
              " ('Netflix', 4436, 4443, 'ORG'),\n",
              " ('September 17', 4465, 4477, 'DATE'),\n",
              " ('2021.[23][24]No', 4479, 4494, 'DATE'),\n",
              " ('Red Light', 4550, 4559, 'WORK_OF_ART'),\n",
              " ('Mugunghwa Kkoch-i', 4575, 4592, 'PERSON'),\n",
              " ('Pideon Nal', 4593, 4603, 'PERSON'),\n",
              " ('Hwang Dong-hyuk', 4621, 4636, 'PERSON'),\n",
              " ('Hwang Dong-hyuk', 4637, 4652, 'PERSON'),\n",
              " ('September 17, 2021', 4653, 4671, 'DATE'),\n",
              " ('Seong Gi-hun', 4676, 4688, 'PERSON'),\n",
              " ('455', 5043, 5046, 'CARDINAL'),\n",
              " ('billions', 5234, 5242, 'CARDINAL'),\n",
              " ('six', 5281, 5284, 'CARDINAL'),\n",
              " ('six days', 5296, 5304, 'DATE'),\n",
              " ('the Front Man', 5332, 5345, 'ORG'),\n",
              " ('two', 5476, 5479, 'CARDINAL'),\n",
              " ('Cho Sang-woo', 5495, 5507, 'PERSON'),\n",
              " ('067', 5575, 5578, 'CARDINAL'),\n",
              " ('first', 5655, 5660, 'ORDINAL'),\n",
              " ('Red Light', 5691, 5700, 'ORG'),\n",
              " ('199', 5803, 5806, 'CARDINAL'),\n",
              " ('2', 5840, 5841, 'CARDINAL'),\n",
              " ('Ji', 5850, 5852, 'PERSON'),\n",
              " ('Hwang Dong-hyuk', 5861, 5876, 'PERSON'),\n",
              " ('Hwang Dong-hyuk', 5877, 5892, 'PERSON'),\n",
              " ('September 17, 2021', 5893, 5911, 'DATE'),\n",
              " ('over half', 5921, 5930, 'CARDINAL'),\n",
              " ('first', 5960, 5965, 'ORDINAL'),\n",
              " ('third', 6027, 6032, 'ORDINAL'),\n",
              " ('Seoul', 6144, 6149, 'GPE'),\n",
              " ('Hwang Jun-ho', 6219, 6231, 'PERSON'),\n",
              " ('001', 6509, 6512, 'CARDINAL'),\n",
              " ('067', 6568, 6571, 'CARDINAL'),\n",
              " ('North Korea', 6611, 6622, 'GPE'),\n",
              " ('199', 6678, 6681, 'CARDINAL'),\n",
              " ('Pakistani', 6685, 6694, 'NORP'),\n",
              " ('Jang Deok-su', 6801, 6813, 'PERSON'),\n",
              " ('3', 6929, 6930, 'CARDINAL'),\n",
              " ('The Man with the Umbrella', 6932, 6957, 'WORK_OF_ART'),\n",
              " ('Usan-eul', 6960, 6968, 'ORG'),\n",
              " ('Sseun Namja', 6969, 6980, 'PERSON'),\n",
              " ('Hwang Dong-hyuk', 6992, 7007, 'PERSON'),\n",
              " ('Hwang Dong-hyuk', 7008, 7023, 'PERSON'),\n",
              " ('September 17, 2021', 7024, 7042, 'DATE'),\n",
              " ('001', 7276, 7279, 'CARDINAL'),\n",
              " ('199', 7292, 7295, 'CARDINAL'),\n",
              " ('067', 7312, 7315, 'CARDINAL'),\n",
              " ('second', 7386, 7392, 'ORDINAL'),\n",
              " ('Ppopgi', 7416, 7422, 'PERSON'),\n",
              " ('10 minute', 7522, 7531, 'TIME'),\n",
              " ('067', 7570, 7573, 'CARDINAL'),\n",
              " ('212', 7849, 7852, 'CARDINAL'),\n",
              " ('4', 8191, 8192, 'CARDINAL'),\n",
              " ('Team', 8207, 8211, 'ORG'),\n",
              " ('Jjollyeodo Pyeonmeokgi', 8214, 8236, 'PERSON'),\n",
              " ('Hwang Dong-hyuk', 8247, 8262, 'PERSON'),\n",
              " ('Hwang Dong-hyuk', 8263, 8278, 'PERSON'),\n",
              " ('September 17, 2021', 8279, 8297, 'DATE'),\n",
              " ('111', 8309, 8312, 'CARDINAL'),\n",
              " ('Deok-su', 8488, 8495, 'PERSON'),\n",
              " ('199', 8769, 8772, 'CARDINAL'),\n",
              " ('Ali Abdul', 8776, 8785, 'PERSON'),\n",
              " ('067', 8798, 8801, 'CARDINAL'),\n",
              " ('Kang Sae-byeok', 8805, 8819, 'PERSON'),\n",
              " ('001', 8828, 8831, 'CARDINAL'),\n",
              " ('212', 8902, 8905, 'CARDINAL'),\n",
              " ('Han Mi-nyeo', 8913, 8924, 'PERSON'),\n",
              " ('Deok-su', 8939, 8946, 'PERSON'),\n",
              " ('third', 8955, 8960, 'ORDINAL'),\n",
              " ('ten', 9002, 9005, 'CARDINAL'),\n",
              " ('Sae-byeok', 9026, 9035, 'ORG'),\n",
              " ('240', 9052, 9055, 'CARDINAL'),\n",
              " ('two', 9123, 9126, 'CARDINAL'),\n",
              " ('111', 9275, 9278, 'CARDINAL'),\n",
              " (\"Gi-hun's\", 9344, 9352, 'ORG'),\n",
              " (\"Deok-su's\", 9365, 9374, 'PERSON'),\n",
              " ('5', 9453, 9454, 'CARDINAL'),\n",
              " ('A Fair World', 9456, 9468, 'WORK_OF_ART'),\n",
              " ('Pyeongdeung-han Sesang', 9471, 9493, 'PERSON'),\n",
              " ('Hwang Dong-hyuk', 9503, 9518, 'PERSON'),\n",
              " ('Hwang Dong-hyuk', 9519, 9534, 'PERSON'),\n",
              " ('September 17, 2021', 9535, 9553, 'DATE'),\n",
              " ('001', 9612, 9615, 'CARDINAL'),\n",
              " (\"Deok-su's\", 9755, 9764, 'PERSON'),\n",
              " ('ten years ago', 9833, 9846, 'DATE'),\n",
              " ('111', 10178, 10181, 'CARDINAL'),\n",
              " ('Jun-ho', 10232, 10238, 'DATE'),\n",
              " ('over 30 years', 10329, 10342, 'DATE'),\n",
              " ('Hwang In-ho', 10371, 10382, 'PERSON'),\n",
              " ('2015', 10401, 10405, 'DATE'),\n",
              " ('6', 10407, 10408, 'CARDINAL'),\n",
              " ('Gganbu', 10410, 10416, 'WORK_OF_ART'),\n",
              " ('Hwang Dong-hyuk', 10431, 10446, 'PERSON'),\n",
              " ('Hwang Dong-hyuk', 10447, 10462, 'PERSON'),\n",
              " ('September 17, 2021', 10463, 10481, 'DATE'),\n",
              " ('fourth', 10686, 10692, 'ORDINAL'),\n",
              " ('30 minutes', 10903, 10913, 'TIME'),\n",
              " ('240', 10957, 10960, 'CARDINAL'),\n",
              " ('Ji-yeong', 10968, 10976, 'PERSON'),\n",
              " ('Ji-yeong', 11004, 11012, 'PERSON'),\n",
              " ('Sae-byeok', 11018, 11027, 'ORG'),\n",
              " ('Ali', 11089, 11092, 'PERSON'),\n",
              " ('Ali', 11147, 11150, 'PERSON'),\n",
              " ('Ja-hyoung', 11207, 11216, 'PERSON'),\n",
              " ('Sae-byeok', 11493, 11502, 'ORG'),\n",
              " ('7', 11551, 11552, 'CARDINAL'),\n",
              " ('Hwang Dong-hyuk', 11560, 11575, 'PERSON'),\n",
              " ('Hwang Dong-hyuk', 11576, 11591, 'PERSON'),\n",
              " ('September 17, 2021', 11592, 11610, 'DATE'),\n",
              " ('one', 11898, 11901, 'CARDINAL'),\n",
              " ('fifth', 12013, 12018, 'ORDINAL'),\n",
              " ('two', 12047, 12050, 'CARDINAL'),\n",
              " ('017', 12463, 12466, 'CARDINAL'),\n",
              " ('017', 12648, 12651, 'CARDINAL'),\n",
              " ('Sae-byeok', 12725, 12734, 'ORG'),\n",
              " ('three', 12828, 12833, 'CARDINAL'),\n",
              " ('8', 12843, 12844, 'CARDINAL'),\n",
              " ('Front Man', 12846, 12855, 'WORK_OF_ART'),\n",
              " ('Peulonteu Maen', 12858, 12872, 'PERSON'),\n",
              " ('Hwang Dong-hyuk', 12880, 12895, 'PERSON'),\n",
              " ('Hwang Dong-hyuk', 12896, 12911, 'PERSON'),\n",
              " ('September 17, 2021', 12912, 12930, 'DATE'),\n",
              " ('Sae-byeok', 12971, 12980, 'ORG'),\n",
              " ('Sae-byeok', 13181, 13190, 'ORG'),\n",
              " ('Sae-byeok', 13591, 13600, 'ORG'),\n",
              " ('Jun-ho', 13974, 13980, 'DATE'),\n",
              " ('9', 14055, 14056, 'CARDINAL'),\n",
              " ('One Lucky Day', 14058, 14071, 'WORK_OF_ART'),\n",
              " ('Unsu Joeun Nal', 14074, 14088, 'PERSON'),\n",
              " ('Hwang Dong-hyuk', 14102, 14117, 'PERSON'),\n",
              " ('Hwang Dong-hyuk', 14118, 14133, 'PERSON'),\n",
              " ('September 17, 2021', 14134, 14152, 'DATE'),\n",
              " ('Sang-Woo', 14270, 14278, 'ORG'),\n",
              " ('third', 14306, 14311, 'ORDINAL'),\n",
              " ('Seoul', 14443, 14448, 'GPE'),\n",
              " ('A year later', 14532, 14544, 'DATE'),\n",
              " ('Il-nam', 14695, 14701, 'ORG'),\n",
              " ('Il-nam', 14885, 14891, 'ORG'),\n",
              " ('midnight', 14988, 14996, 'TIME'),\n",
              " ('Il-nam', 15020, 15026, 'ORG'),\n",
              " ('Los Angeles', 15243, 15254, 'GPE'),\n",
              " ('ProductionDevelopmentAround 2008', 15586, 15618, 'EVENT'),\n",
              " ('Hwang Dong-hyuk', 15620, 15635, 'PERSON'),\n",
              " ('Manhwabang', 15907, 15917, 'GPE'),\n",
              " ('South Korean', 15919, 15931, 'NORP'),\n",
              " ('Japanese', 15953, 15961, 'NORP'),\n",
              " ('Battle Royale', 15985, 15998, 'LOC'),\n",
              " ('Hwang', 16596, 16601, 'PERSON'),\n",
              " ('Korean', 16727, 16733, 'NORP'),\n",
              " ('the next ten years', 16881, 16899, 'DATE'),\n",
              " ('three', 16923, 16928, 'CARDINAL'),\n",
              " ('Silenced (', 16973, 16983, 'WORK_OF_ART'),\n",
              " ('2011', 16983, 16987, 'DATE'),\n",
              " ('The Fortress', 17019, 17031, 'WORK_OF_ART'),\n",
              " ('2017).[32]In', 17033, 17045, 'CARDINAL'),\n",
              " ('the 2010s', 17046, 17055, 'DATE'),\n",
              " ('Netflix', 17057, 17064, 'ORG'),\n",
              " ('North America', 17114, 17127, 'LOC'),\n",
              " ('Korea.[35]', 17194, 17204, 'PERSON'),\n",
              " ('Ted Sarandos', 17205, 17217, 'PERSON'),\n",
              " ('Netflix', 17229, 17236, 'ORG'),\n",
              " ('2018', 17248, 17252, 'DATE'),\n",
              " ('America', 17404, 17411, 'GPE'),\n",
              " ('Hollywood', 17492, 17501, 'GPE'),\n",
              " ('Netflix', 17508, 17515, 'ORG'),\n",
              " ('Asia', 17544, 17548, 'LOC'),\n",
              " ('2018', 17552, 17556, 'DATE'),\n",
              " ('Seoul', 17634, 17639, 'GPE'),\n",
              " ('Hwang', 17641, 17646, 'PERSON'),\n",
              " ('Kim Minyoung', 17686, 17698, 'PERSON'),\n",
              " ('one', 17700, 17703, 'CARDINAL'),\n",
              " ('Netflix', 17707, 17714, 'ORG'),\n",
              " ('Asian', 17742, 17747, 'NORP'),\n",
              " ('Hwang', 17768, 17773, 'PERSON'),\n",
              " ('Squid Game', 17853, 17863, 'ORG'),\n",
              " ('Kim', 17902, 17905, 'PERSON'),\n",
              " ('Squid Game', 18001, 18011, 'ORG'),\n",
              " ('Netflix', 18033, 18040, 'ORG'),\n",
              " ('September 2019', 18063, 18077, 'DATE'),\n",
              " ('Hwang', 18097, 18102, 'PERSON'),\n",
              " ('Netflix', 18141, 18148, 'ORG'),\n",
              " ('Bela Bajaria', 18151, 18163, 'PERSON'),\n",
              " ('Hwang', 18234, 18239, 'PERSON'),\n",
              " ('Korea', 18283, 18288, 'GPE'),\n",
              " ('K-Dramas', 18360, 18368, 'WORK_OF_ART'),\n",
              " ('Hwang', 18441, 18446, 'PERSON'),\n",
              " ('10 years', 18543, 18551, 'DATE'),\n",
              " ('Hwang', 18748, 18753, 'PERSON'),\n",
              " ('COVID-19', 18780, 18788, 'PERSON'),\n",
              " ('2020', 18801, 18805, 'DATE'),\n",
              " ('2021', 18810, 18814, 'DATE'),\n",
              " ('South Korea', 18866, 18877, 'GPE'),\n",
              " ('a decade', 18967, 18975, 'DATE'),\n",
              " ('Netflix', 18994, 19001, 'ORG'),\n",
              " ('nine', 19048, 19052, 'CARDINAL'),\n",
              " ('Kim', 19069, 19072, 'PERSON'),\n",
              " ('120-minute', 19138, 19148, 'TIME'),\n",
              " ('Hwang', 19210, 19215, 'PERSON'),\n",
              " ('Netflix', 19377, 19384, 'ORG'),\n",
              " ('Round Six', 19406, 19415, 'EVENT'),\n",
              " ('Squid Game', 19429, 19439, 'ORG'),\n",
              " ('Hwang', 19443, 19448, 'PERSON'),\n",
              " ('Netflix', 19477, 19484, 'ORG'),\n",
              " ('Kim Minyoung', 19522, 19534, 'PERSON'),\n",
              " ('Korean', 19600, 19606, 'NORP'),\n",
              " ('Round Six', 19719, 19728, 'LAW'),\n",
              " ('Hwang', 19806, 19811, 'PERSON'),\n",
              " ('Kim', 19867, 19870, 'PERSON'),\n",
              " ('Hwang', 19976, 19981, 'PERSON'),\n",
              " ('Netflix', 20066, 20073, 'ORG'),\n",
              " ('the United States', 20077, 20094, 'GPE'),\n",
              " ('at least one', 20099, 20111, 'CARDINAL'),\n",
              " ('Cho Sang-woo', 20227, 20239, 'PERSON'),\n",
              " ('Il-nam', 20245, 20251, 'ORG'),\n",
              " ('Hwang', 20272, 20277, 'PERSON'),\n",
              " ('Hwang Jun-ho', 20329, 20341, 'PERSON'),\n",
              " ('Hwang In-ho.[32]', 20416, 20432, 'PERSON'),\n",
              " ('two', 20437, 20440, 'CARDINAL'),\n",
              " ('Hwang', 20491, 20496, 'PERSON'),\n",
              " ('two', 20541, 20544, 'CARDINAL'),\n",
              " ('Ssangmun', 20665, 20673, 'GPE'),\n",
              " ('Seoul', 20686, 20691, 'GPE'),\n",
              " ('Sang-Woo', 20699, 20707, 'ORG'),\n",
              " ('Hwang', 20721, 20726, 'PERSON'),\n",
              " ('Seoul National University', 20743, 20768, 'ORG'),\n",
              " ('SsangYong Motor', 20901, 20916, 'ORG'),\n",
              " ('2009', 20933, 20937, 'DATE'),\n",
              " ('Korean', 20979, 20985, 'NORP'),\n",
              " ('second', 21037, 21043, 'ORDINAL'),\n",
              " ('Korean', 21150, 21156, 'NORP'),\n",
              " ('second', 21208, 21214, 'ORDINAL'),\n",
              " ('Hwang', 21297, 21302, 'PERSON'),\n",
              " ('Korean', 21326, 21332, 'NORP'),\n",
              " ('Korean', 21769, 21775, 'NORP'),\n",
              " ('the 1970s', 21797, 21806, 'DATE'),\n",
              " ('1980s.[38][43', 21811, 21824, 'CARDINAL'),\n",
              " ('today', 22051, 22056, 'DATE'),\n",
              " ('one', 22224, 22227, 'CARDINAL'),\n",
              " ('Hwang', 22257, 22262, 'PERSON'),\n",
              " ('Hwang', 22426, 22431, 'PERSON'),\n",
              " ('Korean', 22533, 22539, 'NORP'),\n",
              " ('Netflix', 22591, 22598, 'ORG'),\n",
              " ('Kingdom.[45]', 22608, 22620, 'WORK_OF_ART'),\n",
              " ('Hwang', 22676, 22681, 'PERSON'),\n",
              " ('Korean', 22778, 22784, 'NORP'),\n",
              " ('Gonggi, Dong, Dong, Dongdaemun', 22810, 22840, 'ORG'),\n",
              " ('Korean', 22892, 22898, 'NORP'),\n",
              " ('nearly six months', 22981, 22998, 'DATE'),\n",
              " ('first', 23012, 23017, 'ORDINAL'),\n",
              " ('two', 23018, 23021, 'CARDINAL'),\n",
              " ('six', 23222, 23225, 'CARDINAL'),\n",
              " ('Hwang', 23284, 23289, 'PERSON'),\n",
              " ('Hwang', 23597, 23602, 'PERSON'),\n",
              " ('Hwang', 23777, 23782, 'PERSON'),\n",
              " ('Gong Yoo', 23805, 23813, 'PERSON'),\n",
              " ('Lee Byung Hun', 23825, 23838, 'PERSON'),\n",
              " ('inHwang', 23934, 23941, 'ORG'),\n",
              " ('Lee Jung-jae', 23964, 23976, 'PERSON'),\n",
              " ('Jung Ho-yeon', 24062, 24074, 'PERSON'),\n",
              " ('Mexico', 24197, 24203, 'GPE'),\n",
              " ('New York Fashion Week', 24222, 24243, 'ORG'),\n",
              " ('first', 24267, 24272, 'ORDINAL'),\n",
              " ('Hwang', 24325, 24330, 'PERSON'),\n",
              " ('New York', 24378, 24386, 'GPE'),\n",
              " ('first', 24452, 24457, 'ORDINAL'),\n",
              " ('Ali Abdul', 24553, 24562, 'PERSON'),\n",
              " ('Hwang', 24564, 24569, 'PERSON'),\n",
              " ('Korea', 24620, 24625, 'GPE'),\n",
              " ('Anupam Tripathi', 24637, 24652, 'PERSON'),\n",
              " ('Gong Yoo', 24730, 24738, 'PERSON'),\n",
              " ('Lee Byung Hun', 24743, 24756, 'PERSON'),\n",
              " ('Hwang', 24773, 24778, 'PERSON'),\n",
              " ('Silenced and The Fortress', 24806, 24831, 'WORK_OF_ART'),\n",
              " ('Hwang', 24850, 24855, 'PERSON'),\n",
              " ('non-Korean', 24947, 24957, 'NORP'),\n",
              " ('Asia', 24975, 24979, 'LOC'),\n",
              " ('Geoffrey Giuliano', 24996, 25013, 'PERSON'),\n",
              " ('June 17', 25196, 25203, 'DATE'),\n",
              " ('2020.[52]Costume', 25205, 25221, 'ORG'),\n",
              " ('June to October 2020', 25292, 25312, 'DATE'),\n",
              " ('a mandatory month', 25324, 25341, 'DATE'),\n",
              " ('COVID-19', 25367, 25375, 'PRODUCT'),\n",
              " ('Seongapdo', 25472, 25481, 'GPE'),\n",
              " ('Netflix', 25587, 25594, 'ORG'),\n",
              " ('two', 25997, 26000, 'CARDINAL'),\n",
              " ('1970s', 26071, 26076, 'DATE'),\n",
              " ('Korean', 26114, 26120, 'NORP'),\n",
              " ('4', 26195, 26196, 'CARDINAL'),\n",
              " ('M. C. Escher', 26227, 26239, 'PERSON'),\n",
              " ('Chae Kyoung-sun', 26282, 26297, 'PERSON'),\n",
              " ('the 1970s', 26587, 26596, 'DATE'),\n",
              " ('Korean', 26622, 26628, 'NORP'),\n",
              " ('Korean', 26724, 26730, 'NORP'),\n",
              " ('the 1970s and 1980s', 26742, 26761, 'DATE'),\n",
              " ('Chae', 27083, 27087, 'ORG'),\n",
              " ('eighth', 27558, 27564, 'ORDINAL'),\n",
              " ('The Dinner Party', 27610, 27626, 'ORG'),\n",
              " ('Judy Chicago.[57]', 27630, 27647, 'PERSON'),\n",
              " ('The Empire of Light series', 27736, 27762, 'ORG'),\n",
              " ('René Magritte.[57]The', 27766, 27787, 'PERSON'),\n",
              " ('Chae', 27959, 27963, 'PERSON'),\n",
              " ('001', 28083, 28086, 'CARDINAL'),\n",
              " ('one', 28120, 28123, 'CARDINAL'),\n",
              " ('Chae', 28163, 28167, 'ORG'),\n",
              " ('the Glass Stepping Stones', 28550, 28575, 'FAC'),\n",
              " ('only 1.5 metres', 28670, 28685, 'QUANTITY'),\n",
              " ('4.9 ft', 28687, 28693, 'QUANTITY'),\n",
              " ('more than', 28931, 28940, 'CARDINAL'),\n",
              " ('33', 28952, 28954, 'CARDINAL'),\n",
              " ('first', 29076, 29081, 'ORDINAL'),\n",
              " ('Red Light', 29092, 29101, 'WORK_OF_ART'),\n",
              " ('Younghee', 29133, 29141, 'ORG'),\n",
              " ('Korean', 29185, 29191, 'NORP'),\n",
              " ('the 1970s', 29228, 29237, 'DATE'),\n",
              " ('Hwang', 29287, 29292, 'PERSON'),\n",
              " ('Korean', 29338, 29344, 'NORP'),\n",
              " ('Mugunghwa Flower', 29347, 29363, 'WORK_OF_ART'),\n",
              " ('South', 29439, 29444, 'LOC'),\n",
              " ('Korean', 29761, 29767, 'NORP'),\n",
              " ('The Man with the Umbrella', 29842, 29867, 'WORK_OF_ART'),\n",
              " ('English', 29921, 29928, 'LANGUAGE'),\n",
              " ('Korean', 30524, 30530, 'NORP'),\n",
              " ('Korean', 30560, 30566, 'NORP'),\n",
              " ('Hangul', 30577, 30583, 'NORP'),\n",
              " ('Ojing-eo Geim', 30769, 30782, 'ORG'),\n",
              " ('Korean', 30788, 30794, 'NORP'),\n",
              " ('Squid Game.[62]MusicJung Jae-il', 30810, 30841, 'PERSON'),\n",
              " (\"Squid Game's\", 30922, 30934, 'PERSON'),\n",
              " ('Jung', 30989, 30993, 'PERSON'),\n",
              " ('two', 31012, 31015, 'CARDINAL'),\n",
              " ('Park Min-ju', 31033, 31044, 'PERSON'),\n",
              " ('Kim Sung-soo', 31049, 31061, 'PERSON'),\n",
              " ('23', 31118, 31120, 'CARDINAL'),\n",
              " ('third', 31258, 31263, 'ORDINAL'),\n",
              " (\"Joseph Haydn's\", 31276, 31290, 'PERSON'),\n",
              " ('Trumpet Concerto', 31292, 31308, 'WORK_OF_ART'),\n",
              " (\"Johann Strauss II's\", 31345, 31364, 'PERSON'),\n",
              " ('The Blue Danube', 31366, 31381, 'WORK_OF_ART'),\n",
              " (\"Ludwig van Beethoven's\", 31432, 31454, 'PERSON'),\n",
              " ('Fifth Symphony', 31456, 31470, 'WORK_OF_ART'),\n",
              " ('Fly Me to the Moon', 31541, 31559, 'WORK_OF_ART'),\n",
              " ('Jung', 31574, 31578, 'PERSON'),\n",
              " ('Korean', 31591, 31597, 'NORP'),\n",
              " ('Joo Won Shin', 31605, 31617, 'PERSON'),\n",
              " ('Red Light', 31638, 31647, 'WORK_OF_ART'),\n",
              " ('first', 31674, 31679, 'ORDINAL'),\n",
              " ('Joo', 31702, 31705, 'PERSON'),\n",
              " ('Hwang', 31707, 31712, 'PERSON'),\n",
              " ('today', 31941, 31946, 'DATE'),\n",
              " ('Way Back Then', 32003, 32016, 'WORK_OF_ART'),\n",
              " ('Squid Game', 32052, 32062, 'ORG'),\n",
              " ('Jung', 32064, 32068, 'PERSON'),\n",
              " ('3-3-7', 32209, 32214, 'CARDINAL'),\n",
              " ('South Korea', 32256, 32267, 'GPE'),\n",
              " ('Jung', 32317, 32321, 'PERSON'),\n",
              " ('Round VI', 32391, 32399, 'WORK_OF_ART'),\n",
              " ('September 17', 32481, 32493, 'DATE'),\n",
              " ('2021.[68]Squid Game', 32495, 32514, 'ORG'),\n",
              " ('Jung Jae-il', 32578, 32589, 'PERSON'),\n",
              " ('Jung Jae-il', 32590, 32601, 'PERSON'),\n",
              " ('Round', 32611, 32616, 'WORK_OF_ART'),\n",
              " ('Jung Jae-il', 32620, 32631, 'PERSON'),\n",
              " ('Jung Jae-il', 32632, 32643, 'PERSON'),\n",
              " ('1:19 3', 32644, 32650, 'DATE'),\n",
              " ('The Rope Is Tied\" Jung Jae-il Jung Jae-il', 32653, 32694, 'WORK_OF_ART'),\n",
              " ('Pink Soldiers', 32704, 32717, 'WORK_OF_ART'),\n",
              " ('23', 32719, 32721, 'CARDINAL'),\n",
              " ('Hostage Crisis', 32734, 32748, 'WORK_OF_ART'),\n",
              " ('23', 32750, 32752, 'CARDINAL'),\n",
              " ('Jung Jae-il', 32785, 32796, 'PERSON'),\n",
              " ('Jung Jae-il', 32819, 32830, 'PERSON'),\n",
              " ('2:38 8', 32831, 32837, 'DATE'),\n",
              " ('Needles and Dalgona\" Park Min-ju', 32840, 32872, 'WORK_OF_ART'),\n",
              " ('3:44 9', 32873, 32879, 'DATE'),\n",
              " ('The Fat and the Rats\" Park Min-ju', 32882, 32915, 'WORK_OF_ART'),\n",
              " ('1:52 10', 32916, 32923, 'DATE'),\n",
              " ('It Hurts So Bad\" Jung Jae-il', 32926, 32954, 'WORK_OF_ART'),\n",
              " ('1:13 11', 32955, 32962, 'DATE'),\n",
              " ('23', 32975, 32977, 'CARDINAL'),\n",
              " ('23 5:25 13', 32998, 33008, 'TIME'),\n",
              " ('Round VI', 33011, 33019, 'WORK_OF_ART'),\n",
              " ('Jung Jae-il', 33021, 33032, 'PERSON'),\n",
              " ('4.56 Billion', 33061, 33073, 'MONEY'),\n",
              " ('Jung Jae-il', 33075, 33086, 'PERSON'),\n",
              " ('4:26 15', 33087, 33094, 'DATE'),\n",
              " ('1:53 16', 33134, 33141, 'DATE'),\n",
              " ('Slaughterhouse III', 33144, 33162, 'WORK_OF_ART'),\n",
              " ('Jung Jae-il', 33164, 33175, 'PERSON'),\n",
              " ('Jung Jae-il', 33191, 33202, 'PERSON'),\n",
              " ('2:26 18', 33203, 33210, 'DATE'),\n",
              " ('Jung Jae-il', 33220, 33231, 'PERSON'),\n",
              " ('3:38 19', 33232, 33239, 'DATE'),\n",
              " ('Dawn\" Jung Jae-il', 33242, 33259, 'WORK_OF_ART'),\n",
              " ('Tonight', 33283, 33290, 'TIME'),\n",
              " ('Jung Jae-il', 33292, 33303, 'PERSON'),\n",
              " ('3:27', 33304, 33308, 'TIME'),\n",
              " ('Philippines', 33344, 33355, 'GPE'),\n",
              " ('Ortigas Avenue', 33434, 33448, 'FAC'),\n",
              " ('Quezon City', 33452, 33463, 'GPE'),\n",
              " ('September', 33467, 33476, 'DATE'),\n",
              " ('2021.[69]A', 33477, 33487, 'CARDINAL'),\n",
              " ('Olympic Park', 33521, 33533, 'GPE'),\n",
              " ('Seoul', 33535, 33540, 'GPE'),\n",
              " ('October 25', 33544, 33554, 'DATE'),\n",
              " ('Itaewon', 33615, 33622, 'ORG'),\n",
              " ('Seoul', 33634, 33639, 'GPE'),\n",
              " ('September 5', 33646, 33657, 'DATE'),\n",
              " ('2021.[71][72', 33659, 33671, 'CARDINAL'),\n",
              " ('COVID-19', 33724, 33732, 'PERSON'),\n",
              " ('Paris', 33804, 33809, 'GPE'),\n",
              " ('October 2 and 3', 33813, 33828, 'DATE'),\n",
              " ('one-month', 33860, 33869, 'DATE'),\n",
              " ('Netflix', 33870, 33877, 'ORG'),\n",
              " ('one minute', 33950, 33960, 'TIME'),\n",
              " ('30', 33965, 33967, 'CARDINAL'),\n",
              " ('Netherlands', 33991, 34002, 'GPE'),\n",
              " ('Netflix', 34004, 34011, 'ORG'),\n",
              " ('Squid Game', 34027, 34037, 'PRODUCT'),\n",
              " ('Red Light', 34078, 34087, 'FAC'),\n",
              " ('Maastricht', 34109, 34119, 'GPE'),\n",
              " ('Rotterdam', 34124, 34133, 'GPE'),\n",
              " ('Squid Game', 34231, 34241, 'ORG'),\n",
              " ('hundreds', 34275, 34283, 'CARDINAL'),\n",
              " ('October 2021', 34309, 34321, 'DATE'),\n",
              " ('Hollywood', 34327, 34336, 'GPE'),\n",
              " (\"Netflix Asia's\", 34358, 34372, 'ORG'),\n",
              " ('Kim Minyoung', 34383, 34395, 'PERSON'),\n",
              " ('Squid Game', 34512, 34522, 'ORG'),\n",
              " ('Funko', 34542, 34547, 'ORG'),\n",
              " ('Squid Game', 34574, 34584, 'ORG'),\n",
              " ('Funko Pops', 34592, 34602, 'PRODUCT'),\n",
              " ('May', 34616, 34619, 'DATE'),\n",
              " ('Rotten Tomatoes', 34721, 34736, 'WORK_OF_ART'),\n",
              " ('94%', 34775, 34778, 'PERCENT'),\n",
              " ('63', 34788, 34790, 'CARDINAL'),\n",
              " ('8.20/10', 34826, 34833, 'CARDINAL'),\n",
              " (\"Squid Game's\", 34875, 34887, 'WORK_OF_ART'),\n",
              " ('Metacritic', 35099, 35109, 'ORG'),\n",
              " ('69', 35154, 35156, 'CARDINAL'),\n",
              " ('100', 35164, 35167, 'CARDINAL'),\n",
              " ('13', 35177, 35179, 'CARDINAL'),\n",
              " ('Keller', 35239, 35245, 'PERSON'),\n",
              " ('Keller', 35441, 35447, 'PERSON'),\n",
              " ('Squid Game', 35471, 35481, 'ORG'),\n",
              " ('the last 20 minutes', 35590, 35609, 'TIME'),\n",
              " ('the season', 35621, 35631, 'DATE'),\n",
              " ('Pierce Conran', 35638, 35651, 'PERSON'),\n",
              " ('the South China Morning Post', 35655, 35683, 'ORG'),\n",
              " ('4.5', 35706, 35709, 'CARDINAL'),\n",
              " ('5', 35717, 35718, 'CARDINAL'),\n",
              " ('Netflix Korea', 35799, 35812, 'GPE'),\n",
              " ('NME', 35911, 35914, 'ORG'),\n",
              " ('4', 35937, 35938, 'CARDINAL'),\n",
              " ('5', 35946, 35947, 'CARDINAL'),\n",
              " ('Squid Game', 35996, 36006, 'ORG'),\n",
              " ('John Doyle', 36087, 36097, 'PERSON'),\n",
              " ('The Globe and Mail', 36101, 36119, 'ORG'),\n",
              " ('present-day', 36349, 36360, 'DATE'),\n",
              " ('Quinn', 36405, 36410, 'PERSON'),\n",
              " ('two', 36493, 36496, 'CARDINAL'),\n",
              " ('Squid Game', 36519, 36529, 'ORG'),\n",
              " ('One', 36531, 36534, 'CARDINAL'),\n",
              " ('Hindu', 36743, 36748, 'NORP'),\n",
              " ('nine', 36765, 36769, 'CARDINAL'),\n",
              " ('Abha Shah', 36933, 36942, 'PERSON'),\n",
              " ('the Evening Standard', 36946, 36966, 'WORK_OF_ART'),\n",
              " ('The New York Times', 37151, 37169, 'ORG'),\n",
              " ('Mike Hale', 37181, 37190, 'PERSON'),\n",
              " ('Squid Game', 37197, 37207, 'PERSON'),\n",
              " (\"Daniel D'Addario\", 37597, 37613, 'PERSON'),\n",
              " ('Joker', 37638, 37643, 'PERSON'),\n",
              " ('first', 37919, 37924, 'ORDINAL'),\n",
              " ('Korean', 37925, 37931, 'NORP'),\n",
              " ('Netflix', 37945, 37952, 'ORG'),\n",
              " ('ten', 37959, 37962, 'CARDINAL'),\n",
              " ('weekly', 37963, 37969, 'DATE'),\n",
              " ('one', 38026, 38029, 'CARDINAL'),\n",
              " ('94', 38033, 38035, 'CARDINAL'),\n",
              " ('the United States', 38057, 38074, 'GPE'),\n",
              " ('the United', 38079, 38089, 'GPE'),\n",
              " ('Kingdom.[92] Netflix', 38090, 38110, 'ORG'),\n",
              " ('Squid Game', 38126, 38136, 'ORG'),\n",
              " ('111 million', 38152, 38163, 'CARDINAL'),\n",
              " ('17 days', 38198, 38205, 'DATE'),\n",
              " ('over 142 million', 38234, 38250, 'CARDINAL'),\n",
              " ('28', 38275, 38277, 'CARDINAL'),\n",
              " ('82 million', 38303, 38313, 'CARDINAL'),\n",
              " ('Bridgerton', 38319, 38329, 'ORG'),\n",
              " ('its first 28 days', 38346, 38363, 'DATE'),\n",
              " ('December 2020', 38367, 38380, 'DATE'),\n",
              " ('Netflix', 38454, 38461, 'ORG'),\n",
              " ('November 2021', 38510, 38523, 'DATE'),\n",
              " ('Squid Game', 38568, 38578, 'ORG'),\n",
              " ('its first 28 days', 38662, 38679, 'DATE'),\n",
              " ('Bridgerton', 38692, 38702, 'ORG'),\n",
              " ('625 million', 38705, 38716, 'CARDINAL'),\n",
              " ('Netflix', 38737, 38744, 'ORG'),\n",
              " ('China', 38774, 38779, 'GPE'),\n",
              " ('Squid Game', 38801, 38811, 'ORG'),\n",
              " ('Chinese', 38847, 38854, 'NORP'),\n",
              " ('Chinese', 38907, 38914, 'NORP'),\n",
              " ('Asian', 38954, 38959, 'NORP'),\n",
              " ('37', 39141, 39143, 'CARDINAL'),\n",
              " ('34', 39177, 39179, 'CARDINAL'),\n",
              " ('Hwang', 39240, 39245, 'PERSON'),\n",
              " ('the Squid Game', 39512, 39526, 'WORK_OF_ART'),\n",
              " ('Nielsen', 39725, 39732, 'PERSON'),\n",
              " ('its first week', 39764, 39778, 'DATE'),\n",
              " ('the week of September 20', 39804, 39828, 'DATE'),\n",
              " ('26, 2021', 39837, 39845, 'DATE'),\n",
              " ('the United States', 39900, 39917, 'GPE'),\n",
              " ('September 27 to October 3, 2021', 40021, 40052, 'DATE'),\n",
              " ('over 3.26 billion', 40063, 40080, 'MONEY'),\n",
              " ('U.S.', 40104, 40108, 'GPE'),\n",
              " ('2021', 40176, 40180, 'DATE'),\n",
              " ('sixth', 40190, 40195, 'ORDINAL'),\n",
              " ('a single week', 40252, 40265, 'DATE'),\n",
              " ('Nielsen', 40292, 40299, 'PERSON'),\n",
              " ('a single season', 40371, 40386, 'DATE'),\n",
              " ('COVID-19 lockdowns.[101] Squid Game', 40395, 40430, 'PERSON'),\n",
              " ('Nielsen', 40475, 40482, 'PERSON'),\n",
              " ('the weeks', 40487, 40496, 'DATE'),\n",
              " ('October 4 and 11', 40506, 40522, 'DATE'),\n",
              " ('2021,[102][103', 40524, 40538, 'CARDINAL'),\n",
              " ('four consecutive weeks', 40594, 40616, 'DATE'),\n",
              " ('Squid Game', 40618, 40628, 'ORG'),\n",
              " ('Korean', 40736, 40742, 'NORP'),\n",
              " ('YouTube', 40767, 40774, 'ORG'),\n",
              " ('17 billion', 40813, 40823, 'QUANTITY'),\n",
              " ('eight weeks', 40837, 40848, 'DATE'),\n",
              " ('Game of Thrones', 40924, 40939, 'WORK_OF_ART'),\n",
              " ('ten', 40959, 40962, 'CARDINAL'),\n",
              " ('Bloomberg News', 40987, 41001, 'ORG'),\n",
              " ('October 2021', 41006, 41018, 'DATE'),\n",
              " ('Netflix', 41020, 41027, 'ORG'),\n",
              " ('Squid Game', 41043, 41053, 'ORG'),\n",
              " ('nearly US$900 million', 41068, 41089, 'MONEY'),\n",
              " ('$21.4 million', 41143, 41156, 'MONEY'),\n",
              " ('Netflix', 41217, 41224, 'ORG'),\n",
              " ('Disney+', 41295, 41302, 'ORG'),\n",
              " ('Paramount+', 41304, 41314, 'GPE'),\n",
              " ('Apple', 41319, 41324, 'ORG'),\n",
              " ('Netflix', 41359, 41366, 'ORG'),\n",
              " ('Hollywood', 41414, 41423, 'GPE'),\n",
              " ('one', 41489, 41492, 'CARDINAL'),\n",
              " ('Hollywood', 41624, 41633, 'GPE'),\n",
              " ('non-US', 41814, 41820, 'NORP'),\n",
              " ('US', 41879, 41881, 'GPE'),\n",
              " (\"Squid Game's\", 42009, 42021, 'ORG'),\n",
              " ('South Korea.[33] Hwang', 42224, 42246, 'GPE'),\n",
              " ('Korean', 42408, 42414, 'NORP'),\n",
              " ('around 90%', 42533, 42543, 'PERCENT'),\n",
              " ('Guardian', 42920, 42928, 'ORG'),\n",
              " ('Nemo Kim', 42931, 42939, 'PERSON'),\n",
              " ('Justin McCurry', 42944, 42958, 'PERSON'),\n",
              " ('Squid Game', 43015, 43025, 'ORG'),\n",
              " ('South Korean', 43076, 43088, 'NORP'),\n",
              " ('100%', 43130, 43134, 'PERCENT'),\n",
              " ('first', 43196, 43201, 'ORDINAL'),\n",
              " ('Koreans', 43538, 43545, 'NORP'),\n",
              " (\"The Associated Press's\", 43790, 43812, 'ORG'),\n",
              " ('Kim Tong-Hyung.[120][121', 43813, 43837, 'PERSON'),\n",
              " ('days', 44093, 44097, 'DATE'),\n",
              " ('Indiana University', 44135, 44153, 'ORG'),\n",
              " ('Jooyoung Shin.[58]Brian', 44164, 44187, 'PERSON'),\n",
              " ('Lowry', 44188, 44193, 'PERSON'),\n",
              " ('CNN', 44197, 44200, 'ORG'),\n",
              " ('Henry Wong', 44487, 44497, 'PERSON'),\n",
              " ('Guardian', 44505, 44513, 'ORG'),\n",
              " ('2019', 44549, 44553, 'DATE'),\n",
              " ('South Korean', 44554, 44566, 'NORP'),\n",
              " ('present-day', 44615, 44626, 'DATE'),\n",
              " ('South Korea', 44660, 44671, 'GPE'),\n",
              " ('Caitlyn Clark', 44740, 44753, 'PERSON'),\n",
              " ('American', 44757, 44765, 'NORP'),\n",
              " ('Jacobin', 44785, 44792, 'PERSON'),\n",
              " ('Melanie McFarland', 44929, 44946, 'PERSON'),\n",
              " ('American', 44954, 44962, 'NORP'),\n",
              " ('Salon.com', 44979, 44988, 'ORG'),\n",
              " ('American', 45097, 45105, 'NORP'),\n",
              " ('Squid Game', 45146, 45156, 'WORK_OF_ART'),\n",
              " ('Morgan Ome', 45273, 45283, 'PERSON'),\n",
              " ('Atlantic', 45291, 45299, 'LOC'),\n",
              " ('South Korean', 45347, 45359, 'NORP'),\n",
              " ('2022', 45653, 45657, 'DATE'),\n",
              " ('South Korean', 45658, 45670, 'NORP'),\n",
              " ('The Korean Confederation of Trade Unions', 45948, 45988, 'ORG'),\n",
              " ('Squid Game', 46023, 46033, 'ORG'),\n",
              " ('South Korea.[128', 46120, 46136, 'GPE'),\n",
              " ('North Korean', 46140, 46152, 'NORP'),\n",
              " (\"Arirang Meari'\", 46173, 46187, 'PERSON'),\n",
              " ('South Korea', 46250, 46261, 'GPE'),\n",
              " ('South Korean', 46315, 46327, 'NORP'),\n",
              " ('South Korea', 46415, 46426, 'GPE'),\n",
              " ('the United States', 46531, 46548, 'GPE'),\n",
              " ('Department of State', 46549, 46568, 'ORG'),\n",
              " ('Korean', 46653, 46659, 'NORP'),\n",
              " ('Korean', 46678, 46684, 'NORP'),\n",
              " ('Korean', 46819, 46825, 'NORP'),\n",
              " ('Squid Game', 46881, 46891, 'ORG'),\n",
              " ('Ali', 47025, 47028, 'PERSON'),\n",
              " ('199', 47037, 47040, 'CARDINAL'),\n",
              " ('second', 47058, 47064, 'ORDINAL'),\n",
              " ('sixth', 47203, 47208, 'ORDINAL'),\n",
              " ('Deok-su', 47242, 47249, 'PERSON'),\n",
              " ('101', 47258, 47261, 'CARDINAL'),\n",
              " ('second', 47304, 47310, 'ORDINAL'),\n",
              " ('seventh', 47382, 47389, 'ORDINAL'),\n",
              " ('Stepping Stones', 47398, 47413, 'ORG'),\n",
              " ('Mi-nyeo.[133] Sae-byeok', 47469, 47492, 'FAC'),\n",
              " ('Il-nam', 47717, 47723, 'ORG'),\n",
              " ('001', 47732, 47735, 'CARDINAL'),\n",
              " ('001', 47860, 47863, 'CARDINAL'),\n",
              " ('2014', 48016, 48020, 'DATE'),\n",
              " ('Japanese', 48021, 48029, 'NORP'),\n",
              " ('Squid Game', 48099, 48109, 'ORG'),\n",
              " ('Daruma-san ga koronda', 48166, 48187, 'ORG'),\n",
              " ('Japanese', 48193, 48201, 'NORP'),\n",
              " ('Red Light', 48213, 48222, 'ORG'),\n",
              " ('Hwang Dong-hyuk', 48287, 48302, 'PERSON'),\n",
              " ('at least 2008', 48355, 48368, 'DATE'),\n",
              " ('two', 48403, 48406, 'CARDINAL'),\n",
              " ('Japanese', 48551, 48559, 'NORP'),\n",
              " ('Battle Royale', 48592, 48605, 'ORG'),\n",
              " ('Netflix', 48675, 48682, 'ORG'),\n",
              " ('English', 48718, 48725, 'LANGUAGE'),\n",
              " ('English', 48768, 48775, 'NORP'),\n",
              " ('Korean', 48848, 48854, 'NORP'),\n",
              " ('English', 48885, 48892, 'LANGUAGE'),\n",
              " ('Jinhyun Cho', 49070, 49081, 'PERSON'),\n",
              " ('Macquarie University', 49119, 49139, 'ORG'),\n",
              " ('Korean', 49173, 49179, 'NORP'),\n",
              " ('Korean', 49277, 49283, 'NORP'),\n",
              " ('Squid Game', 49521, 49531, 'ORG'),\n",
              " ('Cho', 49533, 49536, 'PERSON'),\n",
              " ('Ali', 49573, 49576, 'PERSON'),\n",
              " ('hyung', 49589, 49594, 'PERSON'),\n",
              " ('Korean', 49598, 49604, 'NORP'),\n",
              " ('one', 49637, 49640, 'CARDINAL'),\n",
              " ('Ali', 49753, 49756, 'PERSON'),\n",
              " ('first', 49783, 49788, 'ORDINAL'),\n",
              " ('hyung', 49845, 49850, 'PERSON'),\n",
              " ('English', 49856, 49863, 'LANGUAGE'),\n",
              " ('Netflix', 50039, 50046, 'ORG'),\n",
              " ('Haeil', 50330, 50335, 'ORG'),\n",
              " ('Korea', 50364, 50369, 'GPE'),\n",
              " ('Korea', 50471, 50476, 'GPE'),\n",
              " ('Asian', 50604, 50609, 'NORP'),\n",
              " ('Ali', 50636, 50639, 'PERSON'),\n",
              " ('Pakistan', 50663, 50671, 'GPE'),\n",
              " ('second', 50711, 50717, 'ORDINAL'),\n",
              " ('South Korea', 50740, 50751, 'GPE'),\n",
              " ('Ali', 50771, 50774, 'PERSON'),\n",
              " ('country.[144][145]American', 50889, 50915, 'NORP'),\n",
              " ('Ben Shapiro', 50951, 50962, 'PERSON'),\n",
              " ('Tim Pool', 51117, 51125, 'PERSON'),\n",
              " ('If Squid Game', 51403, 51416, 'WORK_OF_ART'),\n",
              " ('Squid Game.[146]Public responseSquid Game', 51587, 51628, 'ORG'),\n",
              " ('fromSquid Game', 51667, 51681, 'PERSON'),\n",
              " ('South Korean', 51756, 51768, 'NORP'),\n",
              " ('the late 2010s', 51813, 51827, 'DATE'),\n",
              " ('Netflix', 51974, 51981, 'ORG'),\n",
              " ('YouTube', 51986, 51993, 'ORG'),\n",
              " ('South Korean', 52002, 52014, 'NORP'),\n",
              " ('Choe Sang-Hun', 52139, 52152, 'PERSON'),\n",
              " ('The New York Times', 52156, 52174, 'ORG'),\n",
              " ('South Korean', 52176, 52188, 'NORP'),\n",
              " ('the weeks', 52406, 52415, 'DATE'),\n",
              " ('Squid Game', 52422, 52432, 'ORG'),\n",
              " ('Jung Ho-yeon', 52444, 52456, 'PERSON'),\n",
              " ('about 400,000', 52502, 52515, 'CARDINAL'),\n",
              " ('three weeks', 52548, 52559, 'DATE'),\n",
              " ('Squid Game', 52566, 52576, 'ORG'),\n",
              " ('over 23.5 million', 52606, 52623, 'CARDINAL'),\n",
              " ('November 2021.[149', 52627, 52645, 'DATE'),\n",
              " ('October 2021', 52650, 52662, 'DATE'),\n",
              " ('Louis Vuitton', 52682, 52695, 'PERSON'),\n",
              " ('Jung Ho-Yeon', 52706, 52718, 'PERSON'),\n",
              " ('Nicolas Ghesquière', 52803, 52821, 'PERSON'),\n",
              " (\"Ho-Yeon's\", 52861, 52870, 'PERSON'),\n",
              " ('Korean', 52991, 52997, 'NORP'),\n",
              " ('Squid Game', 53024, 53034, 'ORG'),\n",
              " ('Hwang', 53324, 53329, 'PERSON'),\n",
              " ('the months', 53367, 53377, 'DATE'),\n",
              " ('Jung', 53400, 53404, 'PERSON'),\n",
              " ('first', 53415, 53420, 'ORDINAL'),\n",
              " ('Creative Artists Agency', 53437, 53460, 'ORG'),\n",
              " ('mid-November', 53464, 53476, 'DATE'),\n",
              " ('South Korea', 53490, 53501, 'GPE'),\n",
              " ('Squid Game', 53521, 53531, 'ORG'),\n",
              " ('Netflix', 53618, 53625, 'ORG'),\n",
              " ('One', 53745, 53748, 'CARDINAL'),\n",
              " ('up to 4,000', 53841, 53852, 'CARDINAL'),\n",
              " ('each day', 53859, 53867, 'DATE'),\n",
              " ('Netflix', 53951, 53958, 'ORG'),\n",
              " ('second', 54073, 54079, 'ORDINAL'),\n",
              " ('Korea', 54098, 54103, 'GPE'),\n",
              " ('the weeks', 54284, 54293, 'DATE'),\n",
              " ('Vans', 54338, 54342, 'PERSON'),\n",
              " ('7,800%', 54373, 54379, 'PERCENT'),\n",
              " ('Halloween', 54447, 54456, 'DATE'),\n",
              " ('the show.[157][158][159] Vendors', 54478, 54510, 'ORG'),\n",
              " ('Halloween', 54630, 54639, 'DATE'),\n",
              " ('South Korea', 54700, 54711, 'GPE'),\n",
              " ('Squid Game', 54815, 54825, 'ORG'),\n",
              " ('Squid Game', 54947, 54957, 'ORG'),\n",
              " ('the first month', 54961, 54976, 'DATE'),\n",
              " ('broadcast.[94] Analytics', 54983, 55007, 'ORG'),\n",
              " ('November 2021', 55035, 55048, 'DATE'),\n",
              " ('Squid Game', 55059, 55069, 'ORG'),\n",
              " ('YouTube', 55088, 55095, 'ORG'),\n",
              " ('17 billion', 55110, 55120, 'CARDINAL'),\n",
              " ('October 16, 2021', 55173, 55189, 'DATE'),\n",
              " ('American', 55209, 55217, 'NORP'),\n",
              " ('late-night', 55218, 55228, 'TIME'),\n",
              " ('Saturday Night Live', 55276, 55295, 'WORK_OF_ART'),\n",
              " ('Rami Malek', 55318, 55328, 'PERSON'),\n",
              " ('Pete Davidson', 55345, 55358, 'PERSON'),\n",
              " ('Squid Game', 55369, 55379, 'PERSON'),\n",
              " ('November 5, 2021', 55430, 55446, 'DATE'),\n",
              " ('9.6 million', 55466, 55477, 'CARDINAL'),\n",
              " (\"Saturday Night Live's\", 55487, 55508, 'WORK_OF_ART'),\n",
              " ('November 2021', 55539, 55552, 'DATE'),\n",
              " ('American', 55554, 55562, 'NORP'),\n",
              " ('456', 55639, 55642, 'CARDINAL'),\n",
              " ('456,000', 55666, 55673, 'MONEY'),\n",
              " ('Gita Jackson', 55811, 55823, 'PERSON'),\n",
              " ('Squid Game', 55913, 55923, 'ORG'),\n",
              " ('Squid Game', 56152, 56162, 'ORG'),\n",
              " ('first', 56201, 56206, 'ORDINAL'),\n",
              " ('Red Light', 56208, 56217, 'WORK_OF_ART'),\n",
              " ('second', 56245, 56251, 'ORDINAL'),\n",
              " ('Roblox', 56342, 56348, 'PRODUCT'),\n",
              " ('Fortnite Creative', 56350, 56367, 'ORG'),\n",
              " ('Grand Theft Auto Online', 56373, 56396, 'ORG'),\n",
              " ('one', 56461, 56464, 'CARDINAL'),\n",
              " ('Crab Game', 56537, 56546, 'ORG'),\n",
              " (\"Squid Game's\", 56579, 56591, 'ORG'),\n",
              " ('Squid Game', 56656, 56666, 'ORG'),\n",
              " ('the United Kingdom', 56934, 56952, 'GPE'),\n",
              " ('Squid Game', 57070, 57080, 'ORG'),\n",
              " ('Quebec', 57180, 57186, 'GPE'),\n",
              " ('Canada', 57188, 57194, 'GPE'),\n",
              " ('New York', 57254, 57262, 'GPE'),\n",
              " ('Squid Game', 57318, 57328, 'ORG'),\n",
              " ('Youku', 57457, 57462, 'ORG'),\n",
              " ('October 2021', 57482, 57494, 'DATE'),\n",
              " ('2022', 57539, 57543, 'DATE'),\n",
              " ('Victory of Squid', 57580, 57596, 'WORK_OF_ART'),\n",
              " ('Chinese', 57624, 57631, 'NORP'),\n",
              " ('Squid Game', 57712, 57722, 'ORG'),\n",
              " ('Youku', 57835, 57840, 'PERSON'),\n",
              " ('Game', 57922, 57926, 'PERSON'),\n",
              " ('SQUID', 58041, 58046, 'ORG'),\n",
              " ('late October 2021', 58076, 58093, 'DATE'),\n",
              " ('Squid Game', 58232, 58242, 'ORG'),\n",
              " ('over 2,300%', 58452, 58463, 'PERCENT'),\n",
              " ('a day', 58471, 58476, 'DATE'),\n",
              " ('BBC', 58521, 58524, 'ORG'),\n",
              " ('November 1, 2021', 58637, 58653, 'DATE'),\n",
              " ('2.1', 58761, 58764, 'MONEY'),\n",
              " ('million.[182]YouTuber', 58765, 58786, 'ORG'),\n",
              " ('Yogscast', 58805, 58813, 'PRODUCT'),\n",
              " ('Lydia Ellery', 58845, 58857, 'PERSON'),\n",
              " ('Squid Game', 58885, 58895, 'WORK_OF_ART'),\n",
              " ('SquidGaming', 58902, 58913, 'WORK_OF_ART'),\n",
              " ('11 years', 58919, 58927, 'DATE'),\n",
              " ('Squid Game', 59058, 59068, 'ORG'),\n",
              " ('first', 59242, 59247, 'ORDINAL'),\n",
              " ('nine', 59258, 59262, 'CARDINAL'),\n",
              " ('Hwang', 59281, 59286, 'PERSON'),\n",
              " ('Hwang', 59553, 59558, 'PERSON'),\n",
              " ('a second season', 59597, 59612, 'DATE'),\n",
              " ('CNN', 59622, 59625, 'ORG'),\n",
              " ('Hwang', 59743, 59748, 'PERSON'),\n",
              " ('The Times', 59775, 59784, 'ORG'),\n",
              " ('second', 59792, 59798, 'ORDINAL'),\n",
              " ('the Front Man', 59837, 59850, 'PRODUCT'),\n",
              " ('Hwang', 59899, 59904, 'PERSON'),\n",
              " ('Korea', 59974, 59979, 'GPE'),\n",
              " ('Front Man', 60277, 60286, 'WORK_OF_ART'),\n",
              " ('Hwang Jun-ho', 60313, 60325, 'PERSON'),\n",
              " ('Gong Yoo', 60393, 60401, 'PERSON'),\n",
              " ('cameo).[185]In', 60405, 60419, 'ORG'),\n",
              " ('late October 2021', 60420, 60437, 'DATE'),\n",
              " ('Hwang', 60439, 60444, 'PERSON'),\n",
              " ('Netflix', 60479, 60486, 'ORG'),\n",
              " ('first', 60541, 60546, 'ORDINAL'),\n",
              " ('Netflix', 60592, 60599, 'ORG'),\n",
              " ('Squid Game', 60661, 60671, 'ORG'),\n",
              " ('Squid Game', 60727, 60737, 'ORG'),\n",
              " ('Hwang', 60751, 60756, 'PERSON'),\n",
              " ('a second season', 60811, 60826, 'DATE'),\n",
              " ('November 2021', 60863, 60876, 'DATE'),\n",
              " ('Lee Jung-jae', 60903, 60915, 'PERSON'),\n",
              " ('Netflix', 60952, 60959, 'ORG'),\n",
              " ('Hwang', 60982, 60987, 'PERSON'),\n",
              " ('a second season', 61041, 61056, 'DATE'),\n",
              " ('Hwang', 61086, 61091, 'PERSON')]"
            ]
          },
          "execution_count": 19,
          "metadata": {},
          "output_type": "execute_result"
        }
      ],
      "source": [
        "ents_article = []\n",
        "\n",
        "for e in doc.ents:\n",
        "    ents_article.append((e.text, e.start_char,e.end_char,e.label_))\n",
        "    \n",
        "ents_article"
      ]
    },
    {
      "cell_type": "code",
      "execution_count": 20,
      "metadata": {},
      "outputs": [],
      "source": [
        "df = pd.DataFrame(ents_article, columns=['text','start','end','entity'])"
      ]
    },
    {
      "cell_type": "code",
      "execution_count": 21,
      "metadata": {},
      "outputs": [
        {
          "data": {
            "text/html": [
              "<div>\n",
              "<style scoped>\n",
              "    .dataframe tbody tr th:only-of-type {\n",
              "        vertical-align: middle;\n",
              "    }\n",
              "\n",
              "    .dataframe tbody tr th {\n",
              "        vertical-align: top;\n",
              "    }\n",
              "\n",
              "    .dataframe thead th {\n",
              "        text-align: right;\n",
              "    }\n",
              "</style>\n",
              "<table border=\"1\" class=\"dataframe\">\n",
              "  <thead>\n",
              "    <tr style=\"text-align: right;\">\n",
              "      <th></th>\n",
              "      <th>text</th>\n",
              "      <th>start</th>\n",
              "      <th>end</th>\n",
              "      <th>entity</th>\n",
              "    </tr>\n",
              "  </thead>\n",
              "  <tbody>\n",
              "    <tr>\n",
              "      <th>0</th>\n",
              "      <td>2021</td>\n",
              "      <td>0</td>\n",
              "      <td>4</td>\n",
              "      <td>CARDINAL</td>\n",
              "    </tr>\n",
              "    <tr>\n",
              "      <th>1</th>\n",
              "      <td>South Korean</td>\n",
              "      <td>5</td>\n",
              "      <td>17</td>\n",
              "      <td>NORP</td>\n",
              "    </tr>\n",
              "    <tr>\n",
              "      <th>2</th>\n",
              "      <td>Netflix</td>\n",
              "      <td>76</td>\n",
              "      <td>83</td>\n",
              "      <td>ORG</td>\n",
              "    </tr>\n",
              "    <tr>\n",
              "      <th>3</th>\n",
              "      <td>Korean</td>\n",
              "      <td>111</td>\n",
              "      <td>117</td>\n",
              "      <td>NORP</td>\n",
              "    </tr>\n",
              "    <tr>\n",
              "      <th>4</th>\n",
              "      <td>Squids</td>\n",
              "      <td>178</td>\n",
              "      <td>184</td>\n",
              "      <td>NORP</td>\n",
              "    </tr>\n",
              "  </tbody>\n",
              "</table>\n",
              "</div>"
            ],
            "text/plain": [
              "           text  start  end    entity\n",
              "0          2021      0    4  CARDINAL\n",
              "1  South Korean      5   17      NORP\n",
              "2       Netflix     76   83       ORG\n",
              "3        Korean    111  117      NORP\n",
              "4        Squids    178  184      NORP"
            ]
          },
          "execution_count": 21,
          "metadata": {},
          "output_type": "execute_result"
        }
      ],
      "source": [
        "df.head()"
      ]
    },
    {
      "cell_type": "code",
      "execution_count": 22,
      "metadata": {},
      "outputs": [
        {
          "data": {
            "text/plain": [
              "PERSON         225\n",
              "ORG            163\n",
              "CARDINAL       135\n",
              "DATE           117\n",
              "NORP            70\n",
              "GPE             57\n",
              "WORK_OF_ART     46\n",
              "ORDINAL         33\n",
              "TIME            10\n",
              "MONEY            9\n",
              "LOC              6\n",
              "PRODUCT          6\n",
              "PERCENT          5\n",
              "FAC              4\n",
              "LANGUAGE         4\n",
              "EVENT            3\n",
              "QUANTITY         3\n",
              "LAW              2\n",
              "Name: entity, dtype: int64"
            ]
          },
          "execution_count": 22,
          "metadata": {},
          "output_type": "execute_result"
        }
      ],
      "source": [
        "counts = df.entity.value_counts()\n",
        "counts"
      ]
    },
    {
      "cell_type": "code",
      "execution_count": 24,
      "metadata": {},
      "outputs": [
        {
          "data": {
            "text/plain": [
              "<AxesSubplot:>"
            ]
          },
          "execution_count": 24,
          "metadata": {},
          "output_type": "execute_result"
        },
        {
          "data": {
            "image/png": "[encoded data removed]",
            "text/plain": [
              "<Figure size 432x288 with 1 Axes>"
            ]
          },
          "metadata": {
            "needs_background": "light"
          },
          "output_type": "display_data"
        }
      ],
      "source": [
        "counts.sort_values().plot(kind='barh')"
      ]
    },
    {
      "cell_type": "code",
      "execution_count": null,
      "metadata": {
        "id": "Ubie_jaqRmkL"
      },
      "outputs": [],
      "source": [
        "############################################ Word/Doc Vectors\n",
        "##\n",
        "##"
      ]
    },
    {
      "cell_type": "code",
      "execution_count": 25,
      "metadata": {
        "id": "2SP4rmYARpvR"
      },
      "outputs": [],
      "source": [
        "# lets review a simple document\n",
        "tweet = 'That movie from email@email.com was 🔥! We can review it at www.bu.edu.'"
      ]
    },
    {
      "cell_type": "code",
      "execution_count": 26,
      "metadata": {
        "id": "VadxUj8NSpv4"
      },
      "outputs": [
        {
          "data": {
            "text/plain": [
              "['tok2vec', 'tagger', 'parser', 'attribute_ruler', 'lemmatizer', 'ner']"
            ]
          },
          "execution_count": 26,
          "metadata": {},
          "output_type": "execute_result"
        }
      ],
      "source": [
        "# spacy is a pipeline\n",
        "nlp.pipe_names"
      ]
    },
    {
      "cell_type": "code",
      "execution_count": 28,
      "metadata": {},
      "outputs": [
        {
          "data": {
            "text/plain": [
              "That movie from email@email.com was 🔥! We can review it at www.bu.edu."
            ]
          },
          "execution_count": 28,
          "metadata": {},
          "output_type": "execute_result"
        }
      ],
      "source": [
        "doc = nlp(tweet)\n",
        "doc"
      ]
    },
    {
      "cell_type": "code",
      "execution_count": 29,
      "metadata": {
        "id": "gNG6EJaGR3Yk"
      },
      "outputs": [
        {
          "data": {
            "text/plain": [
              "That"
            ]
          },
          "execution_count": 29,
          "metadata": {},
          "output_type": "execute_result"
        }
      ],
      "source": [
        "# remember, we can slice up docs into tokens/spans\n",
        "token = doc[0]\n",
        "token"
      ]
    },
    {
      "cell_type": "code",
      "execution_count": 30,
      "metadata": {},
      "outputs": [
        {
          "data": {
            "text/plain": [
              "spacy.tokens.token.Token"
            ]
          },
          "execution_count": 30,
          "metadata": {},
          "output_type": "execute_result"
        }
      ],
      "source": [
        "type(token)"
      ]
    },
    {
      "cell_type": "code",
      "execution_count": 31,
      "metadata": {},
      "outputs": [
        {
          "data": {
            "text/plain": [
              "True"
            ]
          },
          "execution_count": 31,
          "metadata": {},
          "output_type": "execute_result"
        }
      ],
      "source": [
        "token.is_alpha"
      ]
    },
    {
      "cell_type": "code",
      "execution_count": null,
      "metadata": {
        "id": "ygD_K_vRSLYP"
      },
      "outputs": [],
      "source": [
        "# tokens have all sorts of attributes that were learned\n"
      ]
    },
    {
      "cell_type": "code",
      "execution_count": null,
      "metadata": {
        "id": "8ip4s9EOwVsR"
      },
      "outputs": [],
      "source": [
        "# worth noting, a document can be comprised of sentences\n",
        "# remember that we used to download punkt from nltk?\n",
        "# that was a sentence tokenizer (divide into sentences)\n",
        "# spacy has this built in\n"
      ]
    },
    {
      "cell_type": "code",
      "execution_count": null,
      "metadata": {
        "id": "ah9YNbSbUfZ_"
      },
      "outputs": [],
      "source": []
    },
    {
      "cell_type": "code",
      "execution_count": null,
      "metadata": {
        "id": "ORlTu0bUSlSt"
      },
      "outputs": [],
      "source": [
        "####################################### quick departure\n",
        "# above we checked against spacy's learned vocabulary\n",
        "# this is a check to see if a token is out-of-vocabulary (OOV)\n",
        "\n",
        "# model reviews:\n",
        "# https://spacy.io/usage/models\n"
      ]
    },
    {
      "cell_type": "code",
      "execution_count": 32,
      "metadata": {
        "id": "QTCeTza4UTHV"
      },
      "outputs": [
        {
          "data": {
            "text/plain": [
              "(20000, 300)"
            ]
          },
          "execution_count": 32,
          "metadata": {},
          "output_type": "execute_result"
        }
      ],
      "source": [
        "# this is just for reference\n",
        "# \n",
        "\n",
        "v = nlp.vocab.vectors\n",
        "v.shape"
      ]
    },
    {
      "cell_type": "code",
      "execution_count": 34,
      "metadata": {
        "id": "skGk_-OZV7tk"
      },
      "outputs": [
        {
          "data": {
            "text/plain": [
              "'golf'"
            ]
          },
          "execution_count": 34,
          "metadata": {},
          "output_type": "execute_result"
        }
      ],
      "source": [
        "# spacy stores text and tokens effeciently \n",
        "# https://spacy.io/usage/spacy-101#vocab\n",
        "\n",
        "# spacy provides a way to lookup the vectors\n",
        "nlp.vocab.strings[\"golf\"]\n",
        "\n",
        "# and we can reverse\n",
        "nlp.vocab.strings[18149141486079540445]\n",
        "\n",
        "## spacy is very flexible, and while vectors can be added and edited, \n",
        "## we can just include our own, which we will do later"
      ]
    },
    {
      "cell_type": "code",
      "execution_count": null,
      "metadata": {
        "id": "BGO7Kbw0W3oT"
      },
      "outputs": [],
      "source": [
        "#######################################  Vectors/Embeddings\n",
        "##\n",
        "## You have heard me use this term quite a bit\n",
        "## we have seen this via PCA ----> take a large feature space and re-represent this in a new space\n",
        "##     the goal was to encode information and reduce noise, right?\n",
        "##\n",
        "## we saw this in Tsne (2 embeddings) and UMAP (can be 2 or more depending on our needs)\n",
        "## \n",
        "## \n",
        "## Well in text, we have the same idea\n",
        "## we could always use the tools above, but there this is a \"hot\" field right now -> embeddings\n"
      ]
    },
    {
      "cell_type": "markdown",
      "metadata": {
        "id": "LVvzSQikp_3C"
      },
      "source": [
        "\n",
        "\n",
        "![](https://miro.medium.com/max/2224/0*K5a1Ws_nsbEjhbYk.png)\n",
        "\n",
        "> Above we can see words can be represented in these highly dimensional spaces.  The aim is to encapsulate context.  Remember bag-of-words removes sequence/order!\n",
        "\n",
        "\n",
        "![](https://jalammar.github.io/images/word2vec/king-analogy-viz.png)"
      ]
    },
    {
      "cell_type": "markdown",
      "metadata": {
        "id": "vR9YLRNw5xiu"
      },
      "source": [
        "![](https://miro.medium.com/max/1400/1*cuOmGT7NevP9oJFJfVpRKA.png)\n"
      ]
    },
    {
      "cell_type": "code",
      "execution_count": 54,
      "metadata": {
        "id": "HieVHB46p_7E"
      },
      "outputs": [],
      "source": [
        "# get some vectors\n",
        "\n",
        "king = nlp(\"king\").vector\n",
        "man = nlp(\"man\").vector\n",
        "woman = nlp(\"woman\").vector\n",
        "queen = nlp(\"queen\").vector\n",
        "jester = nlp(\"jester\").vector\n",
        "court = nlp(\"court\").vector\n",
        "golf = nlp(\"golf\").vector"
      ]
    },
    {
      "cell_type": "code",
      "execution_count": 55,
      "metadata": {
        "id": "K6Kk2FdBuz1D"
      },
      "outputs": [
        {
          "data": {
            "text/plain": [
              "(300,)"
            ]
          },
          "execution_count": 55,
          "metadata": {},
          "output_type": "execute_result"
        }
      ],
      "source": [
        "# what do we have\n",
        "king.shape"
      ]
    },
    {
      "cell_type": "code",
      "execution_count": 56,
      "metadata": {
        "id": "mUiSy-5nu3VJ"
      },
      "outputs": [
        {
          "data": {
            "text/plain": [
              "array([ 0.31542, -0.35068,  0.42923, -0.53825, -0.1848 ], dtype=float32)"
            ]
          },
          "execution_count": 56,
          "metadata": {},
          "output_type": "execute_result"
        }
      ],
      "source": [
        "# a quick preview\n",
        "king[:5]"
      ]
    },
    {
      "cell_type": "code",
      "execution_count": 57,
      "metadata": {
        "id": "Re4xOhrnp_9-"
      },
      "outputs": [
        {
          "data": {
            "text/plain": [
              "array([ 0.514087  , -0.27846   ,  0.242767  ,  0.04548997, -0.259425  ],\n",
              "      dtype=float32)"
            ]
          },
          "execution_count": 57,
          "metadata": {},
          "output_type": "execute_result"
        }
      ],
      "source": [
        "# some math\n",
        "test = king - man + woman\n",
        "test[:5]"
      ]
    },
    {
      "cell_type": "code",
      "execution_count": 58,
      "metadata": {
        "id": "bOUSqmHxqAAi"
      },
      "outputs": [
        {
          "data": {
            "text/plain": [
              "(4, 300)"
            ]
          },
          "execution_count": 58,
          "metadata": {},
          "output_type": "execute_result"
        }
      ],
      "source": [
        "# the comparison set\n",
        "\n",
        "lookups = np.stack([queen, jester, court, golf])\n",
        "lookups.shape"
      ]
    },
    {
      "cell_type": "code",
      "execution_count": 59,
      "metadata": {
        "id": "-C1o3KZGqACp"
      },
      "outputs": [
        {
          "data": {
            "text/plain": [
              "(1, 300)"
            ]
          },
          "execution_count": 59,
          "metadata": {},
          "output_type": "execute_result"
        }
      ],
      "source": [
        "# we can use cdist manually\n",
        "comp_list = ['queen', 'jester', 'court', 'golf']\n",
        "\n",
        "# the test calc needs to be 2-d\n",
        "test = np.expand_dims(test, 0)\n",
        "\n",
        "test.shape"
      ]
    },
    {
      "cell_type": "code",
      "execution_count": 60,
      "metadata": {
        "id": "7xxGesdmqAFI"
      },
      "outputs": [],
      "source": [
        "# the comps -- cdist expected test to be 2d, so we used expand dims above\n",
        "comps = cdist(test, lookups, metric=\"cosine\")"
      ]
    },
    {
      "cell_type": "code",
      "execution_count": 61,
      "metadata": {
        "id": "3UVEpcDWZiog"
      },
      "outputs": [
        {
          "data": {
            "text/plain": [
              "<AxesSubplot:>"
            ]
          },
          "execution_count": 61,
          "metadata": {},
          "output_type": "execute_result"
        },
        {
          "data": {
            "image/png": "[encoded data removed]",
            "text/plain": [
              "<Figure size 432x288 with 1 Axes>"
            ]
          },
          "metadata": {
            "needs_background": "light"
          },
          "output_type": "display_data"
        }
      ],
      "source": [
        "# lets plot the distances as a barplot\n",
        "sns.barplot(x=comp_list, y=comps[0])\n"
      ]
    },
    {
      "cell_type": "code",
      "execution_count": null,
      "metadata": {
        "id": "65pnrz-6ymLT"
      },
      "outputs": [],
      "source": [
        "# so what did we see\n",
        "# it was a small test, but conceptually we saw how these vectors can be compared\n",
        "# we used distance to compare the numeric vectors and manually find the most similar\n",
        "# contrived example, but sets up the concepts"
      ]
    },
    {
      "cell_type": "code",
      "execution_count": null,
      "metadata": {
        "id": "h1bjlLl_0sRt"
      },
      "outputs": [],
      "source": [
        "# there are some great toolkits that have been created\n",
        "# to breakdown and explore all sorts of embeddings\n",
        "\n",
        "# lots you can do here, but from some of the dev rel folks at rasa, which\n",
        "# we will briefly see next class!\n",
        "# https://github.com/RasaHQ/whatlies"
      ]
    },
    {
      "cell_type": "code",
      "execution_count": 62,
      "metadata": {
        "id": "V4o0F2cI03Ds"
      },
      "outputs": [
        {
          "data": {
            "text/plain": [
              "That movie from email@email.com was 🔥! We can review it at www.bu.edu."
            ]
          },
          "execution_count": 62,
          "metadata": {},
          "output_type": "execute_result"
        }
      ],
      "source": [
        "## let's go back to the tweet\n",
        "doc"
      ]
    },
    {
      "cell_type": "code",
      "execution_count": 63,
      "metadata": {},
      "outputs": [
        {
          "data": {
            "text/plain": [
              "[('That', False),\n",
              " ('movie', False),\n",
              " ('from', False),\n",
              " ('email@email.com', True),\n",
              " ('was', False),\n",
              " ('🔥', True),\n",
              " ('!', False),\n",
              " ('We', False),\n",
              " ('can', False),\n",
              " ('review', False),\n",
              " ('it', False),\n",
              " ('at', False),\n",
              " ('www.bu.edu', True),\n",
              " ('.', False)]"
            ]
          },
          "execution_count": 63,
          "metadata": {},
          "output_type": "execute_result"
        }
      ],
      "source": [
        "[(token.text, token.is_oov) for token in doc]"
      ]
    },
    {
      "cell_type": "code",
      "execution_count": 64,
      "metadata": {},
      "outputs": [],
      "source": [
        "fire = nlp('🔥')"
      ]
    },
    {
      "cell_type": "code",
      "execution_count": 65,
      "metadata": {},
      "outputs": [
        {
          "data": {
            "text/plain": [
              "array([0., 0., 0., 0., 0., 0., 0., 0., 0., 0., 0., 0., 0., 0., 0., 0., 0.,\n",
              "       0., 0., 0., 0., 0., 0., 0., 0., 0., 0., 0., 0., 0., 0., 0., 0., 0.,\n",
              "       0., 0., 0., 0., 0., 0., 0., 0., 0., 0., 0., 0., 0., 0., 0., 0., 0.,\n",
              "       0., 0., 0., 0., 0., 0., 0., 0., 0., 0., 0., 0., 0., 0., 0., 0., 0.,\n",
              "       0., 0., 0., 0., 0., 0., 0., 0., 0., 0., 0., 0., 0., 0., 0., 0., 0.,\n",
              "       0., 0., 0., 0., 0., 0., 0., 0., 0., 0., 0., 0., 0., 0., 0., 0., 0.,\n",
              "       0., 0., 0., 0., 0., 0., 0., 0., 0., 0., 0., 0., 0., 0., 0., 0., 0.,\n",
              "       0., 0., 0., 0., 0., 0., 0., 0., 0., 0., 0., 0., 0., 0., 0., 0., 0.,\n",
              "       0., 0., 0., 0., 0., 0., 0., 0., 0., 0., 0., 0., 0., 0., 0., 0., 0.,\n",
              "       0., 0., 0., 0., 0., 0., 0., 0., 0., 0., 0., 0., 0., 0., 0., 0., 0.,\n",
              "       0., 0., 0., 0., 0., 0., 0., 0., 0., 0., 0., 0., 0., 0., 0., 0., 0.,\n",
              "       0., 0., 0., 0., 0., 0., 0., 0., 0., 0., 0., 0., 0., 0., 0., 0., 0.,\n",
              "       0., 0., 0., 0., 0., 0., 0., 0., 0., 0., 0., 0., 0., 0., 0., 0., 0.,\n",
              "       0., 0., 0., 0., 0., 0., 0., 0., 0., 0., 0., 0., 0., 0., 0., 0., 0.,\n",
              "       0., 0., 0., 0., 0., 0., 0., 0., 0., 0., 0., 0., 0., 0., 0., 0., 0.,\n",
              "       0., 0., 0., 0., 0., 0., 0., 0., 0., 0., 0., 0., 0., 0., 0., 0., 0.,\n",
              "       0., 0., 0., 0., 0., 0., 0., 0., 0., 0., 0., 0., 0., 0., 0., 0., 0.,\n",
              "       0., 0., 0., 0., 0., 0., 0., 0., 0., 0., 0.], dtype=float32)"
            ]
          },
          "execution_count": 65,
          "metadata": {},
          "output_type": "execute_result"
        }
      ],
      "source": [
        "# get the vectors\n",
        "fire.vector"
      ]
    },
    {
      "cell_type": "code",
      "execution_count": 66,
      "metadata": {
        "id": "SeIpB2fs2oBi"
      },
      "outputs": [
        {
          "data": {
            "text/plain": [
              "array([0., 0., 0., 0., 0., 0., 0., 0., 0., 0., 0., 0., 0., 0., 0., 0., 0.,\n",
              "       0., 0., 0., 0., 0., 0., 0., 0., 0., 0., 0., 0., 0., 0., 0., 0., 0.,\n",
              "       0., 0., 0., 0., 0., 0., 0., 0., 0., 0., 0., 0., 0., 0., 0., 0., 0.,\n",
              "       0., 0., 0., 0., 0., 0., 0., 0., 0., 0., 0., 0., 0., 0., 0., 0., 0.,\n",
              "       0., 0., 0., 0., 0., 0., 0., 0., 0., 0., 0., 0., 0., 0., 0., 0., 0.,\n",
              "       0., 0., 0., 0., 0., 0., 0., 0., 0., 0., 0., 0., 0., 0., 0., 0., 0.,\n",
              "       0., 0., 0., 0., 0., 0., 0., 0., 0., 0., 0., 0., 0., 0., 0., 0., 0.,\n",
              "       0., 0., 0., 0., 0., 0., 0., 0., 0., 0., 0., 0., 0., 0., 0., 0., 0.,\n",
              "       0., 0., 0., 0., 0., 0., 0., 0., 0., 0., 0., 0., 0., 0., 0., 0., 0.,\n",
              "       0., 0., 0., 0., 0., 0., 0., 0., 0., 0., 0., 0., 0., 0., 0., 0., 0.,\n",
              "       0., 0., 0., 0., 0., 0., 0., 0., 0., 0., 0., 0., 0., 0., 0., 0., 0.,\n",
              "       0., 0., 0., 0., 0., 0., 0., 0., 0., 0., 0., 0., 0., 0., 0., 0., 0.,\n",
              "       0., 0., 0., 0., 0., 0., 0., 0., 0., 0., 0., 0., 0., 0., 0., 0., 0.,\n",
              "       0., 0., 0., 0., 0., 0., 0., 0., 0., 0., 0., 0., 0., 0., 0., 0., 0.,\n",
              "       0., 0., 0., 0., 0., 0., 0., 0., 0., 0., 0., 0., 0., 0., 0., 0., 0.,\n",
              "       0., 0., 0., 0., 0., 0., 0., 0., 0., 0., 0., 0., 0., 0., 0., 0., 0.,\n",
              "       0., 0., 0., 0., 0., 0., 0., 0., 0., 0., 0., 0., 0., 0., 0., 0., 0.,\n",
              "       0., 0., 0., 0., 0., 0., 0., 0., 0., 0., 0.], dtype=float32)"
            ]
          },
          "execution_count": 66,
          "metadata": {},
          "output_type": "execute_result"
        }
      ],
      "source": [
        "# what do we get for a token that is OOV? -- out of vocabulary\n",
        "\n",
        "nlp('🔥').vector"
      ]
    },
    {
      "cell_type": "code",
      "execution_count": null,
      "metadata": {
        "id": "XZ3OYN-82wA0"
      },
      "outputs": [],
      "source": [
        "## what do you notice?\n",
        "## this is a convention of spacy\n",
        "## for OOV tokens, spacy doesn't fail, it simply returns an array of zeroes"
      ]
    },
    {
      "cell_type": "code",
      "execution_count": 70,
      "metadata": {
        "id": "IfZlU5WZ29cZ"
      },
      "outputs": [],
      "source": [
        "dv = doc.vector"
      ]
    },
    {
      "cell_type": "code",
      "execution_count": 71,
      "metadata": {
        "id": "YnQWy9j-3MhY"
      },
      "outputs": [
        {
          "data": {
            "text/plain": [
              "True"
            ]
          },
          "execution_count": 71,
          "metadata": {},
          "output_type": "execute_result"
        }
      ],
      "source": [
        "# how do we think the doc vector is constructed?\n",
        "vecs = []\n",
        "for token in doc:\n",
        "  vecs.append(token.vector)\n",
        "\n",
        "# make it a numpy array\n",
        "va = np.array(vecs)\n",
        "\n",
        "vam = va.mean(axis=0)\n",
        "vam.shape\n",
        "\n",
        "# compare\n",
        "np.all(vam == dv)"
      ]
    },
    {
      "cell_type": "code",
      "execution_count": null,
      "metadata": {
        "id": "ifpZAuKW3yD1"
      },
      "outputs": [],
      "source": [
        "# remember spans?\n",
        "# same still applies - token vectors are averaged over the docs and spans to represent the document"
      ]
    },
    {
      "cell_type": "code",
      "execution_count": null,
      "metadata": {
        "id": "fNfB1bGXF9X3"
      },
      "outputs": [],
      "source": []
    },
    {
      "cell_type": "code",
      "execution_count": null,
      "metadata": {
        "id": "6rb-RP5G4aI7"
      },
      "outputs": [],
      "source": [
        "#######################################  YOUR TURN\n",
        "## \n",
        "## scrape the text from the three articles from the URLs below\n",
        "## generate the doc vectors\n",
        "## what is the most similar article to URL1 via cosine distance?\n",
        "#\n",
        "# URL1 = \"https://www.boston.com/weather/weather/2021/11/26/boston-ma-snow-forecast-friday-nov-26-2021/\"\n",
        "# URL2 = \"https://www.sportingnews.com/us/fantasy/news/nfl-week-12-weather-updates-lack-of-rain-wind-snow-in-forecast-eases-fantasy-football-start-em-sit-em-decisions/lueadzpkttxa1l2nzyr70hr18\"\n",
        "# URL3 = \"https://www.marketwatch.com/story/the-u-s-stock-market-suffers-ugly-black-friday-selloff-here-are-the-biggest-losers-and-winners-11637952898\"\n",
        "## \n"
      ]
    },
    {
      "cell_type": "code",
      "execution_count": null,
      "metadata": {
        "id": "rm0CeBWf8eZy"
      },
      "outputs": [],
      "source": []
    },
    {
      "cell_type": "code",
      "execution_count": null,
      "metadata": {
        "id": "fyjr0bgS8VdI"
      },
      "outputs": [],
      "source": [
        "#######################################  UP NEXT\n",
        "## \n",
        "## Team data challenge!\n",
        "# "
      ]
    }
  ],
  "metadata": {
    "colab": {
      "collapsed_sections": [],
      "name": "12A-embeddings",
      "provenance": []
    },
    "kernelspec": {
      "display_name": "Python 3",
      "name": "python3"
    },
    "language_info": {
      "codemirror_mode": {
        "name": "ipython",
        "version": 3
      },
      "file_extension": ".py",
      "mimetype": "text/x-python",
      "name": "python",
      "nbconvert_exporter": "python",
      "pygments_lexer": "ipython3",
      "version": "3.8.11"
    }
  },
  "nbformat": 4,
  "nbformat_minor": 0
}
