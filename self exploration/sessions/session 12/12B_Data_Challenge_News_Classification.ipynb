{
  "nbformat": 4,
  "nbformat_minor": 0,
  "metadata": {
    "colab": {
      "name": "12B - Data Challenge - News Classification",
      "provenance": [],
      "collapsed_sections": []
    },
    "kernelspec": {
      "name": "python3",
      "display_name": "Python 3"
    },
    "language_info": {
      "name": "python"
    }
  },
  "cells": [
    {
      "cell_type": "markdown",
      "metadata": {
        "id": "YfzokIhP-UJj"
      },
      "source": [
        "# Data Challenge - News Category Classification\n",
        "\n",
        "http://34.85.195.130:8411/\n",
        "\n",
        "###  Problem:\n",
        "\n",
        "Your analytics firm was hired by a major news publisher on the West Coast to help with a data recovery task.  In short, there was an outage and part of the content database was lost and is not recoverable.  Luckily, the data was only lost for a small number of articles over the last few days.\n",
        "\n",
        "You have been asked to use the training set in order to predict/infer the category of the news articles in the evaluation set.\n",
        "\n",
        "### The Task\n",
        "\n",
        "- Work in team/neighbors.  You should not be attempting this on your own!\n",
        "- Review the text datasets and fit a supervised classifiation model to predict the news categories labels __using the training dataset__\n",
        "- Apply the model to the evaluation set so that you predict the category\n",
        "- Save out your predictions as a csv file (id, category) and upload to the data challenge leaderboard\n",
        "\n",
        "### Info\n",
        "\n",
        "- The data can be found in the Github repo under data-challenges\n",
        "- The Training file will be used to fit your model\n",
        "- You apply the model to the evaluation set\n",
        "- __To see an example of a proper submission file, please review the sample submission__\n",
        "\n",
        "\n",
        "\n",
        "\n"
      ]
    },
    {
      "cell_type": "code",
      "metadata": {
        "id": "sfH8EgIOI8de"
      },
      "source": [
        ""
      ],
      "execution_count": null,
      "outputs": []
    },
    {
      "cell_type": "code",
      "metadata": {
        "id": "pjgWW9psKLTb"
      },
      "source": [
        ""
      ],
      "execution_count": null,
      "outputs": []
    },
    {
      "cell_type": "code",
      "metadata": {
        "id": "BZcL_slhKLXY"
      },
      "source": [
        ""
      ],
      "execution_count": null,
      "outputs": []
    },
    {
      "cell_type": "code",
      "metadata": {
        "id": "48iPfdyeKLZ9"
      },
      "source": [
        ""
      ],
      "execution_count": null,
      "outputs": []
    },
    {
      "cell_type": "code",
      "metadata": {
        "id": "9e2zi1vbKLci"
      },
      "source": [
        ""
      ],
      "execution_count": null,
      "outputs": []
    },
    {
      "cell_type": "code",
      "metadata": {
        "id": "Br4mHcHLKLe4"
      },
      "source": [
        ""
      ],
      "execution_count": null,
      "outputs": []
    }
  ]
}