{
  "cells": [
    {
      "cell_type": "markdown",
      "metadata": {
        "id": "Xsxqu34uSw9u"
      },
      "source": [
        "# Customer Intent Challenge!\n",
        "\n",
        "http://34.85.195.130:8501/\n",
        "\n",
        "![](https://miro.medium.com/max/1024/1*e8v1xC0NTgoduh_ei9F7Pw.png)\n",
        "\n",
        "Your analytics firm was hired to help prove out that customer intents can be predicted via ML models.  The client believes that if ML models can classify incoming support messages properly that there is an opportunity to sreamline operations and improve customer satisfaction."
      ]
    },
    {
      "cell_type": "code",
      "execution_count": null,
      "metadata": {
        "id": "XE28nJVoTPcF"
      },
      "outputs": [],
      "source": [
        "# get the repo for the data\n",
        "! git clone https://github.com/Btibert3/BA820-Fall-2021.git\n",
        "\n",
        "# the data are in the challenges folder, class 13\n",
        "\n",
        "# you are training a model on the training set\n",
        "# you are applying the model to the test set\n",
        "# start small, get feedback, and iterate!\n",
        "\n",
        "# a good wrapup to consider all of the themes we covered in class!"
      ]
    },
    {
      "cell_type": "code",
      "execution_count": 8,
      "metadata": {},
      "outputs": [
        {
          "name": "stdout",
          "output_type": "stream",
          "text": [
            "Requirement already satisfied: spacy in /Users/alexandervonschwerdtner/opt/miniconda3/envs/ba820/lib/python3.8/site-packages (3.2.0)\n",
            "Requirement already satisfied: typer<0.5.0,>=0.3.0 in /Users/alexandervonschwerdtner/opt/miniconda3/envs/ba820/lib/python3.8/site-packages (from spacy) (0.4.0)\n",
            "Requirement already satisfied: wasabi<1.1.0,>=0.8.1 in /Users/alexandervonschwerdtner/opt/miniconda3/envs/ba820/lib/python3.8/site-packages (from spacy) (0.8.2)\n",
            "Requirement already satisfied: pathy>=0.3.5 in /Users/alexandervonschwerdtner/opt/miniconda3/envs/ba820/lib/python3.8/site-packages (from spacy) (0.6.1)\n",
            "Requirement already satisfied: catalogue<2.1.0,>=2.0.6 in /Users/alexandervonschwerdtner/opt/miniconda3/envs/ba820/lib/python3.8/site-packages (from spacy) (2.0.6)\n",
            "Requirement already satisfied: numpy>=1.15.0 in /Users/alexandervonschwerdtner/opt/miniconda3/envs/ba820/lib/python3.8/site-packages (from spacy) (1.20.3)\n",
            "Requirement already satisfied: setuptools in /Users/alexandervonschwerdtner/opt/miniconda3/envs/ba820/lib/python3.8/site-packages (from spacy) (58.0.4)\n",
            "Requirement already satisfied: requests<3.0.0,>=2.13.0 in /Users/alexandervonschwerdtner/opt/miniconda3/envs/ba820/lib/python3.8/site-packages (from spacy) (2.26.0)\n",
            "Requirement already satisfied: srsly<3.0.0,>=2.4.1 in /Users/alexandervonschwerdtner/opt/miniconda3/envs/ba820/lib/python3.8/site-packages (from spacy) (2.4.2)\n",
            "Requirement already satisfied: tqdm<5.0.0,>=4.38.0 in /Users/alexandervonschwerdtner/opt/miniconda3/envs/ba820/lib/python3.8/site-packages (from spacy) (4.62.3)\n",
            "Requirement already satisfied: spacy-loggers<2.0.0,>=1.0.0 in /Users/alexandervonschwerdtner/opt/miniconda3/envs/ba820/lib/python3.8/site-packages (from spacy) (1.0.1)\n",
            "Requirement already satisfied: cymem<2.1.0,>=2.0.2 in /Users/alexandervonschwerdtner/opt/miniconda3/envs/ba820/lib/python3.8/site-packages (from spacy) (2.0.6)\n",
            "Requirement already satisfied: preshed<3.1.0,>=3.0.2 in /Users/alexandervonschwerdtner/opt/miniconda3/envs/ba820/lib/python3.8/site-packages (from spacy) (3.0.6)\n",
            "Requirement already satisfied: langcodes<4.0.0,>=3.2.0 in /Users/alexandervonschwerdtner/opt/miniconda3/envs/ba820/lib/python3.8/site-packages (from spacy) (3.3.0)\n",
            "Requirement already satisfied: thinc<8.1.0,>=8.0.12 in /Users/alexandervonschwerdtner/opt/miniconda3/envs/ba820/lib/python3.8/site-packages (from spacy) (8.0.13)\n",
            "Requirement already satisfied: blis<0.8.0,>=0.4.0 in /Users/alexandervonschwerdtner/opt/miniconda3/envs/ba820/lib/python3.8/site-packages (from spacy) (0.7.5)\n",
            "Requirement already satisfied: packaging>=20.0 in /Users/alexandervonschwerdtner/opt/miniconda3/envs/ba820/lib/python3.8/site-packages (from spacy) (21.0)\n",
            "Requirement already satisfied: spacy-legacy<3.1.0,>=3.0.8 in /Users/alexandervonschwerdtner/opt/miniconda3/envs/ba820/lib/python3.8/site-packages (from spacy) (3.0.8)\n",
            "Requirement already satisfied: murmurhash<1.1.0,>=0.28.0 in /Users/alexandervonschwerdtner/opt/miniconda3/envs/ba820/lib/python3.8/site-packages (from spacy) (1.0.6)\n",
            "Requirement already satisfied: pydantic!=1.8,!=1.8.1,<1.9.0,>=1.7.4 in /Users/alexandervonschwerdtner/opt/miniconda3/envs/ba820/lib/python3.8/site-packages (from spacy) (1.8.2)\n",
            "Requirement already satisfied: jinja2 in /Users/alexandervonschwerdtner/opt/miniconda3/envs/ba820/lib/python3.8/site-packages (from spacy) (3.0.2)\n",
            "Requirement already satisfied: pyparsing>=2.0.2 in /Users/alexandervonschwerdtner/opt/miniconda3/envs/ba820/lib/python3.8/site-packages (from packaging>=20.0->spacy) (2.4.7)\n",
            "Requirement already satisfied: smart-open<6.0.0,>=5.0.0 in /Users/alexandervonschwerdtner/opt/miniconda3/envs/ba820/lib/python3.8/site-packages (from pathy>=0.3.5->spacy) (5.2.1)\n",
            "Requirement already satisfied: typing-extensions>=3.7.4.3 in /Users/alexandervonschwerdtner/opt/miniconda3/envs/ba820/lib/python3.8/site-packages (from pydantic!=1.8,!=1.8.1,<1.9.0,>=1.7.4->spacy) (3.10.0.2)\n",
            "Requirement already satisfied: idna<4,>=2.5 in /Users/alexandervonschwerdtner/opt/miniconda3/envs/ba820/lib/python3.8/site-packages (from requests<3.0.0,>=2.13.0->spacy) (3.2)\n",
            "Requirement already satisfied: charset-normalizer~=2.0.0 in /Users/alexandervonschwerdtner/opt/miniconda3/envs/ba820/lib/python3.8/site-packages (from requests<3.0.0,>=2.13.0->spacy) (2.0.6)\n",
            "Requirement already satisfied: certifi>=2017.4.17 in /Users/alexandervonschwerdtner/opt/miniconda3/envs/ba820/lib/python3.8/site-packages (from requests<3.0.0,>=2.13.0->spacy) (2021.5.30)\n",
            "Requirement already satisfied: urllib3<1.27,>=1.21.1 in /Users/alexandervonschwerdtner/opt/miniconda3/envs/ba820/lib/python3.8/site-packages (from requests<3.0.0,>=2.13.0->spacy) (1.26.7)\n",
            "Requirement already satisfied: click<9.0.0,>=7.1.1 in /Users/alexandervonschwerdtner/opt/miniconda3/envs/ba820/lib/python3.8/site-packages (from typer<0.5.0,>=0.3.0->spacy) (8.0.3)\n",
            "Requirement already satisfied: MarkupSafe>=2.0 in /Users/alexandervonschwerdtner/opt/miniconda3/envs/ba820/lib/python3.8/site-packages (from jinja2->spacy) (2.0.1)\n",
            "Collecting spacy-universal-sentence-encoder\n",
            "  Downloading spacy_universal_sentence_encoder-0.4.3.tar.gz (13 kB)\n",
            "Collecting tensorflow<3.0.0,>=2.4.0\n",
            "  Downloading tensorflow-2.7.0-cp38-cp38-macosx_10_11_x86_64.whl (207.1 MB)\n",
            "\u001b[K     |████████████████████████████████| 207.1 MB 46 kB/s \n",
            "\u001b[?25hRequirement already satisfied: spacy<4.0.0,>=3.0.0 in /Users/alexandervonschwerdtner/opt/miniconda3/envs/ba820/lib/python3.8/site-packages (from spacy-universal-sentence-encoder) (3.2.0)\n",
            "Collecting tensorflow-hub\n",
            "  Downloading tensorflow_hub-0.12.0-py2.py3-none-any.whl (108 kB)\n",
            "\u001b[K     |████████████████████████████████| 108 kB 28.6 MB/s \n",
            "\u001b[?25hRequirement already satisfied: spacy-legacy<3.1.0,>=3.0.8 in /Users/alexandervonschwerdtner/opt/miniconda3/envs/ba820/lib/python3.8/site-packages (from spacy<4.0.0,>=3.0.0->spacy-universal-sentence-encoder) (3.0.8)\n",
            "Requirement already satisfied: jinja2 in /Users/alexandervonschwerdtner/opt/miniconda3/envs/ba820/lib/python3.8/site-packages (from spacy<4.0.0,>=3.0.0->spacy-universal-sentence-encoder) (3.0.2)\n",
            "Requirement already satisfied: langcodes<4.0.0,>=3.2.0 in /Users/alexandervonschwerdtner/opt/miniconda3/envs/ba820/lib/python3.8/site-packages (from spacy<4.0.0,>=3.0.0->spacy-universal-sentence-encoder) (3.3.0)\n",
            "Requirement already satisfied: thinc<8.1.0,>=8.0.12 in /Users/alexandervonschwerdtner/opt/miniconda3/envs/ba820/lib/python3.8/site-packages (from spacy<4.0.0,>=3.0.0->spacy-universal-sentence-encoder) (8.0.13)\n",
            "Requirement already satisfied: numpy>=1.15.0 in /Users/alexandervonschwerdtner/opt/miniconda3/envs/ba820/lib/python3.8/site-packages (from spacy<4.0.0,>=3.0.0->spacy-universal-sentence-encoder) (1.20.3)\n",
            "Requirement already satisfied: wasabi<1.1.0,>=0.8.1 in /Users/alexandervonschwerdtner/opt/miniconda3/envs/ba820/lib/python3.8/site-packages (from spacy<4.0.0,>=3.0.0->spacy-universal-sentence-encoder) (0.8.2)\n",
            "Requirement already satisfied: catalogue<2.1.0,>=2.0.6 in /Users/alexandervonschwerdtner/opt/miniconda3/envs/ba820/lib/python3.8/site-packages (from spacy<4.0.0,>=3.0.0->spacy-universal-sentence-encoder) (2.0.6)\n",
            "Requirement already satisfied: pydantic!=1.8,!=1.8.1,<1.9.0,>=1.7.4 in /Users/alexandervonschwerdtner/opt/miniconda3/envs/ba820/lib/python3.8/site-packages (from spacy<4.0.0,>=3.0.0->spacy-universal-sentence-encoder) (1.8.2)\n",
            "Requirement already satisfied: setuptools in /Users/alexandervonschwerdtner/opt/miniconda3/envs/ba820/lib/python3.8/site-packages (from spacy<4.0.0,>=3.0.0->spacy-universal-sentence-encoder) (58.0.4)\n",
            "Requirement already satisfied: tqdm<5.0.0,>=4.38.0 in /Users/alexandervonschwerdtner/opt/miniconda3/envs/ba820/lib/python3.8/site-packages (from spacy<4.0.0,>=3.0.0->spacy-universal-sentence-encoder) (4.62.3)\n",
            "Requirement already satisfied: preshed<3.1.0,>=3.0.2 in /Users/alexandervonschwerdtner/opt/miniconda3/envs/ba820/lib/python3.8/site-packages (from spacy<4.0.0,>=3.0.0->spacy-universal-sentence-encoder) (3.0.6)\n",
            "Requirement already satisfied: blis<0.8.0,>=0.4.0 in /Users/alexandervonschwerdtner/opt/miniconda3/envs/ba820/lib/python3.8/site-packages (from spacy<4.0.0,>=3.0.0->spacy-universal-sentence-encoder) (0.7.5)\n",
            "Requirement already satisfied: pathy>=0.3.5 in /Users/alexandervonschwerdtner/opt/miniconda3/envs/ba820/lib/python3.8/site-packages (from spacy<4.0.0,>=3.0.0->spacy-universal-sentence-encoder) (0.6.1)\n",
            "Requirement already satisfied: typer<0.5.0,>=0.3.0 in /Users/alexandervonschwerdtner/opt/miniconda3/envs/ba820/lib/python3.8/site-packages (from spacy<4.0.0,>=3.0.0->spacy-universal-sentence-encoder) (0.4.0)\n",
            "Requirement already satisfied: packaging>=20.0 in /Users/alexandervonschwerdtner/opt/miniconda3/envs/ba820/lib/python3.8/site-packages (from spacy<4.0.0,>=3.0.0->spacy-universal-sentence-encoder) (21.0)\n",
            "Requirement already satisfied: requests<3.0.0,>=2.13.0 in /Users/alexandervonschwerdtner/opt/miniconda3/envs/ba820/lib/python3.8/site-packages (from spacy<4.0.0,>=3.0.0->spacy-universal-sentence-encoder) (2.26.0)\n",
            "Requirement already satisfied: srsly<3.0.0,>=2.4.1 in /Users/alexandervonschwerdtner/opt/miniconda3/envs/ba820/lib/python3.8/site-packages (from spacy<4.0.0,>=3.0.0->spacy-universal-sentence-encoder) (2.4.2)\n",
            "Requirement already satisfied: murmurhash<1.1.0,>=0.28.0 in /Users/alexandervonschwerdtner/opt/miniconda3/envs/ba820/lib/python3.8/site-packages (from spacy<4.0.0,>=3.0.0->spacy-universal-sentence-encoder) (1.0.6)\n",
            "Requirement already satisfied: spacy-loggers<2.0.0,>=1.0.0 in /Users/alexandervonschwerdtner/opt/miniconda3/envs/ba820/lib/python3.8/site-packages (from spacy<4.0.0,>=3.0.0->spacy-universal-sentence-encoder) (1.0.1)\n",
            "Requirement already satisfied: cymem<2.1.0,>=2.0.2 in /Users/alexandervonschwerdtner/opt/miniconda3/envs/ba820/lib/python3.8/site-packages (from spacy<4.0.0,>=3.0.0->spacy-universal-sentence-encoder) (2.0.6)\n",
            "Requirement already satisfied: pyparsing>=2.0.2 in /Users/alexandervonschwerdtner/opt/miniconda3/envs/ba820/lib/python3.8/site-packages (from packaging>=20.0->spacy<4.0.0,>=3.0.0->spacy-universal-sentence-encoder) (2.4.7)\n",
            "Requirement already satisfied: smart-open<6.0.0,>=5.0.0 in /Users/alexandervonschwerdtner/opt/miniconda3/envs/ba820/lib/python3.8/site-packages (from pathy>=0.3.5->spacy<4.0.0,>=3.0.0->spacy-universal-sentence-encoder) (5.2.1)\n",
            "Requirement already satisfied: typing-extensions>=3.7.4.3 in /Users/alexandervonschwerdtner/opt/miniconda3/envs/ba820/lib/python3.8/site-packages (from pydantic!=1.8,!=1.8.1,<1.9.0,>=1.7.4->spacy<4.0.0,>=3.0.0->spacy-universal-sentence-encoder) (3.10.0.2)\n",
            "Requirement already satisfied: urllib3<1.27,>=1.21.1 in /Users/alexandervonschwerdtner/opt/miniconda3/envs/ba820/lib/python3.8/site-packages (from requests<3.0.0,>=2.13.0->spacy<4.0.0,>=3.0.0->spacy-universal-sentence-encoder) (1.26.7)\n",
            "Requirement already satisfied: idna<4,>=2.5 in /Users/alexandervonschwerdtner/opt/miniconda3/envs/ba820/lib/python3.8/site-packages (from requests<3.0.0,>=2.13.0->spacy<4.0.0,>=3.0.0->spacy-universal-sentence-encoder) (3.2)\n",
            "Requirement already satisfied: charset-normalizer~=2.0.0 in /Users/alexandervonschwerdtner/opt/miniconda3/envs/ba820/lib/python3.8/site-packages (from requests<3.0.0,>=2.13.0->spacy<4.0.0,>=3.0.0->spacy-universal-sentence-encoder) (2.0.6)\n",
            "Requirement already satisfied: certifi>=2017.4.17 in /Users/alexandervonschwerdtner/opt/miniconda3/envs/ba820/lib/python3.8/site-packages (from requests<3.0.0,>=2.13.0->spacy<4.0.0,>=3.0.0->spacy-universal-sentence-encoder) (2021.5.30)\n",
            "Requirement already satisfied: six>=1.12.0 in /Users/alexandervonschwerdtner/opt/miniconda3/envs/ba820/lib/python3.8/site-packages (from tensorflow<3.0.0,>=2.4.0->spacy-universal-sentence-encoder) (1.16.0)\n",
            "Requirement already satisfied: grpcio<2.0,>=1.24.3 in /Users/alexandervonschwerdtner/opt/miniconda3/envs/ba820/lib/python3.8/site-packages (from tensorflow<3.0.0,>=2.4.0->spacy-universal-sentence-encoder) (1.41.0)\n",
            "Collecting wrapt>=1.11.0\n",
            "  Downloading wrapt-1.13.3-cp38-cp38-macosx_10_9_x86_64.whl (33 kB)\n",
            "Collecting tensorboard~=2.6\n",
            "  Downloading tensorboard-2.7.0-py3-none-any.whl (5.8 MB)\n",
            "\u001b[K     |████████████████████████████████| 5.8 MB 7.9 MB/s \n",
            "\u001b[?25hRequirement already satisfied: wheel<1.0,>=0.32.0 in /Users/alexandervonschwerdtner/opt/miniconda3/envs/ba820/lib/python3.8/site-packages (from tensorflow<3.0.0,>=2.4.0->spacy-universal-sentence-encoder) (0.37.0)\n",
            "Collecting keras-preprocessing>=1.1.1\n",
            "  Using cached Keras_Preprocessing-1.1.2-py2.py3-none-any.whl (42 kB)\n",
            "Collecting google-pasta>=0.1.1\n",
            "  Using cached google_pasta-0.2.0-py3-none-any.whl (57 kB)\n",
            "Collecting keras<2.8,>=2.7.0rc0\n",
            "  Downloading keras-2.7.0-py2.py3-none-any.whl (1.3 MB)\n",
            "\u001b[K     |████████████████████████████████| 1.3 MB 9.3 MB/s \n",
            "\u001b[?25hCollecting opt-einsum>=2.3.2\n",
            "  Using cached opt_einsum-3.3.0-py3-none-any.whl (65 kB)\n",
            "Collecting tensorflow-estimator<2.8,~=2.7.0rc0\n",
            "  Downloading tensorflow_estimator-2.7.0-py2.py3-none-any.whl (463 kB)\n",
            "\u001b[K     |████████████████████████████████| 463 kB 15.7 MB/s \n",
            "\u001b[?25hRequirement already satisfied: h5py>=2.9.0 in /Users/alexandervonschwerdtner/opt/miniconda3/envs/ba820/lib/python3.8/site-packages (from tensorflow<3.0.0,>=2.4.0->spacy-universal-sentence-encoder) (3.6.0)\n",
            "Collecting libclang>=9.0.1\n",
            "  Downloading libclang-12.0.0-py2.py3-none-macosx_10_9_x86_64.whl (12.2 MB)\n",
            "\u001b[K     |████████████████████████████████| 12.2 MB 4.1 MB/s \n",
            "\u001b[?25hCollecting flatbuffers<3.0,>=1.12\n",
            "  Downloading flatbuffers-2.0-py2.py3-none-any.whl (26 kB)\n",
            "Requirement already satisfied: protobuf>=3.9.2 in /Users/alexandervonschwerdtner/opt/miniconda3/envs/ba820/lib/python3.8/site-packages (from tensorflow<3.0.0,>=2.4.0->spacy-universal-sentence-encoder) (3.18.1)\n",
            "Collecting termcolor>=1.1.0\n",
            "  Using cached termcolor-1.1.0-py3-none-any.whl\n",
            "Collecting astunparse>=1.6.0\n",
            "  Using cached astunparse-1.6.3-py2.py3-none-any.whl (12 kB)\n",
            "Collecting gast<0.5.0,>=0.2.1\n",
            "  Using cached gast-0.4.0-py3-none-any.whl (9.8 kB)\n",
            "Collecting absl-py>=0.4.0\n",
            "  Downloading absl_py-1.0.0-py3-none-any.whl (126 kB)\n",
            "\u001b[K     |████████████████████████████████| 126 kB 4.7 MB/s \n",
            "\u001b[?25hCollecting tensorflow-io-gcs-filesystem>=0.21.0\n",
            "  Downloading tensorflow_io_gcs_filesystem-0.22.0-cp38-cp38-macosx_10_14_x86_64.whl (1.6 MB)\n",
            "\u001b[K     |████████████████████████████████| 1.6 MB 22.7 MB/s \n",
            "\u001b[?25hRequirement already satisfied: google-auth<3,>=1.6.3 in /Users/alexandervonschwerdtner/opt/miniconda3/envs/ba820/lib/python3.8/site-packages (from tensorboard~=2.6->tensorflow<3.0.0,>=2.4.0->spacy-universal-sentence-encoder) (2.3.0)\n",
            "Collecting markdown>=2.6.8\n",
            "  Downloading Markdown-3.3.6-py3-none-any.whl (97 kB)\n",
            "\u001b[K     |████████████████████████████████| 97 kB 6.2 MB/s \n",
            "\u001b[?25hRequirement already satisfied: google-auth-oauthlib<0.5,>=0.4.1 in /Users/alexandervonschwerdtner/opt/miniconda3/envs/ba820/lib/python3.8/site-packages (from tensorboard~=2.6->tensorflow<3.0.0,>=2.4.0->spacy-universal-sentence-encoder) (0.4.6)\n",
            "Collecting tensorboard-data-server<0.7.0,>=0.6.0\n",
            "  Using cached tensorboard_data_server-0.6.1-py3-none-macosx_10_9_x86_64.whl (3.5 MB)\n",
            "Collecting tensorboard-plugin-wit>=1.6.0\n",
            "  Using cached tensorboard_plugin_wit-1.8.0-py3-none-any.whl (781 kB)\n",
            "Collecting werkzeug>=0.11.15\n",
            "  Downloading Werkzeug-2.0.2-py3-none-any.whl (288 kB)\n",
            "\u001b[K     |████████████████████████████████| 288 kB 5.1 MB/s \n",
            "\u001b[?25hRequirement already satisfied: pyasn1-modules>=0.2.1 in /Users/alexandervonschwerdtner/opt/miniconda3/envs/ba820/lib/python3.8/site-packages (from google-auth<3,>=1.6.3->tensorboard~=2.6->tensorflow<3.0.0,>=2.4.0->spacy-universal-sentence-encoder) (0.2.8)\n",
            "Requirement already satisfied: cachetools<5.0,>=2.0.0 in /Users/alexandervonschwerdtner/opt/miniconda3/envs/ba820/lib/python3.8/site-packages (from google-auth<3,>=1.6.3->tensorboard~=2.6->tensorflow<3.0.0,>=2.4.0->spacy-universal-sentence-encoder) (4.2.4)\n",
            "Requirement already satisfied: rsa<5,>=3.1.4 in /Users/alexandervonschwerdtner/opt/miniconda3/envs/ba820/lib/python3.8/site-packages (from google-auth<3,>=1.6.3->tensorboard~=2.6->tensorflow<3.0.0,>=2.4.0->spacy-universal-sentence-encoder) (4.7.2)\n",
            "Requirement already satisfied: requests-oauthlib>=0.7.0 in /Users/alexandervonschwerdtner/opt/miniconda3/envs/ba820/lib/python3.8/site-packages (from google-auth-oauthlib<0.5,>=0.4.1->tensorboard~=2.6->tensorflow<3.0.0,>=2.4.0->spacy-universal-sentence-encoder) (1.3.0)\n",
            "Collecting importlib-metadata>=4.4\n",
            "  Downloading importlib_metadata-4.8.2-py3-none-any.whl (17 kB)\n",
            "Collecting zipp>=0.5\n",
            "  Downloading zipp-3.6.0-py3-none-any.whl (5.3 kB)\n",
            "Requirement already satisfied: pyasn1<0.5.0,>=0.4.6 in /Users/alexandervonschwerdtner/opt/miniconda3/envs/ba820/lib/python3.8/site-packages (from pyasn1-modules>=0.2.1->google-auth<3,>=1.6.3->tensorboard~=2.6->tensorflow<3.0.0,>=2.4.0->spacy-universal-sentence-encoder) (0.4.8)\n",
            "Requirement already satisfied: oauthlib>=3.0.0 in /Users/alexandervonschwerdtner/opt/miniconda3/envs/ba820/lib/python3.8/site-packages (from requests-oauthlib>=0.7.0->google-auth-oauthlib<0.5,>=0.4.1->tensorboard~=2.6->tensorflow<3.0.0,>=2.4.0->spacy-universal-sentence-encoder) (3.1.1)\n",
            "Requirement already satisfied: click<9.0.0,>=7.1.1 in /Users/alexandervonschwerdtner/opt/miniconda3/envs/ba820/lib/python3.8/site-packages (from typer<0.5.0,>=0.3.0->spacy<4.0.0,>=3.0.0->spacy-universal-sentence-encoder) (8.0.3)\n",
            "Requirement already satisfied: MarkupSafe>=2.0 in /Users/alexandervonschwerdtner/opt/miniconda3/envs/ba820/lib/python3.8/site-packages (from jinja2->spacy<4.0.0,>=3.0.0->spacy-universal-sentence-encoder) (2.0.1)\n",
            "Building wheels for collected packages: spacy-universal-sentence-encoder\n",
            "  Building wheel for spacy-universal-sentence-encoder (setup.py) ... \u001b[?25ldone\n",
            "\u001b[?25h  Created wheel for spacy-universal-sentence-encoder: filename=spacy_universal_sentence_encoder-0.4.3-py3-none-any.whl size=14763 sha256=753b8a4f3a171a8f6ea4867724869fd827427b99708d4f13dcd6b1e7891512d0\n",
            "  Stored in directory: /Users/alexandervonschwerdtner/Library/Caches/pip/wheels/46/47/ed/4dc63e35260b4c75fea227ab0bcd448d55378b5da1de8c3394\n",
            "Successfully built spacy-universal-sentence-encoder\n",
            "Installing collected packages: zipp, importlib-metadata, werkzeug, tensorboard-plugin-wit, tensorboard-data-server, markdown, absl-py, wrapt, termcolor, tensorflow-io-gcs-filesystem, tensorflow-estimator, tensorboard, opt-einsum, libclang, keras-preprocessing, keras, google-pasta, gast, flatbuffers, astunparse, tensorflow-hub, tensorflow, spacy-universal-sentence-encoder\n",
            "Successfully installed absl-py-1.0.0 astunparse-1.6.3 flatbuffers-2.0 gast-0.4.0 google-pasta-0.2.0 importlib-metadata-4.8.2 keras-2.7.0 keras-preprocessing-1.1.2 libclang-12.0.0 markdown-3.3.6 opt-einsum-3.3.0 spacy-universal-sentence-encoder-0.4.3 tensorboard-2.7.0 tensorboard-data-server-0.6.1 tensorboard-plugin-wit-1.8.0 tensorflow-2.7.0 tensorflow-estimator-2.7.0 tensorflow-hub-0.12.0 tensorflow-io-gcs-filesystem-0.22.0 termcolor-1.1.0 werkzeug-2.0.2 wrapt-1.13.3 zipp-3.6.0\n"
          ]
        }
      ],
      "source": [
        "# installs\n",
        "! pip install -U spacy\n",
        "! pip install spacy-universal-sentence-encoder"
      ]
    },
    {
      "cell_type": "code",
      "execution_count": 16,
      "metadata": {},
      "outputs": [],
      "source": [
        "# imports\n",
        "import pandas as pd\n",
        "from gensim.models.doc2vec import Doc2Vec, TaggedDocument\n",
        "import spacy\n",
        "from spacy import cli\n",
        "\n",
        "import seaborn as sns\n",
        "\n",
        "from sklearn.cluster import KMeans\n",
        "from sklearn.neighbors import NearestNeighbors\n",
        "\n",
        "from umap import UMAP\n",
        "\n",
        "# make sure we have the imports\n",
        "import numpy as np\n",
        "import pandas as pd\n",
        "import seaborn as sns \n",
        "from sklearn.feature_extraction.text import CountVectorizer\n",
        "from sklearn.neighbors import KNeighborsClassifier\n",
        "from sklearn.metrics import accuracy_score"
      ]
    },
    {
      "cell_type": "code",
      "execution_count": 3,
      "metadata": {
        "id": "JYikleDwp-t_"
      },
      "outputs": [],
      "source": [
        "eval = pd.read_csv('/Users/alexandervonschwerdtner/Desktop/BA820 - Unsupervised Machine Learning & Text Analytics/BA820-Fall-2021/data-challenges/13-customer-intent/eval.csv')\n",
        "sample = pd.read_csv('/Users/alexandervonschwerdtner/Desktop/BA820 - Unsupervised Machine Learning & Text Analytics/BA820-Fall-2021/data-challenges/13-customer-intent/sample.csv')\n",
        "train = pd.read_csv('/Users/alexandervonschwerdtner/Desktop/BA820 - Unsupervised Machine Learning & Text Analytics/BA820-Fall-2021/data-challenges/13-customer-intent/training.csv')"
      ]
    },
    {
      "cell_type": "code",
      "execution_count": 4,
      "metadata": {},
      "outputs": [
        {
          "data": {
            "text/html": [
              "<div>\n",
              "<style scoped>\n",
              "    .dataframe tbody tr th:only-of-type {\n",
              "        vertical-align: middle;\n",
              "    }\n",
              "\n",
              "    .dataframe tbody tr th {\n",
              "        vertical-align: top;\n",
              "    }\n",
              "\n",
              "    .dataframe thead th {\n",
              "        text-align: right;\n",
              "    }\n",
              "</style>\n",
              "<table border=\"1\" class=\"dataframe\">\n",
              "  <thead>\n",
              "    <tr style=\"text-align: right;\">\n",
              "      <th></th>\n",
              "      <th>message</th>\n",
              "      <th>domain</th>\n",
              "      <th>id</th>\n",
              "    </tr>\n",
              "  </thead>\n",
              "  <tbody>\n",
              "    <tr>\n",
              "      <th>9402</th>\n",
              "      <td>lock all the doors</td>\n",
              "      <td>home</td>\n",
              "      <td>504c964c-96b8-447a-833f-cc495b62654f</td>\n",
              "    </tr>\n",
              "    <tr>\n",
              "      <th>12466</th>\n",
              "      <td>what time is it now pacific time</td>\n",
              "      <td>utility</td>\n",
              "      <td>bf671c76-f377-4368-923e-3dcd358f76d5</td>\n",
              "    </tr>\n",
              "    <tr>\n",
              "      <th>15802</th>\n",
              "      <td>help me find a well reviewed hotel in dallas</td>\n",
              "      <td>travel</td>\n",
              "      <td>218aa2fc-35ed-42de-bbac-e8fcf270a9c1</td>\n",
              "    </tr>\n",
              "  </tbody>\n",
              "</table>\n",
              "</div>"
            ],
            "text/plain": [
              "                                            message   domain  \\\n",
              "9402                             lock all the doors     home   \n",
              "12466              what time is it now pacific time  utility   \n",
              "15802  help me find a well reviewed hotel in dallas   travel   \n",
              "\n",
              "                                         id  \n",
              "9402   504c964c-96b8-447a-833f-cc495b62654f  \n",
              "12466  bf671c76-f377-4368-923e-3dcd358f76d5  \n",
              "15802  218aa2fc-35ed-42de-bbac-e8fcf270a9c1  "
            ]
          },
          "execution_count": 4,
          "metadata": {},
          "output_type": "execute_result"
        }
      ],
      "source": [
        "train.sample(3)"
      ]
    },
    {
      "cell_type": "code",
      "execution_count": 5,
      "metadata": {},
      "outputs": [
        {
          "name": "stdout",
          "output_type": "stream",
          "text": [
            "Collecting en-core-web-md==3.2.0\n",
            "  Downloading https://github.com/explosion/spacy-models/releases/download/en_core_web_md-3.2.0/en_core_web_md-3.2.0-py3-none-any.whl (45.7 MB)\n",
            "Requirement already satisfied: spacy<3.3.0,>=3.2.0 in /Users/alexandervonschwerdtner/opt/miniconda3/envs/ba820/lib/python3.8/site-packages (from en-core-web-md==3.2.0) (3.2.0)\n",
            "Requirement already satisfied: srsly<3.0.0,>=2.4.1 in /Users/alexandervonschwerdtner/opt/miniconda3/envs/ba820/lib/python3.8/site-packages (from spacy<3.3.0,>=3.2.0->en-core-web-md==3.2.0) (2.4.2)\n",
            "Requirement already satisfied: wasabi<1.1.0,>=0.8.1 in /Users/alexandervonschwerdtner/opt/miniconda3/envs/ba820/lib/python3.8/site-packages (from spacy<3.3.0,>=3.2.0->en-core-web-md==3.2.0) (0.8.2)\n",
            "Requirement already satisfied: requests<3.0.0,>=2.13.0 in /Users/alexandervonschwerdtner/opt/miniconda3/envs/ba820/lib/python3.8/site-packages (from spacy<3.3.0,>=3.2.0->en-core-web-md==3.2.0) (2.26.0)\n",
            "Requirement already satisfied: langcodes<4.0.0,>=3.2.0 in /Users/alexandervonschwerdtner/opt/miniconda3/envs/ba820/lib/python3.8/site-packages (from spacy<3.3.0,>=3.2.0->en-core-web-md==3.2.0) (3.3.0)\n",
            "Requirement already satisfied: spacy-legacy<3.1.0,>=3.0.8 in /Users/alexandervonschwerdtner/opt/miniconda3/envs/ba820/lib/python3.8/site-packages (from spacy<3.3.0,>=3.2.0->en-core-web-md==3.2.0) (3.0.8)\n",
            "Requirement already satisfied: packaging>=20.0 in /Users/alexandervonschwerdtner/opt/miniconda3/envs/ba820/lib/python3.8/site-packages (from spacy<3.3.0,>=3.2.0->en-core-web-md==3.2.0) (21.0)\n",
            "Requirement already satisfied: thinc<8.1.0,>=8.0.12 in /Users/alexandervonschwerdtner/opt/miniconda3/envs/ba820/lib/python3.8/site-packages (from spacy<3.3.0,>=3.2.0->en-core-web-md==3.2.0) (8.0.13)\n",
            "Requirement already satisfied: blis<0.8.0,>=0.4.0 in /Users/alexandervonschwerdtner/opt/miniconda3/envs/ba820/lib/python3.8/site-packages (from spacy<3.3.0,>=3.2.0->en-core-web-md==3.2.0) (0.7.5)\n",
            "Requirement already satisfied: cymem<2.1.0,>=2.0.2 in /Users/alexandervonschwerdtner/opt/miniconda3/envs/ba820/lib/python3.8/site-packages (from spacy<3.3.0,>=3.2.0->en-core-web-md==3.2.0) (2.0.6)\n",
            "Requirement already satisfied: tqdm<5.0.0,>=4.38.0 in /Users/alexandervonschwerdtner/opt/miniconda3/envs/ba820/lib/python3.8/site-packages (from spacy<3.3.0,>=3.2.0->en-core-web-md==3.2.0) (4.62.3)\n",
            "Requirement already satisfied: pydantic!=1.8,!=1.8.1,<1.9.0,>=1.7.4 in /Users/alexandervonschwerdtner/opt/miniconda3/envs/ba820/lib/python3.8/site-packages (from spacy<3.3.0,>=3.2.0->en-core-web-md==3.2.0) (1.8.2)\n",
            "Requirement already satisfied: jinja2 in /Users/alexandervonschwerdtner/opt/miniconda3/envs/ba820/lib/python3.8/site-packages (from spacy<3.3.0,>=3.2.0->en-core-web-md==3.2.0) (3.0.2)\n",
            "Requirement already satisfied: preshed<3.1.0,>=3.0.2 in /Users/alexandervonschwerdtner/opt/miniconda3/envs/ba820/lib/python3.8/site-packages (from spacy<3.3.0,>=3.2.0->en-core-web-md==3.2.0) (3.0.6)\n",
            "Requirement already satisfied: typer<0.5.0,>=0.3.0 in /Users/alexandervonschwerdtner/opt/miniconda3/envs/ba820/lib/python3.8/site-packages (from spacy<3.3.0,>=3.2.0->en-core-web-md==3.2.0) (0.4.0)\n",
            "Requirement already satisfied: murmurhash<1.1.0,>=0.28.0 in /Users/alexandervonschwerdtner/opt/miniconda3/envs/ba820/lib/python3.8/site-packages (from spacy<3.3.0,>=3.2.0->en-core-web-md==3.2.0) (1.0.6)\n",
            "Requirement already satisfied: pathy>=0.3.5 in /Users/alexandervonschwerdtner/opt/miniconda3/envs/ba820/lib/python3.8/site-packages (from spacy<3.3.0,>=3.2.0->en-core-web-md==3.2.0) (0.6.1)\n",
            "Requirement already satisfied: numpy>=1.15.0 in /Users/alexandervonschwerdtner/opt/miniconda3/envs/ba820/lib/python3.8/site-packages (from spacy<3.3.0,>=3.2.0->en-core-web-md==3.2.0) (1.20.3)\n",
            "Requirement already satisfied: spacy-loggers<2.0.0,>=1.0.0 in /Users/alexandervonschwerdtner/opt/miniconda3/envs/ba820/lib/python3.8/site-packages (from spacy<3.3.0,>=3.2.0->en-core-web-md==3.2.0) (1.0.1)\n",
            "Requirement already satisfied: setuptools in /Users/alexandervonschwerdtner/opt/miniconda3/envs/ba820/lib/python3.8/site-packages (from spacy<3.3.0,>=3.2.0->en-core-web-md==3.2.0) (58.0.4)\n",
            "Requirement already satisfied: catalogue<2.1.0,>=2.0.6 in /Users/alexandervonschwerdtner/opt/miniconda3/envs/ba820/lib/python3.8/site-packages (from spacy<3.3.0,>=3.2.0->en-core-web-md==3.2.0) (2.0.6)\n",
            "Requirement already satisfied: pyparsing>=2.0.2 in /Users/alexandervonschwerdtner/opt/miniconda3/envs/ba820/lib/python3.8/site-packages (from packaging>=20.0->spacy<3.3.0,>=3.2.0->en-core-web-md==3.2.0) (2.4.7)\n",
            "Requirement already satisfied: smart-open<6.0.0,>=5.0.0 in /Users/alexandervonschwerdtner/opt/miniconda3/envs/ba820/lib/python3.8/site-packages (from pathy>=0.3.5->spacy<3.3.0,>=3.2.0->en-core-web-md==3.2.0) (5.2.1)\n",
            "Requirement already satisfied: typing-extensions>=3.7.4.3 in /Users/alexandervonschwerdtner/opt/miniconda3/envs/ba820/lib/python3.8/site-packages (from pydantic!=1.8,!=1.8.1,<1.9.0,>=1.7.4->spacy<3.3.0,>=3.2.0->en-core-web-md==3.2.0) (3.10.0.2)\n",
            "Requirement already satisfied: charset-normalizer~=2.0.0 in /Users/alexandervonschwerdtner/opt/miniconda3/envs/ba820/lib/python3.8/site-packages (from requests<3.0.0,>=2.13.0->spacy<3.3.0,>=3.2.0->en-core-web-md==3.2.0) (2.0.6)\n",
            "Requirement already satisfied: certifi>=2017.4.17 in /Users/alexandervonschwerdtner/opt/miniconda3/envs/ba820/lib/python3.8/site-packages (from requests<3.0.0,>=2.13.0->spacy<3.3.0,>=3.2.0->en-core-web-md==3.2.0) (2021.5.30)\n",
            "Requirement already satisfied: urllib3<1.27,>=1.21.1 in /Users/alexandervonschwerdtner/opt/miniconda3/envs/ba820/lib/python3.8/site-packages (from requests<3.0.0,>=2.13.0->spacy<3.3.0,>=3.2.0->en-core-web-md==3.2.0) (1.26.7)\n",
            "Requirement already satisfied: idna<4,>=2.5 in /Users/alexandervonschwerdtner/opt/miniconda3/envs/ba820/lib/python3.8/site-packages (from requests<3.0.0,>=2.13.0->spacy<3.3.0,>=3.2.0->en-core-web-md==3.2.0) (3.2)\n",
            "Requirement already satisfied: click<9.0.0,>=7.1.1 in /Users/alexandervonschwerdtner/opt/miniconda3/envs/ba820/lib/python3.8/site-packages (from typer<0.5.0,>=0.3.0->spacy<3.3.0,>=3.2.0->en-core-web-md==3.2.0) (8.0.3)\n",
            "Requirement already satisfied: MarkupSafe>=2.0 in /Users/alexandervonschwerdtner/opt/miniconda3/envs/ba820/lib/python3.8/site-packages (from jinja2->spacy<3.3.0,>=3.2.0->en-core-web-md==3.2.0) (2.0.1)\n",
            "\u001b[38;5;2m✔ Download and installation successful\u001b[0m\n",
            "You can now load the package via spacy.load('en_core_web_md')\n"
          ]
        }
      ],
      "source": [
        "# download the normal model\n",
        "model = \"en_core_web_md\"\n",
        "cli.download(model)\n",
        "nlp = spacy.load(model)"
      ]
    },
    {
      "cell_type": "code",
      "execution_count": 19,
      "metadata": {},
      "outputs": [
        {
          "data": {
            "text/plain": [
              "['tok2vec', 'tagger', 'parser', 'attribute_ruler', 'lemmatizer', 'ner']"
            ]
          },
          "execution_count": 19,
          "metadata": {},
          "output_type": "execute_result"
        }
      ],
      "source": [
        "# make sure we have the old spacy model\n",
        "nlp_old = spacy.load(model)\n",
        "nlp_old.pipe_names"
      ]
    },
    {
      "cell_type": "code",
      "execution_count": 20,
      "metadata": {},
      "outputs": [
        {
          "data": {
            "text/plain": [
              "['tok2vec', 'tagger', 'parser', 'attribute_ruler', 'lemmatizer', 'ner']"
            ]
          },
          "execution_count": 20,
          "metadata": {},
          "output_type": "execute_result"
        }
      ],
      "source": [
        "nlp.pipe_names"
      ]
    },
    {
      "cell_type": "code",
      "execution_count": 21,
      "metadata": {},
      "outputs": [
        {
          "name": "stdout",
          "output_type": "stream",
          "text": [
            "(17500, 6330)\n",
            "(17500, 300)\n",
            "(17500, 300)\n"
          ]
        }
      ],
      "source": [
        "# create the 3 representations\n",
        "\n",
        "# cv\n",
        "cv = CountVectorizer()\n",
        "cv.fit(train.message)\n",
        "dtm = cv.transform(train.message)\n",
        "print(dtm.shape)\n",
        "\n",
        "# spacy vectors\n",
        "docs = list(nlp_old.pipe(train.message, disable=['tagger', 'parser', 'attribute_ruler', 'lemmatizer', 'ner']))\n",
        "dvs = [doc.vector for doc in docs]\n",
        "dvs = np.array(dvs)\n",
        "print(dvs.shape)\n",
        "\n",
        "# the use embeddings\n",
        "uses = list(nlp.pipe(train.message, disable=['tagger', 'parser', 'attribute_ruler', 'lemmatizer', 'ner']))\n",
        "uvs = [doc.vector for doc in uses]\n",
        "uvs = np.array(uvs)\n",
        "print(uvs.shape)\n"
      ]
    },
    {
      "cell_type": "code",
      "execution_count": 23,
      "metadata": {},
      "outputs": [],
      "source": [
        "# fit the models\n",
        "\n",
        "# count vects\n",
        "knn = KNeighborsClassifier(3)\n",
        "knn.fit(dtm.toarray(), train.domain)\n",
        "preds_cv = knn.predict(dtm.toarray())\n",
        "\n",
        "# spacy pretrained\n",
        "knn = KNeighborsClassifier(3)\n",
        "knn.fit(dvs, train.domain)\n",
        "preds_spacy = knn.predict(dvs)\n",
        "\n",
        "# universal sentence encodings\n",
        "knn = KNeighborsClassifier(3)\n",
        "knn.fit(uvs, train.domain)\n",
        "preds_use = knn.predict(uvs)"
      ]
    },
    {
      "cell_type": "code",
      "execution_count": null,
      "metadata": {},
      "outputs": [],
      "source": [
        "# put everything back\n",
        "train[['cv', 'spacy', 'use']] = np.stack([preds_cv, preds_spacy, preds_use], axis=1)"
      ]
    },
    {
      "cell_type": "code",
      "execution_count": null,
      "metadata": {},
      "outputs": [],
      "source": [
        "train.head(3)"
      ]
    },
    {
      "cell_type": "code",
      "execution_count": null,
      "metadata": {},
      "outputs": [],
      "source": [
        "# accuracy\n",
        "accuracy_score(train.category, train.cv)\n",
        "accuracy_score(train.category, train.spacy)\n",
        "accuracy_score(train.category, train.use)"
      ]
    },
    {
      "cell_type": "code",
      "execution_count": null,
      "metadata": {},
      "outputs": [],
      "source": [
        "# create the submission file\n",
        "submit = eval[['id', 'preds']]\n",
        "submit.columns = ['id', 'category']"
      ]
    },
    {
      "cell_type": "code",
      "execution_count": null,
      "metadata": {},
      "outputs": [],
      "source": [
        "# write the file\n",
        "submit.to_csv(\"avs-submit.csv\", index=False)"
      ]
    }
  ],
  "metadata": {
    "accelerator": "GPU",
    "colab": {
      "collapsed_sections": [],
      "name": "13E - Data Challenge",
      "provenance": []
    },
    "kernelspec": {
      "display_name": "Python 3",
      "name": "python3"
    },
    "language_info": {
      "codemirror_mode": {
        "name": "ipython",
        "version": 3
      },
      "file_extension": ".py",
      "mimetype": "text/x-python",
      "name": "python",
      "nbconvert_exporter": "python",
      "pygments_lexer": "ipython3",
      "version": "3.8.11"
    }
  },
  "nbformat": 4,
  "nbformat_minor": 0
}
