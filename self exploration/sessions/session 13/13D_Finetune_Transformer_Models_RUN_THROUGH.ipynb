{
  "nbformat": 4,
  "nbformat_minor": 0,
  "metadata": {
    "colab": {
      "name": "13D-Finetune Transformer Models - RUN THROUGH",
      "provenance": [],
      "collapsed_sections": []
    },
    "kernelspec": {
      "name": "python3",
      "display_name": "Python 3"
    },
    "language_info": {
      "name": "python"
    },
    "accelerator": "GPU"
  },
  "cells": [
    {
      "cell_type": "markdown",
      "metadata": {
        "id": "6N4hAVTPxYL4"
      },
      "source": [
        "# About\n",
        "\n",
        "Finetune transformer models using scikit like syntax.  \n",
        "\n",
        "\n",
        "> The code and output already exist, let's just run through this worked notebook.\n",
        "\n",
        "\n",
        "https://github.com/IndicoDataSolutions/finetune"
      ]
    },
    {
      "cell_type": "markdown",
      "metadata": {
        "id": "l_r3j12d35OX"
      },
      "source": [
        "> NOTE:  Change runtime to GPU\n",
        "\n",
        "\n",
        "Cleanup:\n",
        "\n",
        "- Save out train/test data\n",
        "- Show decision tree after finetune\n",
        "- Show logistic - not always needed, easier infra, faster.  Don't always assume latest/greatest applies to our problem!\n",
        "\n"
      ]
    },
    {
      "cell_type": "code",
      "metadata": {
        "id": "wVVBR7hAyDFE"
      },
      "source": [
        "# order of ops\n",
        "# change to GPU\n",
        "# install finetune\n",
        "# restart runtime\n",
        "\n",
        "\n",
        "\n",
        "# install -- per https://github.com/IndicoDataSolutions/finetune/issues/662\n",
        "# tldr; Colab was choking\n",
        "!pip install git+https://github.com/IndicoDataSolutions/finetune.git"
      ],
      "execution_count": null,
      "outputs": []
    },
    {
      "cell_type": "markdown",
      "metadata": {
        "id": "gLk7U0J-2RFU"
      },
      "source": [
        "> Restart the runtime"
      ]
    },
    {
      "cell_type": "code",
      "metadata": {
        "id": "vFIZ6Nzgyhw0"
      },
      "source": [
        "# imports\n",
        "# https://github.com/IndicoDataSolutions/finetune\n",
        "from finetune.base_models import BERT\n",
        "from finetune import Classifier\n",
        "import pandas as pd\n",
        "from sklearn import metrics "
      ],
      "execution_count": null,
      "outputs": []
    },
    {
      "cell_type": "code",
      "metadata": {
        "id": "2-3qr-X2yh3A"
      },
      "source": [
        "# get the dataset\n",
        "SQL = \"SELECT * from `questrom.datasets.topics`\"\n",
        "df = pd.read_gbq(SQL, \"questrom\")"
      ],
      "execution_count": null,
      "outputs": []
    },
    {
      "cell_type": "code",
      "metadata": {
        "colab": {
          "base_uri": "https://localhost:8080/"
        },
        "id": "FWC1QFM7yh6v",
        "outputId": "36ab0d43-7f01-4c9c-97df-6ed5ef3e69c8"
      },
      "source": [
        "# predict the topic\n",
        "df.topic.value_counts(dropna=False)"
      ],
      "execution_count": null,
      "outputs": [
        {
          "output_type": "execute_result",
          "data": {
            "text/plain": [
              "Product Specifications    839\n",
              "Product Availability      833\n",
              "Product Comparison        806\n",
              "Shipping                  799\n",
              "Returns & Refunds         768\n",
              "Sales/Promotions          505\n",
              "Omnichannel               450\n",
              "Name: topic, dtype: int64"
            ]
          },
          "metadata": {},
          "execution_count": 3
        }
      ]
    },
    {
      "cell_type": "markdown",
      "metadata": {
        "id": "FsBgU1H35rQG"
      },
      "source": [
        "![](https://jalammar.github.io/images/bert-classifier.png)\n",
        "\n",
        "Great resource: https://jalammar.github.io/illustrated-bert/"
      ]
    },
    {
      "cell_type": "code",
      "metadata": {
        "colab": {
          "base_uri": "https://localhost:8080/"
        },
        "id": "giSfVNm7zQ91",
        "outputId": "e04200e3-344c-4218-d25d-4d881f068106"
      },
      "source": [
        "# setup the BERT Model \n",
        "model = Classifier(base_model=BERT, low_memory_mode=True, n_epochs=3, batch_size=100)"
      ],
      "execution_count": null,
      "outputs": [
        {
          "output_type": "stream",
          "name": "stdout",
          "text": [
            "Downloading: bert_small_cased-v2.jl\n"
          ]
        },
        {
          "output_type": "stream",
          "name": "stderr",
          "text": [
            "100%|██████████| 436M/436M [00:50<00:00, 8.59MiB/s]\n"
          ]
        },
        {
          "output_type": "stream",
          "name": "stdout",
          "text": [
            "Downloading: vocab.txt\n"
          ]
        },
        {
          "output_type": "stream",
          "name": "stderr",
          "text": [
            "100%|██████████| 213k/213k [00:00<00:00, 293kiB/s]\n",
            "INFO:finetune:Saving tensorboard output to /tmp/Finetunefeufmmlc\n"
          ]
        }
      ]
    },
    {
      "cell_type": "code",
      "metadata": {
        "colab": {
          "base_uri": "https://localhost:8080/",
          "height": 143
        },
        "id": "STHzkapM0t-V",
        "outputId": "cb8fcc28-b880-4a95-e5d3-72d2b13f6f59"
      },
      "source": [
        "# what do we have?\n",
        "df.sample(3)"
      ],
      "execution_count": null,
      "outputs": [
        {
          "output_type": "execute_result",
          "data": {
            "text/html": [
              "<div>\n",
              "<style scoped>\n",
              "    .dataframe tbody tr th:only-of-type {\n",
              "        vertical-align: middle;\n",
              "    }\n",
              "\n",
              "    .dataframe tbody tr th {\n",
              "        vertical-align: top;\n",
              "    }\n",
              "\n",
              "    .dataframe thead th {\n",
              "        text-align: right;\n",
              "    }\n",
              "</style>\n",
              "<table border=\"1\" class=\"dataframe\">\n",
              "  <thead>\n",
              "    <tr style=\"text-align: right;\">\n",
              "      <th></th>\n",
              "      <th>id</th>\n",
              "      <th>text</th>\n",
              "      <th>topic</th>\n",
              "    </tr>\n",
              "  </thead>\n",
              "  <tbody>\n",
              "    <tr>\n",
              "      <th>1501</th>\n",
              "      <td>3303</td>\n",
              "      <td>Do you have any first time shopper discounts I...</td>\n",
              "      <td>Sales/Promotions</td>\n",
              "    </tr>\n",
              "    <tr>\n",
              "      <th>2586</th>\n",
              "      <td>607</td>\n",
              "      <td>Id like to find a fragrance that is a little f...</td>\n",
              "      <td>Product Comparison</td>\n",
              "    </tr>\n",
              "    <tr>\n",
              "      <th>2653</th>\n",
              "      <td>953</td>\n",
              "      <td>I was looking at both the Frigidaire window ai...</td>\n",
              "      <td>Product Comparison</td>\n",
              "    </tr>\n",
              "  </tbody>\n",
              "</table>\n",
              "</div>"
            ],
            "text/plain": [
              "        id  ...               topic\n",
              "1501  3303  ...    Sales/Promotions\n",
              "2586   607  ...  Product Comparison\n",
              "2653   953  ...  Product Comparison\n",
              "\n",
              "[3 rows x 3 columns]"
            ]
          },
          "metadata": {},
          "execution_count": 5
        }
      ]
    },
    {
      "cell_type": "code",
      "metadata": {
        "colab": {
          "base_uri": "https://localhost:8080/"
        },
        "id": "hzWG_-qwz6sm",
        "outputId": "e6c66f7d-5d5c-4b4a-f7a3-5ce1efdd48b9"
      },
      "source": [
        "# setup the data\n",
        "X = df.text.to_list()\n",
        "y = df.topic\n",
        "\n",
        "\n",
        "# finetune the model\n",
        "model.fit(X, y)"
      ],
      "execution_count": null,
      "outputs": [
        {
          "output_type": "stream",
          "name": "stderr",
          "text": [
            "INFO:finetune: Visible GPUs: {GPU:/physical_device:GPU:0}\n",
            "Epoch 3/3: 100%|██████████| 5000/5000 [01:15<00:00, 66.04it/s]\n"
          ]
        }
      ]
    },
    {
      "cell_type": "markdown",
      "metadata": {
        "id": "TxI8p1NK021n"
      },
      "source": [
        "> Above took almost 4.5 minutes with a GPU "
      ]
    },
    {
      "cell_type": "code",
      "metadata": {
        "colab": {
          "base_uri": "https://localhost:8080/"
        },
        "id": "FyJWGa7C325f",
        "outputId": "723dc5f2-7be4-4b96-904e-64329cdb0d80"
      },
      "source": [
        "# lets make some predictions\n",
        "df.text.sample(3)"
      ],
      "execution_count": null,
      "outputs": [
        {
          "output_type": "execute_result",
          "data": {
            "text/plain": [
              "1105    Is there a Vitamin Shoppe close to Madison, Wi...\n",
              "1176    If I order the Pelle Sconce, #8554961, but if ...\n",
              "511     When it comes to the Photo Finish Lash Primer ...\n",
              "Name: text, dtype: object"
            ]
          },
          "metadata": {},
          "execution_count": 8
        }
      ]
    },
    {
      "cell_type": "code",
      "metadata": {
        "colab": {
          "base_uri": "https://localhost:8080/"
        },
        "id": "1Sf5-HiZ3-kw",
        "outputId": "afcee5ce-08d4-4da9-85d7-14527c5b964b"
      },
      "source": [
        "model.predict([\"If I order by tomorrow, will I get the stapler in time for the weekend?\"])"
      ],
      "execution_count": null,
      "outputs": [
        {
          "output_type": "stream",
          "name": "stderr",
          "text": [
            "\rInference: 0it [00:00, ?it/s]/usr/local/lib/python3.7/dist-packages/finetune/base_models/bert/modeling.py:818: UserWarning: `tf.layers.dense` is deprecated and will be removed in a future version. Please use `tf.keras.layers.Dense` instead.\n",
            "  kernel_initializer=create_initializer(initializer_range),\n",
            "/usr/local/lib/python3.7/dist-packages/keras/legacy_tf_layers/core.py:255: UserWarning: `layer.apply` is deprecated and will be removed in a future version. Please use `layer.__call__` method instead.\n",
            "  return layer.apply(inputs)\n",
            "/usr/local/lib/python3.7/dist-packages/finetune/base_models/bert/modeling.py:827: UserWarning: `tf.layers.dense` is deprecated and will be removed in a future version. Please use `tf.keras.layers.Dense` instead.\n",
            "  kernel_initializer=create_initializer(initializer_range),\n",
            "/usr/local/lib/python3.7/dist-packages/finetune/base_models/bert/modeling.py:836: UserWarning: `tf.layers.dense` is deprecated and will be removed in a future version. Please use `tf.keras.layers.Dense` instead.\n",
            "  kernel_initializer=create_initializer(initializer_range),\n",
            "/usr/local/lib/python3.7/dist-packages/finetune/base_models/bert/modeling.py:954: UserWarning: `tf.layers.dense` is deprecated and will be removed in a future version. Please use `tf.keras.layers.Dense` instead.\n",
            "  kernel_initializer=create_initializer(initializer_range))\n",
            "/usr/local/lib/python3.7/dist-packages/finetune/base_models/bert/modeling.py:964: UserWarning: `tf.layers.dense` is deprecated and will be removed in a future version. Please use `tf.keras.layers.Dense` instead.\n",
            "  kernel_initializer=create_initializer(initializer_range))\n",
            "/usr/local/lib/python3.7/dist-packages/finetune/base_models/bert/modeling.py:971: UserWarning: `tf.layers.dense` is deprecated and will be removed in a future version. Please use `tf.keras.layers.Dense` instead.\n",
            "  kernel_initializer=create_initializer(initializer_range))\n",
            "/usr/local/lib/python3.7/dist-packages/finetune/base_models/bert/modeling.py:269: UserWarning: `tf.layers.dense` is deprecated and will be removed in a future version. Please use `tf.keras.layers.Dense` instead.\n",
            "  kernel_initializer=create_initializer(config.initializer_range),\n",
            "Inference: 1it [00:04,  4.45s/it]\n"
          ]
        },
        {
          "output_type": "execute_result",
          "data": {
            "text/plain": [
              "['Shipping']"
            ]
          },
          "metadata": {},
          "execution_count": 9
        }
      ]
    },
    {
      "cell_type": "code",
      "metadata": {
        "colab": {
          "base_uri": "https://localhost:8080/"
        },
        "id": "9Jt9fpAe4Kus",
        "outputId": "2750a88c-8e4e-40a8-c8df-3d4f093c83dc"
      },
      "source": [
        "model.predict([\"Is there a location near Boston?\"])"
      ],
      "execution_count": null,
      "outputs": [
        {
          "output_type": "stream",
          "name": "stderr",
          "text": [
            "\rInference: 0it [00:00, ?it/s]/usr/local/lib/python3.7/dist-packages/finetune/base_models/bert/modeling.py:818: UserWarning: `tf.layers.dense` is deprecated and will be removed in a future version. Please use `tf.keras.layers.Dense` instead.\n",
            "  kernel_initializer=create_initializer(initializer_range),\n",
            "/usr/local/lib/python3.7/dist-packages/keras/legacy_tf_layers/core.py:255: UserWarning: `layer.apply` is deprecated and will be removed in a future version. Please use `layer.__call__` method instead.\n",
            "  return layer.apply(inputs)\n",
            "/usr/local/lib/python3.7/dist-packages/finetune/base_models/bert/modeling.py:827: UserWarning: `tf.layers.dense` is deprecated and will be removed in a future version. Please use `tf.keras.layers.Dense` instead.\n",
            "  kernel_initializer=create_initializer(initializer_range),\n",
            "/usr/local/lib/python3.7/dist-packages/finetune/base_models/bert/modeling.py:836: UserWarning: `tf.layers.dense` is deprecated and will be removed in a future version. Please use `tf.keras.layers.Dense` instead.\n",
            "  kernel_initializer=create_initializer(initializer_range),\n",
            "/usr/local/lib/python3.7/dist-packages/finetune/base_models/bert/modeling.py:954: UserWarning: `tf.layers.dense` is deprecated and will be removed in a future version. Please use `tf.keras.layers.Dense` instead.\n",
            "  kernel_initializer=create_initializer(initializer_range))\n",
            "/usr/local/lib/python3.7/dist-packages/finetune/base_models/bert/modeling.py:964: UserWarning: `tf.layers.dense` is deprecated and will be removed in a future version. Please use `tf.keras.layers.Dense` instead.\n",
            "  kernel_initializer=create_initializer(initializer_range))\n",
            "/usr/local/lib/python3.7/dist-packages/finetune/base_models/bert/modeling.py:971: UserWarning: `tf.layers.dense` is deprecated and will be removed in a future version. Please use `tf.keras.layers.Dense` instead.\n",
            "  kernel_initializer=create_initializer(initializer_range))\n",
            "/usr/local/lib/python3.7/dist-packages/finetune/base_models/bert/modeling.py:269: UserWarning: `tf.layers.dense` is deprecated and will be removed in a future version. Please use `tf.keras.layers.Dense` instead.\n",
            "  kernel_initializer=create_initializer(config.initializer_range),\n",
            "Inference: 1it [00:04,  4.53s/it]\n"
          ]
        },
        {
          "output_type": "execute_result",
          "data": {
            "text/plain": [
              "['Omnichannel']"
            ]
          },
          "metadata": {},
          "execution_count": 10
        }
      ]
    },
    {
      "cell_type": "code",
      "metadata": {
        "id": "GLY9piQu4TPj"
      },
      "source": [
        "# do this in bulk\n",
        "msgs = df.text.sample(10).to_list()"
      ],
      "execution_count": null,
      "outputs": []
    },
    {
      "cell_type": "code",
      "metadata": {
        "colab": {
          "base_uri": "https://localhost:8080/"
        },
        "id": "gDAFJ2Vh4fdD",
        "outputId": "3f0acf28-cfb9-4390-f206-2c1daa72af42"
      },
      "source": [
        "preds = model.predict(msgs)"
      ],
      "execution_count": null,
      "outputs": [
        {
          "output_type": "stream",
          "name": "stderr",
          "text": [
            "\rInference: 0it [00:00, ?it/s]/usr/local/lib/python3.7/dist-packages/finetune/base_models/bert/modeling.py:818: UserWarning: `tf.layers.dense` is deprecated and will be removed in a future version. Please use `tf.keras.layers.Dense` instead.\n",
            "  kernel_initializer=create_initializer(initializer_range),\n",
            "/usr/local/lib/python3.7/dist-packages/keras/legacy_tf_layers/core.py:255: UserWarning: `layer.apply` is deprecated and will be removed in a future version. Please use `layer.__call__` method instead.\n",
            "  return layer.apply(inputs)\n",
            "/usr/local/lib/python3.7/dist-packages/finetune/base_models/bert/modeling.py:827: UserWarning: `tf.layers.dense` is deprecated and will be removed in a future version. Please use `tf.keras.layers.Dense` instead.\n",
            "  kernel_initializer=create_initializer(initializer_range),\n",
            "/usr/local/lib/python3.7/dist-packages/finetune/base_models/bert/modeling.py:836: UserWarning: `tf.layers.dense` is deprecated and will be removed in a future version. Please use `tf.keras.layers.Dense` instead.\n",
            "  kernel_initializer=create_initializer(initializer_range),\n",
            "/usr/local/lib/python3.7/dist-packages/finetune/base_models/bert/modeling.py:954: UserWarning: `tf.layers.dense` is deprecated and will be removed in a future version. Please use `tf.keras.layers.Dense` instead.\n",
            "  kernel_initializer=create_initializer(initializer_range))\n",
            "/usr/local/lib/python3.7/dist-packages/finetune/base_models/bert/modeling.py:964: UserWarning: `tf.layers.dense` is deprecated and will be removed in a future version. Please use `tf.keras.layers.Dense` instead.\n",
            "  kernel_initializer=create_initializer(initializer_range))\n",
            "/usr/local/lib/python3.7/dist-packages/finetune/base_models/bert/modeling.py:971: UserWarning: `tf.layers.dense` is deprecated and will be removed in a future version. Please use `tf.keras.layers.Dense` instead.\n",
            "  kernel_initializer=create_initializer(initializer_range))\n",
            "/usr/local/lib/python3.7/dist-packages/finetune/base_models/bert/modeling.py:269: UserWarning: `tf.layers.dense` is deprecated and will be removed in a future version. Please use `tf.keras.layers.Dense` instead.\n",
            "  kernel_initializer=create_initializer(config.initializer_range),\n",
            "Inference: 10it [00:04,  2.39it/s]\n"
          ]
        }
      ]
    },
    {
      "cell_type": "code",
      "metadata": {
        "colab": {
          "base_uri": "https://localhost:8080/"
        },
        "id": "DWDQCYGK4jz-",
        "outputId": "4a3bbe84-33d1-4c00-c76f-9c8f81c88490"
      },
      "source": [
        "preds"
      ],
      "execution_count": null,
      "outputs": [
        {
          "output_type": "execute_result",
          "data": {
            "text/plain": [
              "['Returns & Refunds',\n",
              " 'Product Comparison',\n",
              " 'Product Availability',\n",
              " 'Returns & Refunds',\n",
              " 'Sales/Promotions',\n",
              " 'Sales/Promotions',\n",
              " 'Omnichannel',\n",
              " 'Omnichannel',\n",
              " 'Product Specifications',\n",
              " 'Returns & Refunds']"
            ]
          },
          "metadata": {},
          "execution_count": 13
        }
      ]
    },
    {
      "cell_type": "code",
      "metadata": {
        "colab": {
          "base_uri": "https://localhost:8080/"
        },
        "id": "GiEeaVcV4mK3",
        "outputId": "15ae78a1-8946-4460-ed6f-b28e52d1c47f"
      },
      "source": [
        "# finally, for the full dataset -- about 30 seconds\n",
        "preds = model.predict(df.text.to_list())"
      ],
      "execution_count": null,
      "outputs": [
        {
          "output_type": "stream",
          "name": "stderr",
          "text": [
            "\rInference: 0it [00:00, ?it/s]/usr/local/lib/python3.7/dist-packages/finetune/base_models/bert/modeling.py:818: UserWarning: `tf.layers.dense` is deprecated and will be removed in a future version. Please use `tf.keras.layers.Dense` instead.\n",
            "  kernel_initializer=create_initializer(initializer_range),\n",
            "/usr/local/lib/python3.7/dist-packages/keras/legacy_tf_layers/core.py:255: UserWarning: `layer.apply` is deprecated and will be removed in a future version. Please use `layer.__call__` method instead.\n",
            "  return layer.apply(inputs)\n",
            "/usr/local/lib/python3.7/dist-packages/finetune/base_models/bert/modeling.py:827: UserWarning: `tf.layers.dense` is deprecated and will be removed in a future version. Please use `tf.keras.layers.Dense` instead.\n",
            "  kernel_initializer=create_initializer(initializer_range),\n",
            "/usr/local/lib/python3.7/dist-packages/finetune/base_models/bert/modeling.py:836: UserWarning: `tf.layers.dense` is deprecated and will be removed in a future version. Please use `tf.keras.layers.Dense` instead.\n",
            "  kernel_initializer=create_initializer(initializer_range),\n",
            "/usr/local/lib/python3.7/dist-packages/finetune/base_models/bert/modeling.py:954: UserWarning: `tf.layers.dense` is deprecated and will be removed in a future version. Please use `tf.keras.layers.Dense` instead.\n",
            "  kernel_initializer=create_initializer(initializer_range))\n",
            "/usr/local/lib/python3.7/dist-packages/finetune/base_models/bert/modeling.py:964: UserWarning: `tf.layers.dense` is deprecated and will be removed in a future version. Please use `tf.keras.layers.Dense` instead.\n",
            "  kernel_initializer=create_initializer(initializer_range))\n",
            "/usr/local/lib/python3.7/dist-packages/finetune/base_models/bert/modeling.py:971: UserWarning: `tf.layers.dense` is deprecated and will be removed in a future version. Please use `tf.keras.layers.Dense` instead.\n",
            "  kernel_initializer=create_initializer(initializer_range))\n",
            "/usr/local/lib/python3.7/dist-packages/finetune/base_models/bert/modeling.py:269: UserWarning: `tf.layers.dense` is deprecated and will be removed in a future version. Please use `tf.keras.layers.Dense` instead.\n",
            "  kernel_initializer=create_initializer(config.initializer_range),\n",
            "Inference: 5000it [00:25, 199.20it/s]\n"
          ]
        }
      ]
    },
    {
      "cell_type": "code",
      "metadata": {
        "id": "pxbdaLqe4rSU"
      },
      "source": [
        "df['pred'] = preds"
      ],
      "execution_count": null,
      "outputs": []
    },
    {
      "cell_type": "code",
      "metadata": {
        "colab": {
          "base_uri": "https://localhost:8080/"
        },
        "id": "oJElOtqT42RO",
        "outputId": "fa3655bf-eb4c-4e3f-bb44-d75ad4ada730"
      },
      "source": [
        "cr = metrics.classification_report(df.topic, preds)\n",
        "print(cr)"
      ],
      "execution_count": null,
      "outputs": [
        {
          "output_type": "stream",
          "name": "stdout",
          "text": [
            "                        precision    recall  f1-score   support\n",
            "\n",
            "           Omnichannel       1.00      0.95      0.97       450\n",
            "  Product Availability       0.93      0.98      0.95       833\n",
            "    Product Comparison       0.99      1.00      0.99       806\n",
            "Product Specifications       0.98      0.97      0.97       839\n",
            "     Returns & Refunds       0.95      0.99      0.97       768\n",
            "      Sales/Promotions       0.96      0.86      0.91       505\n",
            "              Shipping       0.98      0.98      0.98       799\n",
            "\n",
            "              accuracy                           0.97      5000\n",
            "             macro avg       0.97      0.96      0.97      5000\n",
            "          weighted avg       0.97      0.97      0.97      5000\n",
            "\n"
          ]
        }
      ]
    },
    {
      "cell_type": "markdown",
      "metadata": {
        "id": "dOakGn1g49V0"
      },
      "source": [
        "# Compare to sklearn"
      ]
    },
    {
      "cell_type": "code",
      "metadata": {
        "id": "YVS0LmNW5Fyu"
      },
      "source": [
        "from sklearn.pipeline import Pipeline \n",
        "from sklearn.feature_extraction.text import TfidfVectorizer\n",
        "from sklearn.tree import DecisionTreeClassifier\n",
        "from sklearn.linear_model import LogisticRegression"
      ],
      "execution_count": null,
      "outputs": []
    },
    {
      "cell_type": "markdown",
      "metadata": {
        "id": "lBCMqhG35sJb"
      },
      "source": [
        "# Tree - Lets Get a Baseline"
      ]
    },
    {
      "cell_type": "code",
      "metadata": {
        "id": "nLouJjDc57g5"
      },
      "source": [
        "steps = [(\"vec\", TfidfVectorizer()),\n",
        "         (\"clf\", DecisionTreeClassifier(max_depth=10, min_samples_leaf=15, min_samples_split=30))]\n",
        "\n",
        "pipe_tree = Pipeline(steps)"
      ],
      "execution_count": null,
      "outputs": []
    },
    {
      "cell_type": "code",
      "metadata": {
        "colab": {
          "base_uri": "https://localhost:8080/"
        },
        "id": "KbeWeVqT6Gx2",
        "outputId": "21926da3-478c-4032-8f62-047994f1beb1"
      },
      "source": [
        "pipe_tree.fit(X, y)"
      ],
      "execution_count": null,
      "outputs": [
        {
          "output_type": "execute_result",
          "data": {
            "text/plain": [
              "Pipeline(memory=None,\n",
              "         steps=[('vec',\n",
              "                 TfidfVectorizer(analyzer='word', binary=False,\n",
              "                                 decode_error='strict',\n",
              "                                 dtype=<class 'numpy.float64'>,\n",
              "                                 encoding='utf-8', input='content',\n",
              "                                 lowercase=True, max_df=1.0, max_features=None,\n",
              "                                 min_df=1, ngram_range=(1, 1), norm='l2',\n",
              "                                 preprocessor=None, smooth_idf=True,\n",
              "                                 stop_words=None, strip_accents=None,\n",
              "                                 sublinear_tf=False,\n",
              "                                 token_pattern='(?...\n",
              "                                 tokenizer=None, use_idf=True,\n",
              "                                 vocabulary=None)),\n",
              "                ('clf',\n",
              "                 DecisionTreeClassifier(ccp_alpha=0.0, class_weight=None,\n",
              "                                        criterion='gini', max_depth=10,\n",
              "                                        max_features=None, max_leaf_nodes=None,\n",
              "                                        min_impurity_decrease=0.0,\n",
              "                                        min_impurity_split=None,\n",
              "                                        min_samples_leaf=15,\n",
              "                                        min_samples_split=30,\n",
              "                                        min_weight_fraction_leaf=0.0,\n",
              "                                        presort='deprecated', random_state=None,\n",
              "                                        splitter='best'))],\n",
              "         verbose=False)"
            ]
          },
          "metadata": {},
          "execution_count": 25
        }
      ]
    },
    {
      "cell_type": "code",
      "metadata": {
        "id": "bZ-3Bj9C6ISo"
      },
      "source": [
        "df['preds3'] = pipe_tree.predict(X)"
      ],
      "execution_count": null,
      "outputs": []
    },
    {
      "cell_type": "code",
      "metadata": {
        "colab": {
          "base_uri": "https://localhost:8080/"
        },
        "id": "S--3v1vZ6NWU",
        "outputId": "7b65de12-44ce-455b-a033-f8a0d71299db"
      },
      "source": [
        "cr3 = metrics.classification_report(df.topic, df.preds3)\n",
        "print(cr3)"
      ],
      "execution_count": null,
      "outputs": [
        {
          "output_type": "stream",
          "name": "stdout",
          "text": [
            "                        precision    recall  f1-score   support\n",
            "\n",
            "           Omnichannel       0.91      0.71      0.80       450\n",
            "  Product Availability       0.77      0.88      0.82       833\n",
            "    Product Comparison       0.96      0.85      0.90       806\n",
            "Product Specifications       0.66      0.87      0.75       839\n",
            "     Returns & Refunds       0.96      0.89      0.93       768\n",
            "      Sales/Promotions       0.84      0.66      0.74       505\n",
            "              Shipping       0.93      0.89      0.91       799\n",
            "\n",
            "              accuracy                           0.84      5000\n",
            "             macro avg       0.86      0.82      0.83      5000\n",
            "          weighted avg       0.86      0.84      0.84      5000\n",
            "\n"
          ]
        }
      ]
    },
    {
      "cell_type": "code",
      "metadata": {
        "id": "282aEzq76Rpu"
      },
      "source": [
        ""
      ],
      "execution_count": null,
      "outputs": []
    },
    {
      "cell_type": "code",
      "metadata": {
        "id": "53R1ppwPjC1n"
      },
      "source": [
        ""
      ],
      "execution_count": null,
      "outputs": []
    }
  ]
}