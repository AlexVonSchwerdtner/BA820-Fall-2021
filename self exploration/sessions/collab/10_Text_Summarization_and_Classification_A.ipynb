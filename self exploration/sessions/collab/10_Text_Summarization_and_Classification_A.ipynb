{
  "nbformat": 4,
  "nbformat_minor": 0,
  "metadata": {
    "colab": {
      "name": "10 - Text - Summarization and Classification - A",
      "provenance": [],
      "collapsed_sections": []
    },
    "kernelspec": {
      "name": "python3",
      "display_name": "Python 3"
    },
    "language_info": {
      "name": "python"
    }
  },
  "cells": [
    {
      "cell_type": "code",
      "metadata": {
        "id": "yjl1uas62G5u"
      },
      "source": [
        "##############################################################################\n",
        "## Fundamentals for pratical Text Analytics - classification tasks and applications\n",
        "##\n",
        "## Learning goals:\n",
        "##                 - reinforce text as a robust dataset via language modeling and understanding\n",
        "##                 - python packages for handling our corpus for these exploratory tasks\n",
        "##                 - a little more spacy\n",
        "##                 - text classification discussions and include it in other pipelines\n",
        "##############################################################################"
      ],
      "execution_count": null,
      "outputs": []
    },
    {
      "cell_type": "code",
      "metadata": {
        "id": "d8N_nvFY2g9o"
      },
      "source": [
        "# installs \n",
        "! pip install newspaper3k\n",
        "! pip install -U spacy\n",
        "! pip install afinn\n",
        "! pip install spacytextblob\n",
        "! pip install pysrt\n",
        "! pip install textdescriptives\n",
        "! pip install tokenwiser\n",
        "\n",
        "## you may need to restart the colab kernel"
      ],
      "execution_count": null,
      "outputs": []
    },
    {
      "cell_type": "code",
      "metadata": {
        "id": "hap4Oh5l2hb2",
        "colab": {
          "base_uri": "https://localhost:8080/"
        },
        "outputId": "d7969b73-f8d5-48dd-a0b7-9c910c409d77"
      },
      "source": [
        "# imports\n",
        "import numpy as np\n",
        "import pandas as pd\n",
        "import seaborn as sns\n",
        "import matplotlib.pyplot as plt\n",
        "\n",
        "\n",
        "# text imports\n",
        "import spacy\n",
        "from spacy import cli\n",
        "from spacytextblob.spacytextblob import SpacyTextBlob\n",
        "import textdescriptives as td\n",
        "import tokenwiser\n",
        "\n",
        "from sklearn.feature_extraction.text import CountVectorizer, TfidfVectorizer  \n",
        "from sklearn.linear_model import LogisticRegression\n",
        "from sklearn.tree import DecisionTreeClassifier\n",
        "from sklearn.pipeline import Pipeline\n",
        "import nltk\n",
        "from nltk.corpus import stopwords\n",
        "nltk.download('stopwords')\n",
        "nltk.download('punkt')\n",
        "\n",
        "import gensim\n",
        "\n",
        "from afinn import Afinn\n",
        "from newspaper import Article\n",
        "\n",
        "import warnings\n",
        "warnings.filterwarnings(\"ignore\")"
      ],
      "execution_count": null,
      "outputs": [
        {
          "output_type": "stream",
          "name": "stdout",
          "text": [
            "[nltk_data] Downloading package stopwords to /root/nltk_data...\n",
            "[nltk_data]   Unzipping corpora/stopwords.zip.\n",
            "[nltk_data] Downloading package punkt to /root/nltk_data...\n",
            "[nltk_data]   Unzipping tokenizers/punkt.zip.\n"
          ]
        }
      ]
    },
    {
      "cell_type": "code",
      "metadata": {
        "id": "6giVENMf2hgE"
      },
      "source": [
        ""
      ],
      "execution_count": null,
      "outputs": []
    },
    {
      "cell_type": "code",
      "metadata": {
        "id": "WiTrz7hhafGg"
      },
      "source": [
        "##################################### WARMUP Exercise\n",
        "##################################### \n",
        "## there is a file located below: \n",
        "##     https://storage.googleapis.com/qst-datasets/subtitles/Shrek-2001.srt\n",
        "## there is also some started code below\n",
        "## calculate the sentiment over the course of the movie script (Shrek)\n",
        "## plot the sentiment arc over the movie\n",
        "##\n",
        "## Some started code has been provided to you"
      ],
      "execution_count": null,
      "outputs": []
    },
    {
      "cell_type": "code",
      "metadata": {
        "id": "AXH25lavcpS1"
      },
      "source": [
        "# 0. get the file - the file in the browser will auto download\n",
        "#    just make sure you have the file in your working directory\n",
        "\n",
        "# or if on colab\n",
        "! wget https://storage.googleapis.com/qst-datasets/subtitles/Shrek-2001.srt"
      ],
      "execution_count": null,
      "outputs": []
    },
    {
      "cell_type": "code",
      "metadata": {
        "id": "2-d1CJKQafKe"
      },
      "source": [
        "# 1. get the file and parse\n",
        "\n",
        "import pysrt\n",
        "subs = pysrt.open('Shrek-2001.srt', encoding='iso-8859-1')"
      ],
      "execution_count": null,
      "outputs": []
    },
    {
      "cell_type": "code",
      "metadata": {
        "id": "aTzQNo024flz",
        "colab": {
          "base_uri": "https://localhost:8080/"
        },
        "outputId": "97adb997-c9f7-4709-e53d-b685c11b76c5"
      },
      "source": [
        "# the first message -- each entry has a text attribute we can use to build our corpus\n",
        "print(subs[0].text)"
      ],
      "execution_count": null,
      "outputs": [
        {
          "output_type": "stream",
          "name": "stdout",
          "text": [
            "Once upon a time there\n",
            "was a lovely princess.\n"
          ]
        }
      ]
    },
    {
      "cell_type": "code",
      "metadata": {
        "colab": {
          "base_uri": "https://localhost:8080/"
        },
        "id": "Dg2eqOwOKnhH",
        "outputId": "ac758d00-f942-44f2-e4c6-9b8016990094"
      },
      "source": [
        "len(subs)"
      ],
      "execution_count": null,
      "outputs": [
        {
          "output_type": "execute_result",
          "data": {
            "text/plain": [
              "1097"
            ]
          },
          "metadata": {},
          "execution_count": 5
        }
      ]
    },
    {
      "cell_type": "code",
      "metadata": {
        "id": "imCuvmJ4afPD",
        "colab": {
          "base_uri": "https://localhost:8080/"
        },
        "outputId": "1801902b-d798-48b2-b822-366faaf876fe"
      },
      "source": [
        "# make a corpus (list of texts)\n",
        "corpus = [sub.text for sub in subs]\n",
        "\n",
        "corpus[:3]"
      ],
      "execution_count": null,
      "outputs": [
        {
          "output_type": "execute_result",
          "data": {
            "text/plain": [
              "['Once upon a time there\\nwas a lovely princess.',\n",
              " 'But she had an enchantment upon her\\nof a fearful sort,',\n",
              " \"which could only be broken\\nby Love's first kiss.\"]"
            ]
          },
          "metadata": {},
          "execution_count": 7
        }
      ]
    },
    {
      "cell_type": "code",
      "metadata": {
        "id": "ZorwTuMuo9cK"
      },
      "source": [
        "# score the sentiment\n",
        "# Afinn\n",
        "\n",
        "afinn = Afinn(\"en\")\n",
        "\n",
        "sents = [afinn.score(doc) for doc in corpus]\n"
      ],
      "execution_count": null,
      "outputs": []
    },
    {
      "cell_type": "code",
      "metadata": {
        "id": "Rpeovru6o9Y5",
        "colab": {
          "base_uri": "https://localhost:8080/"
        },
        "outputId": "e25856a2-c020-4ecf-fba0-80f2f0d9a31d"
      },
      "source": [
        "sents[:3]"
      ],
      "execution_count": null,
      "outputs": [
        {
          "output_type": "execute_result",
          "data": {
            "text/plain": [
              "[3.0, -2.0, 4.0]"
            ]
          },
          "metadata": {},
          "execution_count": 10
        }
      ]
    },
    {
      "cell_type": "code",
      "metadata": {
        "id": "Tjk2YkpSo9T_"
      },
      "source": [
        "# hypothesis - can we use sentiment analysis to proxy\n",
        "# for the arc of a story\n",
        "\n",
        "df = pd.DataFrame({'scene':corpus, 'sent':sents})"
      ],
      "execution_count": null,
      "outputs": []
    },
    {
      "cell_type": "code",
      "metadata": {
        "colab": {
          "base_uri": "https://localhost:8080/",
          "height": 143
        },
        "id": "Y3iujUNYLdeQ",
        "outputId": "542cd645-74d4-463e-88f5-b0a63bfd8666"
      },
      "source": [
        "df.head(3)"
      ],
      "execution_count": null,
      "outputs": [
        {
          "output_type": "execute_result",
          "data": {
            "text/html": [
              "<div>\n",
              "<style scoped>\n",
              "    .dataframe tbody tr th:only-of-type {\n",
              "        vertical-align: middle;\n",
              "    }\n",
              "\n",
              "    .dataframe tbody tr th {\n",
              "        vertical-align: top;\n",
              "    }\n",
              "\n",
              "    .dataframe thead th {\n",
              "        text-align: right;\n",
              "    }\n",
              "</style>\n",
              "<table border=\"1\" class=\"dataframe\">\n",
              "  <thead>\n",
              "    <tr style=\"text-align: right;\">\n",
              "      <th></th>\n",
              "      <th>scene</th>\n",
              "      <th>sent</th>\n",
              "    </tr>\n",
              "  </thead>\n",
              "  <tbody>\n",
              "    <tr>\n",
              "      <th>0</th>\n",
              "      <td>Once upon a time there\\nwas a lovely princess.</td>\n",
              "      <td>3.0</td>\n",
              "    </tr>\n",
              "    <tr>\n",
              "      <th>1</th>\n",
              "      <td>But she had an enchantment upon her\\nof a fear...</td>\n",
              "      <td>-2.0</td>\n",
              "    </tr>\n",
              "    <tr>\n",
              "      <th>2</th>\n",
              "      <td>which could only be broken\\nby Love's first kiss.</td>\n",
              "      <td>4.0</td>\n",
              "    </tr>\n",
              "  </tbody>\n",
              "</table>\n",
              "</div>"
            ],
            "text/plain": [
              "                                               scene  sent\n",
              "0     Once upon a time there\\nwas a lovely princess.   3.0\n",
              "1  But she had an enchantment upon her\\nof a fear...  -2.0\n",
              "2  which could only be broken\\nby Love's first kiss.   4.0"
            ]
          },
          "metadata": {},
          "execution_count": 12
        }
      ]
    },
    {
      "cell_type": "code",
      "metadata": {
        "colab": {
          "base_uri": "https://localhost:8080/",
          "height": 283
        },
        "id": "YsqfAbiZLdlm",
        "outputId": "845851cc-82a4-42a4-9c3e-83c4d32a6ed9"
      },
      "source": [
        "# plot\n",
        "sns.lineplot(x=df.index, y=\"sent\", data=df)"
      ],
      "execution_count": null,
      "outputs": [
        {
          "output_type": "execute_result",
          "data": {
            "text/plain": [
              "<matplotlib.axes._subplots.AxesSubplot at 0x7f325a4528d0>"
            ]
          },
          "metadata": {},
          "execution_count": 13
        },
        {
          "output_type": "display_data",
          "data": {
            "image/png": "[encoded data removed]",
            "text/plain": [
              "<Figure size 432x288 with 1 Axes>"
            ]
          },
          "metadata": {
            "needs_background": "light"
          }
        }
      ]
    },
    {
      "cell_type": "code",
      "metadata": {
        "colab": {
          "base_uri": "https://localhost:8080/",
          "height": 265
        },
        "id": "9cWaWuGFLdrz",
        "outputId": "ecf814f3-1f25-4136-e052-c0b72d8d0096"
      },
      "source": [
        "# moving average\n",
        "\n",
        "df['ma20'] = df.sent.rolling(20).mean()\n",
        "plt.figure(figsize=(10,4))\n",
        "sns.lineplot(x=df.index, y=\"ma20\", data=df)\n",
        "plt.show()"
      ],
      "execution_count": null,
      "outputs": [
        {
          "output_type": "display_data",
          "data": {
            "image/png": "[encoded data removed]",
            "text/plain": [
              "<Figure size 720x288 with 1 Axes>"
            ]
          },
          "metadata": {
            "needs_background": "light"
          }
        }
      ]
    },
    {
      "cell_type": "code",
      "metadata": {
        "id": "FDpNaUUFLdzL"
      },
      "source": [
        ""
      ],
      "execution_count": null,
      "outputs": []
    },
    {
      "cell_type": "code",
      "metadata": {
        "id": "7yeFIZwI2hle"
      },
      "source": [
        "##################################### Quick Recap - Tokenization\n",
        "##################################### \n",
        "## nltk has built in tokenizers\n",
        "## lets extend what we saw in the context of a sklearn flow\n",
        "\n",
        "from nltk.tokenize import word_tokenize, TweetTokenizer"
      ],
      "execution_count": null,
      "outputs": []
    },
    {
      "cell_type": "code",
      "metadata": {
        "id": "qLIJG-9m2hoH"
      },
      "source": [
        "# a simple corpus\n",
        "\n",
        "corpus = ['Brock has a dog named Bodhi', \n",
        "          '@brocktibert loves to write code in #pydata']"
      ],
      "execution_count": null,
      "outputs": []
    },
    {
      "cell_type": "code",
      "metadata": {
        "id": "u54CaI4b2hqJ",
        "colab": {
          "base_uri": "https://localhost:8080/"
        },
        "outputId": "0b43fd43-d79c-47ad-f915-4b1a48aba629"
      },
      "source": [
        "# word tokenizer is basic\n",
        "# this is helpful as a starting point -- we will see some tools want a list of lists, with each entry considered a token\n",
        "\n",
        "[word_tokenize(doc) for doc in corpus]\n",
        "\n"
      ],
      "execution_count": null,
      "outputs": [
        {
          "output_type": "execute_result",
          "data": {
            "text/plain": [
              "[['Brock', 'has', 'a', 'dog', 'named', 'Bodhi'],\n",
              " ['@', 'brocktibert', 'loves', 'to', 'write', 'code', 'in', '#', 'pydata']]"
            ]
          },
          "metadata": {},
          "execution_count": 17
        }
      ]
    },
    {
      "cell_type": "code",
      "metadata": {
        "id": "bPrLgYBW2hsB",
        "colab": {
          "base_uri": "https://localhost:8080/"
        },
        "outputId": "5e205945-2df4-4284-cdeb-bb5651e045ee"
      },
      "source": [
        "# of course, we could always go to base python\n",
        "[doc.split() for doc in corpus]\n"
      ],
      "execution_count": null,
      "outputs": [
        {
          "output_type": "execute_result",
          "data": {
            "text/plain": [
              "[['Brock', 'has', 'a', 'dog', 'named', 'Bodhi'],\n",
              " ['@brocktibert', 'loves', 'to', 'write', 'code', 'in', '#pydata']]"
            ]
          },
          "metadata": {},
          "execution_count": 18
        }
      ]
    },
    {
      "cell_type": "code",
      "metadata": {
        "id": "dNAwriNo5x7P",
        "colab": {
          "base_uri": "https://localhost:8080/"
        },
        "outputId": "3ff24393-34ff-4987-f2aa-44f3130e813e"
      },
      "source": [
        "# we could use TweetTokenizer\n",
        "social = TweetTokenizer()\n",
        "\n",
        "[social.tokenize(doc) for doc in corpus]\n"
      ],
      "execution_count": null,
      "outputs": [
        {
          "output_type": "execute_result",
          "data": {
            "text/plain": [
              "[['Brock', 'has', 'a', 'dog', 'named', 'Bodhi'],\n",
              " ['@brocktibert', 'loves', 'to', 'write', 'code', 'in', '#pydata']]"
            ]
          },
          "metadata": {},
          "execution_count": 19
        }
      ]
    },
    {
      "cell_type": "code",
      "metadata": {
        "id": "3CI5NEE_6B17"
      },
      "source": [
        "# roll it into sklearn\n",
        "\n",
        "def parser(text):\n",
        "  social = TweetTokenizer()\n",
        "  return social.tokenize(text)\n",
        "\n",
        "cv = CountVectorizer(tokenizer=parser)\n",
        "cv.fit(corpus)\n",
        "\n",
        "dtm = cv.transform(corpus)\n",
        "\n",
        "df = pd.DataFrame(dtm.toarray(), columns=cv.get_feature_names_out())\n"
      ],
      "execution_count": null,
      "outputs": []
    },
    {
      "cell_type": "code",
      "metadata": {
        "id": "SYeNVrD9pMGA",
        "colab": {
          "base_uri": "https://localhost:8080/",
          "height": 112
        },
        "outputId": "e377fba1-79a4-4411-97ed-55ef554cd372"
      },
      "source": [
        "df"
      ],
      "execution_count": null,
      "outputs": [
        {
          "output_type": "execute_result",
          "data": {
            "text/html": [
              "<div>\n",
              "<style scoped>\n",
              "    .dataframe tbody tr th:only-of-type {\n",
              "        vertical-align: middle;\n",
              "    }\n",
              "\n",
              "    .dataframe tbody tr th {\n",
              "        vertical-align: top;\n",
              "    }\n",
              "\n",
              "    .dataframe thead th {\n",
              "        text-align: right;\n",
              "    }\n",
              "</style>\n",
              "<table border=\"1\" class=\"dataframe\">\n",
              "  <thead>\n",
              "    <tr style=\"text-align: right;\">\n",
              "      <th></th>\n",
              "      <th>#pydata</th>\n",
              "      <th>@brocktibert</th>\n",
              "      <th>a</th>\n",
              "      <th>bodhi</th>\n",
              "      <th>brock</th>\n",
              "      <th>code</th>\n",
              "      <th>dog</th>\n",
              "      <th>has</th>\n",
              "      <th>in</th>\n",
              "      <th>loves</th>\n",
              "      <th>named</th>\n",
              "      <th>to</th>\n",
              "      <th>write</th>\n",
              "    </tr>\n",
              "  </thead>\n",
              "  <tbody>\n",
              "    <tr>\n",
              "      <th>0</th>\n",
              "      <td>0</td>\n",
              "      <td>0</td>\n",
              "      <td>1</td>\n",
              "      <td>1</td>\n",
              "      <td>1</td>\n",
              "      <td>0</td>\n",
              "      <td>1</td>\n",
              "      <td>1</td>\n",
              "      <td>0</td>\n",
              "      <td>0</td>\n",
              "      <td>1</td>\n",
              "      <td>0</td>\n",
              "      <td>0</td>\n",
              "    </tr>\n",
              "    <tr>\n",
              "      <th>1</th>\n",
              "      <td>1</td>\n",
              "      <td>1</td>\n",
              "      <td>0</td>\n",
              "      <td>0</td>\n",
              "      <td>0</td>\n",
              "      <td>1</td>\n",
              "      <td>0</td>\n",
              "      <td>0</td>\n",
              "      <td>1</td>\n",
              "      <td>1</td>\n",
              "      <td>0</td>\n",
              "      <td>1</td>\n",
              "      <td>1</td>\n",
              "    </tr>\n",
              "  </tbody>\n",
              "</table>\n",
              "</div>"
            ],
            "text/plain": [
              "   #pydata  @brocktibert  a  bodhi  brock  ...  in  loves  named  to  write\n",
              "0        0             0  1      1      1  ...   0      0      1   0      0\n",
              "1        1             1  0      0      0  ...   1      1      0   1      1\n",
              "\n",
              "[2 rows x 13 columns]"
            ]
          },
          "metadata": {},
          "execution_count": 21
        }
      ]
    },
    {
      "cell_type": "code",
      "metadata": {
        "id": "39eIp9DdHw0K"
      },
      "source": [
        "##################################### Your turn\n",
        "###\n",
        "### tokenize the shrek movie script corpus using word_tokenize from nltk\n",
        "### TIPS:\n",
        "###      try word_tokenize on a single piece of text\n",
        "###      roll your own function to tokenize\n",
        "###      use count vectorizer\n",
        "###      put it back into a dataframe for review --- this isn't usually necessary, but helps with the intuition of what is happening!"
      ],
      "execution_count": null,
      "outputs": []
    },
    {
      "cell_type": "code",
      "metadata": {
        "id": "BgBkZwKCHwtb"
      },
      "source": [
        "# re-create my corpus\n",
        "corpus = [sub.text for sub in subs]"
      ],
      "execution_count": null,
      "outputs": []
    },
    {
      "cell_type": "code",
      "metadata": {
        "id": "vhaJf70RIYUr",
        "colab": {
          "base_uri": "https://localhost:8080/",
          "height": 206
        },
        "outputId": "98c4761a-21ef-4063-d5ac-463c5c70e3cc"
      },
      "source": [
        "# the function\n",
        "def shrek(text):\n",
        "  # we could do all sorts of preprocessing\n",
        "  return word_tokenize(text)\n",
        "\n",
        "cv = CountVectorizer(tokenizer=shrek)\n",
        "cv.fit(corpus)\n",
        "\n",
        "dtm = cv.transform(corpus)\n",
        "\n",
        "shrek_df = pd.DataFrame(dtm.toarray(), columns=cv.get_feature_names_out())\n",
        "\n",
        "shrek_df.iloc[:5, :5]"
      ],
      "execution_count": null,
      "outputs": [
        {
          "output_type": "execute_result",
          "data": {
            "text/html": [
              "<div>\n",
              "<style scoped>\n",
              "    .dataframe tbody tr th:only-of-type {\n",
              "        vertical-align: middle;\n",
              "    }\n",
              "\n",
              "    .dataframe tbody tr th {\n",
              "        vertical-align: top;\n",
              "    }\n",
              "\n",
              "    .dataframe thead th {\n",
              "        text-align: right;\n",
              "    }\n",
              "</style>\n",
              "<table border=\"1\" class=\"dataframe\">\n",
              "  <thead>\n",
              "    <tr style=\"text-align: right;\">\n",
              "      <th></th>\n",
              "      <th>!</th>\n",
              "      <th>'</th>\n",
              "      <th>''</th>\n",
              "      <th>'cause</th>\n",
              "      <th>'course</th>\n",
              "    </tr>\n",
              "  </thead>\n",
              "  <tbody>\n",
              "    <tr>\n",
              "      <th>0</th>\n",
              "      <td>0</td>\n",
              "      <td>0</td>\n",
              "      <td>0</td>\n",
              "      <td>0</td>\n",
              "      <td>0</td>\n",
              "    </tr>\n",
              "    <tr>\n",
              "      <th>1</th>\n",
              "      <td>0</td>\n",
              "      <td>0</td>\n",
              "      <td>0</td>\n",
              "      <td>0</td>\n",
              "      <td>0</td>\n",
              "    </tr>\n",
              "    <tr>\n",
              "      <th>2</th>\n",
              "      <td>0</td>\n",
              "      <td>0</td>\n",
              "      <td>0</td>\n",
              "      <td>0</td>\n",
              "      <td>0</td>\n",
              "    </tr>\n",
              "    <tr>\n",
              "      <th>3</th>\n",
              "      <td>0</td>\n",
              "      <td>0</td>\n",
              "      <td>0</td>\n",
              "      <td>0</td>\n",
              "      <td>0</td>\n",
              "    </tr>\n",
              "    <tr>\n",
              "      <th>4</th>\n",
              "      <td>0</td>\n",
              "      <td>0</td>\n",
              "      <td>0</td>\n",
              "      <td>0</td>\n",
              "      <td>0</td>\n",
              "    </tr>\n",
              "  </tbody>\n",
              "</table>\n",
              "</div>"
            ],
            "text/plain": [
              "   !  '  ''  'cause  'course\n",
              "0  0  0   0       0        0\n",
              "1  0  0   0       0        0\n",
              "2  0  0   0       0        0\n",
              "3  0  0   0       0        0\n",
              "4  0  0   0       0        0"
            ]
          },
          "metadata": {},
          "execution_count": 25
        }
      ]
    },
    {
      "cell_type": "code",
      "metadata": {
        "id": "K898fDPJIYQv",
        "colab": {
          "base_uri": "https://localhost:8080/"
        },
        "outputId": "5943c6c5-8450-416a-df37-e4f4f88243ab"
      },
      "source": [
        "shrek_df.shape"
      ],
      "execution_count": null,
      "outputs": [
        {
          "output_type": "execute_result",
          "data": {
            "text/plain": [
              "(1097, 1385)"
            ]
          },
          "metadata": {},
          "execution_count": 26
        }
      ]
    },
    {
      "cell_type": "code",
      "metadata": {
        "id": "7V4syVr9IYKj"
      },
      "source": [
        ""
      ],
      "execution_count": null,
      "outputs": []
    },
    {
      "cell_type": "code",
      "metadata": {
        "id": "fChG6lNrHwkQ"
      },
      "source": [
        ""
      ],
      "execution_count": null,
      "outputs": []
    },
    {
      "cell_type": "code",
      "metadata": {
        "id": "2D09cKgq6jH4"
      },
      "source": [
        "### The big point here is that a number of tools may look\n",
        "### for our a list of lists, including scikit learn.\n",
        "### I bring this up for spacy, where the parsed doc is an object\n",
        "### but if we have to, we can simply coerce to that format."
      ],
      "execution_count": null,
      "outputs": []
    },
    {
      "cell_type": "code",
      "metadata": {
        "id": "jTpEQwXgpSAC"
      },
      "source": [
        ""
      ],
      "execution_count": null,
      "outputs": []
    },
    {
      "cell_type": "code",
      "metadata": {
        "id": "_KtNZ-wX89DS"
      },
      "source": [
        "##################################### Key Words in Context - Concordance\n",
        "###\n",
        "### powerful tool to look at a set of text (full corpus) and look for\n",
        "### words before/after\n",
        "###\n",
        "### helpful for eda, look for patterns to help support data annotation, etc.\n",
        "\n"
      ],
      "execution_count": null,
      "outputs": []
    },
    {
      "cell_type": "code",
      "metadata": {
        "id": "auxMcUfV-6xi",
        "colab": {
          "base_uri": "https://localhost:8080/"
        },
        "outputId": "82b6807b-3bf5-4dc3-a9ab-50c77b02962a"
      },
      "source": [
        "# get the data -- airline tweets\n",
        "\n",
        "SQL = \"SELECT * FROM `questrom.datasets.airlines-tweets`\"\n",
        "PROJ = \"questrom\"\n",
        "tweets = pd.read_gbq(SQL, PROJ)\n"
      ],
      "execution_count": null,
      "outputs": [
        {
          "name": "stdout",
          "output_type": "stream",
          "text": [
            "Please visit this URL to authorize this application: https://accounts.google.com/o/oauth2/auth?response_type=code&client_id=725825577420-unm2gnkiprugilg743tkbig250f4sfsj.apps.googleusercontent.com&redirect_uri=urn%3Aietf%3Awg%3Aoauth%3A2.0%3Aoob&scope=https%3A%2F%2Fwww.googleapis.com%2Fauth%2Fbigquery&state=fNOpyAN6Xu7Xp4I8IV6moRx0LRDXR9&prompt=consent&access_type=offline\n",
            "Enter the authorization code: 4/1AX4XfWjmc_QDTflgpz70tZWrv8GRfPqbDO-y0nwghK-idTsBAIl2l1hi85E\n"
          ]
        }
      ]
    },
    {
      "cell_type": "code",
      "metadata": {
        "id": "C0MRaTOx_mUP",
        "colab": {
          "base_uri": "https://localhost:8080/",
          "height": 372
        },
        "outputId": "615f6b9e-7e8f-424c-998e-0e837d695d14"
      },
      "source": [
        "# sample \n",
        "tweets.sample(3)\n"
      ],
      "execution_count": null,
      "outputs": [
        {
          "output_type": "execute_result",
          "data": {
            "text/html": [
              "<div>\n",
              "<style scoped>\n",
              "    .dataframe tbody tr th:only-of-type {\n",
              "        vertical-align: middle;\n",
              "    }\n",
              "\n",
              "    .dataframe tbody tr th {\n",
              "        vertical-align: top;\n",
              "    }\n",
              "\n",
              "    .dataframe thead th {\n",
              "        text-align: right;\n",
              "    }\n",
              "</style>\n",
              "<table border=\"1\" class=\"dataframe\">\n",
              "  <thead>\n",
              "    <tr style=\"text-align: right;\">\n",
              "      <th></th>\n",
              "      <th>tweet_id</th>\n",
              "      <th>airline_sentiment</th>\n",
              "      <th>airline_sentiment_confidence</th>\n",
              "      <th>negativereason</th>\n",
              "      <th>negativereason_confidence</th>\n",
              "      <th>airline</th>\n",
              "      <th>airline_sentiment_gold</th>\n",
              "      <th>name</th>\n",
              "      <th>negativereason_gold</th>\n",
              "      <th>retweet_count</th>\n",
              "      <th>text</th>\n",
              "      <th>tweet_coord</th>\n",
              "      <th>tweet_created</th>\n",
              "      <th>tweet_location</th>\n",
              "      <th>user_timezone</th>\n",
              "    </tr>\n",
              "  </thead>\n",
              "  <tbody>\n",
              "    <tr>\n",
              "      <th>11561</th>\n",
              "      <td>569310913079214080</td>\n",
              "      <td>negative</td>\n",
              "      <td>1.0</td>\n",
              "      <td>Late Flight</td>\n",
              "      <td>1.0000</td>\n",
              "      <td>US Airways</td>\n",
              "      <td>None</td>\n",
              "      <td>MattClement</td>\n",
              "      <td>None</td>\n",
              "      <td>0</td>\n",
              "      <td>@USAirways Looks like I'm already delayed and ...</td>\n",
              "      <td>None</td>\n",
              "      <td>2015-02-21 17:41:13 -0800</td>\n",
              "      <td>Troy, NY</td>\n",
              "      <td>Eastern Time (US &amp; Canada)</td>\n",
              "    </tr>\n",
              "    <tr>\n",
              "      <th>2393</th>\n",
              "      <td>569444898660691968</td>\n",
              "      <td>negative</td>\n",
              "      <td>1.0</td>\n",
              "      <td>Late Flight</td>\n",
              "      <td>0.3488</td>\n",
              "      <td>United</td>\n",
              "      <td>None</td>\n",
              "      <td>throthra</td>\n",
              "      <td>None</td>\n",
              "      <td>0</td>\n",
              "      <td>@united thanks for letting me sleep at DIA to ...</td>\n",
              "      <td>None</td>\n",
              "      <td>2015-02-22 02:33:38 -0800</td>\n",
              "      <td>None</td>\n",
              "      <td>None</td>\n",
              "    </tr>\n",
              "    <tr>\n",
              "      <th>2589</th>\n",
              "      <td>569552658010210305</td>\n",
              "      <td>negative</td>\n",
              "      <td>1.0</td>\n",
              "      <td>Late Flight</td>\n",
              "      <td>0.6611</td>\n",
              "      <td>Delta</td>\n",
              "      <td>None</td>\n",
              "      <td>arthurhasher</td>\n",
              "      <td>None</td>\n",
              "      <td>0</td>\n",
              "      <td>@JetBlue So what about the plane stuck in Newb...</td>\n",
              "      <td>None</td>\n",
              "      <td>2015-02-22 09:41:50 -0800</td>\n",
              "      <td>Long Island - Arizona</td>\n",
              "      <td>None</td>\n",
              "    </tr>\n",
              "  </tbody>\n",
              "</table>\n",
              "</div>"
            ],
            "text/plain": [
              "                 tweet_id  ...               user_timezone\n",
              "11561  569310913079214080  ...  Eastern Time (US & Canada)\n",
              "2393   569444898660691968  ...                        None\n",
              "2589   569552658010210305  ...                        None\n",
              "\n",
              "[3 rows x 15 columns]"
            ]
          },
          "metadata": {},
          "execution_count": 28
        }
      ]
    },
    {
      "cell_type": "code",
      "metadata": {
        "id": "kRQQntiD-62c"
      },
      "source": [
        "# text -- acts like a big corpus\n",
        "from nltk import Text\n",
        "\n",
        "# get the text into the correct format\n",
        "tweet_text = tweets.text.tolist()\n",
        "\n",
        "# put into a corpus (as if it were 1 big file, ignoring that we have intents)\n",
        "\n",
        "corpus = \" \".join(tweet_text)\n",
        "\n",
        "# tokenize\n",
        "\n",
        "tokens = nltk.word_tokenize(corpus)\n",
        "len(tokens)\n",
        "\n",
        "# put the corpus into a Text object.  \n",
        "# some nice features when we consider the corpus a blob of text that lacks \n",
        "# structure like sentences, or by user, etc.  Just the text combined like a book chapter.\n",
        "\n",
        "text = Text(tokens)\n",
        "\n"
      ],
      "execution_count": null,
      "outputs": []
    },
    {
      "cell_type": "code",
      "metadata": {
        "id": "TrrwRhSF-65g",
        "colab": {
          "base_uri": "https://localhost:8080/"
        },
        "outputId": "36b17f9c-abdd-4b84-9662-8507fa2e4cd2"
      },
      "source": [
        "# look for the context of words\n",
        "# Key work in context, or concordance\n",
        "\n",
        "## flight / delay / service / baggage / boston\n",
        "text.concordance(\"baggage\", width=80, lines=10)\n"
      ],
      "execution_count": null,
      "outputs": [
        {
          "output_type": "stream",
          "name": "stdout",
          "text": [
            "Displaying 10 of 226 matches:\n",
            " assisting me over the phone with a baggage claim issue today . She really went\n",
            "t see where it talks about military baggage fees . Can you please guide me . Th\n",
            "ag included in the standard checked baggage next to the snowboard bag ? @ unite\n",
            ". Was wondering , Does United waive baggage fees for military personnel . Thank\n",
            "ited A3 Gold . So the international baggage limit apply when booked on 1 ticket\n",
            "t to get her a safe flight with her baggage soon ! @ united ca n't wait ! ! ! 7\n",
            "tomer service provided by Janet and baggage employee Karen . You have 2 wonderf\n",
            "est airline around ! Just hate when baggage room runs out.. My now checked bag \n",
            "d customer service professionals at baggage claim are OUTSTANDING ! ! Thank you\n",
            "r planes ? I know you have a lot of baggage ... But i want you to know i really\n"
          ]
        }
      ]
    },
    {
      "cell_type": "code",
      "metadata": {
        "id": "X4Nb-wis-68C"
      },
      "source": [
        ""
      ],
      "execution_count": null,
      "outputs": []
    },
    {
      "cell_type": "code",
      "metadata": {
        "id": "Z0D55aw964Vr"
      },
      "source": [
        "##################################### Text Exploratory Descriptive Stats\n",
        "##################################### https://github.com/HLasse/TextDescriptives\n",
        "##\n",
        "## desctriptive stats for a piece of text\n",
        "## plays well with spacy and dataframes\n",
        "## think of this as a way to featurize our text beyond tokenization\n",
        "## depending on our tasks, this could help with downstream classification tasks\n",
        "\n"
      ],
      "execution_count": null,
      "outputs": []
    },
    {
      "cell_type": "code",
      "metadata": {
        "id": "sugSQTNpCmOc",
        "colab": {
          "base_uri": "https://localhost:8080/"
        },
        "outputId": "43460757-76f8-458b-8bcd-1038cfbb33c8"
      },
      "source": [
        "# download the small spacy language model\n",
        "\n",
        "model = \"en_core_web_sm\"\n",
        "cli.download(model)\n",
        "nlp = spacy.load(model)"
      ],
      "execution_count": null,
      "outputs": [
        {
          "output_type": "stream",
          "name": "stdout",
          "text": [
            "\u001b[38;5;2m✔ Download and installation successful\u001b[0m\n",
            "You can now load the package via spacy.load('en_core_web_sm')\n"
          ]
        }
      ]
    },
    {
      "cell_type": "markdown",
      "metadata": {
        "id": "CWfKrFAmDUA8"
      },
      "source": [
        "![](https://d33wubrfki0l68.cloudfront.net/3ad0582d97663a1272ffc4ccf09f1c5b335b17e9/7f49c/pipeline-fde48da9b43661abcdf62ab70a546d71.svg)"
      ]
    },
    {
      "cell_type": "code",
      "metadata": {
        "id": "kqJ-BQXRDdWn",
        "colab": {
          "base_uri": "https://localhost:8080/"
        },
        "outputId": "a0799ef4-2a9c-4b41-cdc8-8d02017c8a6a"
      },
      "source": [
        "# what do we have \n",
        "nlp.pipe_names"
      ],
      "execution_count": null,
      "outputs": [
        {
          "output_type": "execute_result",
          "data": {
            "text/plain": [
              "['tok2vec', 'tagger', 'parser', 'attribute_ruler', 'lemmatizer', 'ner']"
            ]
          },
          "metadata": {},
          "execution_count": 36
        }
      ]
    },
    {
      "cell_type": "code",
      "metadata": {
        "id": "A23ZIbzkCmTt",
        "colab": {
          "base_uri": "https://localhost:8080/"
        },
        "outputId": "ed3ff0f2-5dd8-4f07-dd46-7e0cf7769ec0"
      },
      "source": [
        "# lets add additional components\n",
        "\n",
        "nlp.add_pipe(\"spacytextblob\")\n",
        "nlp.add_pipe(\"textdescriptives\") "
      ],
      "execution_count": null,
      "outputs": [
        {
          "output_type": "execute_result",
          "data": {
            "text/plain": [
              "<textdescriptives.load_components.TextDescriptives at 0x7f3257d48e10>"
            ]
          },
          "metadata": {},
          "execution_count": 37
        }
      ]
    },
    {
      "cell_type": "code",
      "metadata": {
        "id": "f8xAg3PmCmW5",
        "colab": {
          "base_uri": "https://localhost:8080/"
        },
        "outputId": "56552448-050f-4ebb-ffb4-53cb7dd5e5d7"
      },
      "source": [
        "# review the robust NLP pipeline\n",
        "nlp.pipe_names"
      ],
      "execution_count": null,
      "outputs": [
        {
          "output_type": "execute_result",
          "data": {
            "text/plain": [
              "['tok2vec',\n",
              " 'tagger',\n",
              " 'parser',\n",
              " 'attribute_ruler',\n",
              " 'lemmatizer',\n",
              " 'ner',\n",
              " 'spacytextblob',\n",
              " 'descriptive_stats',\n",
              " 'readability',\n",
              " 'dependency_distance',\n",
              " 'pos_stats',\n",
              " 'textdescriptives']"
            ]
          },
          "metadata": {},
          "execution_count": 38
        }
      ]
    },
    {
      "cell_type": "code",
      "metadata": {
        "id": "DyJ0NNezC_Jl",
        "colab": {
          "base_uri": "https://localhost:8080/"
        },
        "outputId": "d47db36e-d70f-4dc2-9ad5-131086fbf5f1"
      },
      "source": [
        "# lets parse our tweets dataset from earlier\n",
        "tweets.shape"
      ],
      "execution_count": null,
      "outputs": [
        {
          "output_type": "execute_result",
          "data": {
            "text/plain": [
              "(14640, 15)"
            ]
          },
          "metadata": {},
          "execution_count": 39
        }
      ]
    },
    {
      "cell_type": "code",
      "metadata": {
        "id": "iCLubt-VD5r0"
      },
      "source": [
        "# lets take a sample of 100 to help keep this \"fast\"\n",
        "# worth noting that real datasets and balancing runtimes and performance can be at odds at times\n",
        "\n",
        "docs = nlp.pipe(tweets.text.sample(100, random_state=820))"
      ],
      "execution_count": null,
      "outputs": []
    },
    {
      "cell_type": "code",
      "metadata": {
        "id": "KA5OXqUfEA8l"
      },
      "source": [
        "# extract the summary stats from the tweet docs\n",
        "# every tweet is being run through the nlp pipeline\n",
        "\n",
        "tweets_df = td.extract_df(docs)\n"
      ],
      "execution_count": null,
      "outputs": []
    },
    {
      "cell_type": "code",
      "metadata": {
        "id": "BWZuFMbnECbw",
        "colab": {
          "base_uri": "https://localhost:8080/"
        },
        "outputId": "e7f755c5-99ba-4683-e1c5-28f10ac586bd"
      },
      "source": [
        "# what do we have\n",
        "tweets_df.shape"
      ],
      "execution_count": null,
      "outputs": [
        {
          "output_type": "execute_result",
          "data": {
            "text/plain": [
              "(100, 45)"
            ]
          },
          "metadata": {},
          "execution_count": 42
        }
      ]
    },
    {
      "cell_type": "code",
      "metadata": {
        "id": "UQaWScspErVD",
        "colab": {
          "base_uri": "https://localhost:8080/",
          "height": 285
        },
        "outputId": "951604c1-9967-40f2-d499-cd11c660f0ae"
      },
      "source": [
        "# review\n",
        "tweets_df.head(3)"
      ],
      "execution_count": null,
      "outputs": [
        {
          "output_type": "execute_result",
          "data": {
            "text/html": [
              "<div>\n",
              "<style scoped>\n",
              "    .dataframe tbody tr th:only-of-type {\n",
              "        vertical-align: middle;\n",
              "    }\n",
              "\n",
              "    .dataframe tbody tr th {\n",
              "        vertical-align: top;\n",
              "    }\n",
              "\n",
              "    .dataframe thead th {\n",
              "        text-align: right;\n",
              "    }\n",
              "</style>\n",
              "<table border=\"1\" class=\"dataframe\">\n",
              "  <thead>\n",
              "    <tr style=\"text-align: right;\">\n",
              "      <th></th>\n",
              "      <th>text</th>\n",
              "      <th>token_length_mean</th>\n",
              "      <th>token_length_median</th>\n",
              "      <th>token_length_std</th>\n",
              "      <th>sentence_length_mean</th>\n",
              "      <th>sentence_length_median</th>\n",
              "      <th>sentence_length_std</th>\n",
              "      <th>syllables_per_token_mean</th>\n",
              "      <th>syllables_per_token_median</th>\n",
              "      <th>syllables_per_token_std</th>\n",
              "      <th>n_tokens</th>\n",
              "      <th>n_unique_tokens</th>\n",
              "      <th>proportion_unique_tokens</th>\n",
              "      <th>n_characters</th>\n",
              "      <th>n_sentences</th>\n",
              "      <th>flesch_reading_ease</th>\n",
              "      <th>flesch_kincaid_grade</th>\n",
              "      <th>smog</th>\n",
              "      <th>gunning_fog</th>\n",
              "      <th>automated_readability_index</th>\n",
              "      <th>coleman_liau_index</th>\n",
              "      <th>lix</th>\n",
              "      <th>rix</th>\n",
              "      <th>dependency_distance_mean</th>\n",
              "      <th>dependency_distance_std</th>\n",
              "      <th>prop_adjacent_dependency_relation_mean</th>\n",
              "      <th>prop_adjacent_dependency_relation_std</th>\n",
              "      <th>pos_prop_X</th>\n",
              "      <th>pos_prop_PUNCT</th>\n",
              "      <th>pos_prop_NUM</th>\n",
              "      <th>pos_prop_AUX</th>\n",
              "      <th>pos_prop_PART</th>\n",
              "      <th>pos_prop_VERB</th>\n",
              "      <th>pos_prop_PRON</th>\n",
              "      <th>pos_prop_NOUN</th>\n",
              "      <th>pos_prop_CCONJ</th>\n",
              "      <th>pos_prop_SCONJ</th>\n",
              "      <th>pos_prop_DET</th>\n",
              "      <th>pos_prop_ADJ</th>\n",
              "      <th>pos_prop_PROPN</th>\n",
              "      <th>pos_prop_ADP</th>\n",
              "      <th>pos_prop_ADV</th>\n",
              "      <th>pos_prop_SYM</th>\n",
              "      <th>pos_prop_SPACE</th>\n",
              "      <th>pos_prop_INTJ</th>\n",
              "    </tr>\n",
              "  </thead>\n",
              "  <tbody>\n",
              "    <tr>\n",
              "      <th>0</th>\n",
              "      <td>@AmericanAir ...2/2 doesn't help me.</td>\n",
              "      <td>5.000000</td>\n",
              "      <td>4.0</td>\n",
              "      <td>3.577709</td>\n",
              "      <td>5.0</td>\n",
              "      <td>5.0</td>\n",
              "      <td>0.0</td>\n",
              "      <td>1.400000</td>\n",
              "      <td>1.0</td>\n",
              "      <td>0.800000</td>\n",
              "      <td>5</td>\n",
              "      <td>5</td>\n",
              "      <td>1.0</td>\n",
              "      <td>32</td>\n",
              "      <td>1</td>\n",
              "      <td>83.320000</td>\n",
              "      <td>2.880000</td>\n",
              "      <td>NaN</td>\n",
              "      <td>10.000000</td>\n",
              "      <td>4.620000</td>\n",
              "      <td>7.680000</td>\n",
              "      <td>25.000000</td>\n",
              "      <td>1.0</td>\n",
              "      <td>1.8750</td>\n",
              "      <td>0.0000</td>\n",
              "      <td>0.375</td>\n",
              "      <td>0.0</td>\n",
              "      <td>0.125</td>\n",
              "      <td>0.250000</td>\n",
              "      <td>0.125</td>\n",
              "      <td>0.125000</td>\n",
              "      <td>0.125</td>\n",
              "      <td>0.125000</td>\n",
              "      <td>0.125000</td>\n",
              "      <td>NaN</td>\n",
              "      <td>NaN</td>\n",
              "      <td>NaN</td>\n",
              "      <td>NaN</td>\n",
              "      <td>NaN</td>\n",
              "      <td>NaN</td>\n",
              "      <td>NaN</td>\n",
              "      <td>NaN</td>\n",
              "      <td>NaN</td>\n",
              "      <td>NaN</td>\n",
              "      <td>NaN</td>\n",
              "    </tr>\n",
              "    <tr>\n",
              "      <th>1</th>\n",
              "      <td>@USAirways and if the flight is full?</td>\n",
              "      <td>4.285714</td>\n",
              "      <td>3.0</td>\n",
              "      <td>2.657296</td>\n",
              "      <td>7.0</td>\n",
              "      <td>7.0</td>\n",
              "      <td>0.0</td>\n",
              "      <td>1.285714</td>\n",
              "      <td>1.0</td>\n",
              "      <td>0.699854</td>\n",
              "      <td>7</td>\n",
              "      <td>7</td>\n",
              "      <td>1.0</td>\n",
              "      <td>31</td>\n",
              "      <td>1</td>\n",
              "      <td>90.958571</td>\n",
              "      <td>2.311429</td>\n",
              "      <td>NaN</td>\n",
              "      <td>8.514286</td>\n",
              "      <td>2.255714</td>\n",
              "      <td>5.171429</td>\n",
              "      <td>21.285714</td>\n",
              "      <td>1.0</td>\n",
              "      <td>1.7500</td>\n",
              "      <td>0.0000</td>\n",
              "      <td>0.500</td>\n",
              "      <td>0.0</td>\n",
              "      <td>NaN</td>\n",
              "      <td>0.125000</td>\n",
              "      <td>NaN</td>\n",
              "      <td>0.125000</td>\n",
              "      <td>NaN</td>\n",
              "      <td>NaN</td>\n",
              "      <td>NaN</td>\n",
              "      <td>0.250000</td>\n",
              "      <td>0.125000</td>\n",
              "      <td>0.125</td>\n",
              "      <td>0.125000</td>\n",
              "      <td>0.125000</td>\n",
              "      <td>NaN</td>\n",
              "      <td>NaN</td>\n",
              "      <td>NaN</td>\n",
              "      <td>NaN</td>\n",
              "      <td>NaN</td>\n",
              "      <td>NaN</td>\n",
              "    </tr>\n",
              "    <tr>\n",
              "      <th>2</th>\n",
              "      <td>@SouthwestAir Gate attendant at McCarran C16 (...</td>\n",
              "      <td>4.909091</td>\n",
              "      <td>4.0</td>\n",
              "      <td>3.028787</td>\n",
              "      <td>11.0</td>\n",
              "      <td>11.0</td>\n",
              "      <td>2.0</td>\n",
              "      <td>1.545455</td>\n",
              "      <td>1.0</td>\n",
              "      <td>0.782030</td>\n",
              "      <td>22</td>\n",
              "      <td>22</td>\n",
              "      <td>1.0</td>\n",
              "      <td>112</td>\n",
              "      <td>2</td>\n",
              "      <td>64.924545</td>\n",
              "      <td>6.936364</td>\n",
              "      <td>NaN</td>\n",
              "      <td>11.672727</td>\n",
              "      <td>7.191818</td>\n",
              "      <td>10.374545</td>\n",
              "      <td>33.727273</td>\n",
              "      <td>2.5</td>\n",
              "      <td>2.0125</td>\n",
              "      <td>0.1125</td>\n",
              "      <td>0.500</td>\n",
              "      <td>0.0</td>\n",
              "      <td>NaN</td>\n",
              "      <td>0.192308</td>\n",
              "      <td>NaN</td>\n",
              "      <td>0.038462</td>\n",
              "      <td>NaN</td>\n",
              "      <td>0.038462</td>\n",
              "      <td>0.038462</td>\n",
              "      <td>0.115385</td>\n",
              "      <td>0.038462</td>\n",
              "      <td>NaN</td>\n",
              "      <td>0.038462</td>\n",
              "      <td>0.076923</td>\n",
              "      <td>0.192308</td>\n",
              "      <td>0.192308</td>\n",
              "      <td>0.038462</td>\n",
              "      <td>NaN</td>\n",
              "      <td>NaN</td>\n",
              "      <td>NaN</td>\n",
              "    </tr>\n",
              "  </tbody>\n",
              "</table>\n",
              "</div>"
            ],
            "text/plain": [
              "                                                text  ...  pos_prop_INTJ\n",
              "0               @AmericanAir ...2/2 doesn't help me.  ...            NaN\n",
              "1              @USAirways and if the flight is full?  ...            NaN\n",
              "2  @SouthwestAir Gate attendant at McCarran C16 (...  ...            NaN\n",
              "\n",
              "[3 rows x 45 columns]"
            ]
          },
          "metadata": {},
          "execution_count": 43
        }
      ]
    },
    {
      "cell_type": "code",
      "metadata": {
        "id": "62DTHfVBEvFQ"
      },
      "source": [
        "# review the docs -- summarizes stats for tokens and sentences, but also some complexity estimates\n",
        "# https://hlasse.github.io/TextDescriptives/readability.html#\n",
        "# whats interesting about this is these could be features depending on your task\n",
        "# news or clickbait\n",
        "# valid news or social post\n",
        "# news source (tabloid versus the NYT or BBC)\n",
        "# I have even seen readability considered for SEO/content reviews on websites\n",
        "\n"
      ],
      "execution_count": null,
      "outputs": []
    },
    {
      "cell_type": "code",
      "metadata": {
        "id": "oajGtMhSE_6e",
        "colab": {
          "base_uri": "https://localhost:8080/"
        },
        "outputId": "6c0f9b53-042c-40ae-86ee-ac2a147f4b58"
      },
      "source": [
        "# what is the average grade using gunning_fog\n",
        "tweets_df.gunning_fog.describe()"
      ],
      "execution_count": null,
      "outputs": [
        {
          "output_type": "execute_result",
          "data": {
            "text/plain": [
              "count    100.000000\n",
              "mean       8.235409\n",
              "std        3.923389\n",
              "min        0.800000\n",
              "25%        5.657143\n",
              "50%        8.133333\n",
              "75%       10.942944\n",
              "max       20.584615\n",
              "Name: gunning_fog, dtype: float64"
            ]
          },
          "metadata": {},
          "execution_count": 44
        }
      ]
    },
    {
      "cell_type": "code",
      "metadata": {
        "id": "IV0nFWPWGMPa",
        "colab": {
          "base_uri": "https://localhost:8080/",
          "height": 298
        },
        "outputId": "e4c63394-c344-4a59-d65b-da7e11dd6846"
      },
      "source": [
        "# researchers/linguists try to quantify complexity/grade level\n",
        "# take two approaches, see if there is relative agreement\n",
        "# variance tends to increase > 10\n",
        "sns.scatterplot(x=\"gunning_fog\", y=\"coleman_liau_index\", data=tweets_df)\n"
      ],
      "execution_count": null,
      "outputs": [
        {
          "output_type": "execute_result",
          "data": {
            "text/plain": [
              "<matplotlib.axes._subplots.AxesSubplot at 0x7f33ff4d9c10>"
            ]
          },
          "metadata": {},
          "execution_count": 45
        },
        {
          "output_type": "display_data",
          "data": {
            "image/png": "[encoded data removed]",
            "text/plain": [
              "<Figure size 432x288 with 1 Axes>"
            ]
          },
          "metadata": {
            "needs_background": "light"
          }
        }
      ]
    },
    {
      "cell_type": "code",
      "metadata": {
        "id": "DjCfQFGy1wHq"
      },
      "source": [
        ""
      ],
      "execution_count": null,
      "outputs": []
    },
    {
      "cell_type": "code",
      "metadata": {
        "id": "4dza1TwbGrgj"
      },
      "source": [
        "##################################### Your turn\n",
        "##\n",
        "\n",
        "## use article to grab entries\n",
        "## source, and generate a pandas dataframe with readability comparisons \n",
        "## establish concepts as features for downstream tasks, potentially\n",
        "\n",
        "URL1 = \"https://www.bbc.com/culture/article/20211117-why-u2s-one-is-the-ultimate-anthem\"\n",
        "URL2 = \"https://www.theonion.com/dollar-dangling-from-fishing-line-sure-does-look-entici-1848019332\"\n",
        "URL3 = \"https://www.nytimes.com/2021/11/20/world/china-congo-cobalt-explained.html\"\n",
        "\n",
        "# general flow\n",
        "# article = Article()\n",
        "# download and then parse methods on the article\n",
        "# use the .text attribute\n"
      ],
      "execution_count": null,
      "outputs": []
    },
    {
      "cell_type": "code",
      "metadata": {
        "id": "3YBnldlScBjm"
      },
      "source": [
        "articles = []\n",
        "\n",
        "article = Article(URL1)\n",
        "article.download(); article.parse();\n",
        "articles.append(article.text)\n",
        "\n",
        "article = Article(URL2)\n",
        "article.download(); article.parse();\n",
        "articles.append(article.text)\n",
        "\n",
        "article = Article(URL3)\n",
        "article.download(); article.parse();\n",
        "articles.append(article.text)\n",
        "\n",
        "\n"
      ],
      "execution_count": null,
      "outputs": []
    },
    {
      "cell_type": "code",
      "metadata": {
        "colab": {
          "base_uri": "https://localhost:8080/"
        },
        "id": "bhjZnMtegFLi",
        "outputId": "4a75e07c-b8e9-4e5b-ca33-217b2628e1b4"
      },
      "source": [
        ""
      ],
      "execution_count": null,
      "outputs": [
        {
          "output_type": "execute_result",
          "data": {
            "text/plain": [
              "['The song continued to evolve during the Zoo TV tour, as Bono introduced an extra verse, which came to him out of nowhere one night in North Carolina in March 1992. Known to fans as Hear Us Coming, it asks God a series of questions, ending with, \"Do you hear us scratching/ Will you make us crawl?\" \"It allows a chance for anger and the focus of that wrath is best kept for religion itself,\" Bono says. \"In the Hebrew Bible, this level of spleen is allowed in the imprecatory psalms: King David shouting at God.\" He once said that this turned One into \"sort of a protest song against God, from a believer\": yet another take on a father and a son.\\n\\nIn January 1993, Michael Stipe and Mike Mills of REM teamed up with Mullen and Clayton under the name Automatic Baby to play One at an MTV Rock the Vote concert to celebrate Bill Clinton\\'s inauguration. Bill Flanagan describes the scene in his fly-on-the-wall book U2 at the End of the World: \"When Stipe sings, \\'We\\'re one but we\\'re not the same, we get to carry each other\\', he is using the song – however hopelessly – to plead a case and make a promise to this whole country. That\\'s a lot of weight for a song to carry! One is a pretty strong song.\" (Stipe actually changed \"get to\" to \"got to\" halfway through but the moment vindicated it.)\\n\\nThe song\\'s fluidity is a thread running through Flanagan\\'s book: \"One seems to have an infinite capacity to open up, and U2 shows no inclination to tie it down.\" In Germany in May 1993, amid a political storm about immigration, Bono dedicated One to \"the immigrants to Deutschland\". In July of that year, it followed a satellite-linked conversation with a friend of the band in the besieged Bosnian capital of Sarajevo. Bono told journalist Niall Stokes how, in certain contexts, One \"suddenly becomes what it is about that night.\" It is a sturdy, inviting vessel for whatever emotions are circulating in the room, or the country, for there is always conflict and the hope of resolution. \"I have been reduced to a puddle by it myself in the most differentiated environments,\" Bono says.\\n\\nEdge\\'s favourite memory of performing One is from Madison Square Garden in October 2001: U2\\'s first New York concert after 9/11. \"After that show, all of the first responders who were present invaded the stage and it became this kind of group therapy session,\" he recalls. \"It was a really humbling thing just to be present as a witness, leave alone being the catalyst for it. It was unforgettable.\"\\n\\n\\'An unfinished song\\'\\n\\nBono initially resisted naming the ONE Campaign, the non-profit he co-founded in 2004 to fight extreme poverty and preventable disease, after this \"very bitter song\". Nonetheless, it has become a popular choice for U2\\'s benefit concert appearances: for Bosnia in 1995, for Tibet in 1997, for Nelson Mandela in 2003, and at Live 8 in 2005. That same year, U2 performed it at a fundraiser for victims of Hurricane Katrina, bringing Mary J Blige on stage for the second verse. While learning the words two years earlier for a tribute to Bono, she had begun thinking about 9/11 and its aftermath. Later, it came to encompass the human catastrophe of Katrina. For her, the lines \"Love is the temple, love the higher law/ You ask me to enter and then you make me crawl\" represented the broken promise of America. \"The United States say they care about us and stuff like that, and we got to go through so much,\" she told journalist Gavin Martin.\\n\\n\"Mary J Blige brought the song places I couldn\\'t possibly have been or understood,\" Bono says. \"I don\\'t know exactly where she went, or the names she put on the places, or the problems she was trying to solve with her interpretation, but I felt them so strongly.\"\\n\\n\"She made it her own in a way that is kind of amazing,\" Edge agrees. \"Same lyrics, same melody, but it felt like it was a different song when she sang it.\"',\n",
              " 'BRATTLEBORO, VT—Rubbing his hands together in what appeared to be more anticipation than he could contain, local man Dennis Kaili stated Tuesday that the dollar bill currently dangling from a fishing line right there along the path he was walking sure did look enticing. “By gosh, that’s one good-lookin’ buckaroo, ain’t it?” said Kaili, a wide grin reportedly spreading across his face as he took in the sight of the dollar, a hook, and the fishing line, which disappeared into a row of bushes. “And it’s ripe for the pickin’, too! If I jump on it real fast, I’m sure I could grab it. Don’t look like there’s anyone ’round gonna beat me to it. Yup, that dollar’s as good as mine!” At press time, sources confirmed Kaili was being pulled along the sidewalk with the hook in his cheek and still struggling to get the dollar bill off the line and into his pocket.',\n",
              " 'The five biggest Chinese mining companies in Congo that focus on cobalt and copper mining also had lines of credit from Chinese state-backed banks totaling $124 billion.\\n\\nRace to the Future Players in the clean energy revolution are increasingly caught in a cycle of exploitation and greed over resources. At the center of it is the quest for a prized metal: cobalt. Global Rivalries: The competition for cobalt, used in electric cars, has set off a power struggle between China and the United States in Congo. How the U.S. Lost Ground to China: Americans failed to safeguard decades of investments in Congo, essentially surrendering resources to China. Key Takeaways: The Times dispatched reporters across three continents drawn into the fight. Here are some findings from their investigation. Hunter Biden’s Business Ties: A firm co-founded by the president’s son facilitated the sale of a cobalt mine in Congo to a Chinese company. Here are the deal’s details. How Electric Car Batteries Are Made: It all starts with prized minerals and metals like cobalt.\\n\\n\\n\\nOne of the government-backed companies, China Molybdenum, which bought the two American-owned reserves, described itself to The Times as “a pure business entity” traded on two stock exchanges. Records show 25 percent of the company is owned by a local government in China.\\n\\nCongolese officials accuse Chinese mining companies of cheating the country of promised revenues and improvements.\\n\\nThe Congolese are reviewing past mining contracts with financial help from the American government, part of a broader anti-corruption effort. They are also examining whether Chinese promises to build roads, schools, hospitals and other infrastructure were kept.\\n\\nSeparately, Chinese Molybdenum is being accused of withholding payments to the government at its Tenke Fungurume cobalt and copper mine. The company said it had done nothing wrong, and questioned if there was an organized effort to undermine it.\\n\\nChina has an idiom that goes something like: “Where there is a will to condemn, evidence will follow,” a spokesman said. “Vaguely I feel that we may be caught in the gaming of greater powers.”\\n\\nThe purchase by the Chinese of an American-owned mine was facilitated by a firm with Hunter Biden on the board.\\n\\nTenke Fungurume, one of the biggest cobalt mines in the world, was controlled by an American company, Freeport-McMoRan. Then it was sold in 2016 in a series of transactions worth $3.8 billion to China Molybdenum. The sale was aided by a Chinese private equity firm that bought out a minority owner in the mine.\\n\\nA founding board member of the private equity firm was Hunter Biden, son of the American president. A Washington company that had been controlled by Mr. Biden remains a shareholder in the firm, according to Chinese financial documents. Chris Clark, a lawyer for Mr. Biden, said his client “no longer holds any interest, directly or indirectly,” in the Washington and Chinese firms. Filings in China show he is no longer a board member of the Chinese firm. Mr. Biden did not respond to requests for comment.']"
            ]
          },
          "metadata": {},
          "execution_count": 56
        }
      ]
    },
    {
      "cell_type": "code",
      "metadata": {
        "id": "B-hn5KlMcBgn"
      },
      "source": [
        "docs = nlp.pipe(articles)\n",
        "\n",
        "# extract to a dataframe\n",
        "articles_df = td.extract_df(docs, metrics=\"readability\")"
      ],
      "execution_count": null,
      "outputs": []
    },
    {
      "cell_type": "code",
      "metadata": {
        "id": "hNSjX-fPcBdD",
        "colab": {
          "base_uri": "https://localhost:8080/",
          "height": 319
        },
        "outputId": "75c239d7-de2a-4a3a-e0cc-8e0333a425a1"
      },
      "source": [
        "articles_df"
      ],
      "execution_count": null,
      "outputs": [
        {
          "output_type": "execute_result",
          "data": {
            "text/html": [
              "<div>\n",
              "<style scoped>\n",
              "    .dataframe tbody tr th:only-of-type {\n",
              "        vertical-align: middle;\n",
              "    }\n",
              "\n",
              "    .dataframe tbody tr th {\n",
              "        vertical-align: top;\n",
              "    }\n",
              "\n",
              "    .dataframe thead th {\n",
              "        text-align: right;\n",
              "    }\n",
              "</style>\n",
              "<table border=\"1\" class=\"dataframe\">\n",
              "  <thead>\n",
              "    <tr style=\"text-align: right;\">\n",
              "      <th></th>\n",
              "      <th>text</th>\n",
              "      <th>flesch_reading_ease</th>\n",
              "      <th>flesch_kincaid_grade</th>\n",
              "      <th>smog</th>\n",
              "      <th>gunning_fog</th>\n",
              "      <th>automated_readability_index</th>\n",
              "      <th>coleman_liau_index</th>\n",
              "      <th>lix</th>\n",
              "      <th>rix</th>\n",
              "    </tr>\n",
              "  </thead>\n",
              "  <tbody>\n",
              "    <tr>\n",
              "      <th>0</th>\n",
              "      <td>The song continued to evolve during the Zoo TV...</td>\n",
              "      <td>75.029716</td>\n",
              "      <td>8.259602</td>\n",
              "      <td>10.052491</td>\n",
              "      <td>11.470455</td>\n",
              "      <td>9.741378</td>\n",
              "      <td>8.036648</td>\n",
              "      <td>40.039773</td>\n",
              "      <td>3.96875</td>\n",
              "    </tr>\n",
              "    <tr>\n",
              "      <th>1</th>\n",
              "      <td>BRATTLEBORO, VT—Rubbing his hands together in ...</td>\n",
              "      <td>78.313636</td>\n",
              "      <td>8.191948</td>\n",
              "      <td>8.418075</td>\n",
              "      <td>10.883117</td>\n",
              "      <td>9.709532</td>\n",
              "      <td>7.105697</td>\n",
              "      <td>36.298701</td>\n",
              "      <td>3.00000</td>\n",
              "    </tr>\n",
              "    <tr>\n",
              "      <th>2</th>\n",
              "      <td>The five biggest Chinese mining companies in C...</td>\n",
              "      <td>69.606379</td>\n",
              "      <td>8.022337</td>\n",
              "      <td>10.924579</td>\n",
              "      <td>11.337931</td>\n",
              "      <td>10.353046</td>\n",
              "      <td>10.998084</td>\n",
              "      <td>43.670498</td>\n",
              "      <td>4.62069</td>\n",
              "    </tr>\n",
              "  </tbody>\n",
              "</table>\n",
              "</div>"
            ],
            "text/plain": [
              "                                                text  ...      rix\n",
              "0  The song continued to evolve during the Zoo TV...  ...  3.96875\n",
              "1  BRATTLEBORO, VT—Rubbing his hands together in ...  ...  3.00000\n",
              "2  The five biggest Chinese mining companies in C...  ...  4.62069\n",
              "\n",
              "[3 rows x 9 columns]"
            ]
          },
          "metadata": {},
          "execution_count": 58
        }
      ]
    },
    {
      "cell_type": "code",
      "metadata": {
        "id": "2U-9_PsTcX5X"
      },
      "source": [
        ""
      ],
      "execution_count": null,
      "outputs": []
    },
    {
      "cell_type": "code",
      "metadata": {
        "id": "kJxDEclj3ShQ"
      },
      "source": [
        "## FUN PRACTICE AND THOUGHT EXERCISE - SHREK MOVIE TRANSCRIPT\n",
        "## You could practice and think about readbility by using the Shrek transcript\n",
        "## lets think about the reading model:  https://en.wikipedia.org/wiki/Coleman%E2%80%93Liau_index\n",
        "## are we supplying a proper dataset if we use the Shrek movie transcript?  does it make sense directionally, use as index and not absolutes?\n"
      ],
      "execution_count": null,
      "outputs": []
    },
    {
      "cell_type": "code",
      "metadata": {
        "id": "NkV_lBJ9eveR"
      },
      "source": [
        ""
      ],
      "execution_count": null,
      "outputs": []
    },
    {
      "cell_type": "code",
      "metadata": {
        "id": "YRLhOMpY54uY"
      },
      "source": [
        "##################################### Intent Classification within spacy\n",
        "## I mentioned everything will start to show a concept of frameowrks\n",
        "##\n",
        "## we already saw spacy has pipelines\n",
        "## we can also extend the objects, in this case, the Doc object\n",
        "## we will set an extension on a Doc that will apply the \n"
      ],
      "execution_count": null,
      "outputs": []
    },
    {
      "cell_type": "code",
      "metadata": {
        "id": "Tat3nEJUBRN-"
      },
      "source": [
        "# tokenwiser is a fantastic abstraction layer for some pre-processing tasks\n",
        "# it also created the bridge for us to plug sklearn models into spacy\n",
        "# as a doc extension\n",
        "\n",
        "from tokenwiser.extension import sklearn_method"
      ],
      "execution_count": null,
      "outputs": []
    },
    {
      "cell_type": "code",
      "metadata": {
        "id": "kijlP2PV1V1m"
      },
      "source": [
        "# get the data training dataset for sms spam\n",
        "\n",
        "SQL = \"SELECT * from `questrom.SMSspam.train`\"\n",
        "train = pd.read_gbq(SQL, \"questrom\")\n"
      ],
      "execution_count": null,
      "outputs": []
    },
    {
      "cell_type": "code",
      "metadata": {
        "id": "ZLokHfgm3shz",
        "colab": {
          "base_uri": "https://localhost:8080/",
          "height": 143
        },
        "outputId": "59cfacdb-12a6-4db7-b824-934572f24af9"
      },
      "source": [
        "train.tail(3)"
      ],
      "execution_count": null,
      "outputs": [
        {
          "output_type": "execute_result",
          "data": {
            "text/html": [
              "<div>\n",
              "<style scoped>\n",
              "    .dataframe tbody tr th:only-of-type {\n",
              "        vertical-align: middle;\n",
              "    }\n",
              "\n",
              "    .dataframe tbody tr th {\n",
              "        vertical-align: top;\n",
              "    }\n",
              "\n",
              "    .dataframe thead th {\n",
              "        text-align: right;\n",
              "    }\n",
              "</style>\n",
              "<table border=\"1\" class=\"dataframe\">\n",
              "  <thead>\n",
              "    <tr style=\"text-align: right;\">\n",
              "      <th></th>\n",
              "      <th>message</th>\n",
              "      <th>label</th>\n",
              "      <th>id</th>\n",
              "    </tr>\n",
              "  </thead>\n",
              "  <tbody>\n",
              "    <tr>\n",
              "      <th>3832</th>\n",
              "      <td>ASKED 3MOBILE IF 0870 CHATLINES INCLU IN FREE ...</td>\n",
              "      <td>spam</td>\n",
              "      <td>4240</td>\n",
              "    </tr>\n",
              "    <tr>\n",
              "      <th>3833</th>\n",
              "      <td>Had your contract mobile 11 Mnths? Latest Moto...</td>\n",
              "      <td>spam</td>\n",
              "      <td>4245</td>\n",
              "    </tr>\n",
              "    <tr>\n",
              "      <th>3834</th>\n",
              "      <td>This is the 2nd time we have tried 2 contact u...</td>\n",
              "      <td>spam</td>\n",
              "      <td>4259</td>\n",
              "    </tr>\n",
              "  </tbody>\n",
              "</table>\n",
              "</div>"
            ],
            "text/plain": [
              "                                                message label    id\n",
              "3832  ASKED 3MOBILE IF 0870 CHATLINES INCLU IN FREE ...  spam  4240\n",
              "3833  Had your contract mobile 11 Mnths? Latest Moto...  spam  4245\n",
              "3834  This is the 2nd time we have tried 2 contact u...  spam  4259"
            ]
          },
          "metadata": {},
          "execution_count": 61
        }
      ]
    },
    {
      "cell_type": "code",
      "metadata": {
        "id": "4_KBJr2dyxIN"
      },
      "source": [
        "# lets build a pipeline from sklearn to classify the messages\n",
        "\n",
        "steps = [(\"cv\", CountVectorizer()), \n",
        "         (\"clf\", DecisionTreeClassifier(max_depth=7, \n",
        "                                        min_samples_leaf=15, \n",
        "                                        min_samples_split=30, \n",
        "                                        random_state=820))]\n",
        "\n",
        "pipe = Pipeline(steps)\n"
      ],
      "execution_count": null,
      "outputs": []
    },
    {
      "cell_type": "code",
      "metadata": {
        "id": "JlVsfSdOz9BM",
        "colab": {
          "base_uri": "https://localhost:8080/"
        },
        "outputId": "e82d742e-0c81-46a2-eb29-57e345d063d1"
      },
      "source": [
        "# fit the model - use spacy to \n",
        "pipe.fit(train.message, train.label)"
      ],
      "execution_count": null,
      "outputs": [
        {
          "output_type": "execute_result",
          "data": {
            "text/plain": [
              "Pipeline(steps=[('cv', CountVectorizer()),\n",
              "                ('clf',\n",
              "                 DecisionTreeClassifier(max_depth=7, min_samples_leaf=15,\n",
              "                                        min_samples_split=30,\n",
              "                                        random_state=820))])"
            ]
          },
          "metadata": {},
          "execution_count": 63
        }
      ]
    },
    {
      "cell_type": "code",
      "metadata": {
        "id": "P9ddBG5N38-P",
        "colab": {
          "base_uri": "https://localhost:8080/"
        },
        "outputId": "f587590f-63a4-4dee-9455-580e52ca6320"
      },
      "source": [
        "# play with the model\n",
        "sms = \"Hey, how are ya!?!\"\n",
        "pipe.predict([sms])\n",
        "pipe.predict_proba([sms])"
      ],
      "execution_count": null,
      "outputs": [
        {
          "output_type": "execute_result",
          "data": {
            "text/plain": [
              "array([[0.97609181, 0.02390819]])"
            ]
          },
          "metadata": {},
          "execution_count": 65
        }
      ]
    },
    {
      "cell_type": "code",
      "metadata": {
        "id": "kDR3ljod4IJ-",
        "colab": {
          "base_uri": "https://localhost:8080/"
        },
        "outputId": "7338abc7-67a4-4d6a-fb7d-2fdb0b47fe4c"
      },
      "source": [
        "# review the classes\n",
        "pipe.classes_"
      ],
      "execution_count": null,
      "outputs": [
        {
          "output_type": "execute_result",
          "data": {
            "text/plain": [
              "array(['ham', 'spam'], dtype=object)"
            ]
          },
          "metadata": {},
          "execution_count": 66
        }
      ]
    },
    {
      "cell_type": "code",
      "metadata": {
        "id": "N5mS9Uqh48e6"
      },
      "source": [
        "# lets set this as a property\n",
        "\n",
        "from spacy.tokens import Doc\n",
        "Doc.set_extension(\"spam\", getter=sklearn_method(pipe))"
      ],
      "execution_count": null,
      "outputs": []
    },
    {
      "cell_type": "code",
      "metadata": {
        "id": "Ak46OxNihT-a"
      },
      "source": [
        "# lets play around\n",
        "\n",
        "doc = nlp(sms)\n"
      ],
      "execution_count": null,
      "outputs": []
    },
    {
      "cell_type": "code",
      "metadata": {
        "id": "sBKDOIb_h8M0",
        "colab": {
          "base_uri": "https://localhost:8080/"
        },
        "outputId": "48d7c4ba-8b6c-4b6d-bb2a-5dc77adaaa9f"
      },
      "source": [
        "# simple print\n",
        "doc"
      ],
      "execution_count": null,
      "outputs": [
        {
          "output_type": "execute_result",
          "data": {
            "text/plain": [
              "Hey, how are ya!?!"
            ]
          },
          "metadata": {},
          "execution_count": 69
        }
      ]
    },
    {
      "cell_type": "code",
      "metadata": {
        "id": "xCMsNKtDiNsr",
        "colab": {
          "base_uri": "https://localhost:8080/"
        },
        "outputId": "7ab881e7-0d81-486b-ef83-1deb5758601d"
      },
      "source": [
        "type(doc)"
      ],
      "execution_count": null,
      "outputs": [
        {
          "output_type": "execute_result",
          "data": {
            "text/plain": [
              "spacy.tokens.doc.Doc"
            ]
          },
          "metadata": {},
          "execution_count": 70
        }
      ]
    },
    {
      "cell_type": "code",
      "metadata": {
        "colab": {
          "base_uri": "https://localhost:8080/"
        },
        "id": "Q1mh9pkXj6OI",
        "outputId": "69a68836-7ce4-4895-dd39-fd18d7d0bb41"
      },
      "source": [
        "doc._.spam"
      ],
      "execution_count": null,
      "outputs": [
        {
          "output_type": "execute_result",
          "data": {
            "text/plain": [
              "{'ham': 0.9760918074593561, 'spam': 0.023908192540643927}"
            ]
          },
          "metadata": {},
          "execution_count": 71
        }
      ]
    },
    {
      "cell_type": "code",
      "metadata": {
        "id": "magnW0iKj6Tf"
      },
      "source": [
        ""
      ],
      "execution_count": null,
      "outputs": []
    },
    {
      "cell_type": "code",
      "metadata": {
        "id": "V_no3aiSieMe"
      },
      "source": [
        "# we could always roll our own without tokenwiser attribute \n",
        "\n",
        "def spam_cat(doc):\n",
        "  label = pipe.predict([doc.text[0]])\n",
        "  label = str(label[0])\n",
        "  return label\n",
        "\n",
        "Doc.set_extension(\"label\", getter=spam_cat)\n"
      ],
      "execution_count": null,
      "outputs": []
    },
    {
      "cell_type": "code",
      "metadata": {
        "id": "E_W58BZNkA4b"
      },
      "source": [
        "doc = nlp(sms)"
      ],
      "execution_count": null,
      "outputs": []
    },
    {
      "cell_type": "code",
      "metadata": {
        "colab": {
          "base_uri": "https://localhost:8080/",
          "height": 35
        },
        "id": "FjvsGF-Kkhrv",
        "outputId": "9bbf6248-3385-48bd-f633-d6a25be011f3"
      },
      "source": [
        "doc._.label"
      ],
      "execution_count": null,
      "outputs": [
        {
          "output_type": "execute_result",
          "data": {
            "application/vnd.google.colaboratory.intrinsic+json": {
              "type": "string"
            },
            "text/plain": [
              "'ham'"
            ]
          },
          "metadata": {},
          "execution_count": 75
        }
      ]
    },
    {
      "cell_type": "code",
      "metadata": {
        "id": "cR8XkTQCq5Ql"
      },
      "source": [
        "##################################### Lets zoom out\n",
        "##\n",
        "## we are fitting a classifier with python\n",
        "## we are showing that we COULD include it in a spacy pipeline.  This is helpful is spacy is at the core of a stack\n",
        "## spacy is very powerful, as we will continue to use spacy for NER tasks and embeddings\n",
        "## \n",
        "## Classification has a broad range of applications\n",
        "## news categories for content sorting\n",
        "## customer service requests\n",
        "## chatbots (what is the user asking for)    <------ Rasa, in part, uses spacy to help build chatbots\n",
        "## topic classification   <-------- There is topic modeling, but I have always felt like ML classifiation task are better for all sorts of problems\n",
        "##   --- we will see a form of this when we jump into embedding representations of text\n",
        "##\n",
        "## "
      ],
      "execution_count": null,
      "outputs": []
    },
    {
      "cell_type": "code",
      "metadata": {
        "id": "nFMGs745kD2X"
      },
      "source": [
        ""
      ],
      "execution_count": null,
      "outputs": []
    },
    {
      "cell_type": "code",
      "metadata": {
        "id": "qGW-v2mbmAGW"
      },
      "source": [
        "##################################### a domain-specific ML approach\n",
        "## \n",
        "## Work in your capstone groups - you should be working in teams, not by yourself\n",
        "##\n",
        "## When it comes to things like sentiment, sometimes its better to annotate and build our own classifier\n",
        "## \n",
        "## What does this mean?\n",
        "## 1. collect a dataset\n",
        "## 2. annotate the data with our own business rules\n",
        "##  --------> Label studio?\n",
        "## 3. we can use some of the tools above \n",
        "## ---------> generate a score, define a threshold, give labels\n",
        "## ---------> fit a model on labels\n",
        "## ---------> review, iterate, review, iterate\n",
        "##\n",
        "## Why build our own?\n",
        "## \n",
        "## - out of the box generalize (thats a theme you have heard me say)\n",
        "## - domain specific words may not be captured\n",
        "## - also, sarcasm is hard to detect even with modifier approaches like TextBlob or Vader\n",
        "##\n",
        "## \n",
        "## there is an airlines tweets dataset on biq query\n",
        "## bring in questrom.datasets.airlines-tweets\n",
        "## just the tweet_id, airline_sentiment, airline, and text columns\n",
        "##\n",
        "## NOTES:  You can use any model you like\n",
        "##         You DO NOT have to use spacy, just highligting that these tools can be play well together\n",
        "## \n",
        "## after you make predictions, are there any differences by airline?\n"
      ],
      "execution_count": null,
      "outputs": []
    },
    {
      "cell_type": "code",
      "metadata": {
        "id": "pIdQnJJlsSTG"
      },
      "source": [
        ""
      ],
      "execution_count": null,
      "outputs": []
    }
  ]
}