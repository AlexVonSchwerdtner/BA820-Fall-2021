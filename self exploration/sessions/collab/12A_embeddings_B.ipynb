{
  "nbformat": 4,
  "nbformat_minor": 0,
  "metadata": {
    "colab": {
      "name": "12A-embeddings-B",
      "provenance": [],
      "collapsed_sections": []
    },
    "kernelspec": {
      "name": "python3",
      "display_name": "Python 3"
    },
    "language_info": {
      "name": "python"
    }
  },
  "cells": [
    {
      "cell_type": "code",
      "metadata": {
        "id": "ayhaQ8AcPFHx"
      },
      "source": [
        "##############################################################################\n",
        "## Fundamentals for pratical Text Analytics - document/word embeddings\n",
        "##                                            more spacy, \n",
        "##                                            gensim to build our own ----> spacy\n",
        "##                                            why:  dense numeric representations to capture meaning\n",
        "##                                                  use downstream -> similarity, clustering, ML\n",
        "##\n",
        "##\n",
        "## Learning goals:\n",
        "##                 - continue spacy\n",
        "##                 - foundational understanding of word vectors via Word2Vec\n",
        "##                 - can roll our own vectors\n",
        "##                 - generalized, pre-trained word vectors for S|UML tasks (intent classification)\n",
        "##\n",
        "##\n",
        "## Great resources\n",
        "##                 - https://spacy.io/usage/spacy-101\n",
        "##                 - https://spacy.io/universe/category/courses\n",
        "##\n",
        "##\n",
        "##############################################################################"
      ],
      "execution_count": null,
      "outputs": []
    },
    {
      "cell_type": "code",
      "metadata": {
        "id": "j_R7-hTzQyzQ",
        "colab": {
          "base_uri": "https://localhost:8080/"
        },
        "outputId": "bfaea588-85f1-4fd0-e5dd-bdd8e79e8a79"
      },
      "source": [
        "# installs\n",
        "! pip install -U spacy \n",
        "# ! pip install -U textacy\n",
        "! pip install newspaper3k\n",
        "# ! pip install afinn\n",
        "# ! pip install whatlies"
      ],
      "execution_count": null,
      "outputs": [
        {
          "output_type": "stream",
          "name": "stdout",
          "text": [
            "Requirement already satisfied: spacy in /usr/local/lib/python3.7/dist-packages (2.2.4)\n",
            "Collecting spacy\n",
            "  Downloading spacy-3.2.0-cp37-cp37m-manylinux_2_17_x86_64.manylinux2014_x86_64.whl (6.0 MB)\n",
            "\u001b[K     |████████████████████████████████| 6.0 MB 4.3 MB/s \n",
            "\u001b[?25hRequirement already satisfied: packaging>=20.0 in /usr/local/lib/python3.7/dist-packages (from spacy) (21.3)\n",
            "Requirement already satisfied: wasabi<1.1.0,>=0.8.1 in /usr/local/lib/python3.7/dist-packages (from spacy) (0.8.2)\n",
            "Requirement already satisfied: tqdm<5.0.0,>=4.38.0 in /usr/local/lib/python3.7/dist-packages (from spacy) (4.62.3)\n",
            "Collecting spacy-legacy<3.1.0,>=3.0.8\n",
            "  Downloading spacy_legacy-3.0.8-py2.py3-none-any.whl (14 kB)\n",
            "Collecting pathy>=0.3.5\n",
            "  Downloading pathy-0.6.1-py3-none-any.whl (42 kB)\n",
            "\u001b[K     |████████████████████████████████| 42 kB 1.1 MB/s \n",
            "\u001b[?25hRequirement already satisfied: typing-extensions<4.0.0.0,>=3.7.4 in /usr/local/lib/python3.7/dist-packages (from spacy) (3.10.0.2)\n",
            "Requirement already satisfied: jinja2 in /usr/local/lib/python3.7/dist-packages (from spacy) (2.11.3)\n",
            "Collecting thinc<8.1.0,>=8.0.12\n",
            "  Downloading thinc-8.0.13-cp37-cp37m-manylinux_2_17_x86_64.manylinux2014_x86_64.whl (628 kB)\n",
            "\u001b[K     |████████████████████████████████| 628 kB 55.7 MB/s \n",
            "\u001b[?25hRequirement already satisfied: murmurhash<1.1.0,>=0.28.0 in /usr/local/lib/python3.7/dist-packages (from spacy) (1.0.6)\n",
            "Collecting catalogue<2.1.0,>=2.0.6\n",
            "  Downloading catalogue-2.0.6-py3-none-any.whl (17 kB)\n",
            "Collecting langcodes<4.0.0,>=3.2.0\n",
            "  Downloading langcodes-3.3.0-py3-none-any.whl (181 kB)\n",
            "\u001b[K     |████████████████████████████████| 181 kB 67.4 MB/s \n",
            "\u001b[?25hCollecting typer<0.5.0,>=0.3.0\n",
            "  Downloading typer-0.4.0-py3-none-any.whl (27 kB)\n",
            "Collecting spacy-loggers<2.0.0,>=1.0.0\n",
            "  Downloading spacy_loggers-1.0.1-py3-none-any.whl (7.0 kB)\n",
            "Requirement already satisfied: cymem<2.1.0,>=2.0.2 in /usr/local/lib/python3.7/dist-packages (from spacy) (2.0.6)\n",
            "Collecting srsly<3.0.0,>=2.4.1\n",
            "  Downloading srsly-2.4.2-cp37-cp37m-manylinux_2_17_x86_64.manylinux2014_x86_64.whl (451 kB)\n",
            "\u001b[K     |████████████████████████████████| 451 kB 48.9 MB/s \n",
            "\u001b[?25hRequirement already satisfied: requests<3.0.0,>=2.13.0 in /usr/local/lib/python3.7/dist-packages (from spacy) (2.23.0)\n",
            "Collecting pydantic!=1.8,!=1.8.1,<1.9.0,>=1.7.4\n",
            "  Downloading pydantic-1.8.2-cp37-cp37m-manylinux2014_x86_64.whl (10.1 MB)\n",
            "\u001b[K     |████████████████████████████████| 10.1 MB 47.9 MB/s \n",
            "\u001b[?25hRequirement already satisfied: setuptools in /usr/local/lib/python3.7/dist-packages (from spacy) (57.4.0)\n",
            "Requirement already satisfied: blis<0.8.0,>=0.4.0 in /usr/local/lib/python3.7/dist-packages (from spacy) (0.4.1)\n",
            "Requirement already satisfied: preshed<3.1.0,>=3.0.2 in /usr/local/lib/python3.7/dist-packages (from spacy) (3.0.6)\n",
            "Requirement already satisfied: numpy>=1.15.0 in /usr/local/lib/python3.7/dist-packages (from spacy) (1.19.5)\n",
            "Requirement already satisfied: zipp>=0.5 in /usr/local/lib/python3.7/dist-packages (from catalogue<2.1.0,>=2.0.6->spacy) (3.6.0)\n",
            "Requirement already satisfied: pyparsing!=3.0.5,>=2.0.2 in /usr/local/lib/python3.7/dist-packages (from packaging>=20.0->spacy) (3.0.6)\n",
            "Requirement already satisfied: smart-open<6.0.0,>=5.0.0 in /usr/local/lib/python3.7/dist-packages (from pathy>=0.3.5->spacy) (5.2.1)\n",
            "Requirement already satisfied: chardet<4,>=3.0.2 in /usr/local/lib/python3.7/dist-packages (from requests<3.0.0,>=2.13.0->spacy) (3.0.4)\n",
            "Requirement already satisfied: certifi>=2017.4.17 in /usr/local/lib/python3.7/dist-packages (from requests<3.0.0,>=2.13.0->spacy) (2021.10.8)\n",
            "Requirement already satisfied: idna<3,>=2.5 in /usr/local/lib/python3.7/dist-packages (from requests<3.0.0,>=2.13.0->spacy) (2.10)\n",
            "Requirement already satisfied: urllib3!=1.25.0,!=1.25.1,<1.26,>=1.21.1 in /usr/local/lib/python3.7/dist-packages (from requests<3.0.0,>=2.13.0->spacy) (1.24.3)\n",
            "Requirement already satisfied: click<9.0.0,>=7.1.1 in /usr/local/lib/python3.7/dist-packages (from typer<0.5.0,>=0.3.0->spacy) (7.1.2)\n",
            "Requirement already satisfied: MarkupSafe>=0.23 in /usr/local/lib/python3.7/dist-packages (from jinja2->spacy) (2.0.1)\n",
            "Installing collected packages: catalogue, typer, srsly, pydantic, thinc, spacy-loggers, spacy-legacy, pathy, langcodes, spacy\n",
            "  Attempting uninstall: catalogue\n",
            "    Found existing installation: catalogue 1.0.0\n",
            "    Uninstalling catalogue-1.0.0:\n",
            "      Successfully uninstalled catalogue-1.0.0\n",
            "  Attempting uninstall: srsly\n",
            "    Found existing installation: srsly 1.0.5\n",
            "    Uninstalling srsly-1.0.5:\n",
            "      Successfully uninstalled srsly-1.0.5\n",
            "  Attempting uninstall: thinc\n",
            "    Found existing installation: thinc 7.4.0\n",
            "    Uninstalling thinc-7.4.0:\n",
            "      Successfully uninstalled thinc-7.4.0\n",
            "  Attempting uninstall: spacy\n",
            "    Found existing installation: spacy 2.2.4\n",
            "    Uninstalling spacy-2.2.4:\n",
            "      Successfully uninstalled spacy-2.2.4\n",
            "Successfully installed catalogue-2.0.6 langcodes-3.3.0 pathy-0.6.1 pydantic-1.8.2 spacy-3.2.0 spacy-legacy-3.0.8 spacy-loggers-1.0.1 srsly-2.4.2 thinc-8.0.13 typer-0.4.0\n",
            "Collecting newspaper3k\n",
            "  Downloading newspaper3k-0.2.8-py3-none-any.whl (211 kB)\n",
            "\u001b[K     |████████████████████████████████| 211 kB 4.3 MB/s \n",
            "\u001b[?25hCollecting tldextract>=2.0.1\n",
            "  Downloading tldextract-3.1.2-py2.py3-none-any.whl (87 kB)\n",
            "\u001b[K     |████████████████████████████████| 87 kB 5.8 MB/s \n",
            "\u001b[?25hCollecting jieba3k>=0.35.1\n",
            "  Downloading jieba3k-0.35.1.zip (7.4 MB)\n",
            "\u001b[K     |████████████████████████████████| 7.4 MB 52.5 MB/s \n",
            "\u001b[?25hRequirement already satisfied: nltk>=3.2.1 in /usr/local/lib/python3.7/dist-packages (from newspaper3k) (3.2.5)\n",
            "Requirement already satisfied: lxml>=3.6.0 in /usr/local/lib/python3.7/dist-packages (from newspaper3k) (4.2.6)\n",
            "Collecting feedparser>=5.2.1\n",
            "  Downloading feedparser-6.0.8-py3-none-any.whl (81 kB)\n",
            "\u001b[K     |████████████████████████████████| 81 kB 10.2 MB/s \n",
            "\u001b[?25hCollecting cssselect>=0.9.2\n",
            "  Downloading cssselect-1.1.0-py2.py3-none-any.whl (16 kB)\n",
            "Requirement already satisfied: beautifulsoup4>=4.4.1 in /usr/local/lib/python3.7/dist-packages (from newspaper3k) (4.6.3)\n",
            "Collecting tinysegmenter==0.3\n",
            "  Downloading tinysegmenter-0.3.tar.gz (16 kB)\n",
            "Collecting feedfinder2>=0.0.4\n",
            "  Downloading feedfinder2-0.0.4.tar.gz (3.3 kB)\n",
            "Requirement already satisfied: requests>=2.10.0 in /usr/local/lib/python3.7/dist-packages (from newspaper3k) (2.23.0)\n",
            "Requirement already satisfied: PyYAML>=3.11 in /usr/local/lib/python3.7/dist-packages (from newspaper3k) (3.13)\n",
            "Requirement already satisfied: Pillow>=3.3.0 in /usr/local/lib/python3.7/dist-packages (from newspaper3k) (7.1.2)\n",
            "Requirement already satisfied: python-dateutil>=2.5.3 in /usr/local/lib/python3.7/dist-packages (from newspaper3k) (2.8.2)\n",
            "Requirement already satisfied: six in /usr/local/lib/python3.7/dist-packages (from feedfinder2>=0.0.4->newspaper3k) (1.15.0)\n",
            "Collecting sgmllib3k\n",
            "  Downloading sgmllib3k-1.0.0.tar.gz (5.8 kB)\n",
            "Requirement already satisfied: idna<3,>=2.5 in /usr/local/lib/python3.7/dist-packages (from requests>=2.10.0->newspaper3k) (2.10)\n",
            "Requirement already satisfied: chardet<4,>=3.0.2 in /usr/local/lib/python3.7/dist-packages (from requests>=2.10.0->newspaper3k) (3.0.4)\n",
            "Requirement already satisfied: urllib3!=1.25.0,!=1.25.1,<1.26,>=1.21.1 in /usr/local/lib/python3.7/dist-packages (from requests>=2.10.0->newspaper3k) (1.24.3)\n",
            "Requirement already satisfied: certifi>=2017.4.17 in /usr/local/lib/python3.7/dist-packages (from requests>=2.10.0->newspaper3k) (2021.10.8)\n",
            "Collecting requests-file>=1.4\n",
            "  Downloading requests_file-1.5.1-py2.py3-none-any.whl (3.7 kB)\n",
            "Requirement already satisfied: filelock>=3.0.8 in /usr/local/lib/python3.7/dist-packages (from tldextract>=2.0.1->newspaper3k) (3.4.0)\n",
            "Building wheels for collected packages: tinysegmenter, feedfinder2, jieba3k, sgmllib3k\n",
            "  Building wheel for tinysegmenter (setup.py) ... \u001b[?25l\u001b[?25hdone\n",
            "  Created wheel for tinysegmenter: filename=tinysegmenter-0.3-py3-none-any.whl size=13552 sha256=10dc1ce9c81b23910896b621abfa161da99642afd4da1eb5aaf09e49ba05f967\n",
            "  Stored in directory: /root/.cache/pip/wheels/df/67/41/faca10fa501ca010be41b49d40360c2959e1c4f09bcbfa37fa\n",
            "  Building wheel for feedfinder2 (setup.py) ... \u001b[?25l\u001b[?25hdone\n",
            "  Created wheel for feedfinder2: filename=feedfinder2-0.0.4-py3-none-any.whl size=3356 sha256=59598518d7fb69c03d96a8b74fbae0a710c230cc4be347ef10a93df511264bdd\n",
            "  Stored in directory: /root/.cache/pip/wheels/7f/d4/8f/6e2ca54744c9d7292d88ddb8d42876bcdab5e6d84a21c10346\n",
            "  Building wheel for jieba3k (setup.py) ... \u001b[?25l\u001b[?25hdone\n",
            "  Created wheel for jieba3k: filename=jieba3k-0.35.1-py3-none-any.whl size=7398405 sha256=895f904e4097ac1319a9a4b3dd7fdbd18309bbcf760c1fb0bacb6e94a2f34966\n",
            "  Stored in directory: /root/.cache/pip/wheels/4c/91/46/3c208287b726df325a5979574324878b679116e4baae1af3c3\n",
            "  Building wheel for sgmllib3k (setup.py) ... \u001b[?25l\u001b[?25hdone\n",
            "  Created wheel for sgmllib3k: filename=sgmllib3k-1.0.0-py3-none-any.whl size=6065 sha256=251a3f21fa8d8cf8018d537e5f3fc39cb22fa59f3af1f1e9cf768b142af820bb\n",
            "  Stored in directory: /root/.cache/pip/wheels/73/ad/a4/0dff4a6ef231fc0dfa12ffbac2a36cebfdddfe059f50e019aa\n",
            "Successfully built tinysegmenter feedfinder2 jieba3k sgmllib3k\n",
            "Installing collected packages: sgmllib3k, requests-file, tldextract, tinysegmenter, jieba3k, feedparser, feedfinder2, cssselect, newspaper3k\n",
            "Successfully installed cssselect-1.1.0 feedfinder2-0.0.4 feedparser-6.0.8 jieba3k-0.35.1 newspaper3k-0.2.8 requests-file-1.5.1 sgmllib3k-1.0.0 tinysegmenter-0.3 tldextract-3.1.2\n"
          ]
        }
      ]
    },
    {
      "cell_type": "code",
      "metadata": {
        "id": "0nCDfEpzQy3_"
      },
      "source": [
        "# imports\n",
        "import spacy\n",
        "from spacy import cli\n",
        "from spacy import displacy\n",
        "\n",
        "import pandas as pd\n",
        "import numpy as np\n",
        "from scipy.spatial.distance import pdist, cdist, squareform\n",
        "import seaborn as sns\n",
        "\n",
        "\n",
        "# upcoming!\n",
        "# from textacy.extract.keyterms import textrank\n",
        "import gensim\n",
        "\n",
        "# import textacy\n",
        "\n",
        "from newspaper import Article\n",
        "import json\n",
        "\n",
        "# from afinn import Afinn\n"
      ],
      "execution_count": null,
      "outputs": []
    },
    {
      "cell_type": "code",
      "metadata": {
        "id": "xpCbWS6RE6TN",
        "colab": {
          "base_uri": "https://localhost:8080/"
        },
        "outputId": "b4fdcdbb-57b7-4cef-dcb3-df0114d50d5c"
      },
      "source": [
        "# use spacy cli\n",
        "MODEL = \"en_core_web_md\"\n",
        "\n",
        "# https://spacy.io/models/en\n",
        "cli.download(MODEL)\n",
        "\n",
        "# nlp = language model\n",
        "nlp = spacy.load(MODEL)"
      ],
      "execution_count": null,
      "outputs": [
        {
          "output_type": "stream",
          "name": "stdout",
          "text": [
            "\u001b[38;5;2m✔ Download and installation successful\u001b[0m\n",
            "You can now load the package via spacy.load('en_core_web_md')\n"
          ]
        }
      ]
    },
    {
      "cell_type": "code",
      "metadata": {
        "id": "N60MZcqlQr4c"
      },
      "source": [
        "############################################ WARMUP\n",
        "##\n",
        "##\n",
        "## Scrape the Wikipedia Entry for the Netflix series Squid Game\n",
        "## https://en.wikipedia.org/wiki/Squid_Game\n",
        "##\n",
        "## use the pre-loaded spacy NER model to parse the entities\n",
        "## parse the entities into a dataframe\n",
        "## create a barplot summarizing count by entity type\n",
        "## TRICKY:  make it a horizontal barplot with the most frequent entity at the top of the chart\n",
        "## "
      ],
      "execution_count": null,
      "outputs": []
    },
    {
      "cell_type": "code",
      "metadata": {
        "id": "nO0P9S-TQrsM"
      },
      "source": [
        "article = Article(\"https://en.wikipedia.org/wiki/Squid_Game\")\n",
        "article.download()\n",
        "article.parse()\n",
        "sg = article.text"
      ],
      "execution_count": null,
      "outputs": []
    },
    {
      "cell_type": "code",
      "metadata": {
        "id": "LHuNJ545RmXm"
      },
      "source": [
        "# remove new line characters = \\n\n",
        "sg = sg.replace(\"\\n\", \"\")"
      ],
      "execution_count": null,
      "outputs": []
    },
    {
      "cell_type": "code",
      "metadata": {
        "colab": {
          "base_uri": "https://localhost:8080/"
        },
        "id": "1rNjFy8KnX5T",
        "outputId": "9af6bfe8-ef4f-4881-8e6e-b66917db75e1"
      },
      "source": [
        "len(sg)"
      ],
      "execution_count": null,
      "outputs": [
        {
          "output_type": "execute_result",
          "data": {
            "text/plain": [
              "61122"
            ]
          },
          "metadata": {},
          "execution_count": 15
        }
      ]
    },
    {
      "cell_type": "code",
      "metadata": {
        "id": "prsU8Wv1Rmb9"
      },
      "source": [
        "doc = nlp(sg)"
      ],
      "execution_count": null,
      "outputs": []
    },
    {
      "cell_type": "code",
      "metadata": {
        "id": "rG-wRrnNlsuu"
      },
      "source": [
        "# extract the entities\n",
        "ents = [(ent.text, ent.start_char, ent.end_char, ent.label_) for ent in doc.ents]"
      ],
      "execution_count": null,
      "outputs": []
    },
    {
      "cell_type": "code",
      "metadata": {
        "colab": {
          "base_uri": "https://localhost:8080/"
        },
        "id": "fdl1bHp7ls0N",
        "outputId": "23f61b26-63d9-42be-acb6-db73f503b973"
      },
      "source": [
        "ents[:3]"
      ],
      "execution_count": null,
      "outputs": [
        {
          "output_type": "execute_result",
          "data": {
            "text/plain": [
              "[('2021', 0, 4, 'CARDINAL'),\n",
              " ('South Korean', 5, 17, 'NORP'),\n",
              " ('Netflix', 76, 83, 'ORG')]"
            ]
          },
          "metadata": {},
          "execution_count": 10
        }
      ]
    },
    {
      "cell_type": "code",
      "metadata": {
        "colab": {
          "base_uri": "https://localhost:8080/"
        },
        "id": "oQkGSJQBls4E",
        "outputId": "9fa51c14-0f48-4782-a0ff-9819b2edaf57"
      },
      "source": [
        "len(ents)"
      ],
      "execution_count": null,
      "outputs": [
        {
          "output_type": "execute_result",
          "data": {
            "text/plain": [
              "898"
            ]
          },
          "metadata": {},
          "execution_count": 11
        }
      ]
    },
    {
      "cell_type": "code",
      "metadata": {
        "id": "nvFe2T-5Rme_"
      },
      "source": [
        "df = pd.DataFrame(ents, columns=['text', 'start', 'end', 'entity'])"
      ],
      "execution_count": null,
      "outputs": []
    },
    {
      "cell_type": "code",
      "metadata": {
        "colab": {
          "base_uri": "https://localhost:8080/",
          "height": 143
        },
        "id": "rxZ0emVCmhc3",
        "outputId": "b46c04aa-8dab-42ab-8c57-523c1b2a7b73"
      },
      "source": [
        "df.head(3)"
      ],
      "execution_count": null,
      "outputs": [
        {
          "output_type": "execute_result",
          "data": {
            "text/html": [
              "<div>\n",
              "<style scoped>\n",
              "    .dataframe tbody tr th:only-of-type {\n",
              "        vertical-align: middle;\n",
              "    }\n",
              "\n",
              "    .dataframe tbody tr th {\n",
              "        vertical-align: top;\n",
              "    }\n",
              "\n",
              "    .dataframe thead th {\n",
              "        text-align: right;\n",
              "    }\n",
              "</style>\n",
              "<table border=\"1\" class=\"dataframe\">\n",
              "  <thead>\n",
              "    <tr style=\"text-align: right;\">\n",
              "      <th></th>\n",
              "      <th>text</th>\n",
              "      <th>start</th>\n",
              "      <th>end</th>\n",
              "      <th>entity</th>\n",
              "    </tr>\n",
              "  </thead>\n",
              "  <tbody>\n",
              "    <tr>\n",
              "      <th>0</th>\n",
              "      <td>2021</td>\n",
              "      <td>0</td>\n",
              "      <td>4</td>\n",
              "      <td>CARDINAL</td>\n",
              "    </tr>\n",
              "    <tr>\n",
              "      <th>1</th>\n",
              "      <td>South Korean</td>\n",
              "      <td>5</td>\n",
              "      <td>17</td>\n",
              "      <td>NORP</td>\n",
              "    </tr>\n",
              "    <tr>\n",
              "      <th>2</th>\n",
              "      <td>Netflix</td>\n",
              "      <td>76</td>\n",
              "      <td>83</td>\n",
              "      <td>ORG</td>\n",
              "    </tr>\n",
              "  </tbody>\n",
              "</table>\n",
              "</div>"
            ],
            "text/plain": [
              "           text  start  end    entity\n",
              "0          2021      0    4  CARDINAL\n",
              "1  South Korean      5   17      NORP\n",
              "2       Netflix     76   83       ORG"
            ]
          },
          "metadata": {},
          "execution_count": 13
        }
      ]
    },
    {
      "cell_type": "code",
      "metadata": {
        "colab": {
          "base_uri": "https://localhost:8080/"
        },
        "id": "XRur25DpmhnF",
        "outputId": "a2c2a65c-083b-4594-90ef-4e4ab4f9e206"
      },
      "source": [
        "counts = df.entity.value_counts()\n",
        "counts"
      ],
      "execution_count": null,
      "outputs": [
        {
          "output_type": "execute_result",
          "data": {
            "text/plain": [
              "PERSON         225\n",
              "ORG            163\n",
              "CARDINAL       135\n",
              "DATE           117\n",
              "NORP            70\n",
              "GPE             57\n",
              "WORK_OF_ART     46\n",
              "ORDINAL         33\n",
              "TIME            10\n",
              "MONEY            9\n",
              "PRODUCT          6\n",
              "LOC              6\n",
              "PERCENT          5\n",
              "FAC              4\n",
              "LANGUAGE         4\n",
              "QUANTITY         3\n",
              "EVENT            3\n",
              "LAW              2\n",
              "Name: entity, dtype: int64"
            ]
          },
          "metadata": {},
          "execution_count": 14
        }
      ]
    },
    {
      "cell_type": "code",
      "metadata": {
        "colab": {
          "base_uri": "https://localhost:8080/",
          "height": 282
        },
        "id": "wxfKBydum5o3",
        "outputId": "92212222-884c-4772-fc5d-91517e5b74b3"
      },
      "source": [
        "# basic pandas plotting\n",
        "counts.sort_values().plot(kind=\"barh\")"
      ],
      "execution_count": null,
      "outputs": [
        {
          "output_type": "execute_result",
          "data": {
            "text/plain": [
              "<matplotlib.axes._subplots.AxesSubplot at 0x7fa7665c9350>"
            ]
          },
          "metadata": {},
          "execution_count": 18
        },
        {
          "output_type": "display_data",
          "data": {
            "image/png": "[encoded data removed]",
            "text/plain": [
              "<Figure size 432x288 with 1 Axes>"
            ]
          },
          "metadata": {
            "needs_background": "light"
          }
        }
      ]
    },
    {
      "cell_type": "code",
      "metadata": {
        "id": "OaCQTKnZRmh2"
      },
      "source": [
        ""
      ],
      "execution_count": null,
      "outputs": []
    },
    {
      "cell_type": "code",
      "metadata": {
        "id": "Ubie_jaqRmkL"
      },
      "source": [
        "############################################ Word/Doc Vectors\n",
        "##\n",
        "##"
      ],
      "execution_count": null,
      "outputs": []
    },
    {
      "cell_type": "markdown",
      "metadata": {
        "id": "K5UzYBlxoAP6"
      },
      "source": [
        ""
      ]
    },
    {
      "cell_type": "code",
      "metadata": {
        "id": "2SP4rmYARpvR"
      },
      "source": [
        "# lets review a simple document\n",
        "tweet = \"That movie by email@email.com was 🔥.  Please contact www.bu.edu\"\n",
        "\n",
        "doc = nlp(tweet)"
      ],
      "execution_count": null,
      "outputs": []
    },
    {
      "cell_type": "code",
      "metadata": {
        "id": "VadxUj8NSpv4",
        "colab": {
          "base_uri": "https://localhost:8080/"
        },
        "outputId": "2de18db0-8dcc-4e59-c44a-4d3cac88d0b2"
      },
      "source": [
        "# spacy is a pipeline\n",
        "nlp.pipe_names"
      ],
      "execution_count": null,
      "outputs": [
        {
          "output_type": "execute_result",
          "data": {
            "text/plain": [
              "['tok2vec', 'tagger', 'parser', 'attribute_ruler', 'lemmatizer', 'ner']"
            ]
          },
          "metadata": {},
          "execution_count": 20
        }
      ]
    },
    {
      "cell_type": "code",
      "metadata": {
        "id": "gNG6EJaGR3Yk",
        "colab": {
          "base_uri": "https://localhost:8080/"
        },
        "outputId": "bd59e3da-97e3-4534-dad6-303509d6f92a"
      },
      "source": [
        "# remember, we can slice up docs into tokens/spans\n",
        "token = doc[0]\n",
        "token"
      ],
      "execution_count": null,
      "outputs": [
        {
          "output_type": "execute_result",
          "data": {
            "text/plain": [
              "That"
            ]
          },
          "metadata": {},
          "execution_count": 21
        }
      ]
    },
    {
      "cell_type": "code",
      "metadata": {
        "id": "ygD_K_vRSLYP",
        "colab": {
          "base_uri": "https://localhost:8080/"
        },
        "outputId": "d1f8b0d8-7940-4590-c091-cd3249e52a0c"
      },
      "source": [
        "# tokens have all sorts of attributes that were learned\n",
        "token = doc[5]\n",
        "token.is_oov"
      ],
      "execution_count": null,
      "outputs": [
        {
          "output_type": "execute_result",
          "data": {
            "text/plain": [
              "True"
            ]
          },
          "metadata": {},
          "execution_count": 28
        }
      ]
    },
    {
      "cell_type": "code",
      "metadata": {
        "id": "8ip4s9EOwVsR",
        "colab": {
          "base_uri": "https://localhost:8080/"
        },
        "outputId": "702967f3-1bab-45c7-9319-6746cad9b934"
      },
      "source": [
        "# worth noting, a document can be comprised of sentences\n",
        "# remember that we used to download punkt from nltk?\n",
        "# that was a sentence tokenizer (divide into sentences)\n",
        "# spacy has this built in\n",
        "[sent for sent in doc.sents]"
      ],
      "execution_count": null,
      "outputs": [
        {
          "output_type": "execute_result",
          "data": {
            "text/plain": [
              "[That movie by email@email.com was 🔥.,  Please contact www.bu.edu]"
            ]
          },
          "metadata": {},
          "execution_count": 29
        }
      ]
    },
    {
      "cell_type": "code",
      "metadata": {
        "id": "ah9YNbSbUfZ_"
      },
      "source": [
        ""
      ],
      "execution_count": null,
      "outputs": []
    },
    {
      "cell_type": "code",
      "metadata": {
        "id": "ORlTu0bUSlSt"
      },
      "source": [
        "####################################### quick departure\n",
        "# above we checked against spacy's learned vocabulary\n",
        "# this is a check to see if a token is out-of-vocabulary (OOV)\n",
        "\n",
        "# model reviews:\n",
        "# https://spacy.io/usage/modelsa\n"
      ],
      "execution_count": null,
      "outputs": []
    },
    {
      "cell_type": "code",
      "metadata": {
        "id": "QTCeTza4UTHV",
        "colab": {
          "base_uri": "https://localhost:8080/"
        },
        "outputId": "1782aab9-643d-48c1-c24a-8fb3bcb7a479"
      },
      "source": [
        "# this is just for reference\n",
        "# \n",
        "\n",
        "v = nlp.vocab.vectors\n",
        "v.shape"
      ],
      "execution_count": null,
      "outputs": [
        {
          "output_type": "execute_result",
          "data": {
            "text/plain": [
              "(20000, 300)"
            ]
          },
          "metadata": {},
          "execution_count": 30
        }
      ]
    },
    {
      "cell_type": "code",
      "metadata": {
        "id": "skGk_-OZV7tk",
        "colab": {
          "base_uri": "https://localhost:8080/",
          "height": 35
        },
        "outputId": "53b8d526-a4ae-42dd-9eb5-fa952f7633ce"
      },
      "source": [
        "# spacy stores text and tokens effeciently \n",
        "# https://spacy.io/usage/spacy-101#vocab\n",
        "\n",
        "# spacy provides a way to lookup the vectors\n",
        "nlp.vocab.strings[\"golf\"]\n",
        "\n",
        "# and we can reverse\n",
        "nlp.vocab.strings[18149141486079540445]\n",
        "\n",
        "## spacy is very flexible, and while vectors can be added and edited, \n",
        "## we can just include our own, which we will do later"
      ],
      "execution_count": null,
      "outputs": [
        {
          "output_type": "execute_result",
          "data": {
            "application/vnd.google.colaboratory.intrinsic+json": {
              "type": "string"
            },
            "text/plain": [
              "'golf'"
            ]
          },
          "metadata": {},
          "execution_count": 32
        }
      ]
    },
    {
      "cell_type": "code",
      "metadata": {
        "id": "BGO7Kbw0W3oT"
      },
      "source": [
        "#######################################  Vectors/Embeddings\n",
        "##\n",
        "## You have heard me use this term quite a bit\n",
        "## we have seen this via PCA ----> take a large feature space and re-represent this in a new space\n",
        "##     the goal was to encode information and reduce noise, right?\n",
        "##\n",
        "## we saw this in Tsne (2 embeddings) and UMAP (can be 2 or more depending on our needs)\n",
        "## \n",
        "## \n",
        "## Well in text, we have the same idea\n",
        "## we could always use the tools above, but there this is a \"hot\" field right now -> embeddings\n"
      ],
      "execution_count": null,
      "outputs": []
    },
    {
      "cell_type": "markdown",
      "metadata": {
        "id": "LVvzSQikp_3C"
      },
      "source": [
        "\n",
        "\n",
        "![](https://miro.medium.com/max/2224/0*K5a1Ws_nsbEjhbYk.png)\n",
        "\n",
        "> Above we can see words can be represented in these highly dimensional spaces.  The aim is to encapsulate context.  Remember bag-of-words removes sequence/order!\n",
        "\n",
        "\n",
        "![](https://jalammar.github.io/images/word2vec/king-analogy-viz.png)"
      ]
    },
    {
      "cell_type": "markdown",
      "metadata": {
        "id": "vR9YLRNw5xiu"
      },
      "source": [
        "![](https://miro.medium.com/max/1400/1*cuOmGT7NevP9oJFJfVpRKA.png)\n"
      ]
    },
    {
      "cell_type": "code",
      "metadata": {
        "id": "sdtG7xZYsKxB"
      },
      "source": [
        ""
      ],
      "execution_count": null,
      "outputs": []
    },
    {
      "cell_type": "code",
      "metadata": {
        "id": "W_5rX8sDsLQk"
      },
      "source": [
        ""
      ],
      "execution_count": null,
      "outputs": []
    },
    {
      "cell_type": "code",
      "metadata": {
        "id": "g6lz9oTfsNh0"
      },
      "source": [
        ""
      ],
      "execution_count": null,
      "outputs": []
    },
    {
      "cell_type": "code",
      "metadata": {
        "id": "HieVHB46p_7E"
      },
      "source": [
        "# get some vectors\n",
        "\n",
        "king = nlp(\"king\").vector\n",
        "man = nlp(\"man\").vector\n",
        "woman = nlp(\"woman\").vector\n",
        "queen = nlp(\"queen\").vector\n",
        "jester = nlp(\"jester\").vector\n",
        "court = nlp(\"court\").vector\n",
        "golf = nlp(\"golf\").vector"
      ],
      "execution_count": null,
      "outputs": []
    },
    {
      "cell_type": "code",
      "metadata": {
        "id": "K6Kk2FdBuz1D",
        "colab": {
          "base_uri": "https://localhost:8080/"
        },
        "outputId": "2f6c5928-9f0e-4736-8dbe-5d0313e66d18"
      },
      "source": [
        "# what do we have\n",
        "type(king)\n",
        "king.shape"
      ],
      "execution_count": null,
      "outputs": [
        {
          "output_type": "execute_result",
          "data": {
            "text/plain": [
              "(300,)"
            ]
          },
          "metadata": {},
          "execution_count": 35
        }
      ]
    },
    {
      "cell_type": "code",
      "metadata": {
        "id": "mUiSy-5nu3VJ",
        "colab": {
          "base_uri": "https://localhost:8080/"
        },
        "outputId": "fd13a6f8-0515-45d1-f7f0-483da6544d5f"
      },
      "source": [
        "# a quick preview\n",
        "king[:10]"
      ],
      "execution_count": null,
      "outputs": [
        {
          "output_type": "execute_result",
          "data": {
            "text/plain": [
              "array([ 0.31542, -0.35068,  0.42923, -0.53825, -0.1848 , -0.31082,\n",
              "        0.29196, -0.7103 , -0.23867,  1.8471 ], dtype=float32)"
            ]
          },
          "metadata": {},
          "execution_count": 36
        }
      ]
    },
    {
      "cell_type": "code",
      "metadata": {
        "id": "Re4xOhrnp_9-",
        "colab": {
          "base_uri": "https://localhost:8080/"
        },
        "outputId": "6e381f99-ab44-48b7-881c-c0d2638c4f3d"
      },
      "source": [
        "# some math\n",
        "test = king - man + woman\n",
        "test[:10]"
      ],
      "execution_count": null,
      "outputs": [
        {
          "output_type": "execute_result",
          "data": {
            "text/plain": [
              "array([ 0.514087  , -0.27846   ,  0.242767  ,  0.04548997, -0.259425  ,\n",
              "       -0.31999996,  0.32392   , -0.67103004, -0.09985   ,  1.915     ],\n",
              "      dtype=float32)"
            ]
          },
          "metadata": {},
          "execution_count": 37
        }
      ]
    },
    {
      "cell_type": "code",
      "metadata": {
        "id": "bOUSqmHxqAAi",
        "colab": {
          "base_uri": "https://localhost:8080/"
        },
        "outputId": "15f419df-3457-41a7-d9d5-3b5823f7b376"
      },
      "source": [
        "# the comparison set\n",
        "\n",
        "lookups = np.stack([queen, jester, court, golf])\n",
        "lookups.shape"
      ],
      "execution_count": null,
      "outputs": [
        {
          "output_type": "execute_result",
          "data": {
            "text/plain": [
              "(4, 300)"
            ]
          },
          "metadata": {},
          "execution_count": 38
        }
      ]
    },
    {
      "cell_type": "code",
      "metadata": {
        "id": "-C1o3KZGqACp",
        "colab": {
          "base_uri": "https://localhost:8080/"
        },
        "outputId": "d4808bde-5b70-40dd-f52e-34d2e389292c"
      },
      "source": [
        "# we can use cdist manually\n",
        "comp_list = ['queen', 'jester', 'court', 'golf']\n",
        "\n",
        "# the test calc needs to be 2-d\n",
        "test = np.expand_dims(test, 0)\n",
        "\n",
        "test.shape\n"
      ],
      "execution_count": null,
      "outputs": [
        {
          "output_type": "execute_result",
          "data": {
            "text/plain": [
              "(1, 300)"
            ]
          },
          "metadata": {},
          "execution_count": 39
        }
      ]
    },
    {
      "cell_type": "code",
      "metadata": {
        "id": "7xxGesdmqAFI",
        "colab": {
          "base_uri": "https://localhost:8080/"
        },
        "outputId": "74d47ccc-1ce8-49ec-877a-63e54ff06f4f"
      },
      "source": [
        "# the comps -- cdist expected test to be 2d, so we used expand dims above\n",
        "comps = cdist(test, lookups, metric=\"cosine\")\n",
        "comps"
      ],
      "execution_count": null,
      "outputs": [
        {
          "output_type": "execute_result",
          "data": {
            "text/plain": [
              "array([[0.21191557, 0.75962686, 0.64762929, 0.84203839]])"
            ]
          },
          "metadata": {},
          "execution_count": 41
        }
      ]
    },
    {
      "cell_type": "code",
      "metadata": {
        "id": "3UVEpcDWZiog",
        "colab": {
          "base_uri": "https://localhost:8080/",
          "height": 282
        },
        "outputId": "12089dc6-172a-445e-ec62-bfb8b1206858"
      },
      "source": [
        "# lets plot the distances as a barplot\n",
        "\n",
        "sns.barplot(x=comp_list, y=comps[0])"
      ],
      "execution_count": null,
      "outputs": [
        {
          "output_type": "execute_result",
          "data": {
            "text/plain": [
              "<matplotlib.axes._subplots.AxesSubplot at 0x7fa76634be10>"
            ]
          },
          "metadata": {},
          "execution_count": 42
        },
        {
          "output_type": "display_data",
          "data": {
            "image/png": "[encoded data removed]",
            "text/plain": [
              "<Figure size 432x288 with 1 Axes>"
            ]
          },
          "metadata": {
            "needs_background": "light"
          }
        }
      ]
    },
    {
      "cell_type": "code",
      "metadata": {
        "id": "65pnrz-6ymLT"
      },
      "source": [
        "# so what did we see\n",
        "# it was a small test, but conceptually we saw how these vectors can be compared\n",
        "# we used distance to compare the numeric vectors and manually find the most similar\n",
        "# contrived example, but sets up the concepts"
      ],
      "execution_count": null,
      "outputs": []
    },
    {
      "cell_type": "code",
      "metadata": {
        "id": "h1bjlLl_0sRt"
      },
      "source": [
        "# there are some great toolkits that have been created\n",
        "# to breakdown and explore all sorts of embeddings\n",
        "\n",
        "# lots you can do here, but from some of the dev rel folks at rasa, which\n",
        "# we will briefly see next class!\n",
        "# https://github.com/RasaHQ/whatlies"
      ],
      "execution_count": null,
      "outputs": []
    },
    {
      "cell_type": "code",
      "metadata": {
        "id": "V4o0F2cI03Ds",
        "colab": {
          "base_uri": "https://localhost:8080/"
        },
        "outputId": "5669b2a7-2ace-4c59-da47-aa855b328274"
      },
      "source": [
        "## let's go back to the tweet\n",
        "doc"
      ],
      "execution_count": null,
      "outputs": [
        {
          "output_type": "execute_result",
          "data": {
            "text/plain": [
              "That movie by email@email.com was 🔥.  Please contact www.bu.edu"
            ]
          },
          "metadata": {},
          "execution_count": 44
        }
      ]
    },
    {
      "cell_type": "code",
      "metadata": {
        "id": "SeIpB2fs2oBi",
        "colab": {
          "base_uri": "https://localhost:8080/"
        },
        "outputId": "93dd4b76-8ca4-4a09-9f66-fa8f0f9cb34c"
      },
      "source": [
        "# what do we get for a token that is OOV?\n",
        "\n",
        "nlp('🔥').vector\n",
        "\n",
        "\n",
        "dv = doc.vector\n",
        "\n",
        "dv.shape"
      ],
      "execution_count": null,
      "outputs": [
        {
          "output_type": "execute_result",
          "data": {
            "text/plain": [
              "(300,)"
            ]
          },
          "metadata": {},
          "execution_count": 49
        }
      ]
    },
    {
      "cell_type": "code",
      "metadata": {
        "id": "XZ3OYN-82wA0"
      },
      "source": [
        "## what do you notice?\n",
        "## this is a convention of spacy\n",
        "## for OOV tokens, spacy doesn't fail, it simply returns an array of zeroes"
      ],
      "execution_count": null,
      "outputs": []
    },
    {
      "cell_type": "code",
      "metadata": {
        "id": "IfZlU5WZ29cZ"
      },
      "source": [
        "# lets review a doc vector\n"
      ],
      "execution_count": null,
      "outputs": []
    },
    {
      "cell_type": "code",
      "metadata": {
        "id": "YnQWy9j-3MhY",
        "colab": {
          "base_uri": "https://localhost:8080/"
        },
        "outputId": "57a3b2c4-44b3-407e-eefa-27018ee9ba03"
      },
      "source": [
        "# how do we think the doc vector is constructed?\n",
        "vecs = []\n",
        "for token in doc:\n",
        "  vecs.append(token.vector)\n",
        "\n",
        "# make it a numpy array\n",
        "va = np.array(vecs)\n",
        "\n",
        "vam = va.mean(axis=0)\n",
        "vam.shape\n",
        "\n",
        "# compare\n",
        "np.all(vam == dv)"
      ],
      "execution_count": null,
      "outputs": [
        {
          "output_type": "execute_result",
          "data": {
            "text/plain": [
              "True"
            ]
          },
          "metadata": {},
          "execution_count": 53
        }
      ]
    },
    {
      "cell_type": "code",
      "metadata": {
        "colab": {
          "base_uri": "https://localhost:8080/"
        },
        "id": "h0RT6biF0R49",
        "outputId": "83a26efb-8844-44ef-c0ff-3465388ab248"
      },
      "source": [
        "va.shape"
      ],
      "execution_count": null,
      "outputs": [
        {
          "output_type": "execute_result",
          "data": {
            "text/plain": [
              "(11, 300)"
            ]
          },
          "metadata": {},
          "execution_count": 51
        }
      ]
    },
    {
      "cell_type": "code",
      "metadata": {
        "id": "ifpZAuKW3yD1"
      },
      "source": [
        "# remember spans?\n",
        "# same still applies - token vectors are averaged over the docs and spans to represent the document"
      ],
      "execution_count": null,
      "outputs": []
    },
    {
      "cell_type": "code",
      "metadata": {
        "id": "fNfB1bGXF9X3"
      },
      "source": [
        ""
      ],
      "execution_count": null,
      "outputs": []
    },
    {
      "cell_type": "code",
      "metadata": {
        "id": "6rb-RP5G4aI7"
      },
      "source": [
        "#######################################  YOUR TURN\n",
        "## \n",
        "## scrape the text from the three articles from the URLs below\n",
        "## generate the doc vectors\n",
        "## what is the most similar article to URL1 via cosine distance?\n",
        "#\n",
        "# URL1 = \"https://www.boston.com/weather/weather/2021/11/26/boston-ma-snow-forecast-friday-nov-26-2021/\"\n",
        "# URL2 = \"https://www.sportingnews.com/us/fantasy/news/nfl-week-12-weather-updates-lack-of-rain-wind-snow-in-forecast-eases-fantasy-football-start-em-sit-em-decisions/lueadzpkttxa1l2nzyr70hr18\"\n",
        "# URL3 = \"https://www.marketwatch.com/story/the-u-s-stock-market-suffers-ugly-black-friday-selloff-here-are-the-biggest-losers-and-winners-11637952898\"\n",
        "## \n"
      ],
      "execution_count": null,
      "outputs": []
    },
    {
      "cell_type": "code",
      "metadata": {
        "id": "rm0CeBWf8eZy"
      },
      "source": [
        ""
      ],
      "execution_count": null,
      "outputs": []
    },
    {
      "cell_type": "code",
      "metadata": {
        "id": "fyjr0bgS8VdI"
      },
      "source": [
        "#######################################  UP NEXT\n",
        "## \n",
        "## Learn your own, domain-specific, word vectors\n",
        "##\n",
        "## Next Notebook\n",
        "# "
      ],
      "execution_count": null,
      "outputs": []
    }
  ]
}