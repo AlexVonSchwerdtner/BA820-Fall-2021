{
  "nbformat": 4,
  "nbformat_minor": 0,
  "metadata": {
    "colab": {
      "name": "12A-embeddings-A",
      "provenance": [],
      "collapsed_sections": []
    },
    "kernelspec": {
      "name": "python3",
      "display_name": "Python 3"
    },
    "language_info": {
      "name": "python"
    }
  },
  "cells": [
    {
      "cell_type": "code",
      "metadata": {
        "id": "ayhaQ8AcPFHx"
      },
      "source": [
        "##############################################################################\n",
        "## Fundamentals for pratical Text Analytics - document/word embeddings\n",
        "##                                            more spacy, \n",
        "##                                            gensim to build our own ----> spacy\n",
        "##                                            why:  dense numeric representations to capture meaning\n",
        "##                                                  use downstream -> similarity, clustering, ML\n",
        "##\n",
        "##\n",
        "## Learning goals:\n",
        "##                 - continue spacy\n",
        "##                 - foundational understanding of word vectors via Word2Vec\n",
        "##                 - can roll our own vectors\n",
        "##                 - generalized, pre-trained word vectors for S|UML tasks (intent classification)\n",
        "##\n",
        "##\n",
        "## Great resources\n",
        "##                 - https://spacy.io/usage/spacy-101\n",
        "##                 - https://spacy.io/universe/category/courses\n",
        "##\n",
        "##\n",
        "##############################################################################"
      ],
      "execution_count": null,
      "outputs": []
    },
    {
      "cell_type": "code",
      "metadata": {
        "id": "j_R7-hTzQyzQ"
      },
      "source": [
        "# installs\n",
        "! pip install -U spacy \n",
        "! pip install -U textacy\n",
        "! pip install newspaper3k\n",
        "! pip install afinn\n",
        "! pip install whatlies"
      ],
      "execution_count": null,
      "outputs": []
    },
    {
      "cell_type": "code",
      "metadata": {
        "id": "0nCDfEpzQy3_"
      },
      "source": [
        "# imports\n",
        "import spacy\n",
        "from spacy import cli\n",
        "from spacy import displacy\n",
        "\n",
        "import pandas as pd\n",
        "import numpy as np\n",
        "from scipy.spatial.distance import pdist, cdist, squareform\n",
        "import seaborn as sns\n",
        "\n",
        "\n",
        "# upcoming!\n",
        "# from textacy.extract.keyterms import textrank\n",
        "import gensim\n",
        "\n",
        "import textacy\n",
        "\n",
        "from newspaper import Article\n",
        "import json\n",
        "\n",
        "from afinn import Afinn\n"
      ],
      "execution_count": null,
      "outputs": []
    },
    {
      "cell_type": "code",
      "metadata": {
        "id": "xpCbWS6RE6TN",
        "colab": {
          "base_uri": "https://localhost:8080/"
        },
        "outputId": "56c1a0aa-a79d-4710-d7d5-6a464c592d98"
      },
      "source": [
        "# use spacy cli\n",
        "MODEL = \"en_core_web_md\"\n",
        "\n",
        "# https://spacy.io/models/en\n",
        "cli.download(MODEL)\n",
        "\n",
        "# nlp = language model\n",
        "nlp = spacy.load(MODEL)"
      ],
      "execution_count": null,
      "outputs": [
        {
          "output_type": "stream",
          "name": "stdout",
          "text": [
            "\u001b[38;5;2m✔ Download and installation successful\u001b[0m\n",
            "You can now load the package via spacy.load('en_core_web_md')\n"
          ]
        }
      ]
    },
    {
      "cell_type": "code",
      "metadata": {
        "id": "N60MZcqlQr4c"
      },
      "source": [
        "############################################ WARMUP\n",
        "##\n",
        "##\n",
        "## Scrape the Wikipedia Entry for the Netflix series Squid Game\n",
        "## https://en.wikipedia.org/wiki/Squid_Game\n",
        "##\n",
        "## use the pre-loaded spacy NER model to parse the entities\n",
        "## parse the entities into a dataframe\n",
        "## create a barplot summarizing count by entity type\n",
        "## TRICKY:  make it a horizontal barplot with the most frequent entity at the top of the chart\n",
        "## "
      ],
      "execution_count": null,
      "outputs": []
    },
    {
      "cell_type": "code",
      "metadata": {
        "id": "nO0P9S-TQrsM"
      },
      "source": [
        "from newspaper import Article\n",
        "\n",
        "article = Article(\"https://en.wikipedia.org/wiki/Squid_Game\")\n",
        "article.download()\n",
        "article.parse()\n",
        "\n",
        "sg = article.text"
      ],
      "execution_count": null,
      "outputs": []
    },
    {
      "cell_type": "code",
      "metadata": {
        "id": "LHuNJ545RmXm"
      },
      "source": [
        "sg"
      ],
      "execution_count": null,
      "outputs": []
    },
    {
      "cell_type": "code",
      "metadata": {
        "id": "prsU8Wv1Rmb9"
      },
      "source": [
        "# clean/remove the newline characters\n",
        "# \\n\n",
        "sg = sg.replace(\"\\n\", \"\")"
      ],
      "execution_count": null,
      "outputs": []
    },
    {
      "cell_type": "code",
      "metadata": {
        "id": "TGjbWjFte2tc"
      },
      "source": [
        "# parse the doc\n",
        "doc = nlp(sg)"
      ],
      "execution_count": null,
      "outputs": []
    },
    {
      "cell_type": "code",
      "metadata": {
        "id": "ST_3dVrwe21x"
      },
      "source": [
        "# extract the entities\n",
        "ents = [(ent.text, ent.start_char, ent.end_char, ent.label_) for ent in doc.ents]"
      ],
      "execution_count": null,
      "outputs": []
    },
    {
      "cell_type": "code",
      "metadata": {
        "colab": {
          "base_uri": "https://localhost:8080/"
        },
        "id": "OHrbGTe7e25Y",
        "outputId": "20b3cc41-9252-4ee3-c569-d9d131c681e3"
      },
      "source": [
        "ents[:5]"
      ],
      "execution_count": null,
      "outputs": [
        {
          "output_type": "execute_result",
          "data": {
            "text/plain": [
              "[('2021', 0, 4, 'CARDINAL'),\n",
              " ('South Korean', 5, 17, 'NORP'),\n",
              " ('Netflix', 76, 83, 'ORG'),\n",
              " ('Korean', 111, 117, 'NORP'),\n",
              " ('Squids', 178, 184, 'NORP')]"
            ]
          },
          "metadata": {},
          "execution_count": 9
        }
      ]
    },
    {
      "cell_type": "code",
      "metadata": {
        "id": "nvFe2T-5Rme_",
        "colab": {
          "base_uri": "https://localhost:8080/"
        },
        "outputId": "fc893ea9-cda1-4908-edca-3b5e17c69456"
      },
      "source": [
        "len(ents)"
      ],
      "execution_count": null,
      "outputs": [
        {
          "output_type": "execute_result",
          "data": {
            "text/plain": [
              "898"
            ]
          },
          "metadata": {},
          "execution_count": 10
        }
      ]
    },
    {
      "cell_type": "code",
      "metadata": {
        "id": "9Wcp1yMufp5j"
      },
      "source": [
        "df = pd.DataFrame(ents, columns=['text', 'start', 'end', 'entity'])"
      ],
      "execution_count": null,
      "outputs": []
    },
    {
      "cell_type": "code",
      "metadata": {
        "colab": {
          "base_uri": "https://localhost:8080/",
          "height": 143
        },
        "id": "kQZvApbcfpzi",
        "outputId": "ddd19644-e19f-40fe-9fbc-28f7035a64ad"
      },
      "source": [
        "df.head(3)"
      ],
      "execution_count": null,
      "outputs": [
        {
          "output_type": "execute_result",
          "data": {
            "text/html": [
              "<div>\n",
              "<style scoped>\n",
              "    .dataframe tbody tr th:only-of-type {\n",
              "        vertical-align: middle;\n",
              "    }\n",
              "\n",
              "    .dataframe tbody tr th {\n",
              "        vertical-align: top;\n",
              "    }\n",
              "\n",
              "    .dataframe thead th {\n",
              "        text-align: right;\n",
              "    }\n",
              "</style>\n",
              "<table border=\"1\" class=\"dataframe\">\n",
              "  <thead>\n",
              "    <tr style=\"text-align: right;\">\n",
              "      <th></th>\n",
              "      <th>text</th>\n",
              "      <th>start</th>\n",
              "      <th>end</th>\n",
              "      <th>entity</th>\n",
              "    </tr>\n",
              "  </thead>\n",
              "  <tbody>\n",
              "    <tr>\n",
              "      <th>0</th>\n",
              "      <td>2021</td>\n",
              "      <td>0</td>\n",
              "      <td>4</td>\n",
              "      <td>CARDINAL</td>\n",
              "    </tr>\n",
              "    <tr>\n",
              "      <th>1</th>\n",
              "      <td>South Korean</td>\n",
              "      <td>5</td>\n",
              "      <td>17</td>\n",
              "      <td>NORP</td>\n",
              "    </tr>\n",
              "    <tr>\n",
              "      <th>2</th>\n",
              "      <td>Netflix</td>\n",
              "      <td>76</td>\n",
              "      <td>83</td>\n",
              "      <td>ORG</td>\n",
              "    </tr>\n",
              "  </tbody>\n",
              "</table>\n",
              "</div>"
            ],
            "text/plain": [
              "           text  start  end    entity\n",
              "0          2021      0    4  CARDINAL\n",
              "1  South Korean      5   17      NORP\n",
              "2       Netflix     76   83       ORG"
            ]
          },
          "metadata": {},
          "execution_count": 12
        }
      ]
    },
    {
      "cell_type": "code",
      "metadata": {
        "colab": {
          "base_uri": "https://localhost:8080/"
        },
        "id": "2_qzqVyXf1Da",
        "outputId": "8528c816-f816-4adc-d232-8fe028b538bf"
      },
      "source": [
        "counts = df.entity.value_counts()\n",
        "counts"
      ],
      "execution_count": null,
      "outputs": [
        {
          "output_type": "execute_result",
          "data": {
            "text/plain": [
              "PERSON         225\n",
              "ORG            163\n",
              "CARDINAL       135\n",
              "DATE           117\n",
              "NORP            70\n",
              "GPE             57\n",
              "WORK_OF_ART     46\n",
              "ORDINAL         33\n",
              "TIME            10\n",
              "MONEY            9\n",
              "LOC              6\n",
              "PRODUCT          6\n",
              "PERCENT          5\n",
              "FAC              4\n",
              "LANGUAGE         4\n",
              "EVENT            3\n",
              "QUANTITY         3\n",
              "LAW              2\n",
              "Name: entity, dtype: int64"
            ]
          },
          "metadata": {},
          "execution_count": 13
        }
      ]
    },
    {
      "cell_type": "code",
      "metadata": {
        "colab": {
          "base_uri": "https://localhost:8080/"
        },
        "id": "UxQKniW_gcWm",
        "outputId": "aac6da59-72b4-433b-999a-18700530ff43"
      },
      "source": [
        "type(counts)"
      ],
      "execution_count": null,
      "outputs": [
        {
          "output_type": "execute_result",
          "data": {
            "text/plain": [
              "pandas.core.series.Series"
            ]
          },
          "metadata": {},
          "execution_count": 15
        }
      ]
    },
    {
      "cell_type": "code",
      "metadata": {
        "colab": {
          "base_uri": "https://localhost:8080/",
          "height": 282
        },
        "id": "Qk-bw4K3f08T",
        "outputId": "ae34ff35-4efa-45ab-f7ef-c616c2b9a421"
      },
      "source": [
        "counts.sort_values().plot(kind=\"barh\")"
      ],
      "execution_count": null,
      "outputs": [
        {
          "output_type": "execute_result",
          "data": {
            "text/plain": [
              "<matplotlib.axes._subplots.AxesSubplot at 0x7fec797878d0>"
            ]
          },
          "metadata": {},
          "execution_count": 17
        },
        {
          "output_type": "display_data",
          "data": {
            "image/png": "[encoded data removed]",
            "text/plain": [
              "<Figure size 432x288 with 1 Axes>"
            ]
          },
          "metadata": {
            "needs_background": "light"
          }
        }
      ]
    },
    {
      "cell_type": "markdown",
      "metadata": {
        "id": "OaCQTKnZRmh2"
      },
      "source": [
        "🔥"
      ]
    },
    {
      "cell_type": "code",
      "metadata": {
        "id": "Ubie_jaqRmkL"
      },
      "source": [
        "############################################ Word/Doc Vectors\n",
        "##\n",
        "##"
      ],
      "execution_count": null,
      "outputs": []
    },
    {
      "cell_type": "code",
      "metadata": {
        "id": "2SP4rmYARpvR"
      },
      "source": [
        "# lets review a simple document\n",
        "tweet = \"That movie from email@email.com was 🔥!  We can review it at www.bu.edu.\""
      ],
      "execution_count": null,
      "outputs": []
    },
    {
      "cell_type": "code",
      "metadata": {
        "id": "VadxUj8NSpv4",
        "colab": {
          "base_uri": "https://localhost:8080/"
        },
        "outputId": "8bc4c3f7-129c-4960-9f75-4ab33e6a07d9"
      },
      "source": [
        "# spacy is a pipeline\n",
        "nlp.pipe_names"
      ],
      "execution_count": null,
      "outputs": [
        {
          "output_type": "execute_result",
          "data": {
            "text/plain": [
              "['tok2vec', 'tagger', 'parser', 'attribute_ruler', 'lemmatizer', 'ner']"
            ]
          },
          "metadata": {},
          "execution_count": 19
        }
      ]
    },
    {
      "cell_type": "code",
      "metadata": {
        "colab": {
          "base_uri": "https://localhost:8080/"
        },
        "id": "EvodmL23iUHc",
        "outputId": "e7b5181b-613a-40c2-c3f8-6e2aebe8c3b6"
      },
      "source": [
        "doc = nlp(tweet)\n",
        "doc"
      ],
      "execution_count": null,
      "outputs": [
        {
          "output_type": "execute_result",
          "data": {
            "text/plain": [
              "That movie from email@email.com was 🔥!  We can review it at www.bu.edu."
            ]
          },
          "metadata": {},
          "execution_count": 23
        }
      ]
    },
    {
      "cell_type": "code",
      "metadata": {
        "id": "gNG6EJaGR3Yk",
        "colab": {
          "base_uri": "https://localhost:8080/"
        },
        "outputId": "aaa167d9-4114-4609-9da6-1f02b9b91e45"
      },
      "source": [
        "# remember, we can slice up docs into tokens/spans\n",
        "token = doc[0]\n",
        "token"
      ],
      "execution_count": null,
      "outputs": [
        {
          "output_type": "execute_result",
          "data": {
            "text/plain": [
              "That"
            ]
          },
          "metadata": {},
          "execution_count": 24
        }
      ]
    },
    {
      "cell_type": "code",
      "metadata": {
        "colab": {
          "base_uri": "https://localhost:8080/"
        },
        "id": "zV7XILWYihGv",
        "outputId": "b362b5f6-0b17-4237-dc87-0b425a0f9f2d"
      },
      "source": [
        "type(token)"
      ],
      "execution_count": null,
      "outputs": [
        {
          "output_type": "execute_result",
          "data": {
            "text/plain": [
              "spacy.tokens.token.Token"
            ]
          },
          "metadata": {},
          "execution_count": 25
        }
      ]
    },
    {
      "cell_type": "code",
      "metadata": {
        "id": "ygD_K_vRSLYP",
        "colab": {
          "base_uri": "https://localhost:8080/"
        },
        "outputId": "da973177-2fa4-416d-dbc7-547c3efb0aac"
      },
      "source": [
        "# tokens have all sorts of attributes that were learned\n",
        "token.like_url"
      ],
      "execution_count": null,
      "outputs": [
        {
          "output_type": "execute_result",
          "data": {
            "text/plain": [
              "False"
            ]
          },
          "metadata": {},
          "execution_count": 29
        }
      ]
    },
    {
      "cell_type": "code",
      "metadata": {
        "id": "8ip4s9EOwVsR"
      },
      "source": [
        "# worth noting, a document can be comprised of sentences\n",
        "# remember that we used to download punkt from nltk?\n",
        "# that was a sentence tokenizer (divide into sentences)\n",
        "# spacy has this built in\n",
        "\n",
        "# print out the two sentences\n",
        "sentences = [sent for sent in doc.sents]"
      ],
      "execution_count": null,
      "outputs": []
    },
    {
      "cell_type": "code",
      "metadata": {
        "id": "ah9YNbSbUfZ_",
        "colab": {
          "base_uri": "https://localhost:8080/"
        },
        "outputId": "a9a578dc-b63c-478d-c829-9d62309ba788"
      },
      "source": [
        "sentences[0]"
      ],
      "execution_count": null,
      "outputs": [
        {
          "output_type": "execute_result",
          "data": {
            "text/plain": [
              "That movie from email@email.com was 🔥!"
            ]
          },
          "metadata": {},
          "execution_count": 57
        }
      ]
    },
    {
      "cell_type": "code",
      "metadata": {
        "colab": {
          "base_uri": "https://localhost:8080/"
        },
        "id": "4iAVUUXvsCVb",
        "outputId": "0e4e9dd5-6c06-4b30-807c-800092c1fd37"
      },
      "source": [
        "[token.is_oov for token in sentences[0]]"
      ],
      "execution_count": null,
      "outputs": [
        {
          "output_type": "execute_result",
          "data": {
            "text/plain": [
              "[False, False, False, True, False, True, False]"
            ]
          },
          "metadata": {},
          "execution_count": 58
        }
      ]
    },
    {
      "cell_type": "code",
      "metadata": {
        "id": "ORlTu0bUSlSt"
      },
      "source": [
        "####################################### quick departure\n",
        "# above we checked against spacy's learned vocabulary\n",
        "# this is a check to see if a token is out-of-vocabulary (OOV)\n",
        "\n",
        "# model reviews:\n",
        "# https://spacy.io/usage/models\n"
      ],
      "execution_count": null,
      "outputs": []
    },
    {
      "cell_type": "code",
      "metadata": {
        "id": "QTCeTza4UTHV",
        "colab": {
          "base_uri": "https://localhost:8080/"
        },
        "outputId": "1dd284f0-e751-4492-abc2-bc8ebbbd7a5b"
      },
      "source": [
        "# this is just for reference\n",
        "# \n",
        "\n",
        "v = nlp.vocab.vectors\n",
        "v.shape"
      ],
      "execution_count": null,
      "outputs": [
        {
          "output_type": "execute_result",
          "data": {
            "text/plain": [
              "(20000, 300)"
            ]
          },
          "metadata": {},
          "execution_count": 31
        }
      ]
    },
    {
      "cell_type": "code",
      "metadata": {
        "id": "skGk_-OZV7tk",
        "colab": {
          "base_uri": "https://localhost:8080/",
          "height": 35
        },
        "outputId": "22e13bed-014b-4932-84be-ad3c5ef43f27"
      },
      "source": [
        "# spacy stores text and tokens effeciently \n",
        "# https://spacy.io/usage/spacy-101#vocab\n",
        "\n",
        "# spacy provides a way to lookup the vectors\n",
        "nlp.vocab.strings[\"golf\"]\n",
        "\n",
        "# and we can reverse\n",
        "nlp.vocab.strings[18149141486079540445]\n",
        "\n",
        "## spacy is very flexible, and while vectors can be added and edited, \n",
        "## we can just include our own, which we will do later"
      ],
      "execution_count": null,
      "outputs": [
        {
          "output_type": "execute_result",
          "data": {
            "application/vnd.google.colaboratory.intrinsic+json": {
              "type": "string"
            },
            "text/plain": [
              "'golf'"
            ]
          },
          "metadata": {},
          "execution_count": 33
        }
      ]
    },
    {
      "cell_type": "code",
      "metadata": {
        "id": "BGO7Kbw0W3oT"
      },
      "source": [
        "#######################################  Vectors/Embeddings\n",
        "##\n",
        "## You have heard me use this term quite a bit\n",
        "## we have seen this via PCA ----> take a large feature space and re-represent this in a new space\n",
        "##     the goal was to encode information and reduce noise, right?\n",
        "##\n",
        "## we saw this in Tsne (2 embeddings) and UMAP (can be 2 or more depending on our needs)\n",
        "## \n",
        "## \n",
        "## Well in text, we have the same idea\n",
        "## we could always use the tools above, but there this is a \"hot\" field right now -> embeddings\n"
      ],
      "execution_count": null,
      "outputs": []
    },
    {
      "cell_type": "markdown",
      "metadata": {
        "id": "LVvzSQikp_3C"
      },
      "source": [
        "\n",
        "\n",
        "![](https://miro.medium.com/max/2224/0*K5a1Ws_nsbEjhbYk.png)\n",
        "\n",
        "> Above we can see words can be represented in these highly dimensional spaces.  The aim is to encapsulate context.  Remember bag-of-words removes sequence/order!\n",
        "\n",
        "\n",
        "![](https://jalammar.github.io/images/word2vec/king-analogy-viz.png)"
      ]
    },
    {
      "cell_type": "markdown",
      "metadata": {
        "id": "vR9YLRNw5xiu"
      },
      "source": [
        "![](https://miro.medium.com/max/1400/1*cuOmGT7NevP9oJFJfVpRKA.png)\n"
      ]
    },
    {
      "cell_type": "code",
      "metadata": {
        "id": "HieVHB46p_7E"
      },
      "source": [
        "# get some vectors\n",
        "\n",
        "king = nlp(\"king\").vector\n",
        "man = nlp(\"man\").vector\n",
        "woman = nlp(\"woman\").vector\n",
        "queen = nlp(\"queen\").vector\n",
        "jester = nlp(\"jester\").vector\n",
        "court = nlp(\"court\").vector\n",
        "golf = nlp(\"golf\").vector"
      ],
      "execution_count": null,
      "outputs": []
    },
    {
      "cell_type": "code",
      "metadata": {
        "id": "K6Kk2FdBuz1D",
        "colab": {
          "base_uri": "https://localhost:8080/"
        },
        "outputId": "1afd590b-f56a-4685-966d-508c66898a0b"
      },
      "source": [
        "# what do we have\n",
        "king.shape"
      ],
      "execution_count": null,
      "outputs": [
        {
          "output_type": "execute_result",
          "data": {
            "text/plain": [
              "(300,)"
            ]
          },
          "metadata": {},
          "execution_count": 36
        }
      ]
    },
    {
      "cell_type": "code",
      "metadata": {
        "id": "mUiSy-5nu3VJ",
        "colab": {
          "base_uri": "https://localhost:8080/"
        },
        "outputId": "68236425-f82a-4a9e-82bc-bb0c807f3d0b"
      },
      "source": [
        "# a quick preview\n",
        "king[:5]"
      ],
      "execution_count": null,
      "outputs": [
        {
          "output_type": "execute_result",
          "data": {
            "text/plain": [
              "array([ 0.31542, -0.35068,  0.42923, -0.53825, -0.1848 ], dtype=float32)"
            ]
          },
          "metadata": {},
          "execution_count": 37
        }
      ]
    },
    {
      "cell_type": "code",
      "metadata": {
        "id": "Re4xOhrnp_9-"
      },
      "source": [
        "# some math\n",
        "test = king - man + woman"
      ],
      "execution_count": null,
      "outputs": []
    },
    {
      "cell_type": "code",
      "metadata": {
        "colab": {
          "base_uri": "https://localhost:8080/"
        },
        "id": "Ngs7eoF8mEdN",
        "outputId": "165fdfda-f74b-4a69-b5c4-be2c4d0c46f7"
      },
      "source": [
        "test[:5]"
      ],
      "execution_count": null,
      "outputs": [
        {
          "output_type": "execute_result",
          "data": {
            "text/plain": [
              "array([ 0.514087  , -0.27846   ,  0.242767  ,  0.04548997, -0.259425  ],\n",
              "      dtype=float32)"
            ]
          },
          "metadata": {},
          "execution_count": 40
        }
      ]
    },
    {
      "cell_type": "code",
      "metadata": {
        "id": "bOUSqmHxqAAi",
        "colab": {
          "base_uri": "https://localhost:8080/"
        },
        "outputId": "0ce86b85-64a8-4706-cd6b-d4ce0714d9ed"
      },
      "source": [
        "# the comparison set\n",
        "\n",
        "lookups = np.stack([queen, jester, court, golf])\n",
        "lookups.shape"
      ],
      "execution_count": null,
      "outputs": [
        {
          "output_type": "execute_result",
          "data": {
            "text/plain": [
              "(4, 300)"
            ]
          },
          "metadata": {},
          "execution_count": 41
        }
      ]
    },
    {
      "cell_type": "code",
      "metadata": {
        "id": "-C1o3KZGqACp"
      },
      "source": [
        "# we can use cdist manually\n",
        "comp_list = ['queen', 'jester', 'court', 'golf']\n",
        "\n",
        "# the test calc needs to be 2-d\n",
        "test = np.expand_dims(test, 0)\n"
      ],
      "execution_count": null,
      "outputs": []
    },
    {
      "cell_type": "code",
      "metadata": {
        "colab": {
          "base_uri": "https://localhost:8080/"
        },
        "id": "t3ZEU6AInE7b",
        "outputId": "d4b8da49-f7b0-4163-daeb-7fa8d677d94d"
      },
      "source": [
        "test.shape"
      ],
      "execution_count": null,
      "outputs": [
        {
          "output_type": "execute_result",
          "data": {
            "text/plain": [
              "(1, 300)"
            ]
          },
          "metadata": {},
          "execution_count": 43
        }
      ]
    },
    {
      "cell_type": "code",
      "metadata": {
        "id": "7xxGesdmqAFI",
        "colab": {
          "base_uri": "https://localhost:8080/"
        },
        "outputId": "69b61335-29ef-4aee-c552-3777b910106b"
      },
      "source": [
        "# the comps -- cdist expected test to be 2d, so we used expand dims above\n",
        "\n",
        "comps = cdist(test, lookups, metric=\"cosine\")\n",
        "comps\n",
        "\n"
      ],
      "execution_count": null,
      "outputs": [
        {
          "output_type": "execute_result",
          "data": {
            "text/plain": [
              "array([[0.21191557, 0.75962686, 0.64762929, 0.84203839]])"
            ]
          },
          "metadata": {},
          "execution_count": 45
        }
      ]
    },
    {
      "cell_type": "code",
      "metadata": {
        "id": "3UVEpcDWZiog",
        "colab": {
          "base_uri": "https://localhost:8080/",
          "height": 282
        },
        "outputId": "b065aae8-5b6c-41ee-ac3a-b033090bd9be"
      },
      "source": [
        "# lets plot the distances as a barplot\n",
        "sns.barplot(x=comp_list, y=comps[0])\n"
      ],
      "execution_count": null,
      "outputs": [
        {
          "output_type": "execute_result",
          "data": {
            "text/plain": [
              "<matplotlib.axes._subplots.AxesSubplot at 0x7fec79598d50>"
            ]
          },
          "metadata": {},
          "execution_count": 46
        },
        {
          "output_type": "display_data",
          "data": {
            "image/png": "[encoded data removed]",
            "text/plain": [
              "<Figure size 432x288 with 1 Axes>"
            ]
          },
          "metadata": {
            "needs_background": "light"
          }
        }
      ]
    },
    {
      "cell_type": "code",
      "metadata": {
        "id": "65pnrz-6ymLT"
      },
      "source": [
        "# so what did we see\n",
        "# it was a small test, but conceptually we saw how these vectors can be compared\n",
        "# we used distance to compare the numeric vectors and manually find the most similar\n",
        "# contrived example, but sets up the concepts"
      ],
      "execution_count": null,
      "outputs": []
    },
    {
      "cell_type": "code",
      "metadata": {
        "colab": {
          "base_uri": "https://localhost:8080/"
        },
        "id": "7EC27-Eyo1yX",
        "outputId": "36c4931c-99fb-4a02-92cb-2cb01ad2d323"
      },
      "source": [
        "# going back to the simple two sentence corpus\n",
        "doc"
      ],
      "execution_count": null,
      "outputs": [
        {
          "output_type": "execute_result",
          "data": {
            "text/plain": [
              "That movie from email@email.com was 🔥!  We can review it at www.bu.edu."
            ]
          },
          "metadata": {},
          "execution_count": 48
        }
      ]
    },
    {
      "cell_type": "code",
      "metadata": {
        "colab": {
          "base_uri": "https://localhost:8080/"
        },
        "id": "wkAbQ2Xeo4w9",
        "outputId": "f0a0abc2-428a-47d3-952d-2de575435320"
      },
      "source": [
        "[(token.text, token.is_oov) for token in doc]"
      ],
      "execution_count": null,
      "outputs": [
        {
          "output_type": "execute_result",
          "data": {
            "text/plain": [
              "[('That', False),\n",
              " ('movie', False),\n",
              " ('from', False),\n",
              " ('email@email.com', True),\n",
              " ('was', False),\n",
              " ('🔥', True),\n",
              " ('!', False),\n",
              " (' ', True),\n",
              " ('We', False),\n",
              " ('can', False),\n",
              " ('review', False),\n",
              " ('it', False),\n",
              " ('at', False),\n",
              " ('www.bu.edu', True),\n",
              " ('.', False)]"
            ]
          },
          "metadata": {},
          "execution_count": 49
        }
      ]
    },
    {
      "cell_type": "code",
      "metadata": {
        "id": "I_BMcrEspQny"
      },
      "source": [
        "fire = nlp('🔥')"
      ],
      "execution_count": null,
      "outputs": []
    },
    {
      "cell_type": "code",
      "metadata": {
        "colab": {
          "base_uri": "https://localhost:8080/"
        },
        "id": "_r-v6U4kpVwz",
        "outputId": "43e24614-a72e-44a0-bd75-a449d44a5aaa"
      },
      "source": [
        "# get the vectors\n",
        "fire.vector"
      ],
      "execution_count": null,
      "outputs": [
        {
          "output_type": "execute_result",
          "data": {
            "text/plain": [
              "array([0., 0., 0., 0., 0., 0., 0., 0., 0., 0., 0., 0., 0., 0., 0., 0., 0.,\n",
              "       0., 0., 0., 0., 0., 0., 0., 0., 0., 0., 0., 0., 0., 0., 0., 0., 0.,\n",
              "       0., 0., 0., 0., 0., 0., 0., 0., 0., 0., 0., 0., 0., 0., 0., 0., 0.,\n",
              "       0., 0., 0., 0., 0., 0., 0., 0., 0., 0., 0., 0., 0., 0., 0., 0., 0.,\n",
              "       0., 0., 0., 0., 0., 0., 0., 0., 0., 0., 0., 0., 0., 0., 0., 0., 0.,\n",
              "       0., 0., 0., 0., 0., 0., 0., 0., 0., 0., 0., 0., 0., 0., 0., 0., 0.,\n",
              "       0., 0., 0., 0., 0., 0., 0., 0., 0., 0., 0., 0., 0., 0., 0., 0., 0.,\n",
              "       0., 0., 0., 0., 0., 0., 0., 0., 0., 0., 0., 0., 0., 0., 0., 0., 0.,\n",
              "       0., 0., 0., 0., 0., 0., 0., 0., 0., 0., 0., 0., 0., 0., 0., 0., 0.,\n",
              "       0., 0., 0., 0., 0., 0., 0., 0., 0., 0., 0., 0., 0., 0., 0., 0., 0.,\n",
              "       0., 0., 0., 0., 0., 0., 0., 0., 0., 0., 0., 0., 0., 0., 0., 0., 0.,\n",
              "       0., 0., 0., 0., 0., 0., 0., 0., 0., 0., 0., 0., 0., 0., 0., 0., 0.,\n",
              "       0., 0., 0., 0., 0., 0., 0., 0., 0., 0., 0., 0., 0., 0., 0., 0., 0.,\n",
              "       0., 0., 0., 0., 0., 0., 0., 0., 0., 0., 0., 0., 0., 0., 0., 0., 0.,\n",
              "       0., 0., 0., 0., 0., 0., 0., 0., 0., 0., 0., 0., 0., 0., 0., 0., 0.,\n",
              "       0., 0., 0., 0., 0., 0., 0., 0., 0., 0., 0., 0., 0., 0., 0., 0., 0.,\n",
              "       0., 0., 0., 0., 0., 0., 0., 0., 0., 0., 0., 0., 0., 0., 0., 0., 0.,\n",
              "       0., 0., 0., 0., 0., 0., 0., 0., 0., 0., 0.], dtype=float32)"
            ]
          },
          "metadata": {},
          "execution_count": 52
        }
      ]
    },
    {
      "cell_type": "code",
      "metadata": {
        "id": "h1bjlLl_0sRt"
      },
      "source": [
        "# there are some great toolkits that have been created\n",
        "# to breakdown and explore all sorts of embeddings\n",
        "\n",
        "# lots you can do here, but from some of the dev rel folks at rasa, which\n",
        "# we will briefly see next class!\n",
        "# https://github.com/RasaHQ/whatlies"
      ],
      "execution_count": null,
      "outputs": []
    },
    {
      "cell_type": "code",
      "metadata": {
        "id": "V4o0F2cI03Ds"
      },
      "source": [
        "## let's go back to the tweet\n"
      ],
      "execution_count": null,
      "outputs": []
    },
    {
      "cell_type": "code",
      "metadata": {
        "id": "SeIpB2fs2oBi"
      },
      "source": [
        "# what do we get for a token that is OOV?\n",
        "\n",
        "# nlp('🔥').vector\n",
        "\n",
        "\n"
      ],
      "execution_count": null,
      "outputs": []
    },
    {
      "cell_type": "code",
      "metadata": {
        "id": "XZ3OYN-82wA0"
      },
      "source": [
        "## what do you notice?\n",
        "## this is a convention of spacy\n",
        "## for OOV tokens, spacy doesn't fail, it simply returns an array of zeroes"
      ],
      "execution_count": null,
      "outputs": []
    },
    {
      "cell_type": "code",
      "metadata": {
        "id": "IfZlU5WZ29cZ",
        "colab": {
          "base_uri": "https://localhost:8080/"
        },
        "outputId": "a6b326ad-4c7d-4997-ba3a-35a1a0ca6aa3"
      },
      "source": [
        "# lets review a doc vector\n",
        "doc.vector"
      ],
      "execution_count": null,
      "outputs": [
        {
          "output_type": "execute_result",
          "data": {
            "text/plain": [
              "array([-7.21276700e-02,  1.57519653e-01, -3.79344672e-02, -1.07518069e-01,\n",
              "        5.73830195e-02,  7.37524703e-02,  3.41576003e-02, -1.48227662e-01,\n",
              "        2.47825775e-02,  1.69008005e+00, -1.24916121e-01,  9.29670632e-02,\n",
              "        1.58001557e-01, -8.06328580e-02, -1.25308990e-01, -7.17509910e-02,\n",
              "       -2.37948000e-02,  8.80983293e-01, -2.14851275e-01, -6.95836619e-02,\n",
              "        5.53222150e-02, -1.60227016e-01,  5.85140623e-02,  4.41635288e-02,\n",
              "       -2.03860011e-02,  1.93691120e-01, -1.14692956e-01, -1.08445264e-01,\n",
              "        2.34624632e-02, -6.11014515e-02,  1.54627319e-02,  2.40390897e-02,\n",
              "        7.22037512e-04,  1.50506943e-01, -7.51272738e-02, -3.43301846e-03,\n",
              "       -6.18986273e-03,  1.34531945e-01, -8.07618052e-02, -2.41512880e-02,\n",
              "        1.40986766e-03,  7.79016018e-02,  3.50073352e-02, -1.05595261e-01,\n",
              "        1.12988874e-01,  9.88095999e-02, -2.03205347e-01, -7.42548034e-02,\n",
              "       -5.65054677e-02, -9.38460883e-03,  5.99264055e-02,  2.35363357e-02,\n",
              "        9.01833083e-03,  4.55734655e-02,  6.10590056e-02, -2.62758024e-02,\n",
              "        4.53786664e-02, -1.26994878e-01, -8.23032949e-03, -8.92763361e-02,\n",
              "       -6.06602654e-02, -2.87015196e-02,  6.74178675e-02,  1.56285286e-01,\n",
              "       -7.80499959e-03, -6.58801347e-02,  2.08352618e-02,  6.62319288e-02,\n",
              "       -1.24396468e-02,  1.03545599e-01,  1.00039564e-01, -3.36176679e-02,\n",
              "        1.76087722e-01, -2.19941148e-06,  1.69891119e-01, -3.79743427e-02,\n",
              "        1.89789310e-02, -3.98873314e-02, -1.05599262e-01,  2.52760917e-01,\n",
              "        4.81479950e-02,  7.72510692e-02, -7.01560229e-02,  6.10599341e-03,\n",
              "        1.10914297e-01, -2.09493071e-01,  2.72841994e-02, -2.39500597e-01,\n",
              "        1.52420208e-01,  3.96703333e-02, -1.09953329e-01,  9.65460613e-02,\n",
              "       -7.82258734e-02,  3.20984051e-02,  7.08063990e-02, -1.45807303e-02,\n",
              "       -1.12220064e-01, -1.08287729e-01, -8.02837387e-02,  3.13080661e-02,\n",
              "        4.35053967e-02,  5.03906645e-02, -1.14788398e-01, -4.51968722e-02,\n",
              "        4.88114022e-02, -1.68453977e-01,  1.16316400e-01,  4.81213909e-03,\n",
              "       -6.42466769e-02, -4.02772650e-02,  5.62659986e-02, -1.67621925e-01,\n",
              "        1.37936071e-01, -1.44834006e-02, -3.53156729e-03, -6.47867173e-02,\n",
              "        1.92132331e-02,  8.34161490e-02,  2.53956020e-02, -5.62318005e-02,\n",
              "        1.60885993e-02, -1.39213363e-02, -4.93626185e-02, -9.06356052e-02,\n",
              "       -6.89126030e-02,  8.16474631e-02, -6.94455281e-02, -1.39168411e-01,\n",
              "       -3.03945933e-02,  4.98637334e-02,  2.33928654e-02, -1.24721892e-01,\n",
              "       -5.60954101e-02,  8.49205256e-02,  1.80345699e-02,  4.41230610e-02,\n",
              "       -2.21467298e-02,  4.41279337e-02,  3.71124931e-02,  7.82535691e-03,\n",
              "       -1.06720197e+00,  7.18131363e-02,  1.41641006e-01, -3.39808352e-02,\n",
              "        5.37142716e-02, -1.05217285e-01, -1.18432544e-01,  2.67538335e-03,\n",
              "        6.59252796e-03, -1.21069355e-02, -4.07753363e-02,  3.70104238e-02,\n",
              "        4.29129507e-03, -4.14344706e-02, -4.29869117e-03, -8.76167491e-02,\n",
              "       -5.30267991e-02, -8.48134756e-02,  9.17526707e-03, -8.66467017e-04,\n",
              "        3.45853344e-02, -3.30241434e-02, -1.02297319e-02, -1.59328327e-01,\n",
              "       -8.12086016e-02, -2.35920027e-02,  5.90850003e-02, -1.06890807e-02,\n",
              "        1.06756210e-01, -3.57563980e-02,  2.69075464e-02, -7.59463310e-02,\n",
              "       -2.40134671e-02, -6.03725351e-02, -6.06873594e-02,  3.87881361e-02,\n",
              "        2.49009337e-02,  2.26638000e-02, -1.87346619e-02, -7.66633973e-02,\n",
              "       -8.90562609e-02, -1.38365319e-02, -3.67095247e-02, -4.21088189e-02,\n",
              "        2.02692430e-02, -8.33977759e-02, -7.03271404e-02,  1.51756695e-02,\n",
              "        1.05113067e-01,  1.30833134e-01, -1.08823664e-01, -4.36188653e-02,\n",
              "       -8.16133991e-02,  1.42148510e-01, -1.67135987e-02,  3.88570689e-02,\n",
              "       -4.96959966e-03, -4.92099933e-02,  4.59000655e-02,  1.53429329e-01,\n",
              "        4.40430008e-02, -3.38578001e-02, -7.40443245e-02,  3.26477326e-02,\n",
              "        1.69454262e-01,  3.96861993e-02,  4.72340621e-02,  8.38497430e-02,\n",
              "        9.40979645e-02, -2.11644582e-02, -3.85479955e-03, -8.92451480e-02,\n",
              "       -7.88125098e-02, -1.04239196e-01,  1.02063604e-01,  8.12314674e-02,\n",
              "        6.52005374e-02,  5.71223348e-02, -1.33123115e-01,  1.63574163e-02,\n",
              "       -5.21162674e-02, -6.37896657e-02, -1.18571803e-01,  5.20670451e-02,\n",
              "        2.07463335e-02, -1.27262659e-02, -8.88519362e-02,  7.79346600e-02,\n",
              "        7.73950443e-02,  2.43501347e-02, -7.81822652e-02,  7.31423348e-02,\n",
              "        1.52134955e-01,  5.03476001e-02, -7.08716735e-02,  5.52197802e-04,\n",
              "       -2.30841991e-02, -9.87162665e-02, -7.75365382e-02,  1.20476009e-02,\n",
              "        7.20312670e-02, -3.52238747e-03,  6.74679354e-02,  6.85316026e-02,\n",
              "        1.32565945e-01, -1.65306017e-01, -8.11223015e-02, -2.43944135e-02,\n",
              "       -7.36540630e-02,  1.64446205e-01,  7.46375322e-02, -4.67585325e-02,\n",
              "       -4.75958511e-02, -5.17227836e-02,  5.33893965e-02,  1.72984198e-01,\n",
              "        1.90755337e-01, -1.39418691e-02, -5.51779270e-02, -1.19767927e-01,\n",
              "        1.58760130e-01,  7.22858682e-02, -3.95229347e-02,  5.55473380e-03,\n",
              "        6.27290905e-02, -1.17785938e-01,  4.07571346e-02,  1.30698264e-01,\n",
              "        2.71748930e-01,  9.78661403e-02, -1.88419987e-02, -7.59457424e-02,\n",
              "       -5.73686622e-02, -7.07226023e-02, -8.99740085e-02,  4.59480695e-02,\n",
              "        2.56736670e-02,  9.22068721e-04, -2.19411459e-02,  2.61124343e-01,\n",
              "        1.51929334e-01,  1.86599896e-03,  5.45198917e-02, -6.86523393e-02,\n",
              "        1.75839234e-02, -2.69133295e-03,  1.59310669e-01, -2.35693324e-02,\n",
              "        1.38462678e-01, -6.96675926e-02, -1.83484137e-01,  6.05081990e-02,\n",
              "        3.42914253e-03,  1.77549664e-02,  4.16979231e-02, -8.17774087e-02,\n",
              "       -9.99120697e-02, -2.53426638e-02, -8.68706871e-03,  9.71787274e-02],\n",
              "      dtype=float32)"
            ]
          },
          "metadata": {},
          "execution_count": 54
        }
      ]
    },
    {
      "cell_type": "code",
      "metadata": {
        "colab": {
          "base_uri": "https://localhost:8080/"
        },
        "id": "G575ET5VuCz2",
        "outputId": "bc3cd4b6-d2fc-4dd8-8097-12bfa17e1ceb"
      },
      "source": [
        "doc"
      ],
      "execution_count": null,
      "outputs": [
        {
          "output_type": "execute_result",
          "data": {
            "text/plain": [
              "That movie from email@email.com was 🔥!  We can review it at www.bu.edu."
            ]
          },
          "metadata": {},
          "execution_count": 59
        }
      ]
    },
    {
      "cell_type": "code",
      "metadata": {
        "id": "S5_g3IMXun9M"
      },
      "source": [
        "dv = doc.vector"
      ],
      "execution_count": null,
      "outputs": []
    },
    {
      "cell_type": "code",
      "metadata": {
        "id": "YnQWy9j-3MhY",
        "colab": {
          "base_uri": "https://localhost:8080/"
        },
        "outputId": "b07b4868-eef9-478b-e44e-cde77ec751ab"
      },
      "source": [
        "# how do we think the doc vector is constructed?\n",
        "vecs = []\n",
        "for token in doc:\n",
        "  vecs.append(token.vector)\n",
        "\n",
        "# make it a numpy array\n",
        "va = np.array(vecs)\n",
        "\n",
        "vam = va.mean(axis=0)\n",
        "vam.shape\n",
        "\n",
        "# compare\n",
        "np.all(vam == dv)"
      ],
      "execution_count": null,
      "outputs": [
        {
          "output_type": "execute_result",
          "data": {
            "text/plain": [
              "True"
            ]
          },
          "metadata": {},
          "execution_count": 64
        }
      ]
    },
    {
      "cell_type": "code",
      "metadata": {
        "colab": {
          "base_uri": "https://localhost:8080/"
        },
        "id": "usBZ1T7GuRH6",
        "outputId": "433a3800-91ce-4afc-c433-a3ea6b5e17f0"
      },
      "source": [
        ""
      ],
      "execution_count": null,
      "outputs": [
        {
          "output_type": "execute_result",
          "data": {
            "text/plain": [
              "(15, 300)"
            ]
          },
          "metadata": {},
          "execution_count": 61
        }
      ]
    },
    {
      "cell_type": "code",
      "metadata": {
        "id": "ifpZAuKW3yD1"
      },
      "source": [
        "# remember spans?\n",
        "# same still applies - token vectors are averaged over the docs and spans to represent the document"
      ],
      "execution_count": null,
      "outputs": []
    },
    {
      "cell_type": "code",
      "metadata": {
        "id": "fNfB1bGXF9X3"
      },
      "source": [
        ""
      ],
      "execution_count": null,
      "outputs": []
    },
    {
      "cell_type": "code",
      "metadata": {
        "id": "6rb-RP5G4aI7"
      },
      "source": [
        "#######################################  YOUR TURN\n",
        "## \n",
        "## scrape the text from the three articles from the URLs below\n",
        "## generate the doc vectors\n",
        "## what is the most similar article to URL1 via cosine distance?\n",
        "#\n",
        "# URL1 = \"https://www.boston.com/weather/weather/2021/11/26/boston-ma-snow-forecast-friday-nov-26-2021/\"\n",
        "# URL2 = \"https://www.sportingnews.com/us/fantasy/news/nfl-week-12-weather-updates-lack-of-rain-wind-snow-in-forecast-eases-fantasy-football-start-em-sit-em-decisions/lueadzpkttxa1l2nzyr70hr18\"\n",
        "# URL3 = \"https://www.marketwatch.com/story/the-u-s-stock-market-suffers-ugly-black-friday-selloff-here-are-the-biggest-losers-and-winners-11637952898\"\n",
        "## \n"
      ],
      "execution_count": null,
      "outputs": []
    },
    {
      "cell_type": "code",
      "metadata": {
        "id": "rm0CeBWf8eZy"
      },
      "source": [
        ""
      ],
      "execution_count": null,
      "outputs": []
    },
    {
      "cell_type": "code",
      "metadata": {
        "id": "fyjr0bgS8VdI"
      },
      "source": [
        "#######################################  UP NEXT\n",
        "## \n",
        "## Learn your own, domain-specific, word vectors\n",
        "##\n",
        "## Next Notebook\n",
        "# "
      ],
      "execution_count": null,
      "outputs": []
    }
  ]
}