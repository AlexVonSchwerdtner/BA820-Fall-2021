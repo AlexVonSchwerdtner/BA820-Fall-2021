{
  "cells": [
    {
      "cell_type": "markdown",
      "metadata": {
        "id": "k9ArRInv-6zR"
      },
      "source": [
        "# About\n",
        "\n",
        "Here is my work for the review of the client's idea.\n",
        "\n",
        "I used the original dataset supplied by the client at the URL below:\n",
        "\n",
        "```\n",
        "https://raw.githubusercontent.com/Btibert3/datasets/master/phone-reviews1k.csv\n",
        "```"
      ]
    },
    {
      "cell_type": "code",
      "execution_count": 161,
      "metadata": {
        "id": "YNMKAO70_Da2"
      },
      "outputs": [],
      "source": [
        "# imports\n",
        "import pandas as pd\n",
        "from sklearn.feature_extraction.text import CountVectorizer\n",
        "from sklearn.tree import DecisionTreeClassifier\n",
        "from sklearn import metrics"
      ]
    },
    {
      "cell_type": "code",
      "execution_count": 162,
      "metadata": {
        "id": "CYvVMl-N_ONc"
      },
      "outputs": [],
      "source": [
        "# bring in the data\n",
        "df = pd.read_csv(\"https://raw.githubusercontent.com/Btibert3/datasets/master/phone-reviews1k.csv\")"
      ]
    },
    {
      "cell_type": "code",
      "execution_count": 163,
      "metadata": {
        "colab": {
          "base_uri": "https://localhost:8080/"
        },
        "id": "02YyrffC_QpE",
        "outputId": "96702aab-be9d-4a3b-af5a-aca4aa662209"
      },
      "outputs": [
        {
          "data": {
            "text/plain": [
              "(1000, 2)"
            ]
          },
          "execution_count": 163,
          "metadata": {},
          "output_type": "execute_result"
        }
      ],
      "source": [
        "# shape\n",
        "df.shape"
      ]
    },
    {
      "cell_type": "code",
      "execution_count": 164,
      "metadata": {
        "colab": {
          "base_uri": "https://localhost:8080/",
          "height": 143
        },
        "id": "4R41Fjxt_ZkR",
        "outputId": "21c5f8c8-4dec-421b-e6ac-9a3f10909c96"
      },
      "outputs": [
        {
          "data": {
            "text/html": [
              "<div>\n",
              "<style scoped>\n",
              "    .dataframe tbody tr th:only-of-type {\n",
              "        vertical-align: middle;\n",
              "    }\n",
              "\n",
              "    .dataframe tbody tr th {\n",
              "        vertical-align: top;\n",
              "    }\n",
              "\n",
              "    .dataframe thead th {\n",
              "        text-align: right;\n",
              "    }\n",
              "</style>\n",
              "<table border=\"1\" class=\"dataframe\">\n",
              "  <thead>\n",
              "    <tr style=\"text-align: right;\">\n",
              "      <th></th>\n",
              "      <th>reviews</th>\n",
              "      <th>ratings</th>\n",
              "    </tr>\n",
              "  </thead>\n",
              "  <tbody>\n",
              "    <tr>\n",
              "      <th>497</th>\n",
              "      <td>Battery backup is worst. Won't recommend it.. ...</td>\n",
              "      <td>1</td>\n",
              "    </tr>\n",
              "    <tr>\n",
              "      <th>997</th>\n",
              "      <td>Iphone doesn't need any major review as it's a...</td>\n",
              "      <td>4</td>\n",
              "    </tr>\n",
              "    <tr>\n",
              "      <th>295</th>\n",
              "      <td>Absolute beast!!!!Performance is top notch. Ca...</td>\n",
              "      <td>5</td>\n",
              "    </tr>\n",
              "  </tbody>\n",
              "</table>\n",
              "</div>"
            ],
            "text/plain": [
              "                                               reviews  ratings\n",
              "497  Battery backup is worst. Won't recommend it.. ...        1\n",
              "997  Iphone doesn't need any major review as it's a...        4\n",
              "295  Absolute beast!!!!Performance is top notch. Ca...        5"
            ]
          },
          "execution_count": 164,
          "metadata": {},
          "output_type": "execute_result"
        }
      ],
      "source": [
        "# sample\n",
        "df.sample(3)"
      ]
    },
    {
      "cell_type": "code",
      "execution_count": 165,
      "metadata": {
        "id": "dVj6ZXkMAu0f"
      },
      "outputs": [],
      "source": [
        "# data cleaning\n",
        "df.dropna(inplace=True)"
      ]
    },
    {
      "cell_type": "code",
      "execution_count": 166,
      "metadata": {
        "id": "rrHNG3Bl_biJ"
      },
      "outputs": [],
      "source": [
        "# tokenize the text\n",
        "cv = CountVectorizer(max_features=30)\n",
        "dtm = cv.fit_transform(df.reviews).toarray()"
      ]
    },
    {
      "cell_type": "code",
      "execution_count": 167,
      "metadata": {
        "id": "ZV8EoPRQAQ4g"
      },
      "outputs": [],
      "source": [
        "# make a dataset for the model\n",
        "df2 = pd.DataFrame(dtm, columns=cv.get_feature_names_out())\n"
      ]
    },
    {
      "cell_type": "code",
      "execution_count": 168,
      "metadata": {
        "colab": {
          "base_uri": "https://localhost:8080/",
          "height": 163
        },
        "id": "PGpWkvwcAiiW",
        "outputId": "eb178f04-52cd-475a-9d83-f05cce6ad25d"
      },
      "outputs": [
        {
          "data": {
            "text/html": [
              "<div>\n",
              "<style scoped>\n",
              "    .dataframe tbody tr th:only-of-type {\n",
              "        vertical-align: middle;\n",
              "    }\n",
              "\n",
              "    .dataframe tbody tr th {\n",
              "        vertical-align: top;\n",
              "    }\n",
              "\n",
              "    .dataframe thead th {\n",
              "        text-align: right;\n",
              "    }\n",
              "</style>\n",
              "<table border=\"1\" class=\"dataframe\">\n",
              "  <thead>\n",
              "    <tr style=\"text-align: right;\">\n",
              "      <th></th>\n",
              "      <th>and</th>\n",
              "      <th>apple</th>\n",
              "      <th>as</th>\n",
              "      <th>awesome</th>\n",
              "      <th>battery</th>\n",
              "      <th>best</th>\n",
              "      <th>but</th>\n",
              "      <th>camera</th>\n",
              "      <th>for</th>\n",
              "      <th>good</th>\n",
              "      <th>...</th>\n",
              "      <th>performance</th>\n",
              "      <th>phone</th>\n",
              "      <th>product</th>\n",
              "      <th>read</th>\n",
              "      <th>the</th>\n",
              "      <th>this</th>\n",
              "      <th>to</th>\n",
              "      <th>very</th>\n",
              "      <th>with</th>\n",
              "      <th>you</th>\n",
              "    </tr>\n",
              "  </thead>\n",
              "  <tbody>\n",
              "    <tr>\n",
              "      <th>125</th>\n",
              "      <td>0</td>\n",
              "      <td>0</td>\n",
              "      <td>0</td>\n",
              "      <td>0</td>\n",
              "      <td>0</td>\n",
              "      <td>0</td>\n",
              "      <td>0</td>\n",
              "      <td>0</td>\n",
              "      <td>0</td>\n",
              "      <td>0</td>\n",
              "      <td>...</td>\n",
              "      <td>0</td>\n",
              "      <td>0</td>\n",
              "      <td>0</td>\n",
              "      <td>0</td>\n",
              "      <td>0</td>\n",
              "      <td>0</td>\n",
              "      <td>0</td>\n",
              "      <td>0</td>\n",
              "      <td>0</td>\n",
              "      <td>0</td>\n",
              "    </tr>\n",
              "    <tr>\n",
              "      <th>502</th>\n",
              "      <td>0</td>\n",
              "      <td>0</td>\n",
              "      <td>0</td>\n",
              "      <td>0</td>\n",
              "      <td>0</td>\n",
              "      <td>0</td>\n",
              "      <td>0</td>\n",
              "      <td>0</td>\n",
              "      <td>0</td>\n",
              "      <td>0</td>\n",
              "      <td>...</td>\n",
              "      <td>0</td>\n",
              "      <td>0</td>\n",
              "      <td>0</td>\n",
              "      <td>0</td>\n",
              "      <td>0</td>\n",
              "      <td>0</td>\n",
              "      <td>0</td>\n",
              "      <td>0</td>\n",
              "      <td>0</td>\n",
              "      <td>0</td>\n",
              "    </tr>\n",
              "    <tr>\n",
              "      <th>221</th>\n",
              "      <td>0</td>\n",
              "      <td>0</td>\n",
              "      <td>0</td>\n",
              "      <td>0</td>\n",
              "      <td>0</td>\n",
              "      <td>0</td>\n",
              "      <td>1</td>\n",
              "      <td>0</td>\n",
              "      <td>0</td>\n",
              "      <td>0</td>\n",
              "      <td>...</td>\n",
              "      <td>1</td>\n",
              "      <td>0</td>\n",
              "      <td>0</td>\n",
              "      <td>0</td>\n",
              "      <td>0</td>\n",
              "      <td>0</td>\n",
              "      <td>0</td>\n",
              "      <td>0</td>\n",
              "      <td>0</td>\n",
              "      <td>0</td>\n",
              "    </tr>\n",
              "  </tbody>\n",
              "</table>\n",
              "<p>3 rows × 30 columns</p>\n",
              "</div>"
            ],
            "text/plain": [
              "     and  apple  as  awesome  battery  best  but  camera  for  good  ...  \\\n",
              "125    0      0   0        0        0     0    0       0    0     0  ...   \n",
              "502    0      0   0        0        0     0    0       0    0     0  ...   \n",
              "221    0      0   0        0        0     0    1       0    0     0  ...   \n",
              "\n",
              "     performance  phone  product  read  the  this  to  very  with  you  \n",
              "125            0      0        0     0    0     0   0     0     0    0  \n",
              "502            0      0        0     0    0     0   0     0     0    0  \n",
              "221            1      0        0     0    0     0   0     0     0    0  \n",
              "\n",
              "[3 rows x 30 columns]"
            ]
          },
          "execution_count": 168,
          "metadata": {},
          "output_type": "execute_result"
        }
      ],
      "source": [
        "# quick confirmation\n",
        "df2.sample(3)"
      ]
    },
    {
      "cell_type": "code",
      "execution_count": 169,
      "metadata": {
        "colab": {
          "base_uri": "https://localhost:8080/"
        },
        "id": "WSCBlZezAkqW",
        "outputId": "acc9c7c2-1f7a-4ecc-9be3-1ada15d88bc3"
      },
      "outputs": [
        {
          "data": {
            "text/plain": [
              "DecisionTreeClassifier(min_samples_leaf=1000, min_samples_split=2000,\n",
              "                       random_state=820)"
            ]
          },
          "execution_count": 169,
          "metadata": {},
          "output_type": "execute_result"
        }
      ],
      "source": [
        "# fit the model\n",
        "tree = DecisionTreeClassifier(min_samples_leaf=1000, min_samples_split=2000, random_state=820)\n",
        "tree.fit(df2, df.ratings)"
      ]
    },
    {
      "cell_type": "code",
      "execution_count": 170,
      "metadata": {
        "colab": {
          "base_uri": "https://localhost:8080/"
        },
        "id": "lLoP01wDBZgb",
        "outputId": "78aeb971-c3ae-4048-9fd8-f4679f95e3a2"
      },
      "outputs": [
        {
          "name": "stdout",
          "output_type": "stream",
          "text": [
            "              precision    recall  f1-score   support\n",
            "\n",
            "           1       0.00      0.00      0.00        41\n",
            "           2       0.00      0.00      0.00        19\n",
            "           3       0.00      0.00      0.00        56\n",
            "           4       0.00      0.00      0.00       189\n",
            "           5       0.69      1.00      0.82       695\n",
            "\n",
            "    accuracy                           0.69      1000\n",
            "   macro avg       0.14      0.20      0.16      1000\n",
            "weighted avg       0.48      0.69      0.57      1000\n",
            "\n"
          ]
        }
      ],
      "source": [
        "# how well do the model do?\n",
        "cr = metrics.classification_report(df.ratings, tree.predict(df2))\n",
        "print(cr)"
      ]
    },
    {
      "cell_type": "markdown",
      "metadata": {
        "id": "ONVREdDqBzz_"
      },
      "source": [
        " - 69% accurate\n",
        " - perfect recall on the top rating of 5!\n",
        "\n",
        "\n",
        " > My opinion is that we can work with the client to deploy the sampling strategy via the app, as we can predict the ratings well enough when there isn't one supplied."
      ]
    },
    {
      "cell_type": "code",
      "execution_count": 171,
      "metadata": {
        "id": "8Peg2d92DUcI"
      },
      "outputs": [
        {
          "name": "stderr",
          "output_type": "stream",
          "text": [
            "[nltk_data] Downloading package stopwords to\n",
            "[nltk_data]     /Users/alexandervonschwerdtner/nltk_data...\n",
            "[nltk_data]   Package stopwords is already up-to-date!\n",
            "[nltk_data] Downloading package punkt to\n",
            "[nltk_data]     /Users/alexandervonschwerdtner/nltk_data...\n",
            "[nltk_data]   Package punkt is already up-to-date!\n"
          ]
        }
      ],
      "source": [
        "# imports\n",
        "import numpy as np\n",
        "import pandas as pd\n",
        "import seaborn as sns\n",
        "import matplotlib.pyplot as plt\n",
        "\n",
        "from sklearn.model_selection import train_test_split\n",
        "\n",
        "# compression\n",
        "from sklearn.decomposition import PCA\n",
        "\n",
        "# text imports\n",
        "import spacy\n",
        "from spacy import cli\n",
        "from spacytextblob.spacytextblob import SpacyTextBlob\n",
        "import textdescriptives as td\n",
        "import tokenwiser\n",
        "\n",
        "from sklearn.feature_extraction.text import CountVectorizer, TfidfVectorizer  \n",
        "from sklearn.linear_model import LogisticRegression\n",
        "from sklearn.tree import DecisionTreeClassifier\n",
        "from sklearn.ensemble import RandomForestClassifier\n",
        "from sklearn.pipeline import Pipeline\n",
        "import nltk\n",
        "from nltk.corpus import stopwords\n",
        "nltk.download('stopwords')\n",
        "nltk.download('punkt')\n",
        "\n",
        "import gensim\n",
        "\n",
        "from afinn import Afinn\n",
        "from newspaper import Article\n",
        "\n",
        "import warnings\n",
        "warnings.filterwarnings(\"ignore\")"
      ]
    },
    {
      "cell_type": "code",
      "execution_count": 172,
      "metadata": {},
      "outputs": [
        {
          "data": {
            "text/html": [
              "<div>\n",
              "<style scoped>\n",
              "    .dataframe tbody tr th:only-of-type {\n",
              "        vertical-align: middle;\n",
              "    }\n",
              "\n",
              "    .dataframe tbody tr th {\n",
              "        vertical-align: top;\n",
              "    }\n",
              "\n",
              "    .dataframe thead th {\n",
              "        text-align: right;\n",
              "    }\n",
              "</style>\n",
              "<table border=\"1\" class=\"dataframe\">\n",
              "  <thead>\n",
              "    <tr style=\"text-align: right;\">\n",
              "      <th></th>\n",
              "      <th>reviews</th>\n",
              "      <th>ratings</th>\n",
              "    </tr>\n",
              "  </thead>\n",
              "  <tbody>\n",
              "    <tr>\n",
              "      <th>0</th>\n",
              "      <td>Voice not clear....READ MORE</td>\n",
              "      <td>3</td>\n",
              "    </tr>\n",
              "    <tr>\n",
              "      <th>1</th>\n",
              "      <td>It’s my 5th iPhone. Compact beast as usual.REA...</td>\n",
              "      <td>5</td>\n",
              "    </tr>\n",
              "    <tr>\n",
              "      <th>2</th>\n",
              "      <td>It has a13 bionic but surprisingly antutu scor...</td>\n",
              "      <td>5</td>\n",
              "    </tr>\n",
              "    <tr>\n",
              "      <th>3</th>\n",
              "      <td>Flipkart was decreasing the value of iphoneREA...</td>\n",
              "      <td>5</td>\n",
              "    </tr>\n",
              "    <tr>\n",
              "      <th>4</th>\n",
              "      <td>The first apple phone after 10 long years of a...</td>\n",
              "      <td>4</td>\n",
              "    </tr>\n",
              "  </tbody>\n",
              "</table>\n",
              "</div>"
            ],
            "text/plain": [
              "                                             reviews  ratings\n",
              "0                       Voice not clear....READ MORE        3\n",
              "1  It’s my 5th iPhone. Compact beast as usual.REA...        5\n",
              "2  It has a13 bionic but surprisingly antutu scor...        5\n",
              "3  Flipkart was decreasing the value of iphoneREA...        5\n",
              "4  The first apple phone after 10 long years of a...        4"
            ]
          },
          "execution_count": 172,
          "metadata": {},
          "output_type": "execute_result"
        }
      ],
      "source": [
        "df.head()"
      ]
    },
    {
      "cell_type": "code",
      "execution_count": 173,
      "metadata": {},
      "outputs": [
        {
          "name": "stdout",
          "output_type": "stream",
          "text": [
            "<class 'pandas.core.frame.DataFrame'>\n",
            "Int64Index: 1000 entries, 0 to 999\n",
            "Data columns (total 2 columns):\n",
            " #   Column   Non-Null Count  Dtype \n",
            "---  ------   --------------  ----- \n",
            " 0   reviews  1000 non-null   object\n",
            " 1   ratings  1000 non-null   int64 \n",
            "dtypes: int64(1), object(1)\n",
            "memory usage: 23.4+ KB\n"
          ]
        }
      ],
      "source": [
        "df.info()"
      ]
    },
    {
      "cell_type": "code",
      "execution_count": 174,
      "metadata": {},
      "outputs": [
        {
          "data": {
            "text/plain": [
              "<AxesSubplot:xlabel='ratings', ylabel='count'>"
            ]
          },
          "execution_count": 174,
          "metadata": {},
          "output_type": "execute_result"
        },
        {
          "data": {
            "image/png": "[encoded data removed]",
            "text/plain": [
              "<Figure size 432x288 with 1 Axes>"
            ]
          },
          "metadata": {
            "needs_background": "light"
          },
          "output_type": "display_data"
        }
      ],
      "source": [
        "# what do we have for categories\n",
        "sns.countplot(x=\"ratings\", data=df)"
      ]
    },
    {
      "cell_type": "code",
      "execution_count": 175,
      "metadata": {},
      "outputs": [
        {
          "data": {
            "text/plain": [
              "5    695\n",
              "4    189\n",
              "3     56\n",
              "1     41\n",
              "2     19\n",
              "Name: ratings, dtype: int64"
            ]
          },
          "execution_count": 175,
          "metadata": {},
          "output_type": "execute_result"
        }
      ],
      "source": [
        "# quick review, what is distro of sentiment\n",
        "df.ratings.value_counts(dropna=False)"
      ]
    },
    {
      "cell_type": "code",
      "execution_count": 176,
      "metadata": {},
      "outputs": [],
      "source": [
        "train, test = train_test_split(df, test_size=.33, random_state=820, stratify=df.ratings)"
      ]
    },
    {
      "cell_type": "code",
      "execution_count": 177,
      "metadata": {},
      "outputs": [],
      "source": [
        "# lets build a pipeline from sklearn to classify the messages\n",
        "\n",
        "steps = [(\"cv\", CountVectorizer(max_features=1500)), \n",
        "         (\"clf\", DecisionTreeClassifier(max_depth=5, \n",
        "                                        min_samples_leaf=1000, \n",
        "                                        min_samples_split=2000, \n",
        "                                        random_state=820))]\n",
        "\n",
        "pipe = Pipeline(steps)"
      ]
    },
    {
      "cell_type": "code",
      "execution_count": 178,
      "metadata": {},
      "outputs": [
        {
          "data": {
            "text/plain": [
              "Pipeline(steps=[('cv', CountVectorizer(max_features=1500)),\n",
              "                ('clf',\n",
              "                 DecisionTreeClassifier(max_depth=5, min_samples_leaf=1000,\n",
              "                                        min_samples_split=2000,\n",
              "                                        random_state=820))])"
            ]
          },
          "execution_count": 178,
          "metadata": {},
          "output_type": "execute_result"
        }
      ],
      "source": [
        "# fit the model - use spacy to \n",
        "pipe.fit(train.reviews, train.ratings)"
      ]
    },
    {
      "cell_type": "code",
      "execution_count": 179,
      "metadata": {},
      "outputs": [],
      "source": [
        "preds = pipe.predict(test.reviews)"
      ]
    },
    {
      "cell_type": "code",
      "execution_count": 180,
      "metadata": {},
      "outputs": [
        {
          "data": {
            "text/plain": [
              "0.693939393939394"
            ]
          },
          "execution_count": 180,
          "metadata": {},
          "output_type": "execute_result"
        }
      ],
      "source": [
        "from sklearn.metrics import accuracy_score\n",
        "accuracy = accuracy_score(preds, test.ratings)\n",
        "accuracy"
      ]
    },
    {
      "cell_type": "code",
      "execution_count": 181,
      "metadata": {},
      "outputs": [
        {
          "name": "stdout",
          "output_type": "stream",
          "text": [
            "              precision    recall  f1-score   support\n",
            "\n",
            "           1       0.00      0.00      0.00        14\n",
            "           2       0.00      0.00      0.00         6\n",
            "           3       0.00      0.00      0.00        19\n",
            "           4       0.00      0.00      0.00        62\n",
            "           5       0.69      1.00      0.82       229\n",
            "\n",
            "    accuracy                           0.69       330\n",
            "   macro avg       0.14      0.20      0.16       330\n",
            "weighted avg       0.48      0.69      0.57       330\n",
            "\n"
          ]
        }
      ],
      "source": [
        "# how well do the model do?\n",
        "cr = metrics.classification_report(test.ratings,preds)\n",
        "print(cr)"
      ]
    }
  ],
  "metadata": {
    "colab": {
      "collapsed_sections": [],
      "name": "Phone Reviews - Analyst Output",
      "provenance": []
    },
    "kernelspec": {
      "display_name": "Python 3",
      "name": "python3"
    },
    "language_info": {
      "codemirror_mode": {
        "name": "ipython",
        "version": 3
      },
      "file_extension": ".py",
      "mimetype": "text/x-python",
      "name": "python",
      "nbconvert_exporter": "python",
      "pygments_lexer": "ipython3",
      "version": "3.8.11"
    }
  },
  "nbformat": 4,
  "nbformat_minor": 0
}
