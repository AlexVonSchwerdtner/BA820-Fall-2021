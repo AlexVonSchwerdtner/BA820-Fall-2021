{
  "nbformat": 4,
  "nbformat_minor": 0,
  "metadata": {
    "colab": {
      "name": "Phone Reviews - Analyst Output",
      "provenance": [],
      "collapsed_sections": []
    },
    "kernelspec": {
      "name": "python3",
      "display_name": "Python 3"
    },
    "language_info": {
      "name": "python"
    }
  },
  "cells": [
    {
      "cell_type": "markdown",
      "metadata": {
        "id": "k9ArRInv-6zR"
      },
      "source": [
        "# About\n",
        "\n",
        "Here is my work for the review of the client's idea.\n",
        "\n",
        "I used the original dataset supplied by the client at the URL below:\n",
        "\n",
        "```\n",
        "https://raw.githubusercontent.com/Btibert3/datasets/master/phone-reviews1k.csv\n",
        "```"
      ]
    },
    {
      "cell_type": "code",
      "metadata": {
        "id": "YNMKAO70_Da2"
      },
      "source": [
        "# imports\n",
        "import pandas as pd\n",
        "from sklearn.feature_extraction.text import CountVectorizer\n",
        "from sklearn.tree import DecisionTreeClassifier\n",
        "from sklearn import metrics"
      ],
      "execution_count": null,
      "outputs": []
    },
    {
      "cell_type": "code",
      "metadata": {
        "id": "CYvVMl-N_ONc"
      },
      "source": [
        "# bring in the data\n",
        "df = pd.read_csv(\"https://raw.githubusercontent.com/Btibert3/datasets/master/phone-reviews1k.csv\")"
      ],
      "execution_count": null,
      "outputs": []
    },
    {
      "cell_type": "code",
      "metadata": {
        "colab": {
          "base_uri": "https://localhost:8080/"
        },
        "id": "02YyrffC_QpE",
        "outputId": "96702aab-be9d-4a3b-af5a-aca4aa662209"
      },
      "source": [
        "# shape\n",
        "df.shape"
      ],
      "execution_count": null,
      "outputs": [
        {
          "output_type": "execute_result",
          "data": {
            "text/plain": [
              "(1000, 2)"
            ]
          },
          "metadata": {},
          "execution_count": 3
        }
      ]
    },
    {
      "cell_type": "code",
      "metadata": {
        "colab": {
          "base_uri": "https://localhost:8080/",
          "height": 143
        },
        "id": "4R41Fjxt_ZkR",
        "outputId": "21c5f8c8-4dec-421b-e6ac-9a3f10909c96"
      },
      "source": [
        "# sample\n",
        "df.sample(3)"
      ],
      "execution_count": null,
      "outputs": [
        {
          "output_type": "execute_result",
          "data": {
            "text/html": [
              "<div>\n",
              "<style scoped>\n",
              "    .dataframe tbody tr th:only-of-type {\n",
              "        vertical-align: middle;\n",
              "    }\n",
              "\n",
              "    .dataframe tbody tr th {\n",
              "        vertical-align: top;\n",
              "    }\n",
              "\n",
              "    .dataframe thead th {\n",
              "        text-align: right;\n",
              "    }\n",
              "</style>\n",
              "<table border=\"1\" class=\"dataframe\">\n",
              "  <thead>\n",
              "    <tr style=\"text-align: right;\">\n",
              "      <th></th>\n",
              "      <th>reviews</th>\n",
              "      <th>ratings</th>\n",
              "    </tr>\n",
              "  </thead>\n",
              "  <tbody>\n",
              "    <tr>\n",
              "      <th>851</th>\n",
              "      <td>Really its awesome with this price its a flats...</td>\n",
              "      <td>5</td>\n",
              "    </tr>\n",
              "    <tr>\n",
              "      <th>7</th>\n",
              "      <td>Am not of a Iphone user being this my first Ip...</td>\n",
              "      <td>4</td>\n",
              "    </tr>\n",
              "    <tr>\n",
              "      <th>857</th>\n",
              "      <td>a specific handy phone...with good features an...</td>\n",
              "      <td>5</td>\n",
              "    </tr>\n",
              "  </tbody>\n",
              "</table>\n",
              "</div>"
            ],
            "text/plain": [
              "                                               reviews  ratings\n",
              "851  Really its awesome with this price its a flats...        5\n",
              "7    Am not of a Iphone user being this my first Ip...        4\n",
              "857  a specific handy phone...with good features an...        5"
            ]
          },
          "metadata": {},
          "execution_count": 12
        }
      ]
    },
    {
      "cell_type": "code",
      "metadata": {
        "id": "dVj6ZXkMAu0f"
      },
      "source": [
        "# data cleaning\n",
        "df.dropna(inplace=True)"
      ],
      "execution_count": null,
      "outputs": []
    },
    {
      "cell_type": "code",
      "metadata": {
        "id": "rrHNG3Bl_biJ"
      },
      "source": [
        "# tokenize the text\n",
        "cv = CountVectorizer(max_features=30)\n",
        "dtm = cv.fit_transform(df.reviews).toarray()"
      ],
      "execution_count": null,
      "outputs": []
    },
    {
      "cell_type": "code",
      "metadata": {
        "id": "ZV8EoPRQAQ4g"
      },
      "source": [
        "# make a dataset for the model\n",
        "df2 = pd.DataFrame(dtm, columns=cv.get_feature_names_out())\n"
      ],
      "execution_count": null,
      "outputs": []
    },
    {
      "cell_type": "code",
      "metadata": {
        "colab": {
          "base_uri": "https://localhost:8080/",
          "height": 163
        },
        "id": "PGpWkvwcAiiW",
        "outputId": "eb178f04-52cd-475a-9d83-f05cce6ad25d"
      },
      "source": [
        "# quick confirmation\n",
        "df2.sample(3)"
      ],
      "execution_count": null,
      "outputs": [
        {
          "output_type": "execute_result",
          "data": {
            "text/html": [
              "<div>\n",
              "<style scoped>\n",
              "    .dataframe tbody tr th:only-of-type {\n",
              "        vertical-align: middle;\n",
              "    }\n",
              "\n",
              "    .dataframe tbody tr th {\n",
              "        vertical-align: top;\n",
              "    }\n",
              "\n",
              "    .dataframe thead th {\n",
              "        text-align: right;\n",
              "    }\n",
              "</style>\n",
              "<table border=\"1\" class=\"dataframe\">\n",
              "  <thead>\n",
              "    <tr style=\"text-align: right;\">\n",
              "      <th></th>\n",
              "      <th>and</th>\n",
              "      <th>apple</th>\n",
              "      <th>as</th>\n",
              "      <th>awesome</th>\n",
              "      <th>battery</th>\n",
              "      <th>best</th>\n",
              "      <th>but</th>\n",
              "      <th>camera</th>\n",
              "      <th>for</th>\n",
              "      <th>good</th>\n",
              "      <th>great</th>\n",
              "      <th>if</th>\n",
              "      <th>in</th>\n",
              "      <th>iphone</th>\n",
              "      <th>is</th>\n",
              "      <th>it</th>\n",
              "      <th>more</th>\n",
              "      <th>my</th>\n",
              "      <th>not</th>\n",
              "      <th>of</th>\n",
              "      <th>performance</th>\n",
              "      <th>phone</th>\n",
              "      <th>product</th>\n",
              "      <th>read</th>\n",
              "      <th>the</th>\n",
              "      <th>this</th>\n",
              "      <th>to</th>\n",
              "      <th>very</th>\n",
              "      <th>with</th>\n",
              "      <th>you</th>\n",
              "    </tr>\n",
              "  </thead>\n",
              "  <tbody>\n",
              "    <tr>\n",
              "      <th>542</th>\n",
              "      <td>0</td>\n",
              "      <td>0</td>\n",
              "      <td>0</td>\n",
              "      <td>0</td>\n",
              "      <td>0</td>\n",
              "      <td>0</td>\n",
              "      <td>0</td>\n",
              "      <td>0</td>\n",
              "      <td>0</td>\n",
              "      <td>0</td>\n",
              "      <td>1</td>\n",
              "      <td>0</td>\n",
              "      <td>0</td>\n",
              "      <td>0</td>\n",
              "      <td>0</td>\n",
              "      <td>0</td>\n",
              "      <td>1</td>\n",
              "      <td>0</td>\n",
              "      <td>1</td>\n",
              "      <td>0</td>\n",
              "      <td>0</td>\n",
              "      <td>0</td>\n",
              "      <td>1</td>\n",
              "      <td>0</td>\n",
              "      <td>0</td>\n",
              "      <td>0</td>\n",
              "      <td>1</td>\n",
              "      <td>0</td>\n",
              "      <td>0</td>\n",
              "      <td>0</td>\n",
              "    </tr>\n",
              "    <tr>\n",
              "      <th>867</th>\n",
              "      <td>3</td>\n",
              "      <td>0</td>\n",
              "      <td>0</td>\n",
              "      <td>0</td>\n",
              "      <td>0</td>\n",
              "      <td>0</td>\n",
              "      <td>0</td>\n",
              "      <td>0</td>\n",
              "      <td>1</td>\n",
              "      <td>0</td>\n",
              "      <td>0</td>\n",
              "      <td>0</td>\n",
              "      <td>0</td>\n",
              "      <td>1</td>\n",
              "      <td>1</td>\n",
              "      <td>2</td>\n",
              "      <td>2</td>\n",
              "      <td>1</td>\n",
              "      <td>1</td>\n",
              "      <td>2</td>\n",
              "      <td>0</td>\n",
              "      <td>3</td>\n",
              "      <td>0</td>\n",
              "      <td>1</td>\n",
              "      <td>2</td>\n",
              "      <td>2</td>\n",
              "      <td>5</td>\n",
              "      <td>0</td>\n",
              "      <td>0</td>\n",
              "      <td>0</td>\n",
              "    </tr>\n",
              "    <tr>\n",
              "      <th>815</th>\n",
              "      <td>0</td>\n",
              "      <td>1</td>\n",
              "      <td>0</td>\n",
              "      <td>0</td>\n",
              "      <td>0</td>\n",
              "      <td>0</td>\n",
              "      <td>0</td>\n",
              "      <td>0</td>\n",
              "      <td>0</td>\n",
              "      <td>0</td>\n",
              "      <td>0</td>\n",
              "      <td>1</td>\n",
              "      <td>1</td>\n",
              "      <td>0</td>\n",
              "      <td>0</td>\n",
              "      <td>1</td>\n",
              "      <td>1</td>\n",
              "      <td>0</td>\n",
              "      <td>0</td>\n",
              "      <td>1</td>\n",
              "      <td>0</td>\n",
              "      <td>0</td>\n",
              "      <td>0</td>\n",
              "      <td>0</td>\n",
              "      <td>1</td>\n",
              "      <td>0</td>\n",
              "      <td>0</td>\n",
              "      <td>0</td>\n",
              "      <td>0</td>\n",
              "      <td>1</td>\n",
              "    </tr>\n",
              "  </tbody>\n",
              "</table>\n",
              "</div>"
            ],
            "text/plain": [
              "     and  apple  as  awesome  battery  best  ...  the  this  to  very  with  you\n",
              "542    0      0   0        0        0     0  ...    0     0   1     0     0    0\n",
              "867    3      0   0        0        0     0  ...    2     2   5     0     0    0\n",
              "815    0      1   0        0        0     0  ...    1     0   0     0     0    1\n",
              "\n",
              "[3 rows x 30 columns]"
            ]
          },
          "metadata": {},
          "execution_count": 17
        }
      ]
    },
    {
      "cell_type": "code",
      "metadata": {
        "colab": {
          "base_uri": "https://localhost:8080/"
        },
        "id": "WSCBlZezAkqW",
        "outputId": "acc9c7c2-1f7a-4ecc-9be3-1ada15d88bc3"
      },
      "source": [
        "# fit the model\n",
        "tree = DecisionTreeClassifier(min_samples_leaf=1000, min_samples_split=2000, random_state=820)\n",
        "tree.fit(df2, df.ratings)"
      ],
      "execution_count": null,
      "outputs": [
        {
          "output_type": "execute_result",
          "data": {
            "text/plain": [
              "DecisionTreeClassifier(min_samples_leaf=1000, min_samples_split=2000,\n",
              "                       random_state=820)"
            ]
          },
          "metadata": {},
          "execution_count": 19
        }
      ]
    },
    {
      "cell_type": "code",
      "metadata": {
        "colab": {
          "base_uri": "https://localhost:8080/"
        },
        "id": "lLoP01wDBZgb",
        "outputId": "78aeb971-c3ae-4048-9fd8-f4679f95e3a2"
      },
      "source": [
        "# how well do the model do?\n",
        "cr = metrics.classification_report(df.ratings, tree.predict(df2))\n",
        "print(cr)"
      ],
      "execution_count": null,
      "outputs": [
        {
          "output_type": "stream",
          "name": "stdout",
          "text": [
            "              precision    recall  f1-score   support\n",
            "\n",
            "           1       0.00      0.00      0.00        41\n",
            "           2       0.00      0.00      0.00        19\n",
            "           3       0.00      0.00      0.00        56\n",
            "           4       0.00      0.00      0.00       189\n",
            "           5       0.69      1.00      0.82       695\n",
            "\n",
            "    accuracy                           0.69      1000\n",
            "   macro avg       0.14      0.20      0.16      1000\n",
            "weighted avg       0.48      0.69      0.57      1000\n",
            "\n"
          ]
        },
        {
          "output_type": "stream",
          "name": "stderr",
          "text": [
            "/usr/local/lib/python3.7/dist-packages/sklearn/metrics/_classification.py:1308: UndefinedMetricWarning: Precision and F-score are ill-defined and being set to 0.0 in labels with no predicted samples. Use `zero_division` parameter to control this behavior.\n",
            "  _warn_prf(average, modifier, msg_start, len(result))\n",
            "/usr/local/lib/python3.7/dist-packages/sklearn/metrics/_classification.py:1308: UndefinedMetricWarning: Precision and F-score are ill-defined and being set to 0.0 in labels with no predicted samples. Use `zero_division` parameter to control this behavior.\n",
            "  _warn_prf(average, modifier, msg_start, len(result))\n",
            "/usr/local/lib/python3.7/dist-packages/sklearn/metrics/_classification.py:1308: UndefinedMetricWarning: Precision and F-score are ill-defined and being set to 0.0 in labels with no predicted samples. Use `zero_division` parameter to control this behavior.\n",
            "  _warn_prf(average, modifier, msg_start, len(result))\n"
          ]
        }
      ]
    },
    {
      "cell_type": "markdown",
      "metadata": {
        "id": "ONVREdDqBzz_"
      },
      "source": [
        " - 69% accurate\n",
        " - perfect recall on the top rating of 5!\n",
        "\n",
        "\n",
        " > My opinion is that we can work with the client to deploy the sampling strategy via the app, as we can predict the ratings well enough when there isn't one supplied."
      ]
    },
    {
      "cell_type": "code",
      "metadata": {
        "id": "8Peg2d92DUcI"
      },
      "source": [
        ""
      ],
      "execution_count": null,
      "outputs": []
    }
  ]
}